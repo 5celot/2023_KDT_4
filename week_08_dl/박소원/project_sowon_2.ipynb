{
 "cells": [
  {
   "cell_type": "markdown",
   "id": "90d18771",
   "metadata": {},
   "source": [
    "# 시대별 여성복 분류 서비스"
   ]
  },
  {
   "cell_type": "code",
   "execution_count": 1,
   "id": "8a731cdf",
   "metadata": {},
   "outputs": [],
   "source": [
    "%config ZMQInteractiveShell.buffer_size = 99999999999999999"
   ]
  },
  {
   "cell_type": "code",
   "execution_count": 2,
   "id": "f1adffb4",
   "metadata": {},
   "outputs": [],
   "source": [
    "import numpy as np\n",
    "import pandas as pd \n",
    "import matplotlib.pyplot as plt"
   ]
  },
  {
   "cell_type": "markdown",
   "id": "b3ca10bb",
   "metadata": {},
   "source": [
    "## target data 만들기"
   ]
  },
  {
   "cell_type": "code",
   "execution_count": 3,
   "id": "3513cd8e",
   "metadata": {},
   "outputs": [
    {
     "data": {
      "text/plain": [
       "array(['1950', '1950', '1950', ..., '1950', '1950', '1950'], dtype='<U4')"
      ]
     },
     "execution_count": 3,
     "metadata": {},
     "output_type": "execute_result"
    }
   ],
   "source": [
    "target1=np.full((2000,), '1950')\n",
    "target1"
   ]
  },
  {
   "cell_type": "code",
   "execution_count": 4,
   "id": "0e9da030",
   "metadata": {},
   "outputs": [],
   "source": [
    "target2=np.full((2000,), '1960')\n",
    "target3=np.full((2000,), '1970')\n",
    "target4=np.full((2000,), '1980')\n",
    "target5=np.full((2000,), '1990')\n",
    "target6=np.full((2000,), '2000')\n",
    "target7=np.full((2000,), '2010')\n",
    "target8=np.full((2000,), '2019')"
   ]
  },
  {
   "cell_type": "code",
   "execution_count": 5,
   "id": "6ff8a742",
   "metadata": {},
   "outputs": [
    {
     "data": {
      "text/plain": [
       "(16000,)"
      ]
     },
     "execution_count": 5,
     "metadata": {},
     "output_type": "execute_result"
    }
   ],
   "source": [
    "target=np.concatenate((target1,target2,target3,target4,target5,target6,target7,target8))\n",
    "target.shape"
   ]
  },
  {
   "cell_type": "code",
   "execution_count": 6,
   "id": "3aa9511e",
   "metadata": {},
   "outputs": [
    {
     "data": {
      "text/plain": [
       "array(['1950', '1960', '1970', '1980', '1990', '2000', '2010', '2019'],\n",
       "      dtype='<U4')"
      ]
     },
     "execution_count": 6,
     "metadata": {},
     "output_type": "execute_result"
    }
   ],
   "source": [
    "np.unique(target)"
   ]
  },
  {
   "cell_type": "markdown",
   "id": "efbf63a7",
   "metadata": {},
   "source": [
    "## data 불러오기"
   ]
  },
  {
   "cell_type": "code",
   "execution_count": null,
   "id": "65c6a9f6",
   "metadata": {},
   "outputs": [],
   "source": [
    "data=np.load('./data.npy').astype('float16')\n",
    "data.shape"
   ]
  },
  {
   "cell_type": "code",
   "execution_count": 13,
   "id": "d0f95cd3",
   "metadata": {},
   "outputs": [
    {
     "data": {
      "text/plain": [
       "(400, 300, 3)"
      ]
     },
     "execution_count": 13,
     "metadata": {},
     "output_type": "execute_result"
    }
   ],
   "source": [
    "data[0].shape"
   ]
  },
  {
   "cell_type": "code",
   "execution_count": null,
   "id": "ca26586f",
   "metadata": {},
   "outputs": [],
   "source": [
    "# 시각화 확인\n",
    "idx=200\n",
    "plt.imshow((data[idx]*255).astype('uint8'))\n",
    "plt.show()"
   ]
  },
  {
   "cell_type": "markdown",
   "id": "7ace87e7",
   "metadata": {},
   "source": [
    "## 데이터 나누기"
   ]
  },
  {
   "cell_type": "code",
   "execution_count": 9,
   "id": "dfb6c7a4",
   "metadata": {},
   "outputs": [],
   "source": [
    "from sklearn.model_selection import train_test_split\n",
    "train_X, test_X, train_y, test_y = train_test_split(data, target, \n",
    "                                                    stratify=target, \n",
    "                                                    random_state=7)"
   ]
  },
  {
   "cell_type": "code",
   "execution_count": 20,
   "id": "1486e94b",
   "metadata": {},
   "outputs": [
    {
     "data": {
      "text/plain": [
       "((12000, 400, 300, 3), (4000, 400, 300, 3), (12000,), (4000,))"
      ]
     },
     "execution_count": 20,
     "metadata": {},
     "output_type": "execute_result"
    }
   ],
   "source": [
    "train_X.shape, test_X.shape, train_y.shape, test_y.shape"
   ]
  },
  {
   "cell_type": "code",
   "execution_count": 11,
   "id": "fc6e9232",
   "metadata": {},
   "outputs": [],
   "source": [
    "np.save('train_X',train_X)\n",
    "np.save('test_X',test_X)\n",
    "np.save('train_y',train_y)\n",
    "np.save('test_y',test_y)"
   ]
  },
  {
   "cell_type": "markdown",
   "id": "25760559",
   "metadata": {},
   "source": [
    "## 원핫인코딩"
   ]
  },
  {
   "cell_type": "code",
   "execution_count": 21,
   "id": "3d7cd813",
   "metadata": {},
   "outputs": [
    {
     "data": {
      "text/html": [
       "<div>\n",
       "<style scoped>\n",
       "    .dataframe tbody tr th:only-of-type {\n",
       "        vertical-align: middle;\n",
       "    }\n",
       "\n",
       "    .dataframe tbody tr th {\n",
       "        vertical-align: top;\n",
       "    }\n",
       "\n",
       "    .dataframe thead th {\n",
       "        text-align: right;\n",
       "    }\n",
       "</style>\n",
       "<table border=\"1\" class=\"dataframe\">\n",
       "  <thead>\n",
       "    <tr style=\"text-align: right;\">\n",
       "      <th></th>\n",
       "      <th>1950</th>\n",
       "      <th>1960</th>\n",
       "      <th>1970</th>\n",
       "      <th>1980</th>\n",
       "      <th>1990</th>\n",
       "      <th>2000</th>\n",
       "      <th>2010</th>\n",
       "      <th>2019</th>\n",
       "    </tr>\n",
       "  </thead>\n",
       "  <tbody>\n",
       "    <tr>\n",
       "      <th>0</th>\n",
       "      <td>0</td>\n",
       "      <td>0</td>\n",
       "      <td>0</td>\n",
       "      <td>0</td>\n",
       "      <td>0</td>\n",
       "      <td>0</td>\n",
       "      <td>0</td>\n",
       "      <td>1</td>\n",
       "    </tr>\n",
       "    <tr>\n",
       "      <th>1</th>\n",
       "      <td>1</td>\n",
       "      <td>0</td>\n",
       "      <td>0</td>\n",
       "      <td>0</td>\n",
       "      <td>0</td>\n",
       "      <td>0</td>\n",
       "      <td>0</td>\n",
       "      <td>0</td>\n",
       "    </tr>\n",
       "    <tr>\n",
       "      <th>2</th>\n",
       "      <td>0</td>\n",
       "      <td>0</td>\n",
       "      <td>1</td>\n",
       "      <td>0</td>\n",
       "      <td>0</td>\n",
       "      <td>0</td>\n",
       "      <td>0</td>\n",
       "      <td>0</td>\n",
       "    </tr>\n",
       "    <tr>\n",
       "      <th>3</th>\n",
       "      <td>1</td>\n",
       "      <td>0</td>\n",
       "      <td>0</td>\n",
       "      <td>0</td>\n",
       "      <td>0</td>\n",
       "      <td>0</td>\n",
       "      <td>0</td>\n",
       "      <td>0</td>\n",
       "    </tr>\n",
       "    <tr>\n",
       "      <th>4</th>\n",
       "      <td>0</td>\n",
       "      <td>0</td>\n",
       "      <td>0</td>\n",
       "      <td>0</td>\n",
       "      <td>1</td>\n",
       "      <td>0</td>\n",
       "      <td>0</td>\n",
       "      <td>0</td>\n",
       "    </tr>\n",
       "  </tbody>\n",
       "</table>\n",
       "</div>"
      ],
      "text/plain": [
       "   1950  1960  1970  1980  1990  2000  2010  2019\n",
       "0     0     0     0     0     0     0     0     1\n",
       "1     1     0     0     0     0     0     0     0\n",
       "2     0     0     1     0     0     0     0     0\n",
       "3     1     0     0     0     0     0     0     0\n",
       "4     0     0     0     0     1     0     0     0"
      ]
     },
     "execution_count": 21,
     "metadata": {},
     "output_type": "execute_result"
    }
   ],
   "source": [
    "train_y=pd.get_dummies(train_y, dtype=int)\n",
    "test_y=pd.get_dummies(test_y, dtype=int)\n",
    "train_y.head()"
   ]
  },
  {
   "cell_type": "markdown",
   "id": "60c4b1c1",
   "metadata": {},
   "source": [
    "## 모델링"
   ]
  },
  {
   "cell_type": "code",
   "execution_count": 1,
   "id": "b4c63092",
   "metadata": {},
   "outputs": [
    {
     "name": "stdout",
     "output_type": "stream",
     "text": [
      "Model: \"sequential\"\n",
      "_________________________________________________________________\n",
      " Layer (type)                Output Shape              Param #   \n",
      "=================================================================\n",
      " conv2d (Conv2D)             (None, 398, 298, 128)     3584      \n",
      "                                                                 \n",
      " max_pooling2d (MaxPooling2D  (None, 199, 149, 128)    0         \n",
      " )                                                               \n",
      "                                                                 \n",
      " conv2d_1 (Conv2D)           (None, 197, 147, 64)      73792     \n",
      "                                                                 \n",
      " max_pooling2d_1 (MaxPooling  (None, 98, 73, 64)       0         \n",
      " 2D)                                                             \n",
      "                                                                 \n",
      " conv2d_2 (Conv2D)           (None, 96, 71, 32)        18464     \n",
      "                                                                 \n",
      " max_pooling2d_2 (MaxPooling  (None, 48, 35, 32)       0         \n",
      " 2D)                                                             \n",
      "                                                                 \n",
      " conv2d_3 (Conv2D)           (None, 46, 33, 16)        4624      \n",
      "                                                                 \n",
      " max_pooling2d_3 (MaxPooling  (None, 23, 16, 16)       0         \n",
      " 2D)                                                             \n",
      "                                                                 \n",
      " flatten (Flatten)           (None, 5888)              0         \n",
      "                                                                 \n",
      " dense (Dense)               (None, 100)               588900    \n",
      "                                                                 \n",
      " dense_1 (Dense)             (None, 8)                 808       \n",
      "                                                                 \n",
      "=================================================================\n",
      "Total params: 690,172\n",
      "Trainable params: 690,172\n",
      "Non-trainable params: 0\n",
      "_________________________________________________________________\n"
     ]
    }
   ],
   "source": [
    "# 모델 설계 - 컨볼루션 신경망 \n",
    "from keras.models import Sequential\n",
    "from keras.layers import Dense, Conv2D, Dropout, MaxPool2D, Flatten\n",
    "\n",
    "model=Sequential()\n",
    "model.add(Conv2D(128, 3, input_shape=(400,300,3), activation='relu'))\n",
    "model.add(MaxPool2D()) \n",
    "model.add(Conv2D(64, 3, activation='relu'))\n",
    "model.add(MaxPool2D())\n",
    "model.add(Conv2D(32, 3, activation='relu'))\n",
    "model.add(MaxPool2D())\n",
    "model.add(Conv2D(16, 3, activation='relu'))\n",
    "model.add(MaxPool2D())\n",
    "\n",
    "model.add(Flatten())\n",
    "\n",
    "model.add(Dense(100, activation='relu'))\n",
    "# model.add(Dense(100, activation='relu'))\n",
    "# model.add(Dense(100, activation='relu'))\n",
    "# model.add(Dense(100, activation='relu'))\n",
    "# model.add(Dense(100, activation='relu'))\n",
    "# model.add(Dropout(0.2)) # Dense 사이에 위치\n",
    "model.add(Dense(8, activation='softmax'))\n",
    "\n",
    "model.summary()"
   ]
  },
  {
   "cell_type": "code",
   "execution_count": 2,
   "id": "46f28f60",
   "metadata": {},
   "outputs": [],
   "source": [
    "# 모델 생성\n",
    "model.compile(loss='categorical_crossentropy', optimizer='adam', metrics='accuracy')"
   ]
  },
  {
   "cell_type": "code",
   "execution_count": 3,
   "id": "748f821d",
   "metadata": {},
   "outputs": [
    {
     "name": "stdout",
     "output_type": "stream",
     "text": [
      "[./models/] 파일이 존재합니다.\n"
     ]
    }
   ],
   "source": [
    "import os\n",
    "model_path='./models/'\n",
    "\n",
    "# 폴더 생성 함수\n",
    "def file_check(file_path):  \n",
    "    import os\n",
    "    if os.path.exists(file_path) : \n",
    "        print(f\"[{file_path}] 파일이 존재합니다.\")\n",
    "    else :\n",
    "        print(f\"[{file_path}] 파일이 존재하지 않습니다. \\n저장 폴더를 생성합니다.\")\n",
    "        os.makedirs(file_path)\n",
    "        print('저장 폴더 생성 완료')\n",
    "\n",
    "file_check(model_path)"
   ]
  },
  {
   "cell_type": "code",
   "execution_count": 4,
   "id": "d0ad9766",
   "metadata": {},
   "outputs": [],
   "source": [
    "# 객체 생성\n",
    "model_file=model_path+'fashion_year.HDF5'\n",
    "\n",
    "# callback\n",
    "from keras.callbacks import ModelCheckpoint, EarlyStopping, LearningRateScheduler\n",
    "\n",
    "# 가장 좋은 모델만 저장 \n",
    "mc_CB=ModelCheckpoint(monitor='val_accuracy', filepath=model_file, save_best_only=True) \n",
    "\n",
    "# 조기종료 설정\n",
    "es_CB=EarlyStopping(patience=3)\n",
    "\n",
    "# epoch 마다 학습률 제어\n",
    "def scheduler(epoch, lr):\n",
    "    if epoch>5:\n",
    "        return 0.0001\n",
    "    else:\n",
    "        return lr\n",
    "lr_CB=LearningRateScheduler(scheduler)"
   ]
  },
  {
   "cell_type": "code",
   "execution_count": 5,
   "id": "222230b7",
   "metadata": {},
   "outputs": [
    {
     "ename": "NameError",
     "evalue": "name 'train_X' is not defined",
     "output_type": "error",
     "traceback": [
      "\u001b[1;31m---------------------------------------------------------------------------\u001b[0m",
      "\u001b[1;31mNameError\u001b[0m                                 Traceback (most recent call last)",
      "Cell \u001b[1;32mIn[5], line 6\u001b[0m\n\u001b[0;32m      3\u001b[0m BATCH_SIZE\u001b[38;5;241m=\u001b[39m\u001b[38;5;241m32\u001b[39m\n\u001b[0;32m      4\u001b[0m VAL_SPLIT\u001b[38;5;241m=\u001b[39m\u001b[38;5;241m0.2\u001b[39m\n\u001b[1;32m----> 6\u001b[0m rst\u001b[38;5;241m=\u001b[39mmodel\u001b[38;5;241m.\u001b[39mfit(\u001b[43mtrain_X\u001b[49m, train_y, \n\u001b[0;32m      7\u001b[0m           epochs\u001b[38;5;241m=\u001b[39mEPOCHS,\n\u001b[0;32m      8\u001b[0m           batch_size\u001b[38;5;241m=\u001b[39mBATCH_SIZE,\n\u001b[0;32m      9\u001b[0m           validation_split\u001b[38;5;241m=\u001b[39mVAL_SPLIT,\n\u001b[0;32m     10\u001b[0m           callbacks\u001b[38;5;241m=\u001b[39m[mc_CB, es_CB, lr_CB])\n\u001b[0;32m     11\u001b[0m rst\n",
      "\u001b[1;31mNameError\u001b[0m: name 'train_X' is not defined"
     ]
    }
   ],
   "source": [
    "# 학습에 사용될 값 설정\n",
    "EPOCHS=100\n",
    "BATCH_SIZE=32\n",
    "VAL_SPLIT=0.2\n",
    "\n",
    "rst=model.fit(train_X, train_y, \n",
    "          epochs=EPOCHS,\n",
    "          batch_size=BATCH_SIZE,\n",
    "          validation_split=VAL_SPLIT,\n",
    "          callbacks=[mc_CB, es_CB, lr_CB])\n",
    "rst"
   ]
  },
  {
   "cell_type": "code",
   "execution_count": null,
   "id": "917a402d",
   "metadata": {},
   "outputs": [],
   "source": []
  },
  {
   "cell_type": "code",
   "execution_count": null,
   "id": "b6ca321f",
   "metadata": {},
   "outputs": [],
   "source": []
  },
  {
   "cell_type": "code",
   "execution_count": null,
   "id": "9389daba",
   "metadata": {},
   "outputs": [],
   "source": []
  },
  {
   "cell_type": "code",
   "execution_count": null,
   "id": "4060eb9b",
   "metadata": {},
   "outputs": [],
   "source": []
  }
 ],
 "metadata": {
  "kernelspec": {
   "display_name": "tensor",
   "language": "python",
   "name": "tensor"
  },
  "language_info": {
   "codemirror_mode": {
    "name": "ipython",
    "version": 3
   },
   "file_extension": ".py",
   "mimetype": "text/x-python",
   "name": "python",
   "nbconvert_exporter": "python",
   "pygments_lexer": "ipython3",
   "version": "3.9.18"
  },
  "toc": {
   "base_numbering": 1,
   "nav_menu": {},
   "number_sections": true,
   "sideBar": true,
   "skip_h1_title": false,
   "title_cell": "Table of Contents",
   "title_sidebar": "Contents",
   "toc_cell": false,
   "toc_position": {
    "height": "calc(100% - 180px)",
    "left": "10px",
    "top": "150px",
    "width": "165px"
   },
   "toc_section_display": true,
   "toc_window_display": true
  }
 },
 "nbformat": 4,
 "nbformat_minor": 5
}
