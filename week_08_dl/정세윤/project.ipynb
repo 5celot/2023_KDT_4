{
 "cells": [
  {
   "cell_type": "markdown",
   "metadata": {},
   "source": [
    "####  훈련용과 테스트용 데이터 준비"
   ]
  },
  {
   "cell_type": "code",
   "execution_count": 63,
   "metadata": {},
   "outputs": [],
   "source": [
    "from keras.models import Sequential\n",
    "from keras.layers import Dense,Dropout,Flatten,Conv2D,MaxPool2D,BatchNormalization,Activation\n",
    "from keras.callbacks import ModelCheckpoint,EarlyStopping\n",
    "from keras.initializers import HeNormal\n",
    "import matplotlib.pyplot as plt\n",
    "import numpy as np\n",
    "from sklearn.model_selection import train_test_split\n",
    "import pandas as pd\n",
    "from keras.callbacks import ModelCheckpoint, EarlyStopping, LearningRateScheduler\n",
    "import os\n",
    "import tensorflow\n",
    "import tensorflow as tf"
   ]
  },
  {
   "cell_type": "code",
   "execution_count": 77,
   "metadata": {},
   "outputs": [
    {
     "name": "stdout",
     "output_type": "stream",
     "text": [
      "powersuit         2334\n",
      "sportivecasual    2327\n",
      "feminine          2091\n",
      "minimal           1799\n",
      "normcore          1393\n",
      "classic           1267\n",
      "hippie            1185\n",
      "cityglam           984\n",
      "kitsch             942\n",
      "oriental           882\n",
      "bodyconscious      802\n",
      "punk               800\n",
      "ecology            700\n",
      "popart             617\n",
      "space              614\n",
      "disco              593\n",
      "lounge             530\n",
      "athleisure         521\n",
      "genderless         515\n",
      "hiphop             454\n",
      "lingerie           439\n",
      "grunge             375\n",
      "military           332\n",
      "Name: style, dtype: int64\n"
     ]
    }
   ],
   "source": [
    "label_file='all1.csv'\n",
    "label=pd.read_csv(label_file)\n",
    "# label = label.drop('Unnamed: 0', axis=1)\n",
    "print(label['style'].value_counts())"
   ]
  },
  {
   "cell_type": "code",
   "execution_count": 65,
   "metadata": {},
   "outputs": [],
   "source": [
    "from keras.utils import to_categorical\n",
    "from sklearn.preprocessing import LabelEncoder\n",
    "# 스타일 라벨 인코딩\n",
    "encoder = LabelEncoder()\n",
    "label['style_encoded'] = encoder.fit_transform(label['style'])\n",
    "label['style_encoded'] = label['style_encoded'].astype(int)\n",
    "y_labels = to_categorical(label['style_encoded'], num_classes=23)"
   ]
  },
  {
   "cell_type": "code",
   "execution_count": 78,
   "metadata": {},
   "outputs": [
    {
     "data": {
      "text/html": [
       "<div>\n",
       "<style scoped>\n",
       "    .dataframe tbody tr th:only-of-type {\n",
       "        vertical-align: middle;\n",
       "    }\n",
       "\n",
       "    .dataframe tbody tr th {\n",
       "        vertical-align: top;\n",
       "    }\n",
       "\n",
       "    .dataframe thead th {\n",
       "        text-align: right;\n",
       "    }\n",
       "</style>\n",
       "<table border=\"1\" class=\"dataframe\">\n",
       "  <thead>\n",
       "    <tr style=\"text-align: right;\">\n",
       "      <th></th>\n",
       "      <th>era</th>\n",
       "      <th>style</th>\n",
       "      <th>age</th>\n",
       "      <th>job</th>\n",
       "      <th>income</th>\n",
       "    </tr>\n",
       "  </thead>\n",
       "  <tbody>\n",
       "    <tr>\n",
       "      <th>0</th>\n",
       "      <td>1950</td>\n",
       "      <td>classic</td>\n",
       "      <td>3</td>\n",
       "      <td>4</td>\n",
       "      <td>2</td>\n",
       "    </tr>\n",
       "    <tr>\n",
       "      <th>1</th>\n",
       "      <td>1950</td>\n",
       "      <td>classic</td>\n",
       "      <td>2</td>\n",
       "      <td>3</td>\n",
       "      <td>2</td>\n",
       "    </tr>\n",
       "    <tr>\n",
       "      <th>2</th>\n",
       "      <td>1950</td>\n",
       "      <td>classic</td>\n",
       "      <td>3</td>\n",
       "      <td>4</td>\n",
       "      <td>2</td>\n",
       "    </tr>\n",
       "    <tr>\n",
       "      <th>3</th>\n",
       "      <td>1950</td>\n",
       "      <td>classic</td>\n",
       "      <td>3</td>\n",
       "      <td>1</td>\n",
       "      <td>5</td>\n",
       "    </tr>\n",
       "    <tr>\n",
       "      <th>4</th>\n",
       "      <td>1950</td>\n",
       "      <td>classic</td>\n",
       "      <td>3</td>\n",
       "      <td>1</td>\n",
       "      <td>6</td>\n",
       "    </tr>\n",
       "    <tr>\n",
       "      <th>...</th>\n",
       "      <td>...</td>\n",
       "      <td>...</td>\n",
       "      <td>...</td>\n",
       "      <td>...</td>\n",
       "      <td>...</td>\n",
       "    </tr>\n",
       "    <tr>\n",
       "      <th>22491</th>\n",
       "      <td>2019</td>\n",
       "      <td>normcore</td>\n",
       "      <td>1</td>\n",
       "      <td>4</td>\n",
       "      <td>2</td>\n",
       "    </tr>\n",
       "    <tr>\n",
       "      <th>22492</th>\n",
       "      <td>2019</td>\n",
       "      <td>normcore</td>\n",
       "      <td>1</td>\n",
       "      <td>4</td>\n",
       "      <td>2</td>\n",
       "    </tr>\n",
       "    <tr>\n",
       "      <th>22493</th>\n",
       "      <td>2019</td>\n",
       "      <td>normcore</td>\n",
       "      <td>1</td>\n",
       "      <td>4</td>\n",
       "      <td>2</td>\n",
       "    </tr>\n",
       "    <tr>\n",
       "      <th>22494</th>\n",
       "      <td>2019</td>\n",
       "      <td>normcore</td>\n",
       "      <td>1</td>\n",
       "      <td>4</td>\n",
       "      <td>2</td>\n",
       "    </tr>\n",
       "    <tr>\n",
       "      <th>22495</th>\n",
       "      <td>2019</td>\n",
       "      <td>normcore</td>\n",
       "      <td>1</td>\n",
       "      <td>4</td>\n",
       "      <td>2</td>\n",
       "    </tr>\n",
       "  </tbody>\n",
       "</table>\n",
       "<p>22496 rows × 5 columns</p>\n",
       "</div>"
      ],
      "text/plain": [
       "        era     style  age  job  income\n",
       "0      1950   classic    3    4       2\n",
       "1      1950   classic    2    3       2\n",
       "2      1950   classic    3    4       2\n",
       "3      1950   classic    3    1       5\n",
       "4      1950   classic    3    1       6\n",
       "...     ...       ...  ...  ...     ...\n",
       "22491  2019  normcore    1    4       2\n",
       "22492  2019  normcore    1    4       2\n",
       "22493  2019  normcore    1    4       2\n",
       "22494  2019  normcore    1    4       2\n",
       "22495  2019  normcore    1    4       2\n",
       "\n",
       "[22496 rows x 5 columns]"
      ]
     },
     "execution_count": 78,
     "metadata": {},
     "output_type": "execute_result"
    }
   ],
   "source": [
    "label"
   ]
  },
  {
   "cell_type": "code",
   "execution_count": 83,
   "metadata": {},
   "outputs": [
    {
     "name": "stdout",
     "output_type": "stream",
     "text": [
      "[0. 0. 0. 0. 0. 0. 0. 0. 0. 0. 0. 0. 0. 0. 0. 0. 1. 0. 0. 0. 0. 0. 0.]\n"
     ]
    }
   ],
   "source": [
    "print(y_labels[22491])"
   ]
  },
  {
   "cell_type": "code",
   "execution_count": 67,
   "metadata": {},
   "outputs": [
    {
     "data": {
      "text/plain": [
       "array([[0, 0, 0, ..., 0, 0, 0],\n",
       "       [0, 0, 0, ..., 0, 0, 0],\n",
       "       [0, 0, 0, ..., 0, 0, 0],\n",
       "       ...,\n",
       "       [0, 0, 0, ..., 0, 0, 0],\n",
       "       [0, 0, 0, ..., 0, 0, 0],\n",
       "       [0, 0, 0, ..., 0, 0, 0]], dtype=uint8)"
      ]
     },
     "execution_count": 67,
     "metadata": {},
     "output_type": "execute_result"
    }
   ],
   "source": [
    "label = pd.get_dummies(label['style']).astype('uint8')\n",
    "label=label.to_numpy()\n",
    "label"
   ]
  },
  {
   "cell_type": "code",
   "execution_count": 68,
   "metadata": {},
   "outputs": [
    {
     "data": {
      "text/plain": [
       "numpy.ndarray"
      ]
     },
     "execution_count": 68,
     "metadata": {},
     "output_type": "execute_result"
    }
   ],
   "source": [
    "type(label)"
   ]
  },
  {
   "cell_type": "code",
   "execution_count": 69,
   "metadata": {},
   "outputs": [],
   "source": [
    "combined_data = np.load('all_32.npy')"
   ]
  },
  {
   "cell_type": "code",
   "execution_count": 70,
   "metadata": {},
   "outputs": [
    {
     "data": {
      "text/plain": [
       "(22496, 100, 75, 3)"
      ]
     },
     "execution_count": 70,
     "metadata": {},
     "output_type": "execute_result"
    }
   ],
   "source": [
    "combined_data.shape"
   ]
  },
  {
   "cell_type": "code",
   "execution_count": 26,
   "metadata": {},
   "outputs": [],
   "source": [
    "train_x, test_x, train_y, test_y = train_test_split(combined_data, \n",
    "                                                    label, \n",
    "                                                    stratify=label, \n",
    "                                                    random_state=7)"
   ]
  },
  {
   "cell_type": "code",
   "execution_count": 50,
   "metadata": {},
   "outputs": [],
   "source": [
    "train_x= np.load('./train_x.npy')\n",
    "train_y= np.load('./train_y.npy')\n",
    "val_x=np.load('./val_x.npy')\n",
    "val_y=np.load('./val_y.npy')"
   ]
  },
  {
   "cell_type": "code",
   "execution_count": 30,
   "metadata": {},
   "outputs": [],
   "source": [
    "train_x_2, val_x, train_y_2, val_y = train_test_split(train_x, train_y, test_size=0.25, random_state=7)"
   ]
  },
  {
   "cell_type": "code",
   "execution_count": 51,
   "metadata": {},
   "outputs": [],
   "source": [
    "from keras.preprocessing.image import ImageDataGenerator\n",
    "train_datagen = ImageDataGenerator()\n",
    "\n",
    "augmented_train_data = train_datagen.flow(train_x, train_y)\n",
    "\n",
    "validation_data = train_datagen.flow(val_x, val_y)"
   ]
  },
  {
   "cell_type": "code",
   "execution_count": 28,
   "metadata": {},
   "outputs": [],
   "source": [
    "np.save('train_x.npy',train_x)\n",
    "np.save('test_x.npy',test_x)\n",
    "np.save('train_y.npy',train_y)\n",
    "np.save('test_y.npy',test_y)"
   ]
  },
  {
   "cell_type": "code",
   "execution_count": 31,
   "metadata": {},
   "outputs": [],
   "source": [
    "np.save('train_x_2.npy',train_x_2)\n",
    "np.save('val_x.npy',val_x)\n",
    "np.save('train_y_2.npy',train_y_2)\n",
    "np.save('val_y.npy',val_y)"
   ]
  },
  {
   "cell_type": "code",
   "execution_count": 52,
   "metadata": {},
   "outputs": [],
   "source": [
    "test_x=np.load('test_x.npy')\n",
    "test_y=np.load('test_y.npy')"
   ]
  },
  {
   "cell_type": "code",
   "execution_count": 14,
   "metadata": {},
   "outputs": [],
   "source": [
    "# train_x.shape,test_x.shape,train_y.shape,test_y.shape"
   ]
  },
  {
   "cell_type": "code",
   "execution_count": 15,
   "metadata": {},
   "outputs": [],
   "source": [
    "# import tensorflow as tf\n",
    "# train_x_resized2 = tf.image.resize(train_x, (100, 75))\n",
    "# np.save('train_x_resized2.npy',train_x_resized2)"
   ]
  },
  {
   "cell_type": "code",
   "execution_count": 16,
   "metadata": {},
   "outputs": [],
   "source": [
    "# test_x_resized2 = tf.image.resize(test_x, (100, 75))\n",
    "# np.save('test_x_resized2.npy',test_x_resized2)"
   ]
  },
  {
   "cell_type": "code",
   "execution_count": 17,
   "metadata": {},
   "outputs": [],
   "source": [
    "# train_x_2, val_x, train_y_2, val_y = train_test_split(train_x, train_y, test_size=0.25, random_state=7)"
   ]
  },
  {
   "cell_type": "code",
   "execution_count": 18,
   "metadata": {},
   "outputs": [],
   "source": [
    "# from keras.preprocessing.image import ImageDataGenerator\n",
    "# train_datagen = ImageDataGenerator()\n",
    "\n",
    "# augmented_train_data = train_datagen.flow(train_x, train_y)\n"
   ]
  },
  {
   "cell_type": "markdown",
   "metadata": {},
   "source": [
    "#### 모델 설계 :\n",
    "\n",
    "- 입력층의 입력 데이터 형태 :  \n",
    "- 출력층의 노드/유닛/커널/뉴런 갯수 지정 : "
   ]
  },
  {
   "cell_type": "code",
   "execution_count": 53,
   "metadata": {},
   "outputs": [
    {
     "name": "stdout",
     "output_type": "stream",
     "text": [
      "Model: \"sequential_2\"\n",
      "_________________________________________________________________\n",
      " Layer (type)                Output Shape              Param #   \n",
      "=================================================================\n",
      " conv2d_4 (Conv2D)           (None, 100, 75, 16)       448       \n",
      "                                                                 \n",
      " activation_8 (Activation)   (None, 100, 75, 16)       0         \n",
      "                                                                 \n",
      " max_pooling2d_4 (MaxPoolin  (None, 50, 37, 16)        0         \n",
      " g2D)                                                            \n",
      "                                                                 \n",
      " conv2d_5 (Conv2D)           (None, 50, 37, 16)        2320      \n",
      "                                                                 \n",
      " activation_9 (Activation)   (None, 50, 37, 16)        0         \n",
      "                                                                 \n",
      " max_pooling2d_5 (MaxPoolin  (None, 25, 18, 16)        0         \n",
      " g2D)                                                            \n",
      "                                                                 \n",
      " flatten_2 (Flatten)         (None, 7200)              0         \n",
      "                                                                 \n",
      " dense_6 (Dense)             (None, 16)                115216    \n",
      "                                                                 \n",
      " activation_10 (Activation)  (None, 16)                0         \n",
      "                                                                 \n",
      " dense_7 (Dense)             (None, 16)                272       \n",
      "                                                                 \n",
      " activation_11 (Activation)  (None, 16)                0         \n",
      "                                                                 \n",
      " dense_8 (Dense)             (None, 23)                391       \n",
      "                                                                 \n",
      "=================================================================\n",
      "Total params: 118647 (463.46 KB)\n",
      "Trainable params: 118647 (463.46 KB)\n",
      "Non-trainable params: 0 (0.00 Byte)\n",
      "_________________________________________________________________\n"
     ]
    }
   ],
   "source": [
    "he=HeNormal(seed=100)\n",
    "model=Sequential()\n",
    "model.add(Conv2D(16,3,input_shape=(100,75,3),padding= \"same\"))\n",
    "# model.add(BatchNormalization())\n",
    "model.add(Activation('relu'))\n",
    "model.add(MaxPool2D())\n",
    "model.add(Conv2D(16,3,padding= \"same\"))\n",
    "# model.add(BatchNormalization())\n",
    "model.add(Activation('relu'))\n",
    "model.add(MaxPool2D())\n",
    "model.add(Flatten())\n",
    "\n",
    "\n",
    "model.add(Dense(16,kernel_initializer=he))\n",
    "# model.add(BatchNormalization())\n",
    "model.add(Activation('relu'))\n",
    "model.add(Dense(16,kernel_initializer=he))\n",
    "# model.add(BatchNormalization())\n",
    "model.add(Activation('relu'))\n",
    "model.add(Dense(23,activation='softmax'))\n",
    "model.summary()"
   ]
  },
  {
   "cell_type": "code",
   "execution_count": 54,
   "metadata": {},
   "outputs": [
    {
     "name": "stdout",
     "output_type": "stream",
     "text": [
      "[./models/] 파일이 존재합니다.\n"
     ]
    }
   ],
   "source": [
    "model_path='./models/'\n",
    "# 폴더 생성 함수\n",
    "def file_check(file_path): \n",
    "    if os.path.exists(file_path) : \n",
    "        print(f\"[{file_path}] 파일이 존재합니다.\")\n",
    "    else :\n",
    "        print(f\"[{file_path}] 파일이 존재하지 않습니다. \\n저장 폴더를 생성합니다.\")\n",
    "        os.makedirs(file_path)\n",
    "        print('저장 폴더 생성 완료')\n",
    "\n",
    "file_check(model_path)"
   ]
  },
  {
   "cell_type": "code",
   "execution_count": 55,
   "metadata": {},
   "outputs": [],
   "source": [
    "# 객체 생성\n",
    "model_file=model_path+'model_.hdf5' # {epoch:03} => epoch의 횟수를 파일명으로 저장\n",
    "\n",
    "# 기본값 : val_loss (기준) => 낮아지면 저장. 이름을 epoch로 지정해서 파일이 계속 생성됨. \n",
    "# 이름을 똑같이 하면 마지막에 1개의 파일만 남음\n",
    "    \n",
    "mc_CB=ModelCheckpoint(model_file,\n",
    "                    save_best_only=True) # 가장 좋은 모델만 저장  \n",
    "\n",
    "# 조기종료 기준 : val_loss가 3 epochs 동안 감소되지 않으면 종료\n",
    "es_CB=EarlyStopping(patience=3)\n",
    "\n"
   ]
  },
  {
   "cell_type": "code",
   "execution_count": 56,
   "metadata": {},
   "outputs": [],
   "source": [
    "model.compile(optimizer='nadam',loss='categorical_crossentropy', metrics=['accuracy'])"
   ]
  },
  {
   "cell_type": "code",
   "execution_count": 57,
   "metadata": {},
   "outputs": [
    {
     "name": "stdout",
     "output_type": "stream",
     "text": [
      "Epoch 1/500\n",
      "422/422 [==============================] - 23s 51ms/step - loss: 2.9717 - accuracy: 0.1231 - val_loss: 2.9116 - val_accuracy: 0.1437\n",
      "Epoch 2/500\n",
      "  2/422 [..............................] - ETA: 24s - loss: 2.8925 - accuracy: 0.1094"
     ]
    },
    {
     "name": "stderr",
     "output_type": "stream",
     "text": [
      "c:\\Users\\KDP-037-\\anaconda3\\envs\\my_python\\lib\\site-packages\\keras\\src\\engine\\training.py:3000: UserWarning: You are saving your model as an HDF5 file via `model.save()`. This file format is considered legacy. We recommend using instead the native Keras format, e.g. `model.save('my_model.keras')`.\n",
      "  saving_api.save_model(\n"
     ]
    },
    {
     "name": "stdout",
     "output_type": "stream",
     "text": [
      "422/422 [==============================] - 24s 56ms/step - loss: 2.8670 - accuracy: 0.1479 - val_loss: 2.8374 - val_accuracy: 0.1570\n",
      "Epoch 3/500\n",
      "422/422 [==============================] - 23s 54ms/step - loss: 2.7934 - accuracy: 0.1600 - val_loss: 2.8126 - val_accuracy: 0.1656\n",
      "Epoch 4/500\n",
      "422/422 [==============================] - 23s 55ms/step - loss: 2.7155 - accuracy: 0.1733 - val_loss: 2.7501 - val_accuracy: 0.1825\n",
      "Epoch 5/500\n",
      "422/422 [==============================] - 29s 69ms/step - loss: 2.6192 - accuracy: 0.2059 - val_loss: 2.6954 - val_accuracy: 0.2027\n",
      "Epoch 6/500\n",
      "422/422 [==============================] - 35s 83ms/step - loss: 2.5167 - accuracy: 0.2312 - val_loss: 2.6504 - val_accuracy: 0.2154\n",
      "Epoch 7/500\n",
      "422/422 [==============================] - 38s 90ms/step - loss: 2.4231 - accuracy: 0.2531 - val_loss: 2.5987 - val_accuracy: 0.2305\n",
      "Epoch 8/500\n",
      "422/422 [==============================] - 29s 68ms/step - loss: 2.3319 - accuracy: 0.2770 - val_loss: 2.5588 - val_accuracy: 0.2483\n",
      "Epoch 9/500\n",
      "422/422 [==============================] - 29s 70ms/step - loss: 2.2435 - accuracy: 0.3033 - val_loss: 2.5250 - val_accuracy: 0.2702\n",
      "Epoch 10/500\n",
      "422/422 [==============================] - 39s 93ms/step - loss: 2.1586 - accuracy: 0.3330 - val_loss: 2.4642 - val_accuracy: 0.2919\n",
      "Epoch 11/500\n",
      "422/422 [==============================] - 30s 71ms/step - loss: 2.0840 - accuracy: 0.3519 - val_loss: 2.4712 - val_accuracy: 0.3096\n",
      "Epoch 12/500\n",
      "422/422 [==============================] - 27s 65ms/step - loss: 2.0086 - accuracy: 0.3754 - val_loss: 2.4786 - val_accuracy: 0.3164\n",
      "Epoch 13/500\n",
      "422/422 [==============================] - 28s 67ms/step - loss: 1.9535 - accuracy: 0.3862 - val_loss: 2.4638 - val_accuracy: 0.3360\n",
      "Epoch 14/500\n",
      "422/422 [==============================] - 38s 91ms/step - loss: 1.8925 - accuracy: 0.4040 - val_loss: 2.5523 - val_accuracy: 0.3304\n",
      "Epoch 15/500\n",
      "422/422 [==============================] - 37s 87ms/step - loss: 1.8374 - accuracy: 0.4230 - val_loss: 2.4824 - val_accuracy: 0.3597\n",
      "Epoch 16/500\n",
      "422/422 [==============================] - 28s 67ms/step - loss: 1.7955 - accuracy: 0.4338 - val_loss: 2.4758 - val_accuracy: 0.3719\n"
     ]
    }
   ],
   "source": [
    "result=model.fit(train_x, train_y, \n",
    "          epochs=500,\n",
    "          batch_size=32,\n",
    "          validation_split=0.2,\n",
    "          callbacks=[mc_CB, es_CB])"
   ]
  },
  {
   "cell_type": "code",
   "execution_count": 59,
   "metadata": {},
   "outputs": [
    {
     "name": "stdout",
     "output_type": "stream",
     "text": [
      "176/176 [==============================] - 2s 13ms/step - loss: 2.5003 - accuracy: 0.3581\n"
     ]
    },
    {
     "data": {
      "text/plain": [
       "[2.500281572341919, 0.3581081032752991]"
      ]
     },
     "execution_count": 59,
     "metadata": {},
     "output_type": "execute_result"
    }
   ],
   "source": [
    "model.evaluate(test_x,test_y)"
   ]
  },
  {
   "cell_type": "code",
   "execution_count": 88,
   "metadata": {},
   "outputs": [
    {
     "name": "stdout",
     "output_type": "stream",
     "text": [
      "176/176 [==============================] - 2s 13ms/step\n",
      "[[1.4874345e-01 6.2042248e-02 4.0196557e-02 ... 7.6154345e-03\n",
      "  3.1066483e-03 8.3692726e-03]\n",
      " [8.8587839e-08 5.2802437e-03 1.2433491e-01 ... 1.8696494e-01\n",
      "  1.6705485e-02 1.0990493e-05]\n",
      " [2.8619360e-02 7.1489833e-02 7.8192107e-02 ... 1.4504197e-02\n",
      "  4.8699188e-03 1.1859784e-02]\n",
      " ...\n",
      " [5.7731491e-02 4.7709532e-03 3.9437260e-02 ... 2.8824931e-04\n",
      "  1.4620998e-05 2.8260064e-01]\n",
      " [4.6753259e-03 1.2780898e-04 7.6039257e-03 ... 4.5101051e-06\n",
      "  4.5816439e-08 7.8816718e-01]\n",
      " [4.0037581e-03 9.3169354e-02 6.5966696e-02 ... 8.8121966e-02\n",
      "  1.0468859e-01 3.7851892e-04]]\n"
     ]
    }
   ],
   "source": [
    "predictions = model.predict(test_x)\n",
    "print(predictions)"
   ]
  },
  {
   "cell_type": "code",
   "execution_count": 41,
   "metadata": {},
   "outputs": [
    {
     "data": {
      "image/png": "[encoded data removed]",
      "text/plain": [
       "<Figure size 640x480 with 1 Axes>"
      ]
     },
     "metadata": {},
     "output_type": "display_data"
    },
    {
     "data": {
      "image/png": "[encoded data removed]",
      "text/plain": [
       "<Figure size 640x480 with 1 Axes>"
      ]
     },
     "metadata": {},
     "output_type": "display_data"
    }
   ],
   "source": [
    "plt.plot(result.history['loss'],label='Train_loss')\n",
    "plt.plot(result.history['val_loss'],label='val_loss')\n",
    "plt.title('[train & validation loss]')\n",
    "plt.legend()\n",
    "plt.show()\n",
    "\n",
    "plt.plot(result.history['accuracy'],label='Train_accuracy')\n",
    "plt.plot(result.history['val_accuracy'],label='val_accuracy')\n",
    "plt.title('[train & validation accuracy]')\n",
    "plt.legend()\n",
    "plt.show()"
   ]
  },
  {
   "cell_type": "code",
   "execution_count": 81,
   "metadata": {},
   "outputs": [
    {
     "name": "stdout",
     "output_type": "stream",
     "text": [
      "입력한 숫자 5에 대응하는 스타일은 생태학적 스타일입니다.\n"
     ]
    }
   ],
   "source": [
    "encoded_style = {\n",
    "    '운동복 스타일': 0, \n",
    "    '바디컨scious 스타일': 1,\n",
    "    '도시 글램 스타일': 2, \n",
    "    '클래식 스타일': 3,\n",
    "    '디스코 스타일': 4, \n",
    "    '생태학적 스타일': 5, \n",
    "    '여성적 스타일': 6, \n",
    "    '성별 무관한 스타일': 7, \n",
    "    '그런지 스타일': 8, \n",
    "    '힙합 스타일': 9, \n",
    "    '히피 스타일': 10, \n",
    "    '키치 스타일': 11, \n",
    "    '란제리 스타일': 12, \n",
    "    '라운지 스타일': 13,\n",
    "    '밀리터리 스타일': 14, \n",
    "    '최소주의 스타일': 15, \n",
    "    '노름코어 스타일': 16, \n",
    "    '동양적 스타일': 17, \n",
    "    '팝아트 스타일': 18, \n",
    "    '파워 수트 스타일': 19, \n",
    "    '펑크 스타일': 20, \n",
    "    '우주 스타일': 21, \n",
    "    '스포티브 캐주얼 스타일': 22\n",
    "}\n",
    "\n",
    "\n",
    "# 임의의 숫자를 입력해봅니다.\n",
    "input_number = int(input(\" 당신의 encoded_style는 몇번입니까 ? : \"))\n",
    "\n",
    "# 딕셔너리에서 해당 숫자에 대응하는 스타일을 가져옵니다.\n",
    "style = [key for key, value in encoded_style.items() if value == input_number]\n",
    "\n",
    "if style:\n",
    "    print(f'입력한 숫자 {input_number}에 대응하는 스타일은 {style[0]}입니다.')\n",
    "else:\n",
    "    print(f'입력한 숫자 {input_number}에 대응하는 스타일이 존재하지 않습니다.')"
   ]
  },
  {
   "cell_type": "code",
   "execution_count": null,
   "metadata": {},
   "outputs": [],
   "source": []
  }
 ],
 "metadata": {
  "kernelspec": {
   "display_name": "mypython",
   "language": "python",
   "name": "python3"
  },
  "language_info": {
   "codemirror_mode": {
    "name": "ipython",
    "version": 3
   },
   "file_extension": ".py",
   "mimetype": "text/x-python",
   "name": "python",
   "nbconvert_exporter": "python",
   "pygments_lexer": "ipython3",
   "version": "3.8.17"
  },
  "orig_nbformat": 4
 },
 "nbformat": 4,
 "nbformat_minor": 2
}
