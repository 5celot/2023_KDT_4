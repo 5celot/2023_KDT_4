{
 "cells": [
  {
   "cell_type": "code",
   "execution_count": 2,
   "metadata": {},
   "outputs": [],
   "source": [
    "\n",
    "import os\n",
    "import joblib\n",
    "import cv2\n",
    "randomforest = joblib.load('RandomForestClassifier(15).pkl')\n",
    "characterDict = {\n",
    "    'agaPing':'아자핑',\n",
    " 'banglePing':'방글핑',\n",
    " 'baroPing':'바로핑',\n",
    " 'chachaPing':'차차핑',\n",
    " 'ggraePing':'꾸래핑',\n",
    " 'hachuPing':'하츄핑',\n",
    " 'happyPing':'해핑',\n",
    " 'joaPing':'조아핑',\n",
    " 'lalaPing':'라라핑',\n",
    " 'malangPing':'말랑핑',\n",
    " 'nanaPing':'나나핑',\n",
    " 'posilPing':'포실핑',\n",
    " 'soljjiPing':'솔찌핑',\n",
    " 'trustPing':'믿어핑'\n",
    "}"
   ]
  },
  {
   "cell_type": "code",
   "execution_count": 6,
   "metadata": {},
   "outputs": [],
   "source": [
    "imgData = cv2.imread(r\"test_image\\test (1).jpg\")\n",
    "imgData = cv2.resize(imgData,(200,200))[:,:,:3].reshape((1,-1))/255.0"
   ]
  },
  {
   "cell_type": "code",
   "execution_count": 8,
   "metadata": {},
   "outputs": [
    {
     "data": {
      "text/plain": [
       "'nanaPing'"
      ]
     },
     "execution_count": 8,
     "metadata": {},
     "output_type": "execute_result"
    }
   ],
   "source": [
    "randomforest.predict(imgData)[0]"
   ]
  },
  {
   "cell_type": "code",
   "execution_count": 1,
   "metadata": {},
   "outputs": [
    {
     "name": "stderr",
     "output_type": "stream",
     "text": [
      "c:\\Users\\KDP19\\anaconda3\\envs\\mypython\\lib\\site-packages\\numpy\\_distributor_init.py:30: UserWarning: loaded more than 1 DLL from .libs:\n",
      "c:\\Users\\KDP19\\anaconda3\\envs\\mypython\\lib\\site-packages\\numpy\\.libs\\libopenblas.FB5AE2TYXYH2IJRDKGDGQ3XBKLKTF43H.gfortran-win_amd64.dll\n",
      "c:\\Users\\KDP19\\anaconda3\\envs\\mypython\\lib\\site-packages\\numpy\\.libs\\libopenblas64__v0.3.21-gcc_10_3_0.dll\n",
      "  warnings.warn(\"loaded more than 1 DLL from .libs:\"\n"
     ]
    }
   ],
   "source": [
    "from keras.saving import load_model\n",
    "import numpy as  np\n",
    "model1='cnn_fashion_model_AGE.hdf5'\n",
    "myModel = load_model(model1) # h5 보단 keras 확장자로 불러올 것\n"
   ]
  },
  {
   "cell_type": "code",
   "execution_count": 53,
   "metadata": {},
   "outputs": [
    {
     "name": "stdout",
     "output_type": "stream",
     "text": [
      "1/1 [==============================] - 0s 23ms/step\n",
      "[[3.85985550e+02 9.99937654e+00 5.97321921e+02 4.83671068e-30]] 2\n",
      "1/1 [==============================] - 0s 16ms/step\n",
      "[[9.5142741  9.99998689 8.82311482 0.        ]] 1\n",
      "1/1 [==============================] - 0s 18ms/step\n",
      "[[3.04283778e+03 9.99515295e+00 4.53287358e+03 6.96565293e-34]] 2\n",
      "1/1 [==============================] - 0s 15ms/step\n",
      "[[7.08985681 9.99999046 6.53067359 0.        ]] 1\n",
      "1/1 [==============================] - 0s 16ms/step\n",
      "[[0.55493341 9.99999881 0.47809531 0.        ]] 1\n",
      "1/1 [==============================] - 0s 17ms/step\n",
      "[[347.14288631   9.99945641 492.69280303   0.        ]] 2\n",
      "1/1 [==============================] - 0s 16ms/step\n",
      "[[25.4133829   9.99996543 23.62335954  0.        ]] 0\n",
      "1/1 [==============================] - 0s 16ms/step\n",
      "[[1.41758341e+03 9.99785006e+00 1.83870043e+03 2.68366873e-37]] 2\n",
      "1/1 [==============================] - 0s 17ms/step\n",
      "[[4.36543341e+03 9.99297261e+00 6.68658001e+03 4.96899829e-34]] 2\n",
      "1/1 [==============================] - 0s 17ms/step\n",
      "[[224.49559765   9.9996686  267.31971178   0.        ]] 2\n",
      "1/1 [==============================] - 0s 17ms/step\n",
      "[[26.1175137   9.99996305 28.3294301   0.        ]] 2\n",
      "1/1 [==============================] - 0s 24ms/step\n",
      "[[306.29711546   9.99953508 398.56890182   0.        ]] 2\n",
      "1/1 [==============================] - 0s 17ms/step\n",
      "[[23.80051228  9.99996662 23.42334456  0.        ]] 0\n"
     ]
    }
   ],
   "source": [
    "arr = np.array([[10**7,10,10**7.4,10]])\n",
    "\n",
    "for i in range(1,6):\n",
    "    imgData = cv2.imread(f\"test_image/{i}.jpg\")\n",
    "    imgData = cv2.resize(imgData,(75,100)).reshape(1,100,75,3)\n",
    "    preResult=myModel.predict(imgData)*arr\n",
    "    print(preResult,np.argmax(preResult))\n",
    "\n",
    "for i in range(7,15):\n",
    "    imgData = cv2.imread(f\"test_image/{i}.jpg\")\n",
    "    imgData = cv2.resize(imgData,(75,100)).reshape(1,100,75,3)\n",
    "    preResult=myModel.predict(imgData)*arr\n",
    "    print(preResult,np.argmax(preResult))\n"
   ]
  }
 ],
 "metadata": {
  "kernelspec": {
   "display_name": "mypython",
   "language": "python",
   "name": "python3"
  },
  "language_info": {
   "codemirror_mode": {
    "name": "ipython",
    "version": 3
   },
   "file_extension": ".py",
   "mimetype": "text/x-python",
   "name": "python",
   "nbconvert_exporter": "python",
   "pygments_lexer": "ipython3",
   "version": "3.9.17"
  },
  "orig_nbformat": 4
 },
 "nbformat": 4,
 "nbformat_minor": 2
}
