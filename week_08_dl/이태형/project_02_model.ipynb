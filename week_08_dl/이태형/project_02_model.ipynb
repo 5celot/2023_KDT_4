{
 "cells": [
  {
   "cell_type": "markdown",
   "metadata": {},
   "source": [
    "####  훈련용과 테스트용 데이터 준비"
   ]
  },
  {
   "cell_type": "code",
   "execution_count": 1,
   "metadata": {},
   "outputs": [
    {
     "name": "stderr",
     "output_type": "stream",
     "text": [
      "c:\\Users\\KDP19\\anaconda3\\envs\\mypython\\lib\\site-packages\\numpy\\_distributor_init.py:30: UserWarning: loaded more than 1 DLL from .libs:\n",
      "c:\\Users\\KDP19\\anaconda3\\envs\\mypython\\lib\\site-packages\\numpy\\.libs\\libopenblas.FB5AE2TYXYH2IJRDKGDGQ3XBKLKTF43H.gfortran-win_amd64.dll\n",
      "c:\\Users\\KDP19\\anaconda3\\envs\\mypython\\lib\\site-packages\\numpy\\.libs\\libopenblas64__v0.3.21-gcc_10_3_0.dll\n",
      "  warnings.warn(\"loaded more than 1 DLL from .libs:\"\n"
     ]
    }
   ],
   "source": [
    "from keras.models import Sequential\n",
    "from keras.layers import Dense,Dropout,Flatten,Conv2D,MaxPool2D,BatchNormalization,Activation\n",
    "from keras.callbacks import ModelCheckpoint,EarlyStopping\n",
    "from keras.initializers import HeNormal\n",
    "import matplotlib.pyplot as plt\n",
    "import numpy as np\n",
    "from sklearn.model_selection import train_test_split\n",
    "import pandas as pd\n",
    "from keras.callbacks import ModelCheckpoint, EarlyStopping, LearningRateScheduler\n",
    "import os\n"
   ]
  },
  {
   "cell_type": "code",
   "execution_count": 2,
   "metadata": {},
   "outputs": [],
   "source": [
    "# label_file='all.csv'\n",
    "# label=pd.read_csv(label_file)\n",
    "# label = label.drop('Unnamed: 0', axis=1)\n",
    "# print(label['age'].value_counts())\n",
    "# label"
   ]
  },
  {
   "cell_type": "code",
   "execution_count": 3,
   "metadata": {},
   "outputs": [],
   "source": [
    "\n",
    "# label = pd.get_dummies(label['age']).astype(int)\n",
    "# label=label.to_numpy()\n",
    "# label"
   ]
  },
  {
   "cell_type": "code",
   "execution_count": 4,
   "metadata": {},
   "outputs": [],
   "source": [
    "# combined_data = np.load('all_32.npy')"
   ]
  },
  {
   "cell_type": "code",
   "execution_count": 5,
   "metadata": {},
   "outputs": [],
   "source": [
    "\n",
    "# train_x, test_x, train_y, test_y = train_test_split(combined_data, \n",
    "#                                                     label, \n",
    "#                                                     stratify=label, \n",
    "#                                                     random_state=777)"
   ]
  },
  {
   "cell_type": "code",
   "execution_count": 6,
   "metadata": {},
   "outputs": [],
   "source": [
    "# np.save('train_x.npy',train_x)\n",
    "# np.save('test_x.npy',test_x)\n",
    "# np.save('train_y.npy',train_y)\n",
    "# np.save('test_y.npy',test_y)"
   ]
  },
  {
   "cell_type": "code",
   "execution_count": 9,
   "metadata": {},
   "outputs": [],
   "source": [
    "train_x=np.load('train_x_resized2.npy')\n",
    "test_x=np.load('test_x_resized2.npy')\n",
    "train_y=np.load('train_y.npy')\n",
    "test_y=np.load('test_y.npy')"
   ]
  },
  {
   "cell_type": "code",
   "execution_count": 10,
   "metadata": {},
   "outputs": [
    {
     "data": {
      "text/plain": [
       "((16872, 100, 75, 3), (5624, 100, 75, 3), (16872, 4), (5624, 4))"
      ]
     },
     "execution_count": 10,
     "metadata": {},
     "output_type": "execute_result"
    }
   ],
   "source": [
    "train_x.shape,test_x.shape,train_y.shape,test_y.shape"
   ]
  },
  {
   "cell_type": "code",
   "execution_count": 4,
   "metadata": {},
   "outputs": [],
   "source": [
    "# import tensorflow as tf\n",
    "# train_x_resized2 = tf.image.resize(train_x, (100, 75))\n",
    "# np.save('train_x_resized2.npy',train_x_resized2)"
   ]
  },
  {
   "cell_type": "code",
   "execution_count": 5,
   "metadata": {},
   "outputs": [],
   "source": [
    "# test_x_resized2 = tf.image.resize(test_x, (100, 75))\n",
    "# np.save('test_x_resized2.npy',test_x_resized2)"
   ]
  },
  {
   "cell_type": "markdown",
   "metadata": {},
   "source": [
    "#### 모델 설계 :\n",
    "\n",
    "- 입력층의 입력 데이터 형태 :  \n",
    "- 출력층의 노드/유닛/커널/뉴런 갯수 지정 : "
   ]
  },
  {
   "cell_type": "code",
   "execution_count": 23,
   "metadata": {},
   "outputs": [
    {
     "name": "stdout",
     "output_type": "stream",
     "text": [
      "Model: \"sequential_2\"\n",
      "_________________________________________________________________\n",
      " Layer (type)                Output Shape              Param #   \n",
      "=================================================================\n",
      " conv2d_4 (Conv2D)           (None, 100, 75, 16)       448       \n",
      "                                                                 \n",
      " activation_8 (Activation)   (None, 100, 75, 16)       0         \n",
      "                                                                 \n",
      " max_pooling2d_4 (MaxPoolin  (None, 50, 37, 16)        0         \n",
      " g2D)                                                            \n",
      "                                                                 \n",
      " conv2d_5 (Conv2D)           (None, 50, 37, 16)        2320      \n",
      "                                                                 \n",
      " activation_9 (Activation)   (None, 50, 37, 16)        0         \n",
      "                                                                 \n",
      " max_pooling2d_5 (MaxPoolin  (None, 25, 18, 16)        0         \n",
      " g2D)                                                            \n",
      "                                                                 \n",
      " flatten_2 (Flatten)         (None, 7200)              0         \n",
      "                                                                 \n",
      " dense_6 (Dense)             (None, 16)                115216    \n",
      "                                                                 \n",
      " activation_10 (Activation)  (None, 16)                0         \n",
      "                                                                 \n",
      " dense_7 (Dense)             (None, 16)                272       \n",
      "                                                                 \n",
      " activation_11 (Activation)  (None, 16)                0         \n",
      "                                                                 \n",
      " dense_8 (Dense)             (None, 4)                 68        \n",
      "                                                                 \n",
      "=================================================================\n",
      "Total params: 118324 (462.20 KB)\n",
      "Trainable params: 118324 (462.20 KB)\n",
      "Non-trainable params: 0 (0.00 Byte)\n",
      "_________________________________________________________________\n"
     ]
    }
   ],
   "source": [
    "he=HeNormal(seed=100)\n",
    "model=Sequential()\n",
    "model.add(Conv2D(16,3,input_shape=(100,75,3),padding= \"same\"))\n",
    "# model.add(BatchNormalization())\n",
    "model.add(Activation('relu'))\n",
    "model.add(MaxPool2D())\n",
    "model.add(Conv2D(16,3,padding= \"same\"))\n",
    "# model.add(BatchNormalization())\n",
    "model.add(Activation('relu'))\n",
    "model.add(MaxPool2D())\n",
    "model.add(Flatten())\n",
    "\n",
    "\n",
    "model.add(Dense(16,kernel_initializer=he))\n",
    "# model.add(BatchNormalization())\n",
    "model.add(Activation('relu'))\n",
    "model.add(Dense(16,kernel_initializer=he))\n",
    "# model.add(BatchNormalization())\n",
    "model.add(Activation('relu'))\n",
    "model.add(Dense(4,activation='softmax'))\n",
    "model.summary()"
   ]
  },
  {
   "cell_type": "code",
   "execution_count": 24,
   "metadata": {},
   "outputs": [
    {
     "name": "stdout",
     "output_type": "stream",
     "text": [
      "[./models/] 파일이 존재합니다.\n"
     ]
    }
   ],
   "source": [
    "\n",
    "\n",
    "model_path='./models/'\n",
    "# 폴더 생성 함수\n",
    "def file_check(file_path): \n",
    "    if os.path.exists(file_path) : \n",
    "        print(f\"[{file_path}] 파일이 존재합니다.\")\n",
    "    else :\n",
    "        print(f\"[{file_path}] 파일이 존재하지 않습니다. \\n저장 폴더를 생성합니다.\")\n",
    "        os.makedirs(file_path)\n",
    "        print('저장 폴더 생성 완료')\n",
    "\n",
    "file_check(model_path)"
   ]
  },
  {
   "cell_type": "code",
   "execution_count": 25,
   "metadata": {},
   "outputs": [],
   "source": [
    "# 객체 생성\n",
    "model_file=model_path+'model_.hdf5' # {epoch:03} => epoch의 횟수를 파일명으로 저장\n",
    "\n",
    "# 기본값 : val_loss (기준) => 낮아지면 저장. 이름을 epoch로 지정해서 파일이 계속 생성됨. \n",
    "# 이름을 똑같이 하면 마지막에 1개의 파일만 남음\n",
    "    \n",
    "mc_CB=ModelCheckpoint(model_file,\n",
    "                    save_best_only=True) # 가장 좋은 모델만 저장  \n",
    "\n",
    "# 조기종료 기준 : val_loss가 3 epochs 동안 감소되지 않으면 종료\n",
    "es_CB=EarlyStopping(patience=3)\n",
    "\n"
   ]
  },
  {
   "cell_type": "code",
   "execution_count": 26,
   "metadata": {},
   "outputs": [],
   "source": [
    "model.compile(optimizer='nadam',loss='categorical_crossentropy', metrics=['accuracy'])"
   ]
  },
  {
   "cell_type": "code",
   "execution_count": 27,
   "metadata": {},
   "outputs": [
    {
     "name": "stdout",
     "output_type": "stream",
     "text": [
      "Epoch 1/1000\n",
      "422/422 [==============================] - 22s 50ms/step - loss: 1.3492 - accuracy: 0.3191 - val_loss: 1.3443 - val_accuracy: 0.3159\n",
      "Epoch 2/1000\n",
      "422/422 [==============================] - 25s 59ms/step - loss: 1.3466 - accuracy: 0.3217 - val_loss: 1.3447 - val_accuracy: 0.3159\n",
      "Epoch 3/1000\n",
      "422/422 [==============================] - 25s 59ms/step - loss: 1.3450 - accuracy: 0.3218 - val_loss: 1.3447 - val_accuracy: 0.3159\n",
      "Epoch 4/1000\n",
      "422/422 [==============================] - 26s 61ms/step - loss: 1.3418 - accuracy: 0.3217 - val_loss: 1.3477 - val_accuracy: 0.3159\n"
     ]
    }
   ],
   "source": [
    "result=model.fit(train_x, train_y, \n",
    "          epochs=1000,\n",
    "          batch_size=32,\n",
    "          validation_split=0.2,\n",
    "          callbacks=[mc_CB, es_CB])"
   ]
  },
  {
   "cell_type": "code",
   "execution_count": 28,
   "metadata": {},
   "outputs": [
    {
     "name": "stdout",
     "output_type": "stream",
     "text": [
      "176/176 [==============================] - 3s 15ms/step - loss: 1.3494 - accuracy: 0.3206\n"
     ]
    },
    {
     "data": {
      "text/plain": [
       "[1.349447250366211, 0.3205903172492981]"
      ]
     },
     "execution_count": 28,
     "metadata": {},
     "output_type": "execute_result"
    }
   ],
   "source": [
    "model.evaluate(test_x,test_y)"
   ]
  },
  {
   "cell_type": "code",
   "execution_count": 29,
   "metadata": {},
   "outputs": [
    {
     "data": {
      "image/png": "[encoded data removed]",
      "text/plain": [
       "<Figure size 640x480 with 1 Axes>"
      ]
     },
     "metadata": {},
     "output_type": "display_data"
    },
    {
     "data": {
      "image/png": "[encoded data removed]",
      "text/plain": [
       "<Figure size 640x480 with 1 Axes>"
      ]
     },
     "metadata": {},
     "output_type": "display_data"
    }
   ],
   "source": [
    "## 학습 결과에 대한 시각화\n",
    "\n",
    "\n",
    "plt.plot(result.history['loss'],label='Train_loss')\n",
    "plt.plot(result.history['val_loss'],label='val_loss')\n",
    "plt.title('[train & validation loss]')\n",
    "plt.legend()\n",
    "plt.show()\n",
    "\n",
    "plt.plot(result.history['accuracy'],label='Train_accuracy')\n",
    "plt.plot(result.history['val_accuracy'],label='val_accuracy')\n",
    "plt.title('[train & validation accuracy]')\n",
    "plt.legend()\n",
    "plt.show()"
   ]
  },
  {
   "cell_type": "code",
   "execution_count": 30,
   "metadata": {},
   "outputs": [
    {
     "name": "stdout",
     "output_type": "stream",
     "text": [
      "Trial 1 Complete [00h 31m 05s]\n",
      "val_loss: 1.3527686595916748\n",
      "\n",
      "Best val_loss So Far: 1.3527686595916748\n",
      "Total elapsed time: 00h 31m 05s\n",
      "\n",
      "Search: Running Trial #2\n",
      "\n",
      "Value             |Best Value So Far |Hyperparameter\n",
      "resnet            |vanilla           |image_block_1/block_type\n",
      "True              |True              |image_block_1/normalize\n",
      "True              |False             |image_block_1/augment\n",
      "True              |None              |image_block_1/image_augmentation_1/horizontal_flip\n",
      "True              |None              |image_block_1/image_augmentation_1/vertical_flip\n",
      "0                 |None              |image_block_1/image_augmentation_1/contrast_factor\n",
      "0                 |None              |image_block_1/image_augmentation_1/rotation_factor\n",
      "0.1               |None              |image_block_1/image_augmentation_1/translation_factor\n",
      "0                 |None              |image_block_1/image_augmentation_1/zoom_factor\n",
      "False             |None              |image_block_1/res_net_block_1/pretrained\n",
      "resnet50          |None              |image_block_1/res_net_block_1/version\n",
      "True              |None              |image_block_1/res_net_block_1/imagenet_size\n",
      "global_avg        |flatten           |classification_head_1/spatial_reduction_1/reduction_type\n",
      "0                 |0.5               |classification_head_1/dropout\n",
      "adam              |adam              |optimizer\n",
      "0.001             |0.001             |learning_rate\n",
      "\n",
      "Epoch 1/1000\n",
      "423/423 [==============================] - 3894s 9s/step - loss: 1.5195 - accuracy: 0.2990 - val_loss: 4.5751 - val_accuracy: 0.2065\n",
      "Epoch 2/1000\n",
      "423/423 [==============================] - 3727s 9s/step - loss: 1.3808 - accuracy: 0.3030 - val_loss: 1.3471 - val_accuracy: 0.2947\n",
      "Epoch 3/1000\n",
      "423/423 [==============================] - 3713s 9s/step - loss: 1.3753 - accuracy: 0.3029 - val_loss: 1.5536 - val_accuracy: 0.1433\n",
      "Epoch 4/1000\n",
      "423/423 [==============================] - 3827s 9s/step - loss: 1.3697 - accuracy: 0.3051 - val_loss: 1.8637 - val_accuracy: 0.2842\n",
      "Epoch 5/1000\n",
      "423/423 [==============================] - 3907s 9s/step - loss: 1.3631 - accuracy: 0.3059 - val_loss: 1.5176 - val_accuracy: 0.2716\n",
      "Epoch 6/1000\n",
      "423/423 [==============================] - 3627s 9s/step - loss: 1.3657 - accuracy: 0.3065 - val_loss: 1.3526 - val_accuracy: 0.2824\n",
      "Epoch 7/1000\n",
      " 16/423 [>.............................] - ETA: 56:51 - loss: 1.3495 - accuracy: 0.3242"
     ]
    }
   ],
   "source": [
    "import autokeras as ak\n",
    "\n",
    "# 이미지 분류기 생성\n",
    "clf = ak.ImageClassifier(max_trials=10)  # max_trials는 시도할 모델의 수를 정의합니다.\n",
    "\n",
    "# 데이터 로드 및 전처리\n",
    "\n",
    "\n",
    "# 모델 학습\n",
    "clf.fit(train_x, train_y, epochs=1000)\n",
    "\n",
    "# 성능 평가\n",
    "print('Accuracy: {accuracy}'.format(accuracy=clf.evaluate(test_x, test_y)))"
   ]
  }
 ],
 "metadata": {
  "kernelspec": {
   "display_name": "mypython",
   "language": "python",
   "name": "python3"
  },
  "language_info": {
   "codemirror_mode": {
    "name": "ipython",
    "version": 3
   },
   "file_extension": ".py",
   "mimetype": "text/x-python",
   "name": "python",
   "nbconvert_exporter": "python",
   "pygments_lexer": "ipython3",
   "version": "3.9.17"
  },
  "orig_nbformat": 4
 },
 "nbformat": 4,
 "nbformat_minor": 2
}
