{
 "cells": [
  {
   "cell_type": "code",
   "execution_count": 2,
   "metadata": {},
   "outputs": [
    {
     "name": "stderr",
     "output_type": "stream",
     "text": [
      "c:\\Users\\KDP19\\anaconda3\\envs\\mypython\\lib\\site-packages\\numpy\\_distributor_init.py:30: UserWarning: loaded more than 1 DLL from .libs:\n",
      "c:\\Users\\KDP19\\anaconda3\\envs\\mypython\\lib\\site-packages\\numpy\\.libs\\libopenblas.FB5AE2TYXYH2IJRDKGDGQ3XBKLKTF43H.gfortran-win_amd64.dll\n",
      "c:\\Users\\KDP19\\anaconda3\\envs\\mypython\\lib\\site-packages\\numpy\\.libs\\libopenblas64__v0.3.21-gcc_10_3_0.dll\n",
      "  warnings.warn(\"loaded more than 1 DLL from .libs:\"\n"
     ]
    }
   ],
   "source": [
    "import pandas as pd\n",
    "import json\n",
    "import os\n",
    "import cv2\n",
    "import numpy as np"
   ]
  },
  {
   "cell_type": "code",
   "execution_count": 2,
   "metadata": {},
   "outputs": [
    {
     "data": {
      "text/plain": [
       "['1950.csv',\n",
       " '1960.csv',\n",
       " '1970.csv',\n",
       " '1980.csv',\n",
       " '1990.csv',\n",
       " '2000.csv',\n",
       " '2010.csv',\n",
       " '2019.csv',\n",
       " 'data_1950.npz',\n",
       " 'data_1960.npz',\n",
       " 'data_1970.npz',\n",
       " 'data_1980.npz',\n",
       " 'data_1990.npy',\n",
       " 'data_2000.npy',\n",
       " 'data_2010.npz',\n",
       " 'data_2019.npz']"
      ]
     },
     "execution_count": 2,
     "metadata": {},
     "output_type": "execute_result"
    }
   ],
   "source": [
    "file_dir = 'data/'\n",
    "file_list = os.listdir(file_dir)\n",
    "final_df = pd.DataFrame([])\n",
    "file_list"
   ]
  },
  {
   "cell_type": "code",
   "execution_count": 3,
   "metadata": {},
   "outputs": [
    {
     "name": "stdout",
     "output_type": "stream",
     "text": [
      "1950.csv\n",
      "1960.csv\n",
      "1970.csv\n",
      "1980.csv\n",
      "1990.csv\n",
      "2000.csv\n",
      "2010.csv\n",
      "2019.csv\n"
     ]
    }
   ],
   "source": [
    "\n",
    "for file in file_list:\n",
    "    if file.endswith('.csv'):\n",
    "        print(file)\n",
    "        df = pd.read_csv(f'{file_dir}{file}')\n",
    "        final_df = pd.concat([final_df, df], ignore_index=True)"
   ]
  },
  {
   "cell_type": "code",
   "execution_count": 4,
   "metadata": {},
   "outputs": [
    {
     "data": {
      "text/html": [
       "<div>\n",
       "<style scoped>\n",
       "    .dataframe tbody tr th:only-of-type {\n",
       "        vertical-align: middle;\n",
       "    }\n",
       "\n",
       "    .dataframe tbody tr th {\n",
       "        vertical-align: top;\n",
       "    }\n",
       "\n",
       "    .dataframe thead th {\n",
       "        text-align: right;\n",
       "    }\n",
       "</style>\n",
       "<table border=\"1\" class=\"dataframe\">\n",
       "  <thead>\n",
       "    <tr style=\"text-align: right;\">\n",
       "      <th></th>\n",
       "      <th>era</th>\n",
       "      <th>style</th>\n",
       "      <th>age</th>\n",
       "      <th>job</th>\n",
       "      <th>income</th>\n",
       "    </tr>\n",
       "  </thead>\n",
       "  <tbody>\n",
       "    <tr>\n",
       "      <th>0</th>\n",
       "      <td>1950</td>\n",
       "      <td>classic</td>\n",
       "      <td>3</td>\n",
       "      <td>4</td>\n",
       "      <td>2</td>\n",
       "    </tr>\n",
       "    <tr>\n",
       "      <th>1</th>\n",
       "      <td>1950</td>\n",
       "      <td>classic</td>\n",
       "      <td>2</td>\n",
       "      <td>3</td>\n",
       "      <td>2</td>\n",
       "    </tr>\n",
       "    <tr>\n",
       "      <th>2</th>\n",
       "      <td>1950</td>\n",
       "      <td>classic</td>\n",
       "      <td>3</td>\n",
       "      <td>4</td>\n",
       "      <td>2</td>\n",
       "    </tr>\n",
       "    <tr>\n",
       "      <th>3</th>\n",
       "      <td>1950</td>\n",
       "      <td>classic</td>\n",
       "      <td>3</td>\n",
       "      <td>1</td>\n",
       "      <td>5</td>\n",
       "    </tr>\n",
       "    <tr>\n",
       "      <th>4</th>\n",
       "      <td>1950</td>\n",
       "      <td>classic</td>\n",
       "      <td>3</td>\n",
       "      <td>1</td>\n",
       "      <td>6</td>\n",
       "    </tr>\n",
       "    <tr>\n",
       "      <th>...</th>\n",
       "      <td>...</td>\n",
       "      <td>...</td>\n",
       "      <td>...</td>\n",
       "      <td>...</td>\n",
       "      <td>...</td>\n",
       "    </tr>\n",
       "    <tr>\n",
       "      <th>22491</th>\n",
       "      <td>2019</td>\n",
       "      <td>normcore</td>\n",
       "      <td>1</td>\n",
       "      <td>4</td>\n",
       "      <td>2</td>\n",
       "    </tr>\n",
       "    <tr>\n",
       "      <th>22492</th>\n",
       "      <td>2019</td>\n",
       "      <td>normcore</td>\n",
       "      <td>1</td>\n",
       "      <td>4</td>\n",
       "      <td>2</td>\n",
       "    </tr>\n",
       "    <tr>\n",
       "      <th>22493</th>\n",
       "      <td>2019</td>\n",
       "      <td>normcore</td>\n",
       "      <td>1</td>\n",
       "      <td>4</td>\n",
       "      <td>2</td>\n",
       "    </tr>\n",
       "    <tr>\n",
       "      <th>22494</th>\n",
       "      <td>2019</td>\n",
       "      <td>normcore</td>\n",
       "      <td>1</td>\n",
       "      <td>4</td>\n",
       "      <td>2</td>\n",
       "    </tr>\n",
       "    <tr>\n",
       "      <th>22495</th>\n",
       "      <td>2019</td>\n",
       "      <td>normcore</td>\n",
       "      <td>1</td>\n",
       "      <td>4</td>\n",
       "      <td>2</td>\n",
       "    </tr>\n",
       "  </tbody>\n",
       "</table>\n",
       "<p>22496 rows × 5 columns</p>\n",
       "</div>"
      ],
      "text/plain": [
       "        era     style  age  job  income\n",
       "0      1950   classic    3    4       2\n",
       "1      1950   classic    2    3       2\n",
       "2      1950   classic    3    4       2\n",
       "3      1950   classic    3    1       5\n",
       "4      1950   classic    3    1       6\n",
       "...     ...       ...  ...  ...     ...\n",
       "22491  2019  normcore    1    4       2\n",
       "22492  2019  normcore    1    4       2\n",
       "22493  2019  normcore    1    4       2\n",
       "22494  2019  normcore    1    4       2\n",
       "22495  2019  normcore    1    4       2\n",
       "\n",
       "[22496 rows x 5 columns]"
      ]
     },
     "execution_count": 4,
     "metadata": {},
     "output_type": "execute_result"
    }
   ],
   "source": [
    "final_df"
   ]
  },
  {
   "cell_type": "code",
   "execution_count": 5,
   "metadata": {},
   "outputs": [
    {
     "data": {
      "text/plain": [
       "age\n",
       "2    7211\n",
       "1    6244\n",
       "3    5954\n",
       "4    3087\n",
       "Name: count, dtype: int64"
      ]
     },
     "execution_count": 5,
     "metadata": {},
     "output_type": "execute_result"
    }
   ],
   "source": [
    "from keras.utils import to_categorical\n",
    "label=to_categorical(final_df['age'])\n",
    "final_df['age'].value_counts()"
   ]
  },
  {
   "cell_type": "code",
   "execution_count": 6,
   "metadata": {},
   "outputs": [
    {
     "data": {
      "text/plain": [
       "array([[0., 0., 0., 1., 0.],\n",
       "       [0., 0., 1., 0., 0.],\n",
       "       [0., 0., 0., 1., 0.],\n",
       "       ...,\n",
       "       [0., 1., 0., 0., 0.],\n",
       "       [0., 1., 0., 0., 0.],\n",
       "       [0., 1., 0., 0., 0.]], dtype=float32)"
      ]
     },
     "execution_count": 6,
     "metadata": {},
     "output_type": "execute_result"
    }
   ],
   "source": [
    "label"
   ]
  },
  {
   "cell_type": "code",
   "execution_count": 6,
   "metadata": {},
   "outputs": [],
   "source": [
    "data_1950_ = np.load('data\\data_1950.npz')\n",
    "data_1950_ = (data_1950_['images']).astype(np.float16)\n",
    "\n",
    "data_1960_ = np.load('data\\data_1960.npz')\n",
    "data_1960_ = data_1960_['images'].astype(np.float16)\n",
    "\n",
    "data_1970_ = np.load('data\\data_1970.npz')\n",
    "data_1970_ = data_1970_['images'].astype(np.float16)\n",
    "\n",
    "data_1980_ = np.load('data\\data_1980.npz')\n",
    "data_1980_ = data_1980_['images'].astype(np.float16)\n",
    "\n",
    "\n",
    "\n",
    "data_1990_ = np.load('data\\data_1990.npy').astype(np.float16)\n",
    "data_2000_ = np.load('data\\data_2000.npy').astype(np.float16)\n",
    "\n",
    "\n",
    "\n",
    "\n",
    "data_2010_ = np.load('data\\data_2010.npz')\n",
    "data_2010_ = data_2010_['images'].astype(np.float16)\n",
    "\n",
    "data_2019_ = np.load('data\\data_2019.npz')\n",
    "data_2019_ = data_2019_['images'].astype(np.float16)"
   ]
  },
  {
   "cell_type": "code",
   "execution_count": 23,
   "metadata": {},
   "outputs": [
    {
     "ename": "MemoryError",
     "evalue": "Unable to allocate 15.1 GiB for an array with shape (22496, 400, 300, 3) and data type float16",
     "output_type": "error",
     "traceback": [
      "\u001b[1;31m---------------------------------------------------------------------------\u001b[0m",
      "\u001b[1;31mMemoryError\u001b[0m                               Traceback (most recent call last)",
      "\u001b[1;32mc:\\edu\\EXAM_07_DL\\mini_project\\project_model.ipynb 셀 8\u001b[0m line \u001b[0;36m5\n\u001b[0;32m      <a href='vscode-notebook-cell:/c%3A/edu/EXAM_07_DL/mini_project/project_model.ipynb#W6sZmlsZQ%3D%3D?line=1'>2</a>\u001b[0m variables \u001b[39m=\u001b[39m [ data_1950_, data_1960_, data_1970_, data_1980_, data_1990_, data_2000_, data_2010_, data_2019_]\n\u001b[0;32m      <a href='vscode-notebook-cell:/c%3A/edu/EXAM_07_DL/mini_project/project_model.ipynb#W6sZmlsZQ%3D%3D?line=3'>4</a>\u001b[0m \u001b[39m# 리스트의 요소를 concatenate하여 하나의 4차원 배열 생성\u001b[39;00m\n\u001b[1;32m----> <a href='vscode-notebook-cell:/c%3A/edu/EXAM_07_DL/mini_project/project_model.ipynb#W6sZmlsZQ%3D%3D?line=4'>5</a>\u001b[0m combined_data \u001b[39m=\u001b[39m np\u001b[39m.\u001b[39;49mconcatenate(variables, axis\u001b[39m=\u001b[39;49m\u001b[39m0\u001b[39;49m)\n\u001b[0;32m      <a href='vscode-notebook-cell:/c%3A/edu/EXAM_07_DL/mini_project/project_model.ipynb#W6sZmlsZQ%3D%3D?line=5'>6</a>\u001b[0m combined_data\n",
      "File \u001b[1;32m<__array_function__ internals>:180\u001b[0m, in \u001b[0;36mconcatenate\u001b[1;34m(*args, **kwargs)\u001b[0m\n",
      "\u001b[1;31mMemoryError\u001b[0m: Unable to allocate 15.1 GiB for an array with shape (22496, 400, 300, 3) and data type float16"
     ]
    }
   ],
   "source": [
    "\n",
    "# 리스트의 요소를 concatenate하여 하나의 4차원 배열 생성\n",
    "combined_data = np.concatenate([ data_1950_, data_1960_, data_1970_, data_1980_, data_1990_, data_2000_, data_2010_, data_2019_], axis=0)\n"
   ]
  }
 ],
 "metadata": {
  "kernelspec": {
   "display_name": "mypython",
   "language": "python",
   "name": "python3"
  },
  "language_info": {
   "codemirror_mode": {
    "name": "ipython",
    "version": 3
   },
   "file_extension": ".py",
   "mimetype": "text/x-python",
   "name": "python",
   "nbconvert_exporter": "python",
   "pygments_lexer": "ipython3",
   "version": "3.9.17"
  },
  "orig_nbformat": 4
 },
 "nbformat": 4,
 "nbformat_minor": 2
}
