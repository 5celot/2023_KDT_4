{
 "cells": [
  {
   "cell_type": "code",
   "execution_count": 1,
   "id": "60520bb1-a209-4d6e-9f93-03776dccb841",
   "metadata": {},
   "outputs": [],
   "source": [
    "import pandas as pd\n",
    "apart = pd.read_csv(\"서울시 공동주택 아파트 정보.csv\", encoding= 'cp949')\n",
    "nearStation = pd.read_csv('nearStation.csv')\n",
    "nearBus = pd.read_csv('nearBus.csv')\n",
    "nearSchool = pd.read_csv('mini_school.csv')"
   ]
  },
  {
   "cell_type": "code",
   "execution_count": 2,
   "id": "37a5a838-e6e6-461b-8fe7-75aa09a85600",
   "metadata": {},
   "outputs": [],
   "source": [
    "nearSchool = nearSchool.rename(columns={'8':'주변 학교 수','1':'번호'})\n",
    "nearStation = nearStation.rename(columns ={'2':'주변 지하철역 수','1':'번호'} )\n",
    "nearBus = nearBus.rename(columns = {'88':'주변 버스정류장 수','1':'번호'})"
   ]
  },
  {
   "cell_type": "code",
   "execution_count": 3,
   "id": "ccf2cfad-70c4-4a44-bf4c-e3a071c3d27e",
   "metadata": {},
   "outputs": [],
   "source": [
    "merged_df = apart.merge(nearSchool, how='left',on= '번호')\n",
    "merged_df = merged_df.merge(nearStation, how='left',on= '번호')\n",
    "merged_df = merged_df.merge(nearBus, how='left',on= '번호')"
   ]
  },
  {
   "cell_type": "code",
   "execution_count": 4,
   "id": "6a0c9164-4a88-4232-90ec-7be717c53acc",
   "metadata": {},
   "outputs": [],
   "source": [
    "merged_df['주변 학교 수'] = merged_df['주변 학교 수'].fillna(0)\n",
    "merged_df['주변 지하철역 수'] = merged_df['주변 지하철역 수'].fillna(0)\n",
    "merged_df['주변 버스정류장 수'] = merged_df['주변 버스정류장 수'].fillna(0)"
   ]
  },
  {
   "cell_type": "code",
   "execution_count": 5,
   "id": "37d257dc-aa90-4a6e-a23e-b1cea8afdb1d",
   "metadata": {},
   "outputs": [],
   "source": [
    "merged_df.to_csv('서울아파트.csv',index=False)"
   ]
  },
  {
   "cell_type": "code",
   "execution_count": 6,
   "id": "bfffb63a-54a1-4042-b70b-2f9d3615f2b6",
   "metadata": {},
   "outputs": [
    {
     "data": {
      "text/plain": [
       "Index(['번호', 'k-아파트코드', 'k-아파트명', 'k-단지분류(아파트,주상복합등등)', 'kapt도로명주소',\n",
       "       '주소(시도)k-apt주소split', '주소(시군구)', '주소(읍면동)', '나머지주소', '주소(도로명)',\n",
       "       '주소(도로상세주소)', 'k-전화번호', 'k-팩스번호', '단지소개기존clob', '단지첨부파일',\n",
       "       'k-세대타입(분양형태)', 'k-관리방식', 'k-복도유형', 'k-난방방식', 'k-전체동수', 'k-전체세대수',\n",
       "       'k-건설사(시공사)', 'k-시행사', 'k-사용검사일-사용승인일', 'k-연면적', 'k-주거전용면적',\n",
       "       'k-관리비부과면적', 'k-전용면적별세대현황(60㎡이하)', 'k-전용면적별세대현황(60㎡~85㎡이하)',\n",
       "       'k-85㎡~135㎡이하', 'k-135㎡초과', 'k-홈페이지', 'k-등록일자', 'k-수정일자', '고용보험관리번호',\n",
       "       '경비비관리형태', '세대전기계약방법', '청소비관리형태', '건축면적', '주차대수', '기타/의무/임대/임의=1/2/3/4',\n",
       "       '단지승인일', '사용허가여부', '관리비 업로드', '좌표X', '좌표Y', '단지신청일', '주변 학교 수',\n",
       "       '주변 지하철역 수', '주변 버스정류장 수'],\n",
       "      dtype='object')"
      ]
     },
     "execution_count": 6,
     "metadata": {},
     "output_type": "execute_result"
    }
   ],
   "source": [
    "merged_df.columns"
   ]
  },
  {
   "cell_type": "code",
   "execution_count": 7,
   "id": "9953d463-8ce1-443a-b5bd-2ddfe7e75bab",
   "metadata": {},
   "outputs": [
    {
     "data": {
      "text/plain": [
       "0"
      ]
     },
     "execution_count": 7,
     "metadata": {},
     "output_type": "execute_result"
    }
   ],
   "source": [
    "merged_df['k-전체세대수'].isnull().sum()"
   ]
  },
  {
   "cell_type": "code",
   "execution_count": 8,
   "id": "176d8d9f-8d0c-41a3-9a97-ffbdcd19d29b",
   "metadata": {},
   "outputs": [
    {
     "data": {
      "text/plain": [
       "39"
      ]
     },
     "execution_count": 8,
     "metadata": {},
     "output_type": "execute_result"
    }
   ],
   "source": [
    "merged_df['주차대수'].isnull().sum()"
   ]
  },
  {
   "cell_type": "code",
   "execution_count": 9,
   "id": "23e0ae28-b3bb-4ca8-a5db-bbd7ffa09ee0",
   "metadata": {},
   "outputs": [],
   "source": [
    "merged_df['k-전체세대수'] = merged_df['k-전체세대수'].astype('int')\n",
    "merged_df['주차대수'] = merged_df['주차대수'].fillna(0).astype('int')"
   ]
  },
  {
   "cell_type": "code",
   "execution_count": 10,
   "id": "bb4e3d26-c338-479c-8026-7c503748c1e8",
   "metadata": {},
   "outputs": [],
   "source": [
    "merged_df['세대당 주차대수'] = [merged_df['주차대수'][i] / merged_df['k-전체세대수'][i] for i in range(len(merged_df))]"
   ]
  },
  {
   "cell_type": "code",
   "execution_count": 11,
   "id": "e6c93723-d7ae-4fdb-a1ae-1afda41737d7",
   "metadata": {},
   "outputs": [],
   "source": [
    "merged_df['연식'] = 2023 - merged_df['k-사용검사일-사용승인일'].astype('datetime64').dt.year"
   ]
  },
  {
   "cell_type": "code",
   "execution_count": 12,
   "id": "26ef7a60-ad06-41d9-940b-2ea9787460ce",
   "metadata": {
    "scrolled": true
   },
   "outputs": [],
   "source": [
    "old_df = merged_df[merged_df['연식']>=30 ]"
   ]
  },
  {
   "cell_type": "code",
   "execution_count": 13,
   "id": "cfa4c715-09bb-4ebb-b909-976ac944e735",
   "metadata": {},
   "outputs": [],
   "source": [
    "old_df = old_df[old_df['세대당 주차대수'] != 0]"
   ]
  },
  {
   "cell_type": "code",
   "execution_count": 14,
   "id": "eebe45ac-af46-4725-a38c-60f56f99d2fe",
   "metadata": {},
   "outputs": [],
   "source": [
    "old_df.to_csv('낡은아파트.csv')"
   ]
  },
  {
   "cell_type": "code",
   "execution_count": 15,
   "id": "32d87476-5e96-4c52-a055-0a65a28550c4",
   "metadata": {},
   "outputs": [
    {
     "data": {
      "text/html": [
       "<div>\n",
       "<style scoped>\n",
       "    .dataframe tbody tr th:only-of-type {\n",
       "        vertical-align: middle;\n",
       "    }\n",
       "\n",
       "    .dataframe tbody tr th {\n",
       "        vertical-align: top;\n",
       "    }\n",
       "\n",
       "    .dataframe thead th {\n",
       "        text-align: right;\n",
       "    }\n",
       "</style>\n",
       "<table border=\"1\" class=\"dataframe\">\n",
       "  <thead>\n",
       "    <tr style=\"text-align: right;\">\n",
       "      <th></th>\n",
       "      <th>번호</th>\n",
       "      <th>k-아파트코드</th>\n",
       "      <th>k-아파트명</th>\n",
       "      <th>k-단지분류(아파트,주상복합등등)</th>\n",
       "      <th>kapt도로명주소</th>\n",
       "      <th>주소(시도)k-apt주소split</th>\n",
       "      <th>주소(시군구)</th>\n",
       "      <th>주소(읍면동)</th>\n",
       "      <th>나머지주소</th>\n",
       "      <th>주소(도로명)</th>\n",
       "      <th>...</th>\n",
       "      <th>사용허가여부</th>\n",
       "      <th>관리비 업로드</th>\n",
       "      <th>좌표X</th>\n",
       "      <th>좌표Y</th>\n",
       "      <th>단지신청일</th>\n",
       "      <th>주변 학교 수</th>\n",
       "      <th>주변 지하철역 수</th>\n",
       "      <th>주변 버스정류장 수</th>\n",
       "      <th>세대당 주차대수</th>\n",
       "      <th>연식</th>\n",
       "    </tr>\n",
       "  </thead>\n",
       "  <tbody>\n",
       "    <tr>\n",
       "      <th>11</th>\n",
       "      <td>13</td>\n",
       "      <td>A13790701</td>\n",
       "      <td>잠원한신그린</td>\n",
       "      <td>아파트</td>\n",
       "      <td>서울특별시 서초구 신반포로33길 71</td>\n",
       "      <td>서울</td>\n",
       "      <td>서초구</td>\n",
       "      <td>잠원동</td>\n",
       "      <td>잠원한신그린아파트</td>\n",
       "      <td>신반포로33길</td>\n",
       "      <td>...</td>\n",
       "      <td>Y</td>\n",
       "      <td>N</td>\n",
       "      <td>127.0078749</td>\n",
       "      <td>37.513371</td>\n",
       "      <td>2013-03-07 09:47:01.0</td>\n",
       "      <td>6.0</td>\n",
       "      <td>4.0</td>\n",
       "      <td>49.0</td>\n",
       "      <td>0.906667</td>\n",
       "      <td>30.0</td>\n",
       "    </tr>\n",
       "    <tr>\n",
       "      <th>17</th>\n",
       "      <td>19</td>\n",
       "      <td>A13407201</td>\n",
       "      <td>명일삼익그린11차</td>\n",
       "      <td>아파트</td>\n",
       "      <td>서울특별시 강동구 명일로 376</td>\n",
       "      <td>서울</td>\n",
       "      <td>강동구</td>\n",
       "      <td>명일동</td>\n",
       "      <td>38번지</td>\n",
       "      <td>명일로</td>\n",
       "      <td>...</td>\n",
       "      <td>Y</td>\n",
       "      <td>N</td>\n",
       "      <td>127.1504982</td>\n",
       "      <td>37.551807</td>\n",
       "      <td>2013-03-07 09:47:02.0</td>\n",
       "      <td>16.0</td>\n",
       "      <td>3.0</td>\n",
       "      <td>88.0</td>\n",
       "      <td>1.184211</td>\n",
       "      <td>37.0</td>\n",
       "    </tr>\n",
       "    <tr>\n",
       "      <th>20</th>\n",
       "      <td>22</td>\n",
       "      <td>A15001001</td>\n",
       "      <td>여의도초원</td>\n",
       "      <td>아파트</td>\n",
       "      <td>서울특별시 영등포구 국회대로76가길 11</td>\n",
       "      <td>서울</td>\n",
       "      <td>영등포구</td>\n",
       "      <td>여의도동</td>\n",
       "      <td>서울시 영등포구 여의도동11-1</td>\n",
       "      <td>국회대로76가길</td>\n",
       "      <td>...</td>\n",
       "      <td>Y</td>\n",
       "      <td>Y</td>\n",
       "      <td>126.9231927</td>\n",
       "      <td>37.530964</td>\n",
       "      <td>2013-03-07 09:47:02.0</td>\n",
       "      <td>0.0</td>\n",
       "      <td>2.0</td>\n",
       "      <td>43.0</td>\n",
       "      <td>0.601307</td>\n",
       "      <td>52.0</td>\n",
       "    </tr>\n",
       "    <tr>\n",
       "      <th>39</th>\n",
       "      <td>41</td>\n",
       "      <td>A13486401</td>\n",
       "      <td>천호현대</td>\n",
       "      <td>아파트</td>\n",
       "      <td>서울특별시 강동구 진황도로 47-2</td>\n",
       "      <td>서울</td>\n",
       "      <td>강동구</td>\n",
       "      <td>천호동</td>\n",
       "      <td>천호현대아파트</td>\n",
       "      <td>진황도로</td>\n",
       "      <td>...</td>\n",
       "      <td>Y</td>\n",
       "      <td>N</td>\n",
       "      <td>127.1329005</td>\n",
       "      <td>37.538399</td>\n",
       "      <td>2013-03-07 09:47:04.0</td>\n",
       "      <td>5.0</td>\n",
       "      <td>4.0</td>\n",
       "      <td>96.0</td>\n",
       "      <td>0.641026</td>\n",
       "      <td>33.0</td>\n",
       "    </tr>\n",
       "    <tr>\n",
       "      <th>40</th>\n",
       "      <td>42</td>\n",
       "      <td>A13187501</td>\n",
       "      <td>중화극동</td>\n",
       "      <td>아파트</td>\n",
       "      <td>서울특별시 중랑구 봉화산로27길 32</td>\n",
       "      <td>서울</td>\n",
       "      <td>중랑구</td>\n",
       "      <td>중화동</td>\n",
       "      <td>19번지</td>\n",
       "      <td>봉화산로27길</td>\n",
       "      <td>...</td>\n",
       "      <td>Y</td>\n",
       "      <td>N</td>\n",
       "      <td>127.0837949</td>\n",
       "      <td>37.603652</td>\n",
       "      <td>2013-03-07 09:46:52.0</td>\n",
       "      <td>13.0</td>\n",
       "      <td>5.0</td>\n",
       "      <td>66.0</td>\n",
       "      <td>1.025641</td>\n",
       "      <td>32.0</td>\n",
       "    </tr>\n",
       "    <tr>\n",
       "      <th>...</th>\n",
       "      <td>...</td>\n",
       "      <td>...</td>\n",
       "      <td>...</td>\n",
       "      <td>...</td>\n",
       "      <td>...</td>\n",
       "      <td>...</td>\n",
       "      <td>...</td>\n",
       "      <td>...</td>\n",
       "      <td>...</td>\n",
       "      <td>...</td>\n",
       "      <td>...</td>\n",
       "      <td>...</td>\n",
       "      <td>...</td>\n",
       "      <td>...</td>\n",
       "      <td>...</td>\n",
       "      <td>...</td>\n",
       "      <td>...</td>\n",
       "      <td>...</td>\n",
       "      <td>...</td>\n",
       "      <td>...</td>\n",
       "      <td>...</td>\n",
       "    </tr>\n",
       "    <tr>\n",
       "      <th>2556</th>\n",
       "      <td>40064</td>\n",
       "      <td>A10024829</td>\n",
       "      <td>대림 우성2차</td>\n",
       "      <td>아파트</td>\n",
       "      <td>서울특별시 영등포구 도림로47길 1</td>\n",
       "      <td>서울</td>\n",
       "      <td>영등포구</td>\n",
       "      <td>대림동</td>\n",
       "      <td>NaN</td>\n",
       "      <td>도림로47길</td>\n",
       "      <td>...</td>\n",
       "      <td>Y</td>\n",
       "      <td>N</td>\n",
       "      <td>126.89981</td>\n",
       "      <td>37.495928</td>\n",
       "      <td>2020-07-08 00:00:00.0</td>\n",
       "      <td>17.0</td>\n",
       "      <td>2.0</td>\n",
       "      <td>140.0</td>\n",
       "      <td>0.758333</td>\n",
       "      <td>31.0</td>\n",
       "    </tr>\n",
       "    <tr>\n",
       "      <th>2566</th>\n",
       "      <td>40076</td>\n",
       "      <td>A10024799</td>\n",
       "      <td>대치1차현대아파트</td>\n",
       "      <td>아파트</td>\n",
       "      <td>서울특별시 강남구 영동대로57길 28</td>\n",
       "      <td>서울</td>\n",
       "      <td>강남구</td>\n",
       "      <td>대치동</td>\n",
       "      <td>NaN</td>\n",
       "      <td>영동대로57길</td>\n",
       "      <td>...</td>\n",
       "      <td>Y</td>\n",
       "      <td>N</td>\n",
       "      <td>127.0651317</td>\n",
       "      <td>37.499746</td>\n",
       "      <td>2020-07-28 16:00:22.0</td>\n",
       "      <td>10.0</td>\n",
       "      <td>2.0</td>\n",
       "      <td>52.0</td>\n",
       "      <td>0.775000</td>\n",
       "      <td>33.0</td>\n",
       "    </tr>\n",
       "    <tr>\n",
       "      <th>2567</th>\n",
       "      <td>40077</td>\n",
       "      <td>A10024798</td>\n",
       "      <td>상일우성타운</td>\n",
       "      <td>연립주택</td>\n",
       "      <td>서울특별시 강동구 상암로 331</td>\n",
       "      <td>서울</td>\n",
       "      <td>강동구</td>\n",
       "      <td>상일동</td>\n",
       "      <td>NaN</td>\n",
       "      <td>상암로</td>\n",
       "      <td>...</td>\n",
       "      <td>Y</td>\n",
       "      <td>N</td>\n",
       "      <td>127.159188</td>\n",
       "      <td>37.546536</td>\n",
       "      <td>2020-07-13 00:00:00.0</td>\n",
       "      <td>7.0</td>\n",
       "      <td>0.0</td>\n",
       "      <td>48.0</td>\n",
       "      <td>1.523810</td>\n",
       "      <td>34.0</td>\n",
       "    </tr>\n",
       "    <tr>\n",
       "      <th>2571</th>\n",
       "      <td>40083</td>\n",
       "      <td>A10024780</td>\n",
       "      <td>금강주택</td>\n",
       "      <td>연립주택</td>\n",
       "      <td>서울특별시 종로구 평창12길 8-22</td>\n",
       "      <td>서울</td>\n",
       "      <td>종로구</td>\n",
       "      <td>평창동</td>\n",
       "      <td>NaN</td>\n",
       "      <td>평창12길</td>\n",
       "      <td>...</td>\n",
       "      <td>Y</td>\n",
       "      <td>Y</td>\n",
       "      <td>126.9689263</td>\n",
       "      <td>37.608204</td>\n",
       "      <td>2020-07-20 00:00:00.0</td>\n",
       "      <td>2.0</td>\n",
       "      <td>0.0</td>\n",
       "      <td>44.0</td>\n",
       "      <td>0.714286</td>\n",
       "      <td>31.0</td>\n",
       "    </tr>\n",
       "    <tr>\n",
       "      <th>2719</th>\n",
       "      <td>40291</td>\n",
       "      <td>A10023565</td>\n",
       "      <td>개포6차우성아파트</td>\n",
       "      <td>아파트</td>\n",
       "      <td>서울특별시 강남구 언주로 3</td>\n",
       "      <td>서울</td>\n",
       "      <td>강남구</td>\n",
       "      <td>개포동</td>\n",
       "      <td>NaN</td>\n",
       "      <td>언주로</td>\n",
       "      <td>...</td>\n",
       "      <td>Y</td>\n",
       "      <td>N</td>\n",
       "      <td>127.05721</td>\n",
       "      <td>37.476763</td>\n",
       "      <td>2022-11-17 10:19:06.0</td>\n",
       "      <td>4.0</td>\n",
       "      <td>0.0</td>\n",
       "      <td>58.0</td>\n",
       "      <td>0.970370</td>\n",
       "      <td>36.0</td>\n",
       "    </tr>\n",
       "  </tbody>\n",
       "</table>\n",
       "<p>498 rows × 52 columns</p>\n",
       "</div>"
      ],
      "text/plain": [
       "         번호    k-아파트코드     k-아파트명 k-단지분류(아파트,주상복합등등)               kapt도로명주소  \\\n",
       "11       13  A13790701     잠원한신그린                아파트    서울특별시 서초구 신반포로33길 71   \n",
       "17       19  A13407201  명일삼익그린11차                아파트       서울특별시 강동구 명일로 376   \n",
       "20       22  A15001001      여의도초원                아파트  서울특별시 영등포구 국회대로76가길 11   \n",
       "39       41  A13486401       천호현대                아파트     서울특별시 강동구 진황도로 47-2   \n",
       "40       42  A13187501       중화극동                아파트    서울특별시 중랑구 봉화산로27길 32   \n",
       "...     ...        ...        ...                ...                     ...   \n",
       "2556  40064  A10024829    대림 우성2차                아파트     서울특별시 영등포구 도림로47길 1   \n",
       "2566  40076  A10024799  대치1차현대아파트                아파트    서울특별시 강남구 영동대로57길 28   \n",
       "2567  40077  A10024798     상일우성타운               연립주택       서울특별시 강동구 상암로 331   \n",
       "2571  40083  A10024780       금강주택               연립주택    서울특별시 종로구 평창12길 8-22   \n",
       "2719  40291  A10023565  개포6차우성아파트                아파트         서울특별시 강남구 언주로 3   \n",
       "\n",
       "     주소(시도)k-apt주소split 주소(시군구) 주소(읍면동)              나머지주소   주소(도로명)  ...  \\\n",
       "11                   서울     서초구     잠원동          잠원한신그린아파트   신반포로33길  ...   \n",
       "17                   서울     강동구     명일동               38번지       명일로  ...   \n",
       "20                   서울    영등포구    여의도동  서울시 영등포구 여의도동11-1  국회대로76가길  ...   \n",
       "39                   서울     강동구     천호동            천호현대아파트      진황도로  ...   \n",
       "40                   서울     중랑구     중화동               19번지   봉화산로27길  ...   \n",
       "...                 ...     ...     ...                ...       ...  ...   \n",
       "2556                 서울    영등포구     대림동                NaN    도림로47길  ...   \n",
       "2566                 서울     강남구     대치동                NaN   영동대로57길  ...   \n",
       "2567                 서울     강동구     상일동                NaN       상암로  ...   \n",
       "2571                 서울     종로구     평창동                NaN     평창12길  ...   \n",
       "2719                 서울     강남구     개포동                NaN       언주로  ...   \n",
       "\n",
       "     사용허가여부 관리비 업로드          좌표X        좌표Y                  단지신청일 주변 학교 수  \\\n",
       "11        Y       N  127.0078749  37.513371  2013-03-07 09:47:01.0     6.0   \n",
       "17        Y       N  127.1504982  37.551807  2013-03-07 09:47:02.0    16.0   \n",
       "20        Y       Y  126.9231927  37.530964  2013-03-07 09:47:02.0     0.0   \n",
       "39        Y       N  127.1329005  37.538399  2013-03-07 09:47:04.0     5.0   \n",
       "40        Y       N  127.0837949  37.603652  2013-03-07 09:46:52.0    13.0   \n",
       "...     ...     ...          ...        ...                    ...     ...   \n",
       "2556      Y       N    126.89981  37.495928  2020-07-08 00:00:00.0    17.0   \n",
       "2566      Y       N  127.0651317  37.499746  2020-07-28 16:00:22.0    10.0   \n",
       "2567      Y       N   127.159188  37.546536  2020-07-13 00:00:00.0     7.0   \n",
       "2571      Y       Y  126.9689263  37.608204  2020-07-20 00:00:00.0     2.0   \n",
       "2719      Y       N    127.05721  37.476763  2022-11-17 10:19:06.0     4.0   \n",
       "\n",
       "     주변 지하철역 수 주변 버스정류장 수  세대당 주차대수    연식  \n",
       "11         4.0       49.0  0.906667  30.0  \n",
       "17         3.0       88.0  1.184211  37.0  \n",
       "20         2.0       43.0  0.601307  52.0  \n",
       "39         4.0       96.0  0.641026  33.0  \n",
       "40         5.0       66.0  1.025641  32.0  \n",
       "...        ...        ...       ...   ...  \n",
       "2556       2.0      140.0  0.758333  31.0  \n",
       "2566       2.0       52.0  0.775000  33.0  \n",
       "2567       0.0       48.0  1.523810  34.0  \n",
       "2571       0.0       44.0  0.714286  31.0  \n",
       "2719       0.0       58.0  0.970370  36.0  \n",
       "\n",
       "[498 rows x 52 columns]"
      ]
     },
     "execution_count": 15,
     "metadata": {},
     "output_type": "execute_result"
    }
   ],
   "source": [
    "old_df"
   ]
  },
  {
   "cell_type": "code",
   "execution_count": 87,
   "id": "c5aa55c2-2fae-43bc-85a3-76369621ca11",
   "metadata": {},
   "outputs": [
    {
     "data": {
      "text/plain": [
       "Index(['번호', 'k-아파트코드', 'k-아파트명', 'k-단지분류(아파트,주상복합등등)', 'kapt도로명주소',\n",
       "       '주소(시도)k-apt주소split', '주소(시군구)', '주소(읍면동)', '나머지주소', '주소(도로명)',\n",
       "       '주소(도로상세주소)', 'k-전화번호', 'k-팩스번호', '단지소개기존clob', '단지첨부파일',\n",
       "       'k-세대타입(분양형태)', 'k-관리방식', 'k-복도유형', 'k-난방방식', 'k-전체동수', 'k-전체세대수',\n",
       "       'k-건설사(시공사)', 'k-시행사', 'k-사용검사일-사용승인일', 'k-연면적', 'k-주거전용면적',\n",
       "       'k-관리비부과면적', 'k-전용면적별세대현황(60㎡이하)', 'k-전용면적별세대현황(60㎡~85㎡이하)',\n",
       "       'k-85㎡~135㎡이하', 'k-135㎡초과', 'k-홈페이지', 'k-등록일자', 'k-수정일자', '고용보험관리번호',\n",
       "       '경비비관리형태', '세대전기계약방법', '청소비관리형태', '건축면적', '주차대수', '기타/의무/임대/임의=1/2/3/4',\n",
       "       '단지승인일', '사용허가여부', '관리비 업로드', '좌표X', '좌표Y', '단지신청일', '주변 학교 수',\n",
       "       '주변 지하철역 수', '주변 버스정류장 수', '세대당 주차대수', '연식', '가중치', '연식 정규화',\n",
       "       '학교 수 정규화', '지하철역 수 정규화', '버스정류장 수 정규화', '주차대수 정규화', '재개발 점수'],\n",
       "      dtype='object')"
      ]
     },
     "execution_count": 87,
     "metadata": {},
     "output_type": "execute_result"
    }
   ],
   "source": [
    "old_df.columns"
   ]
  },
  {
   "cell_type": "code",
   "execution_count": 17,
   "id": "96df4352-b92e-4b92-96c0-5a9b195f5181",
   "metadata": {},
   "outputs": [],
   "source": [
    "old_df['연식 정규화'] = (old_df['연식'] - old_df['연식'].min()) / (old_df['연식'].max() - old_df['연식'].min())"
   ]
  },
  {
   "cell_type": "code",
   "execution_count": 18,
   "id": "f384dfde-2d6d-417e-9db0-7823a183e572",
   "metadata": {},
   "outputs": [],
   "source": [
    "old_df['학교 수 정규화'] =(old_df['주변 학교 수'] - old_df['주변 학교 수'].min()) / (old_df['주변 학교 수'].max() - old_df['주변 학교 수'].min())"
   ]
  },
  {
   "cell_type": "code",
   "execution_count": 19,
   "id": "1ae40772-b241-4c8e-9383-b2b799a3a4ed",
   "metadata": {},
   "outputs": [],
   "source": [
    "old_df['지하철역 수 정규화'] =(old_df['주변 지하철역 수'] - old_df['주변 지하철역 수'].min()) / (old_df['주변 지하철역 수'].max() - old_df['주변 지하철역 수'].min())"
   ]
  },
  {
   "cell_type": "code",
   "execution_count": 20,
   "id": "312b5745-95c8-46f2-ac3b-287058de90e6",
   "metadata": {},
   "outputs": [],
   "source": [
    "old_df['버스정류장 수 정규화'] = (old_df['주변 버스정류장 수'] - old_df['주변 버스정류장 수'].min()) / (old_df['주변 버스정류장 수'].max() - old_df['주변 버스정류장 수'].min())"
   ]
  },
  {
   "cell_type": "code",
   "execution_count": 21,
   "id": "b6a206d9-0b7c-406b-8c50-e191745cb917",
   "metadata": {},
   "outputs": [],
   "source": [
    "old_df['주차대수 정규화'] =(old_df['세대당 주차대수'] - old_df['세대당 주차대수'].min()) / (old_df['세대당 주차대수'].max() - old_df['세대당 주차대수'].min())"
   ]
  },
  {
   "cell_type": "code",
   "execution_count": 47,
   "id": "7f91fb01-6b7b-47ae-a5f3-e7783ad9e6ce",
   "metadata": {},
   "outputs": [],
   "source": [
    "old_df['재개발 점수' ] = 5*old_df['연식 정규화'] + old_df['학교 수 정규화']+ 3*old_df['지하철역 수 정규화']+2*old_df['버스정류장 수 정규화']-4*old_df['주차대수 정규화']"
   ]
  },
  {
   "cell_type": "code",
   "execution_count": 55,
   "id": "88a3b695-b448-456b-9139-b99fc52a8853",
   "metadata": {},
   "outputs": [],
   "source": [
    "old_df.sort_values(by = '재개발 점수',ascending=False).to_csv('재개발_아파트.csv',index=False)"
   ]
  },
  {
   "cell_type": "code",
   "execution_count": 48,
   "id": "4db74b8a-5efc-4cfb-94cd-59642a98cbdc",
   "metadata": {},
   "outputs": [],
   "source": [
    "rank3=old_df.sort_values(by = '재개발 점수',ascending=False).iloc[:3]"
   ]
  },
  {
   "cell_type": "code",
   "execution_count": 50,
   "id": "f2f0d34d-651e-46e2-9c45-cd528a9dac71",
   "metadata": {},
   "outputs": [],
   "source": [
    "rank3.to_csv('상위3.csv')"
   ]
  },
  {
   "cell_type": "code",
   "execution_count": 57,
   "id": "bc1d91df-7f4a-4c24-ae90-3467a2cf3493",
   "metadata": {},
   "outputs": [
    {
     "data": {
      "text/html": [
       "<div>\n",
       "<style scoped>\n",
       "    .dataframe tbody tr th:only-of-type {\n",
       "        vertical-align: middle;\n",
       "    }\n",
       "\n",
       "    .dataframe tbody tr th {\n",
       "        vertical-align: top;\n",
       "    }\n",
       "\n",
       "    .dataframe thead th {\n",
       "        text-align: right;\n",
       "    }\n",
       "</style>\n",
       "<table border=\"1\" class=\"dataframe\">\n",
       "  <thead>\n",
       "    <tr style=\"text-align: right;\">\n",
       "      <th></th>\n",
       "      <th>번호</th>\n",
       "      <th>k-아파트코드</th>\n",
       "      <th>k-아파트명</th>\n",
       "      <th>k-단지분류(아파트,주상복합등등)</th>\n",
       "      <th>kapt도로명주소</th>\n",
       "      <th>주소(시도)k-apt주소split</th>\n",
       "      <th>주소(시군구)</th>\n",
       "      <th>주소(읍면동)</th>\n",
       "      <th>나머지주소</th>\n",
       "      <th>주소(도로명)</th>\n",
       "      <th>...</th>\n",
       "      <th>주변 버스정류장 수</th>\n",
       "      <th>세대당 주차대수</th>\n",
       "      <th>연식</th>\n",
       "      <th>가중치</th>\n",
       "      <th>연식 정규화</th>\n",
       "      <th>학교 수 정규화</th>\n",
       "      <th>지하철역 수 정규화</th>\n",
       "      <th>버스정류장 수 정규화</th>\n",
       "      <th>주차대수 정규화</th>\n",
       "      <th>재개발 점수</th>\n",
       "    </tr>\n",
       "  </thead>\n",
       "  <tbody>\n",
       "    <tr>\n",
       "      <th>751</th>\n",
       "      <td>767</td>\n",
       "      <td>A13607302</td>\n",
       "      <td>안암대광</td>\n",
       "      <td>아파트</td>\n",
       "      <td>서울특별시 성북구 안암로9나길 14</td>\n",
       "      <td>서울</td>\n",
       "      <td>성북구</td>\n",
       "      <td>안암동3가</td>\n",
       "      <td>대광아파트</td>\n",
       "      <td>안암로9나길</td>\n",
       "      <td>...</td>\n",
       "      <td>94.0</td>\n",
       "      <td>0.289017</td>\n",
       "      <td>52.0</td>\n",
       "      <td>780.450867</td>\n",
       "      <td>1.000000</td>\n",
       "      <td>0.636364</td>\n",
       "      <td>0.8</td>\n",
       "      <td>0.580247</td>\n",
       "      <td>0.144339</td>\n",
       "      <td>8.619502</td>\n",
       "    </tr>\n",
       "    <tr>\n",
       "      <th>1080</th>\n",
       "      <td>1114</td>\n",
       "      <td>A15085805</td>\n",
       "      <td>신길남서울</td>\n",
       "      <td>아파트</td>\n",
       "      <td>서울특별시 영등포구 신길로 108</td>\n",
       "      <td>서울</td>\n",
       "      <td>영등포구</td>\n",
       "      <td>신길동</td>\n",
       "      <td>관리사무소</td>\n",
       "      <td>신길로</td>\n",
       "      <td>...</td>\n",
       "      <td>155.0</td>\n",
       "      <td>0.521236</td>\n",
       "      <td>49.0</td>\n",
       "      <td>870.061776</td>\n",
       "      <td>0.863636</td>\n",
       "      <td>0.545455</td>\n",
       "      <td>0.4</td>\n",
       "      <td>0.956790</td>\n",
       "      <td>0.260471</td>\n",
       "      <td>6.935332</td>\n",
       "    </tr>\n",
       "    <tr>\n",
       "      <th>802</th>\n",
       "      <td>820</td>\n",
       "      <td>A15089513</td>\n",
       "      <td>여의도진주</td>\n",
       "      <td>아파트</td>\n",
       "      <td>서울특별시 영등포구 국제금융로 108-6</td>\n",
       "      <td>서울</td>\n",
       "      <td>영등포구</td>\n",
       "      <td>여의도동</td>\n",
       "      <td>54번지</td>\n",
       "      <td>국제금융로</td>\n",
       "      <td>...</td>\n",
       "      <td>69.0</td>\n",
       "      <td>0.505319</td>\n",
       "      <td>46.0</td>\n",
       "      <td>659.265957</td>\n",
       "      <td>0.727273</td>\n",
       "      <td>0.272727</td>\n",
       "      <td>0.9</td>\n",
       "      <td>0.425926</td>\n",
       "      <td>0.252511</td>\n",
       "      <td>6.450898</td>\n",
       "    </tr>\n",
       "  </tbody>\n",
       "</table>\n",
       "<p>3 rows × 59 columns</p>\n",
       "</div>"
      ],
      "text/plain": [
       "        번호    k-아파트코드 k-아파트명 k-단지분류(아파트,주상복합등등)               kapt도로명주소  \\\n",
       "751    767  A13607302   안암대광                아파트     서울특별시 성북구 안암로9나길 14   \n",
       "1080  1114  A15085805  신길남서울                아파트      서울특별시 영등포구 신길로 108   \n",
       "802    820  A15089513  여의도진주                아파트  서울특별시 영등포구 국제금융로 108-6   \n",
       "\n",
       "     주소(시도)k-apt주소split 주소(시군구) 주소(읍면동)  나머지주소 주소(도로명)  ... 주변 버스정류장 수  \\\n",
       "751                  서울     성북구   안암동3가  대광아파트  안암로9나길  ...       94.0   \n",
       "1080                 서울    영등포구     신길동  관리사무소     신길로  ...      155.0   \n",
       "802                  서울    영등포구    여의도동   54번지   국제금융로  ...       69.0   \n",
       "\n",
       "      세대당 주차대수    연식         가중치    연식 정규화  학교 수 정규화 지하철역 수 정규화 버스정류장 수 정규화  \\\n",
       "751   0.289017  52.0  780.450867  1.000000  0.636364        0.8    0.580247   \n",
       "1080  0.521236  49.0  870.061776  0.863636  0.545455        0.4    0.956790   \n",
       "802   0.505319  46.0  659.265957  0.727273  0.272727        0.9    0.425926   \n",
       "\n",
       "      주차대수 정규화    재개발 점수  \n",
       "751   0.144339  8.619502  \n",
       "1080  0.260471  6.935332  \n",
       "802   0.252511  6.450898  \n",
       "\n",
       "[3 rows x 59 columns]"
      ]
     },
     "execution_count": 57,
     "metadata": {},
     "output_type": "execute_result"
    }
   ],
   "source": [
    "rank3"
   ]
  },
  {
   "cell_type": "code",
   "execution_count": 82,
   "id": "3f043ae1-3f5b-4f3d-85cb-9dd7afb610a4",
   "metadata": {},
   "outputs": [
    {
     "data": {
      "text/plain": [
       "69.0"
      ]
     },
     "execution_count": 82,
     "metadata": {},
     "output_type": "execute_result"
    }
   ],
   "source": [
    "rank3.iloc[2]['주변 버스정류장 수']"
   ]
  },
  {
   "cell_type": "code",
   "execution_count": 60,
   "id": "0c8df722-2096-4b21-b4e3-46e457ef650f",
   "metadata": {
    "scrolled": true
   },
   "outputs": [
    {
     "data": {
      "text/plain": [
       "78.22489959839358"
      ]
     },
     "execution_count": 60,
     "metadata": {},
     "output_type": "execute_result"
    }
   ],
   "source": [
    "old_df['주변 버스정류장 수'].mean()"
   ]
  },
  {
   "cell_type": "code",
   "execution_count": 83,
   "id": "5fea4b4d-e63b-477f-b12b-c9f259171b28",
   "metadata": {},
   "outputs": [
    {
     "data": {
      "text/plain": [
       "6.0"
      ]
     },
     "execution_count": 83,
     "metadata": {},
     "output_type": "execute_result"
    }
   ],
   "source": [
    "rank3.iloc[2]['주변 학교 수']"
   ]
  },
  {
   "cell_type": "code",
   "execution_count": 61,
   "id": "d8bd06dc-e50e-4756-889f-65ddd57754cf",
   "metadata": {},
   "outputs": [
    {
     "data": {
      "text/plain": [
       "10.008032128514056"
      ]
     },
     "execution_count": 61,
     "metadata": {},
     "output_type": "execute_result"
    }
   ],
   "source": [
    "old_df['주변 학교 수'].mean()"
   ]
  },
  {
   "cell_type": "code",
   "execution_count": 84,
   "id": "2bd1cabe-c710-453e-b1a8-d4b57823089f",
   "metadata": {},
   "outputs": [
    {
     "data": {
      "text/plain": [
       "9.0"
      ]
     },
     "execution_count": 84,
     "metadata": {},
     "output_type": "execute_result"
    }
   ],
   "source": [
    "rank3.iloc[2]['주변 지하철역 수']"
   ]
  },
  {
   "cell_type": "code",
   "execution_count": 63,
   "id": "77d15c5f-f5b1-44e8-98be-02dc544f947d",
   "metadata": {},
   "outputs": [
    {
     "data": {
      "text/plain": [
       "2.708835341365462"
      ]
     },
     "execution_count": 63,
     "metadata": {},
     "output_type": "execute_result"
    }
   ],
   "source": [
    "old_df['주변 지하철역 수'].mean()"
   ]
  },
  {
   "cell_type": "code",
   "execution_count": 85,
   "id": "abd30e2e-e63d-446e-b180-88f7ada2224c",
   "metadata": {},
   "outputs": [
    {
     "data": {
      "text/plain": [
       "0.5053191489361702"
      ]
     },
     "execution_count": 85,
     "metadata": {},
     "output_type": "execute_result"
    }
   ],
   "source": [
    "rank3.iloc[2]['세대당 주차대수'].mean()"
   ]
  },
  {
   "cell_type": "code",
   "execution_count": 76,
   "id": "c64c4c86-a99c-429b-832e-caf801f500d5",
   "metadata": {},
   "outputs": [
    {
     "data": {
      "text/plain": [
       "0.7474474103748691"
      ]
     },
     "execution_count": 76,
     "metadata": {},
     "output_type": "execute_result"
    }
   ],
   "source": [
    "old_df['세대당 주차대수'].mean()"
   ]
  },
  {
   "cell_type": "code",
   "execution_count": 86,
   "id": "59b5729a-c352-44ca-8121-068ca6a40cd2",
   "metadata": {},
   "outputs": [
    {
     "data": {
      "text/plain": [
       "46.0"
      ]
     },
     "execution_count": 86,
     "metadata": {},
     "output_type": "execute_result"
    }
   ],
   "source": [
    "rank3['연식'].iloc[2].mean()"
   ]
  },
  {
   "cell_type": "code",
   "execution_count": 74,
   "id": "4d9a6366-be2b-461b-ad5a-ed08cdd176a0",
   "metadata": {},
   "outputs": [
    {
     "data": {
      "text/plain": [
       "35.53012048192771"
      ]
     },
     "execution_count": 74,
     "metadata": {},
     "output_type": "execute_result"
    }
   ],
   "source": [
    "old_df['연식'].mean()"
   ]
  },
  {
   "cell_type": "code",
   "execution_count": null,
   "id": "e7c79abe-f7a2-4b7b-b471-7d0e346d2daa",
   "metadata": {},
   "outputs": [],
   "source": []
  }
 ],
 "metadata": {
  "kernelspec": {
   "display_name": "Python 3 (ipykernel)",
   "language": "python",
   "name": "python3"
  },
  "language_info": {
   "codemirror_mode": {
    "name": "ipython",
    "version": 3
   },
   "file_extension": ".py",
   "mimetype": "text/x-python",
   "name": "python",
   "nbconvert_exporter": "python",
   "pygments_lexer": "ipython3",
   "version": "3.9.17"
  }
 },
 "nbformat": 4,
 "nbformat_minor": 5
}
