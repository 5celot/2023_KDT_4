{
 "cells": [
  {
   "cell_type": "code",
   "execution_count": 3,
   "id": "331bdc7f-ad59-4175-8ba9-dd8408d7893f",
   "metadata": {},
   "outputs": [],
   "source": [
    "import pandas as pd\n",
    "from tqdm import tqdm"
   ]
  },
  {
   "cell_type": "code",
   "execution_count": null,
   "id": "624a0a92-c392-4051-93b3-e806d7e6f9bf",
   "metadata": {},
   "outputs": [],
   "source": [
    "from summarizer import Summarizer"
   ]
  },
  {
   "cell_type": "code",
   "execution_count": 57,
   "id": "3111519e-4dcb-474e-b7bd-030a529f9aa2",
   "metadata": {},
   "outputs": [],
   "source": [
    "df1=pd.read_csv('임시.csv')"
   ]
  },
  {
   "cell_type": "code",
   "execution_count": 37,
   "id": "f1ff06db-ab36-4bf5-a0fd-1f65530e0416",
   "metadata": {},
   "outputs": [
    {
     "name": "stdout",
     "output_type": "stream",
     "text": [
      "대구가볼만한곳 대구 이월드 물놀이 아쿠아빌리지 아쿠아플레이존 오늘 첫번째 포스팅은 대구 가볼만한곳 물놀이로 유명한 대구 이월드 아쿠아빌리지와 아쿠아플레이존을 소개하려고 한다. 아침 오픈런 해서 저녁까지 이월드에서 아주 알차게 놀았던 후기 그리고 다양한 정보를 적으려고 하는데 철이진이와 함께 자세하게 알아보도록 하자. 성인 기준 무릎 위쪽 까지라서 초등학생 1학년 기준 허리 정도까지 오는 수심이다. 우리가족은 연간이용권이 있어서 아침부터 오후까지 빡시게 물놀이를 하고 놀이기구도 타고 늦은 오후에는 아쿠아플레이존에서 물파티도 즐기고 애슐리에서 저녁먹고 83타워에서 노을도 보고 밤에 또 놀이기구타고 하루를 알차게 보낼 수 있었다. 아쿠아플레이존 두번째 대구 이월드 여름에 즐길거리는 바로 아쿠아플레이존 이다. 1회차 공연 시작 전부터 신나는 음악이 흘러 나왔고 DJ가 사람들을 모으고 있었다. 아들은 여벌옷을 챙겨갔기에 아까전에 소개한 아쿠아빌리지 대구 몰놀이 했던 옷 그대로 입고 이동해서 여기에서 열심히 뛰어 놀다가 옷을 갈아입었다. 이럴... blog.naver.com 50m © NAVER Corp. 이월드 대구광역시 달서구 두류공원로 200 이월드 예약\n"
     ]
    },
    {
     "name": "stderr",
     "output_type": "stream",
     "text": [
      "C:\\Users\\tkdgk\\anaconda3\\envs\\my_python2\\lib\\site-packages\\sklearn\\cluster\\_kmeans.py:1416: FutureWarning: The default value of `n_init` will change from 10 to 'auto' in 1.4. Set the value of `n_init` explicitly to suppress the warning\n",
      "  super()._check_params_vs_input(X, default_n_init=10)\n"
     ]
    }
   ],
   "source": [
    "bert_model = Summarizer()\n",
    "summary = bert_model(df1['내용'][0])\n",
    "\n",
    "print(summary)"
   ]
  },
  {
   "cell_type": "code",
   "execution_count": 39,
   "id": "a40d4eaf-f8ad-43b5-9761-4f16ad037d17",
   "metadata": {},
   "outputs": [
    {
     "data": {
      "text/plain": [
       "'대구가볼만한곳 대구 이월드 물놀이 아쿠아빌리지 아쿠아플레이존 오늘 첫번째 포스팅은 대구 가볼만한곳 물놀이로 유명한 대구 이월드 아쿠아빌리지와 아쿠아플레이존을 소개하려고 한다. 여러 물놀이장을 가봤지만 대구에선 여기만한 곳이 없는것 같다. 아침 오픈런 해서 저녁까지 이월드에서 아주 알차게 놀았던 후기 그리고 다양한 정보를 적으려고 하는데 철이진이와 함께 자세하게 알아보도록 하자. 1. 아쿠아빌리지 물놀이 대구 물놀이 이월드 안에서는 크게 두가지로 나눠지는데 첫번째가 바로 아쿠아빌리지다. 그냥 말 그대로 풀장에 물놀이 하는 곳이라고 생각하면 된다. 현재 지금 진행중이며 8월 27일 일요일까지 하니 아이들 방학 하고 들리면 딱 안성맞춤이다. 아쿠아빌리지 위치는 이월드 입구에서 조금 더 올라가다 보면 메인 포토존이 있고 왼쪽에 보면 포시즌가든 입구가 보일텐데 거기로 들어가면 된다. 위에는 알록달록 풍선들이 우리들을 반겨주고 있었다. 이 공간에는 이월드 아쿠아빌리지 뿐만 아니라 사루비아 가든과 잔디썰매도 운영하고 있었다. 겸사겸사 다 둘러보는것도 하나의 꿀팁! 물놀이장은 오후6시까지 라서 일찍 가서 여유롭게 노는걸 추천한다. 정문에 들어가면 오른쪽에는 다양한 음식들을 판매하는 간이매점이 있었고 무료로 이용할 수 있는 테이블존이 마련되어 있었다. 일찍 간다면 무료로 테이블 찜뽕 해줘야 한다는거. 그렇다면 대구 이월드 아쿠아빌리지 입장료는 얼마일까? 금액은 9,900원 이며 연간이용권을 소지하고 있다면 7,900원이다. 입장권을 구입하면 사진처럼 띠를 주는데 이 띠를 한 사람만 풀장 안에 들어갈 수 있다. 입구에 있던 매점이 아닌 풀장 바로 옆에 있는 매표소에서 구입해야 하며 유료 테이블도 여기에서 결제가 가능했다. 가격은 14,900원인데 유료도 늦게가면 자리가 없다. 더 자세한 내용은 뒤에 얘기하기로 하고 이 매표소에는 물품들도 판매하고 있다. 혹시나 준비물을 깜빡 했다면 여기에서 구입도 가능하다는거. 준비물은 수모 혹은 모자, 튜브, 수영복, 물총, 수건, 여벌옷 뭐 이정도 있으면 된다. 특히 필수로 준비해야 하는건 모자나 수모는 필수중에 필수다. 보호자도 물에 들어간다면 준비해야 한다. 직원이 수시로 물어보기 때문에 꼭 챙겨가길 바란다. 매표소 옆에는 튜브 바람 넣는 기계도 있어서 튜브만 가져가면 되는데 우리는 깜빡하고 나두고 와서 아이들이 조금 심심해 했다. 그리고 테이블 자리를 결제하면 이렇게 번호 목걸이를 준다. 이 목걸이를 테이블 위에 걸어놓으면 되는데 이 목걸이가 없는 테이블이 있다면 빈자리다. 무조건 선착순이라서 일찍가야 자리가 있고 먼저 온 사람이 다 이용하고 나가면 후다닥 매표소에 가서 테이블 자리 구입한다고 하고 결제하면 된다. 역시나 조금 늦게 갔는데 이미 테이블은 만석이었다. 그래도 조금 기다리니 한두자리가 빠져서 바로 자리에 앉을 수 있었다. 그리고 뒤쪽 구석에는 샤워장 겸 탈의실이 있는데 개인적으로 추천하는건 아에 집에서 아이들 수영복 갈아 입히고 이월드 가는걸 추천한다. 그게 편함!! 풀장은 크게 두가지가 있었는데 큰거 하나 작은거 하나 이렇게 있었다. 그러나 큰거다 해도 막 물에 빠질 정도의 수심은 아니었다. 성인 기준 무릎 위쪽 까지라서 초등학생 1학년 기준 허리 정도까지 오는 수심이다. 그래도 튜브 하나 있으면 아이들 재미있게 놀 수 있고 대형 미끄럼틀도 있어서 아이들이 시간가는줄 모르게 놀았다. 작은 풀은 말 그대로 유아들 그리고 어린 아이들이 놀 수 있는 공간이라고 생각하면 된다. 아 그리고 풀장에 들어갈때 무조건 신발을 벗고 들어가야 하며 아까전에도 말했지만 모자 꼭 착용해야 한다. 오픈하고 오후6시까지 풀로 돌리는것도 아니다. 수질개선과 아이들도 쉬는시간이 필요하기 때문에 매 시간 정각에서 45분까지 물놀이를 할 수 있고 15분 쉬는시간을 가졌다. 이날 날씨도 좋아서 사진도 어찌나 이쁘게 잘 나오던지. 우리가족은 연간이용권이 있어서 아침부터 오후까지 빡시게 물놀이를 하고 놀이기구도 타고 늦은 오후에는 아쿠아플레이존에서 물파티도 즐기고 애슐리에서 저녁먹고 83타워에서 노을도 보고 밤에 또 놀이기구타고 하루를 알차게 보낼 수 있었다. 8월까지 하니 대구 물놀이 어디갈까 고민이라면 무조건 이월드 가는걸 권유한다. 후회없음!! 2. 아쿠아플레이존 두번째 대구 이월드 여름에 즐길거리는 바로 아쿠아플레이존 이다. 사실 처음에는 아무런 정보가 없어서 아이들끼리 그냥 물총싸움 하는 곳인줄 알았는데 그냥 워터밤 콘서트 라고 생각하면 된다. 홀딱 젖는다. 그런데 신난다. 아이들도 성인처럼 이렇게 놀 수 있구나 라는걸 몸소 느낄 수 있었다. 위치는 카멜백 앞 공연장에서 진행되고 여기에서도 두가지로 나눠지는데 그냥 물총게임을 즐기고 싶다면 목요일 부터 일요일까지 오후 1시부터 저녁7시 30분까지 언제든지 가서 물총싸움을 하면 된다. 그러나 난 물총싸움도 하고 물대포를 맞으며 DJ 콘서트를 즐기고 싶다면 금요일은 저녁7시 주말에는 오후 5시 30분 저녁7시 2회 공연이 진행된다. 우리가족은 주말에 방문해서 1회차 썸머파티를 즐겼는데 한쪽에는 물이 담겨져 있는 물통이 있어서 아이들이 열심히 물총 장전을 하고 있었다. 1회차 공연 시작 전부터 신나는 음악이 흘러 나왔고 DJ가 사람들을 모으고 있었다. 이때부터 옷은 그냥 다 젖고 시작한다. 준비물로는 여벌옷 그리고 수건, 물총 그리고 난 옷을 갈아입지 않겠다 하는 분들은 우비 꼭 필수로 입어야 한다. 아들은 여벌옷을 챙겨갔기에 아까전에 소개한 아쿠아빌리지 대구 몰놀이 했던 옷 그대로 입고 이동해서 여기에서 열심히 뛰어 놀다가 옷을 갈아입었다. 그런데 아쿠아빌리지에는 탈의실이 있는 반면 아쿠아플레이존에는 탈의실이 없다. 그래서 어쩔수 없이 화장실에서 갈아 입었다. 공연이 어느덧 시작되고 DJ의 신나는 음악과 함께 물대포와 물호수가 계속 하늘에서 뿌려졌다. 아이들은 그냥 이렇게 물만 맞아도 어찌나 신나하던지. 요즘 아이돌 노래는 대부분 크게 따라 부르며 뛰면서 춤도 추고 물도 맞고 더운 여름을 한번에 날릴 수 있었다. 나도 아들이랑 같이 뛰어 놀고 싶었지만 휴대폰에 물이 들어가면 안되기에 아쉬운 마음을 달래면서 사진만 열심히 찍었다. 공연이 거의 끝날때 쯤 아들과 함께 사진을 찍었다. 한번 이렇게 즐기다보니 다음번에 또 가고 싶다는 생각이 무척이나 들었다. 조만간 아들 방학하면 또 한번 가볼까 생각중이다. 동영상 대구가볼만한곳 대구 이월드 물놀이 아쿠아빌리지 아쿠아플레이존 재생 600 좋아요 1 00:00 01:06  접기/펴기 대구가볼만한곳 대구 이월드 물놀이 아쿠아빌리지 아쿠아플레이존 이상 대구 가볾나한곳 대구 이월드 물놀이 아쿠아빌리지와 아쿠아플레이존 리뷰를 마무리하며 다음번에는 더 알찬 여행소식을 가지고 돌아오겠습니다. 우리 다음번에 또 만나요. 6월 꽃축제 대구가볼만한곳 대구이월드 수국축제 6월 가볼만한곳 6월 꽃축제 대구가볼만한곳 대구이월드 수국축제 6월 가볼만한곳 요즘은 가족과 함께 꽃 여행을 자주 가는... blog.naver.com 이월드 아쿠아빌리지 대구물놀이장 놀이공원 대구놀거리 여름국내여행 이월드 아쿠아빌리지 대구물놀이장 놀이공원 대구놀거리 여름국내여행 이제 날씨가 너무나 더워졌다. 이럴... blog.naver.com 50m © NAVER Corp. 이월드 대구광역시 달서구 두류공원로 200 이월드 예약'"
      ]
     },
     "execution_count": 39,
     "metadata": {},
     "output_type": "execute_result"
    }
   ],
   "source": [
    "df1['내용'][0]"
   ]
  },
  {
   "cell_type": "code",
   "execution_count": 34,
   "id": "028d5032-dc98-4dd7-8467-e330d1a96e8f",
   "metadata": {
    "scrolled": true
   },
   "outputs": [
    {
     "name": "stderr",
     "output_type": "stream",
     "text": [
      "  0%|                                                                                         | 0/7560 [00:00<?, ?it/s]C:\\Users\\tkdgk\\anaconda3\\envs\\my_python2\\lib\\site-packages\\sklearn\\cluster\\_kmeans.py:1416: FutureWarning: The default value of `n_init` will change from 10 to 'auto' in 1.4. Set the value of `n_init` explicitly to suppress the warning\n",
      "  super()._check_params_vs_input(X, default_n_init=10)\n",
      "  0%|                                                                              | 1/7560 [00:45<95:29:47, 45.48s/it]C:\\Users\\tkdgk\\anaconda3\\envs\\my_python2\\lib\\site-packages\\sklearn\\cluster\\_kmeans.py:1416: FutureWarning: The default value of `n_init` will change from 10 to 'auto' in 1.4. Set the value of `n_init` explicitly to suppress the warning\n",
      "  super()._check_params_vs_input(X, default_n_init=10)\n",
      "  0%|                                                                              | 2/7560 [01:26<89:22:32, 42.57s/it]C:\\Users\\tkdgk\\anaconda3\\envs\\my_python2\\lib\\site-packages\\sklearn\\cluster\\_kmeans.py:1416: FutureWarning: The default value of `n_init` will change from 10 to 'auto' in 1.4. Set the value of `n_init` explicitly to suppress the warning\n",
      "  super()._check_params_vs_input(X, default_n_init=10)\n",
      "  0%|                                                                              | 3/7560 [01:30<52:33:13, 25.04s/it]C:\\Users\\tkdgk\\anaconda3\\envs\\my_python2\\lib\\site-packages\\sklearn\\cluster\\_kmeans.py:1416: FutureWarning: The default value of `n_init` will change from 10 to 'auto' in 1.4. Set the value of `n_init` explicitly to suppress the warning\n",
      "  super()._check_params_vs_input(X, default_n_init=10)\n",
      "  0%|                                                                              | 4/7560 [01:51<49:10:32, 23.43s/it]C:\\Users\\tkdgk\\anaconda3\\envs\\my_python2\\lib\\site-packages\\sklearn\\cluster\\_kmeans.py:1416: FutureWarning: The default value of `n_init` will change from 10 to 'auto' in 1.4. Set the value of `n_init` explicitly to suppress the warning\n",
      "  super()._check_params_vs_input(X, default_n_init=10)\n",
      "  0%|                                                                              | 5/7560 [01:58<37:19:46, 17.79s/it]C:\\Users\\tkdgk\\anaconda3\\envs\\my_python2\\lib\\site-packages\\sklearn\\cluster\\_kmeans.py:1416: FutureWarning: The default value of `n_init` will change from 10 to 'auto' in 1.4. Set the value of `n_init` explicitly to suppress the warning\n",
      "  super()._check_params_vs_input(X, default_n_init=10)\n",
      "  0%|                                                                              | 6/7560 [02:43<57:03:15, 27.19s/it]\n",
      "\n",
      "KeyboardInterrupt\n",
      "\n"
     ]
    }
   ],
   "source": [
    "# bert_model = Summarizer()\n",
    "\n",
    "# for text in tqdm(range(len(df1['내용']))):\n",
    "#     summary = bert_model(df1['내용'][text])\n",
    "#     df1['요약'][text] = summary"
   ]
  },
  {
   "cell_type": "code",
   "execution_count": null,
   "id": "215fb5f9-94a0-4482-9a47-660b2323a170",
   "metadata": {},
   "outputs": [],
   "source": []
  }
 ],
 "metadata": {
  "kernelspec": {
   "display_name": "Python 3 (ipykernel)",
   "language": "python",
   "name": "python3"
  },
  "language_info": {
   "codemirror_mode": {
    "name": "ipython",
    "version": 3
   },
   "file_extension": ".py",
   "mimetype": "text/x-python",
   "name": "python",
   "nbconvert_exporter": "python",
   "pygments_lexer": "ipython3",
   "version": "3.8.18"
  }
 },
 "nbformat": 4,
 "nbformat_minor": 5
}
