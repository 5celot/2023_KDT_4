{
 "cells": [
  {
   "cell_type": "code",
   "execution_count": 1,
   "id": "3f57386c-31ae-4165-bc7e-a3b608cec637",
   "metadata": {},
   "outputs": [],
   "source": [
    "import pandas as pd \n",
    "import numpy as np"
   ]
  },
  {
   "cell_type": "code",
   "execution_count": 28,
   "id": "c417299a-f0c7-408e-adde-031e2279748d",
   "metadata": {},
   "outputs": [],
   "source": [
    "df = pd.read_csv('블로그감성분석.csv')"
   ]
  },
  {
   "cell_type": "code",
   "execution_count": 56,
   "id": "d0c3812c-7d55-4660-95b1-e18097a0f4ee",
   "metadata": {},
   "outputs": [],
   "source": [
    "ndf = df.pivot_table(index = '검색키워드', values='감성분석결과',aggfunc=['count','sum'])"
   ]
  },
  {
   "cell_type": "code",
   "execution_count": 57,
   "id": "ebffa18b-83fe-4ce5-85dd-716f5103610c",
   "metadata": {},
   "outputs": [],
   "source": [
    "ndf.columns = ['전체','긍정']\n",
    "ndf['부정'] = ndf.전체 - ndf.긍정\n",
    "ndf['긍정비율'] = round(ndf.긍정 / ndf.전체,2)  \n",
    "ndf['부정비율'] = round(ndf.부정 / ndf.전체,2)"
   ]
  },
  {
   "cell_type": "code",
   "execution_count": 62,
   "id": "3c01fd66-630d-4953-8cbb-d0b6a83a3dd0",
   "metadata": {},
   "outputs": [
    {
     "data": {
      "text/html": [
       "<div>\n",
       "<style scoped>\n",
       "    .dataframe tbody tr th:only-of-type {\n",
       "        vertical-align: middle;\n",
       "    }\n",
       "\n",
       "    .dataframe tbody tr th {\n",
       "        vertical-align: top;\n",
       "    }\n",
       "\n",
       "    .dataframe thead th {\n",
       "        text-align: right;\n",
       "    }\n",
       "</style>\n",
       "<table border=\"1\" class=\"dataframe\">\n",
       "  <thead>\n",
       "    <tr style=\"text-align: right;\">\n",
       "      <th></th>\n",
       "      <th>전체</th>\n",
       "      <th>긍정</th>\n",
       "      <th>부정</th>\n",
       "      <th>긍정비율</th>\n",
       "      <th>부정비율</th>\n",
       "    </tr>\n",
       "    <tr>\n",
       "      <th>검색키워드</th>\n",
       "      <th></th>\n",
       "      <th></th>\n",
       "      <th></th>\n",
       "      <th></th>\n",
       "      <th></th>\n",
       "    </tr>\n",
       "  </thead>\n",
       "  <tbody>\n",
       "    <tr>\n",
       "      <th>토이빌리지 대구혁신점</th>\n",
       "      <td>28</td>\n",
       "      <td>28</td>\n",
       "      <td>0</td>\n",
       "      <td>1.00</td>\n",
       "      <td>0.00</td>\n",
       "    </tr>\n",
       "    <tr>\n",
       "      <th>운암지먹거리타운</th>\n",
       "      <td>30</td>\n",
       "      <td>30</td>\n",
       "      <td>0</td>\n",
       "      <td>1.00</td>\n",
       "      <td>0.00</td>\n",
       "    </tr>\n",
       "    <tr>\n",
       "      <th>마비정벽화마을</th>\n",
       "      <td>26</td>\n",
       "      <td>26</td>\n",
       "      <td>0</td>\n",
       "      <td>1.00</td>\n",
       "      <td>0.00</td>\n",
       "    </tr>\n",
       "    <tr>\n",
       "      <th>동인동 찜갈비골목</th>\n",
       "      <td>29</td>\n",
       "      <td>28</td>\n",
       "      <td>1</td>\n",
       "      <td>0.97</td>\n",
       "      <td>0.03</td>\n",
       "    </tr>\n",
       "    <tr>\n",
       "      <th>화본역 급수탑</th>\n",
       "      <td>29</td>\n",
       "      <td>28</td>\n",
       "      <td>1</td>\n",
       "      <td>0.97</td>\n",
       "      <td>0.03</td>\n",
       "    </tr>\n",
       "    <tr>\n",
       "      <th>...</th>\n",
       "      <td>...</td>\n",
       "      <td>...</td>\n",
       "      <td>...</td>\n",
       "      <td>...</td>\n",
       "      <td>...</td>\n",
       "    </tr>\n",
       "    <tr>\n",
       "      <th>월곡역사공원</th>\n",
       "      <td>30</td>\n",
       "      <td>6</td>\n",
       "      <td>24</td>\n",
       "      <td>0.20</td>\n",
       "      <td>0.80</td>\n",
       "    </tr>\n",
       "    <tr>\n",
       "      <th>장곡자연휴양림</th>\n",
       "      <td>20</td>\n",
       "      <td>4</td>\n",
       "      <td>16</td>\n",
       "      <td>0.20</td>\n",
       "      <td>0.80</td>\n",
       "    </tr>\n",
       "    <tr>\n",
       "      <th>나비생태원</th>\n",
       "      <td>27</td>\n",
       "      <td>5</td>\n",
       "      <td>22</td>\n",
       "      <td>0.19</td>\n",
       "      <td>0.81</td>\n",
       "    </tr>\n",
       "    <tr>\n",
       "      <th>수성 대흥동 유아숲체험원</th>\n",
       "      <td>29</td>\n",
       "      <td>5</td>\n",
       "      <td>24</td>\n",
       "      <td>0.17</td>\n",
       "      <td>0.83</td>\n",
       "    </tr>\n",
       "    <tr>\n",
       "      <th>고산골 공룡공원</th>\n",
       "      <td>27</td>\n",
       "      <td>4</td>\n",
       "      <td>23</td>\n",
       "      <td>0.15</td>\n",
       "      <td>0.85</td>\n",
       "    </tr>\n",
       "  </tbody>\n",
       "</table>\n",
       "<p>300 rows × 5 columns</p>\n",
       "</div>"
      ],
      "text/plain": [
       "               전체  긍정  부정  긍정비율  부정비율\n",
       "검색키워드                                \n",
       "토이빌리지 대구혁신점    28  28   0  1.00  0.00\n",
       "운암지먹거리타운       30  30   0  1.00  0.00\n",
       "마비정벽화마을        26  26   0  1.00  0.00\n",
       "동인동 찜갈비골목      29  28   1  0.97  0.03\n",
       "화본역 급수탑        29  28   1  0.97  0.03\n",
       "...            ..  ..  ..   ...   ...\n",
       "월곡역사공원         30   6  24  0.20  0.80\n",
       "장곡자연휴양림        20   4  16  0.20  0.80\n",
       "나비생태원          27   5  22  0.19  0.81\n",
       "수성 대흥동 유아숲체험원  29   5  24  0.17  0.83\n",
       "고산골 공룡공원       27   4  23  0.15  0.85\n",
       "\n",
       "[300 rows x 5 columns]"
      ]
     },
     "execution_count": 62,
     "metadata": {},
     "output_type": "execute_result"
    }
   ],
   "source": [
    "ndf.sort_values('긍정비율', ascending=False,inplace=True)\n",
    "ndf"
   ]
  },
  {
   "cell_type": "code",
   "execution_count": 95,
   "id": "90de3623-8b63-42de-9f89-877a4eaacccf",
   "metadata": {},
   "outputs": [],
   "source": [
    "ndf.to_csv('긍정부정.csv')"
   ]
  },
  {
   "cell_type": "code",
   "execution_count": 69,
   "id": "aea00444-dda2-4bee-a1e1-1f40bd085c85",
   "metadata": {},
   "outputs": [
    {
     "data": {
      "text/plain": [
       "17"
      ]
     },
     "execution_count": 69,
     "metadata": {},
     "output_type": "execute_result"
    }
   ],
   "source": [
    "len(ndf[ndf['긍정비율'] > 0.9])"
   ]
  },
  {
   "cell_type": "markdown",
   "id": "3a47780a-07b4-4e9e-8b7f-fce4a6ec9c1f",
   "metadata": {},
   "source": [
    "### Word2Vec"
   ]
  },
  {
   "cell_type": "code",
   "execution_count": 90,
   "id": "d22a4202-cc6a-429e-a3e4-c042db24d2c6",
   "metadata": {},
   "outputs": [],
   "source": [
    "from tqdm import tqdm"
   ]
  },
  {
   "cell_type": "code",
   "execution_count": 74,
   "id": "e7a75be2-da23-4bea-b19a-b6491bd68068",
   "metadata": {},
   "outputs": [],
   "source": [
    "texts= df['data'].tolist()"
   ]
  },
  {
   "cell_type": "code",
   "execution_count": 91,
   "id": "eea82309-17de-4347-9ead-d2acb0d9895b",
   "metadata": {},
   "outputs": [
    {
     "name": "stderr",
     "output_type": "stream",
     "text": [
      "100%|███████████████████████████████████████████████████████████████████████████| 7560/7560 [00:00<00:00, 15636.76it/s]\n"
     ]
    }
   ],
   "source": [
    "for i in tqdm(range(len(texts))):\n",
    "    texts[i] = texts[i].split()"
   ]
  },
  {
   "cell_type": "code",
   "execution_count": 96,
   "id": "7af6bc5f-0741-4deb-94de-b99c2257597f",
   "metadata": {},
   "outputs": [
    {
     "data": {
      "text/plain": [
       "7560"
      ]
     },
     "execution_count": 96,
     "metadata": {},
     "output_type": "execute_result"
    }
   ],
   "source": [
    "len(texts)"
   ]
  },
  {
   "cell_type": "code",
   "execution_count": 97,
   "id": "246361c5-6942-4117-86cd-419bb185716a",
   "metadata": {},
   "outputs": [],
   "source": [
    "from gensim.models import Word2Vec\n",
    "from gensim.models import KeyedVectors\n",
    "model = Word2Vec(sentences=texts, vector_size=100, window=10, min_count=5, sg=0)"
   ]
  },
  {
   "cell_type": "code",
   "execution_count": 98,
   "id": "d6059029-233a-46a3-921e-c9555c06b89b",
   "metadata": {},
   "outputs": [],
   "source": [
    "model.save(\"my_word2vec_model.model\")"
   ]
  },
  {
   "cell_type": "code",
   "execution_count": 115,
   "id": "86a2d4bb-fda1-4c77-99c1-83e2d1f1f7f8",
   "metadata": {},
   "outputs": [],
   "source": [
    "loaded_model = Word2Vec.load(\"my_word2vec_model.model\")"
   ]
  },
  {
   "cell_type": "code",
   "execution_count": 116,
   "id": "bb373f50-f4c3-46e0-b349-c7f7bd18a13b",
   "metadata": {},
   "outputs": [],
   "source": [
    "# 단어 벡터 검색\n",
    "vector = loaded_model.wv['장미']"
   ]
  },
  {
   "cell_type": "code",
   "execution_count": 120,
   "id": "d3b8368d-b077-4951-9945-7611231900cb",
   "metadata": {},
   "outputs": [
    {
     "name": "stdout",
     "output_type": "stream",
     "text": [
      "[('커피', 0.7492390275001526), ('카페인', 0.7389590740203857), ('카페나', 0.658656656742096), ('에이비오', 0.6426032185554504), ('커피한잔', 0.6371686458587646), ('베이커리', 0.6358869075775146), ('테이크아웃', 0.6309372782707214), ('디저트', 0.6234607696533203), ('신상', 0.6174972057342529), ('브런치', 0.6168152689933777)]\n"
     ]
    }
   ],
   "source": [
    "# 유사한 단어 찾기\n",
    "similar_words = loaded_model.wv.most_similar('카페')\n",
    "print(similar_words)"
   ]
  },
  {
   "cell_type": "markdown",
   "id": "26d23355-6890-47d6-a9dc-06a62c226605",
   "metadata": {},
   "source": [
    "### doc2vec"
   ]
  },
  {
   "cell_type": "code",
   "execution_count": 121,
   "id": "69449cb1-2040-4185-bd5a-7a0a6da392dd",
   "metadata": {},
   "outputs": [],
   "source": [
    "from gensim.models import Doc2Vec\n",
    "from gensim.models.doc2vec import TaggedDocument"
   ]
  },
  {
   "cell_type": "code",
   "execution_count": 123,
   "id": "65b0fbd4-ca06-474f-aa4d-72b828acd0cc",
   "metadata": {},
   "outputs": [],
   "source": [
    "texts= df['data'].tolist()"
   ]
  },
  {
   "cell_type": "code",
   "execution_count": 151,
   "id": "9643d40d-6e17-4d33-affd-382c8bab1471",
   "metadata": {},
   "outputs": [
    {
     "name": "stderr",
     "output_type": "stream",
     "text": [
      "0it [00:00, ?it/s]"
     ]
    },
    {
     "data": {
      "text/plain": [
       "<tqdm.std.tqdm at 0x1fb6c3f5ca0>"
      ]
     },
     "execution_count": 151,
     "metadata": {},
     "output_type": "execute_result"
    }
   ],
   "source": [
    "# 데이터 준비\n",
    "documents = [TaggedDocument(words=doc, tags=[str(i)]) for i, doc in enumerate(texts)]\n",
    "\n",
    "# 모델 초기화\n",
    "model = Doc2Vec(vector_size=100, window=20, min_count=1, workers=4)\n",
    "\n",
    "# 모델 학습\n",
    "model.build_vocab(documents)\n",
    "model.train(documents, total_examples=model.corpus_count, epochs=50)"
   ]
  },
  {
   "cell_type": "code",
   "execution_count": 154,
   "id": "8299172f-f46b-4497-8a80-be06090e208b",
   "metadata": {},
   "outputs": [],
   "source": [
    "model.save(\"doc2vec.model\")"
   ]
  },
  {
   "cell_type": "code",
   "execution_count": 166,
   "id": "e83c8894-a2d8-4b90-af8a-1fbfbf0dfc28",
   "metadata": {},
   "outputs": [
    {
     "data": {
      "text/plain": [
       "[('3132', 0.3135724663734436),\n",
       " ('2950', 0.2973553240299225),\n",
       " ('5053', 0.2829011380672455),\n",
       " ('7480', 0.2763986885547638),\n",
       " ('6574', 0.26972419023513794)]"
      ]
     },
     "execution_count": 166,
     "metadata": {},
     "output_type": "execute_result"
    }
   ],
   "source": [
    "similar_documents = model.dv.most_similar(positive=[model.infer_vector(['대구에서 막창먹고 싶어'])], topn = 5)\n",
    "similar_documents"
   ]
  },
  {
   "cell_type": "code",
   "execution_count": 167,
   "id": "fce78450-d7d7-4a91-8c42-999decff53bc",
   "metadata": {},
   "outputs": [
    {
     "data": {
      "text/plain": [
       "[3132, 2950, 5053, 7480, 6574]"
      ]
     },
     "execution_count": 167,
     "metadata": {},
     "output_type": "execute_result"
    }
   ],
   "source": [
    "idx=[int(i[0]) for i in similar_documents]\n",
    "idx"
   ]
  },
  {
   "cell_type": "code",
   "execution_count": 168,
   "id": "580afafc-513b-4234-b824-44cac71edc3d",
   "metadata": {},
   "outputs": [
    {
     "data": {
      "text/plain": [
       "('https://blog.naver.com/godkjh2319/223028467626',\n",
       " 'https://blog.naver.com/daegu_news/222518361493',\n",
       " 'https://blog.naver.com/dalseoblog/223097497765',\n",
       " 'https://blog.naver.com/rozaniz641/223127818047',\n",
       " 'https://blog.naver.com/jho8027/223221901635')"
      ]
     },
     "execution_count": 168,
     "metadata": {},
     "output_type": "execute_result"
    }
   ],
   "source": [
    "df.iloc[idx[0]]['링크'], df.iloc[idx[1]]['링크'], df.iloc[idx[2]]['링크'], df.iloc[idx[3]]['링크'], df.iloc[idx[4]]['링크']"
   ]
  },
  {
   "cell_type": "code",
   "execution_count": null,
   "id": "f6df4bcf-6e1e-4916-82f6-aa8f3b8d816d",
   "metadata": {},
   "outputs": [],
   "source": []
  }
 ],
 "metadata": {
  "kernelspec": {
   "display_name": "Python 3 (ipykernel)",
   "language": "python",
   "name": "python3"
  },
  "language_info": {
   "codemirror_mode": {
    "name": "ipython",
    "version": 3
   },
   "file_extension": ".py",
   "mimetype": "text/x-python",
   "name": "python",
   "nbconvert_exporter": "python",
   "pygments_lexer": "ipython3",
   "version": "3.8.18"
  }
 },
 "nbformat": 4,
 "nbformat_minor": 5
}
