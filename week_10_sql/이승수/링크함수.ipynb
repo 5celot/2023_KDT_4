{
 "cells": [
  {
   "cell_type": "code",
   "execution_count": 11,
   "id": "0ed6b898-30fc-4f8c-a4eb-56c3022c9930",
   "metadata": {},
   "outputs": [],
   "source": [
    "import time\n",
    "from tqdm import tqdm\n",
    "import numpy as np\n",
    "import pandas as pd"
   ]
  },
  {
   "cell_type": "code",
   "execution_count": 7,
   "id": "cb73a074-6862-49c0-9dca-1b77764ddd9e",
   "metadata": {},
   "outputs": [],
   "source": [
    "from selenium import webdriver\n",
    "from selenium.webdriver.chrome.service import Service\n",
    "from selenium.webdriver.common.keys import Keys\n",
    "from selenium.webdriver.common.by import By\n",
    "\n",
    "service = Service(executable_path=\"../../Text_mining/chromedriver.exe\")\n",
    "options = webdriver.ChromeOptions()"
   ]
  },
  {
   "cell_type": "code",
   "execution_count": 21,
   "id": "3ee82fff-bbac-4cee-bc28-50bff49112a1",
   "metadata": {},
   "outputs": [],
   "source": [
    "def scrap_link(name):\n",
    "    driver = webdriver.Chrome(service=service, options=options)\n",
    "    \n",
    "    driver.get(f\"https://search.naver.com/search.naver?query={name}&nso=&where=blog&sm=tab_opt\")\n",
    "    lst = []\n",
    "    driver.implicitly_wait(3  + np.random.random())        \n",
    "    \n",
    "    for i in driver.find_element(By.CLASS_NAME, 'lst_total').find_elements(By.CLASS_NAME, 'bx'):\n",
    "        link_ = i.find_element(By.CLASS_NAME,'api_txt_lines.total_tit').get_attribute('href')\n",
    "        if 'naver' in link_:\n",
    "            lst.append(link_)\n",
    "    \n",
    "    lst = pd.DataFrame(lst)\n",
    "    lst.rename({0:'링크'}, axis=1, inplace=True)\n",
    "    lst['검색키워드'] = name\n",
    "    \n",
    "    driver.quit()\n",
    "    \n",
    "    return lst"
   ]
  },
  {
   "cell_type": "code",
   "execution_count": 9,
   "id": "5f401d8f-747b-4bdb-8016-c74a017efc52",
   "metadata": {},
   "outputs": [],
   "source": [
    "ff = scrap_link('팔공산')"
   ]
  },
  {
   "cell_type": "code",
   "execution_count": 10,
   "id": "5489e638-0510-4faf-8d96-3898192667b4",
   "metadata": {},
   "outputs": [],
   "source": [
    "ff.to_csv('팔공산.csv', index = False, encoding= 'utf-8')"
   ]
  },
  {
   "cell_type": "markdown",
   "id": "1aa983da-3670-4d14-aaf2-fe6a48ee20b0",
   "metadata": {},
   "source": [
    "### place로 함수 돌려서 링크 받기"
   ]
  },
  {
   "cell_type": "code",
   "execution_count": 12,
   "id": "c2950cce-1446-4607-9b33-0e956b827669",
   "metadata": {
    "collapsed": true,
    "jupyter": {
     "outputs_hidden": true
    }
   },
   "outputs": [
    {
     "data": {
      "text/html": [
       "<div>\n",
       "<style scoped>\n",
       "    .dataframe tbody tr th:only-of-type {\n",
       "        vertical-align: middle;\n",
       "    }\n",
       "\n",
       "    .dataframe tbody tr th {\n",
       "        vertical-align: top;\n",
       "    }\n",
       "\n",
       "    .dataframe thead th {\n",
       "        text-align: right;\n",
       "    }\n",
       "</style>\n",
       "<table border=\"1\" class=\"dataframe\">\n",
       "  <thead>\n",
       "    <tr style=\"text-align: right;\">\n",
       "      <th></th>\n",
       "      <th>장소</th>\n",
       "      <th>주소</th>\n",
       "    </tr>\n",
       "  </thead>\n",
       "  <tbody>\n",
       "    <tr>\n",
       "      <th>0</th>\n",
       "      <td>이월드</td>\n",
       "      <td>대구 달서구 두류공원로 200 이월드</td>\n",
       "    </tr>\n",
       "    <tr>\n",
       "      <th>1</th>\n",
       "      <td>금호꽃섬</td>\n",
       "      <td>대구 북구 노곡동 665</td>\n",
       "    </tr>\n",
       "    <tr>\n",
       "      <th>2</th>\n",
       "      <td>팔공산케이블카</td>\n",
       "      <td>대구 동구 팔공산로185길 51 팔공산케이블카</td>\n",
       "    </tr>\n",
       "    <tr>\n",
       "      <th>3</th>\n",
       "      <td>워터파크 스파밸리</td>\n",
       "      <td>대구 달성군 가창면 가창로 891 워터파크 스파밸리</td>\n",
       "    </tr>\n",
       "    <tr>\n",
       "      <th>4</th>\n",
       "      <td>삼국유사테마파크</td>\n",
       "      <td>대구 군위군 의흥면 일연테마로 100</td>\n",
       "    </tr>\n",
       "    <tr>\n",
       "      <th>...</th>\n",
       "      <td>...</td>\n",
       "      <td>...</td>\n",
       "    </tr>\n",
       "    <tr>\n",
       "      <th>295</th>\n",
       "      <td>팔거광장</td>\n",
       "      <td>대구 북구 동천동 903-3</td>\n",
       "    </tr>\n",
       "    <tr>\n",
       "      <th>296</th>\n",
       "      <td>약전골목</td>\n",
       "      <td>대구 중구 남성로</td>\n",
       "    </tr>\n",
       "    <tr>\n",
       "      <th>297</th>\n",
       "      <td>군위삼존석굴</td>\n",
       "      <td>대구 군위군 부계면 남산리 1477</td>\n",
       "    </tr>\n",
       "    <tr>\n",
       "      <th>298</th>\n",
       "      <td>이천동 99계단 벽화마을</td>\n",
       "      <td>대구 남구 이천로29길 28-1 일대</td>\n",
       "    </tr>\n",
       "    <tr>\n",
       "      <th>299</th>\n",
       "      <td>대구은행 금융박물관</td>\n",
       "      <td>대구 수성구 달구벌대로 2310 대구은행본점 지하 1층 금융박물관</td>\n",
       "    </tr>\n",
       "  </tbody>\n",
       "</table>\n",
       "<p>300 rows × 2 columns</p>\n",
       "</div>"
      ],
      "text/plain": [
       "                장소                                    주소\n",
       "0              이월드                  대구 달서구 두류공원로 200 이월드\n",
       "1             금호꽃섬                         대구 북구 노곡동 665\n",
       "2          팔공산케이블카             대구 동구 팔공산로185길 51 팔공산케이블카\n",
       "3        워터파크 스파밸리          대구 달성군 가창면 가창로 891 워터파크 스파밸리\n",
       "4         삼국유사테마파크                  대구 군위군 의흥면 일연테마로 100\n",
       "..             ...                                   ...\n",
       "295           팔거광장                       대구 북구 동천동 903-3\n",
       "296           약전골목                             대구 중구 남성로\n",
       "297         군위삼존석굴                   대구 군위군 부계면 남산리 1477\n",
       "298  이천동 99계단 벽화마을                  대구 남구 이천로29길 28-1 일대\n",
       "299     대구은행 금융박물관  대구 수성구 달구벌대로 2310 대구은행본점 지하 1층 금융박물관\n",
       "\n",
       "[300 rows x 2 columns]"
      ]
     },
     "execution_count": 12,
     "metadata": {},
     "output_type": "execute_result"
    }
   ],
   "source": [
    "df = pd.read_csv('place.csv')\n",
    "df"
   ]
  },
  {
   "cell_type": "code",
   "execution_count": 22,
   "id": "eebe23b0-c98c-40b8-9632-60fa1961a683",
   "metadata": {},
   "outputs": [
    {
     "name": "stderr",
     "output_type": "stream",
     "text": [
      "100%|████████████████████████████████████████████████████████████████████████████████| 300/300 [24:12<00:00,  4.84s/it]\n"
     ]
    }
   ],
   "source": [
    "ndf = pd.DataFrame([])\n",
    "for i in tqdm(df['장소']):\n",
    "    ndf = pd.concat([ndf, scrap_link(i)])"
   ]
  },
  {
   "cell_type": "code",
   "execution_count": 24,
   "id": "fd0e4e8b-6c35-40fb-86e0-9ae909be3f44",
   "metadata": {},
   "outputs": [],
   "source": [
    "ndf.to_csv('검색링크.csv',index=False, encoding = 'utf-8')"
   ]
  },
  {
   "cell_type": "code",
   "execution_count": null,
   "id": "8578fb7d-dc2c-4937-9c64-dbfb9fd86fa2",
   "metadata": {},
   "outputs": [],
   "source": []
  }
 ],
 "metadata": {
  "kernelspec": {
   "display_name": "Python 3 (ipykernel)",
   "language": "python",
   "name": "python3"
  },
  "language_info": {
   "codemirror_mode": {
    "name": "ipython",
    "version": 3
   },
   "file_extension": ".py",
   "mimetype": "text/x-python",
   "name": "python",
   "nbconvert_exporter": "python",
   "pygments_lexer": "ipython3",
   "version": "3.8.18"
  }
 },
 "nbformat": 4,
 "nbformat_minor": 5
}
