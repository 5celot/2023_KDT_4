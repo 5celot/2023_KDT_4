{
 "cells": [
  {
   "cell_type": "code",
   "execution_count": 2,
   "id": "e28d255d-6c9b-49c7-a7f8-cae3a5db64d7",
   "metadata": {},
   "outputs": [],
   "source": [
    "import time\n",
    "from tqdm import tqdm\n",
    "import numpy as np\n",
    "import pandas as pd"
   ]
  },
  {
   "cell_type": "code",
   "execution_count": 3,
   "id": "9ae83aeb-19a5-4b09-afc0-75d2ba7598a6",
   "metadata": {},
   "outputs": [],
   "source": [
    "from selenium import webdriver\n",
    "from selenium.webdriver.chrome.service import Service\n",
    "from selenium.webdriver.common.keys import Keys\n",
    "from selenium.webdriver.common.by import By\n",
    "\n",
    "service = Service(executable_path=\"chromedriver.exe\")\n",
    "options = webdriver.ChromeOptions()\n"
   ]
  },
  {
   "cell_type": "code",
   "execution_count": 4,
   "id": "16da2f35-c95e-48fe-9925-54e72be58ebd",
   "metadata": {},
   "outputs": [],
   "source": [
    "def hashContent(csvfile_):\n",
    "    scrap=pd.read_csv(csvfile_)    #링크함수로 만든 파일에서 읽음\n",
    "    contentDF = scrap\n",
    "    contentDF.drop('검색키워드',axis=1, inplace=True)\n",
    "    \n",
    "    contentList = []\n",
    "    hashList = []\n",
    "    driver = webdriver.Chrome(service=service, options=options)\n",
    "    for i in tqdm(contentDF['링크']):\n",
    "        try:\n",
    "            driver.get(i)\n",
    "            driver.switch_to.frame('mainFrame')\n",
    "            driver.implicitly_wait(2+np.random.random())\n",
    "            driver.execute_script(\"window.scrollTo(0, document.body.scrollHeight);\")\n",
    "            driver.implicitly_wait(2+np.random.random())\n",
    "        \n",
    "            element = driver.find_element(By.CLASS_NAME, 'se-main-container').text.replace('\\n',' ').replace('~',' ').replace('-',' ')\n",
    "            contentList.append(element)\n",
    "        \n",
    "            hash_ = driver.find_element(By.CLASS_NAME, 'wrap_tag').find_elements(By.TAG_NAME,'span')\n",
    "            hash_ = ' '.join([i.text.split('#')[1] for i in hash_ if i.text != ''])\n",
    "            hashList.append(hash_)\n",
    "        except Exception:\n",
    "            contentList.append(None)\n",
    "            hashList.append(None)\n",
    "    \n",
    "    contentDF['내용'] = contentList\n",
    "    contentDF['해시태그'] = hashList\n",
    "\n",
    "    driver.quit()\n",
    "    \n",
    "    with open('블로그내용.csv', 'a', encoding='utf-8') as f:\n",
    "        contentDF.to_csv(f, header=False, index=False, encoding='utf-8')\n"
   ]
  },
  {
   "cell_type": "code",
   "execution_count": 5,
   "id": "a60f98c7-adf9-48ac-977c-496ba75259dc",
   "metadata": {},
   "outputs": [
    {
     "name": "stderr",
     "output_type": "stream",
     "text": [
      "100%|████████████████████████████████████████████████████████████████████████████| 8855/8855 [6:51:47<00:00,  2.79s/it]\n",
      "0it [00:00, ?it/s]"
     ]
    },
    {
     "data": {
      "text/plain": [
       "<tqdm.std.tqdm at 0x2894adc8970>"
      ]
     },
     "execution_count": 5,
     "metadata": {},
     "output_type": "execute_result"
    }
   ],
   "source": [
    "tqdm(hashContent('검색링크.csv'))"
   ]
  },
  {
   "cell_type": "code",
   "execution_count": null,
   "id": "f17861e0-d0dc-4c74-b67b-fe0ed7c7577b",
   "metadata": {},
   "outputs": [],
   "source": []
  }
 ],
 "metadata": {
  "kernelspec": {
   "display_name": "Python 3 (ipykernel)",
   "language": "python",
   "name": "python3"
  },
  "language_info": {
   "codemirror_mode": {
    "name": "ipython",
    "version": 3
   },
   "file_extension": ".py",
   "mimetype": "text/x-python",
   "name": "python",
   "nbconvert_exporter": "python",
   "pygments_lexer": "ipython3",
   "version": "3.8.18"
  }
 },
 "nbformat": 4,
 "nbformat_minor": 5
}
