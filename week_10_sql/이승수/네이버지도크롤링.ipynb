{
 "cells": [
  {
   "cell_type": "code",
   "execution_count": 3,
   "id": "5b30b727-c469-4c15-8030-44979d6a18f6",
   "metadata": {},
   "outputs": [],
   "source": [
    "import pandas as pd\n",
    "from bs4 import BeautifulSoup\n",
    "import requests\n",
    "import time\n",
    "from tqdm import tqdm"
   ]
  },
  {
   "cell_type": "code",
   "execution_count": 2,
   "id": "acb3973e-6b2e-40ff-b088-372c3ef860f2",
   "metadata": {},
   "outputs": [],
   "source": [
    "from selenium import webdriver\n",
    "from selenium.webdriver.chrome.service import Service\n",
    "from selenium.webdriver.common.keys import Keys\n",
    "from selenium.webdriver.common.by import By"
   ]
  },
  {
   "cell_type": "code",
   "execution_count": 6,
   "id": "7945bb28-0607-4b48-a6de-368166c48cd6",
   "metadata": {
    "scrolled": true
   },
   "outputs": [
    {
     "name": "stderr",
     "output_type": "stream",
     "text": [
      "  0%|                                                                                          | 0/300 [00:00<?, ?it/s]"
     ]
    },
    {
     "name": "stdout",
     "output_type": "stream",
     "text": [
      "요술밥상 두류광장점\n",
      "기영돈 삼각지점\n",
      "푸른회식당\n",
      "버들식당 본점\n",
      "해풍해물칼국수 대구본점\n",
      "지환이네왕족발 본점\n",
      "달고떡볶이\n",
      "뉴욕뉴욕 바이 켄싱턴\n",
      "애슐리퀸즈 대구이월드점\n",
      "미성당납작만두 본점\n"
     ]
    },
    {
     "name": "stderr",
     "output_type": "stream",
     "text": [
      "\n",
      "  0%|                                                                                           | 0/10 [00:07<?, ?it/s]\u001b[A\n",
      "  0%|▎                                                                               | 1/300 [00:17<1:25:21, 17.13s/it]\n",
      "0it [00:00, ?it/s]\u001b[A\n",
      "  1%|▌                                                                               | 2/300 [00:33<1:21:40, 16.44s/it]"
     ]
    },
    {
     "name": "stdout",
     "output_type": "stream",
     "text": [
      "올바릇 나사리식당\n",
      "산채식당\n",
      "산중식당 팔공산본점\n",
      "올바릇 나사리식당\n",
      "산채식당\n",
      "탑골식당\n",
      "째미핑거\n",
      "티아이티에프\n",
      "수다레스토랑\n",
      "가원식당\n"
     ]
    },
    {
     "name": "stderr",
     "output_type": "stream",
     "text": [
      "\n",
      "  0%|                                                                                           | 0/10 [00:00<?, ?it/s]\u001b[A"
     ]
    },
    {
     "name": "stdout",
     "output_type": "stream",
     "text": [
      "<selenium.webdriver.remote.webelement.WebElement (session=\"43136dd3988d6179b7971f31f5d6d399\", element=\"2AC09FA0B46BA22AB5ABB7ED7CEA54E3_element_92\")>\n"
     ]
    },
    {
     "name": "stderr",
     "output_type": "stream",
     "text": [
      "\n",
      " 10%|████████▎                                                                          | 1/10 [00:07<01:06,  7.35s/it]\u001b[A"
     ]
    },
    {
     "name": "stdout",
     "output_type": "stream",
     "text": [
      "올바릇 나사리식당 NaN 대구 동구 팔공산로 1179 1층~3층\n"
     ]
    },
    {
     "name": "stderr",
     "output_type": "stream",
     "text": [
      "\n",
      " 20%|████████████████▌                                                                  | 2/10 [00:09<00:34,  4.28s/it]\u001b[A"
     ]
    },
    {
     "name": "stdout",
     "output_type": "stream",
     "text": [
      "<selenium.webdriver.remote.webelement.WebElement (session=\"43136dd3988d6179b7971f31f5d6d399\", element=\"2AC09FA0B46BA22AB5ABB7ED7CEA54E3_element_172\")>\n",
      "산채식당 4.38 대구 동구 팔공산로185길 72\n"
     ]
    },
    {
     "name": "stderr",
     "output_type": "stream",
     "text": [
      "\n",
      " 30%|████████████████████████▉                                                          | 3/10 [00:11<00:23,  3.30s/it]\u001b[A"
     ]
    },
    {
     "name": "stdout",
     "output_type": "stream",
     "text": [
      "<selenium.webdriver.remote.webelement.WebElement (session=\"43136dd3988d6179b7971f31f5d6d399\", element=\"2AC09FA0B46BA22AB5ABB7ED7CEA54E3_element_203\")>\n",
      "산중식당 팔공산본점 4.33 대구 동구 팔공산로185길 55 1층\n",
      "<selenium.webdriver.remote.webelement.WebElement (session=\"43136dd3988d6179b7971f31f5d6d399\", element=\"2AC09FA0B46BA22AB5ABB7ED7CEA54E3_element_254\")>\n"
     ]
    },
    {
     "name": "stderr",
     "output_type": "stream",
     "text": [
      "\n",
      " 40%|█████████████████████████████████▏                                                 | 4/10 [00:18<00:29,  4.85s/it]\u001b[A"
     ]
    },
    {
     "name": "stdout",
     "output_type": "stream",
     "text": [
      "올바릇 나사리식당 NaN 대구 동구 팔공산로 1179 1층~3층\n"
     ]
    },
    {
     "name": "stderr",
     "output_type": "stream",
     "text": [
      "\n",
      " 50%|█████████████████████████████████████████▌                                         | 5/10 [00:20<00:19,  3.88s/it]\u001b[A"
     ]
    },
    {
     "name": "stdout",
     "output_type": "stream",
     "text": [
      "<selenium.webdriver.remote.webelement.WebElement (session=\"43136dd3988d6179b7971f31f5d6d399\", element=\"2AC09FA0B46BA22AB5ABB7ED7CEA54E3_element_276\")>\n",
      "산채식당 4.38 대구 동구 팔공산로185길 72\n"
     ]
    },
    {
     "name": "stderr",
     "output_type": "stream",
     "text": [
      "\n",
      " 60%|█████████████████████████████████████████████████▊                                 | 6/10 [00:23<00:13,  3.29s/it]\u001b[A"
     ]
    },
    {
     "name": "stdout",
     "output_type": "stream",
     "text": [
      "<selenium.webdriver.remote.webelement.WebElement (session=\"43136dd3988d6179b7971f31f5d6d399\", element=\"2AC09FA0B46BA22AB5ABB7ED7CEA54E3_element_304\")>\n",
      "탑골식당 4.49 대구 동구 동화사2길 21-7 1층\n"
     ]
    },
    {
     "name": "stderr",
     "output_type": "stream",
     "text": [
      "\n",
      " 70%|██████████████████████████████████████████████████████████                         | 7/10 [00:25<00:08,  2.91s/it]\u001b[A"
     ]
    },
    {
     "name": "stdout",
     "output_type": "stream",
     "text": [
      "<selenium.webdriver.remote.webelement.WebElement (session=\"43136dd3988d6179b7971f31f5d6d399\", element=\"2AC09FA0B46BA22AB5ABB7ED7CEA54E3_element_344\")>\n",
      "째미핑거 4.59 대구 동구 팔공산로 1165-7\n",
      "<selenium.webdriver.remote.webelement.WebElement (session=\"43136dd3988d6179b7971f31f5d6d399\", element=\"2AC09FA0B46BA22AB5ABB7ED7CEA54E3_element_388\")>\n"
     ]
    },
    {
     "name": "stderr",
     "output_type": "stream",
     "text": [
      "\n",
      " 80%|██████████████████████████████████████████████████████████████████▍                | 8/10 [00:32<00:08,  4.27s/it]\u001b[A"
     ]
    },
    {
     "name": "stdout",
     "output_type": "stream",
     "text": [
      "티아이티에프 NaN 대구 동구 팔공산로 1169\n"
     ]
    },
    {
     "name": "stderr",
     "output_type": "stream",
     "text": [
      "\n",
      " 90%|██████████████████████████████████████████████████████████████████████████▋        | 9/10 [00:34<00:03,  3.61s/it]\u001b[A"
     ]
    },
    {
     "name": "stdout",
     "output_type": "stream",
     "text": [
      "<selenium.webdriver.remote.webelement.WebElement (session=\"43136dd3988d6179b7971f31f5d6d399\", element=\"2AC09FA0B46BA22AB5ABB7ED7CEA54E3_element_430\")>\n",
      "수다레스토랑 4.59 대구 동구 동화사2길 21-10\n"
     ]
    },
    {
     "name": "stderr",
     "output_type": "stream",
     "text": [
      "\n",
      "100%|██████████████████████████████████████████████████████████████████████████████████| 10/10 [00:36<00:00,  3.67s/it]\u001b[A"
     ]
    },
    {
     "name": "stdout",
     "output_type": "stream",
     "text": [
      "<selenium.webdriver.remote.webelement.WebElement (session=\"43136dd3988d6179b7971f31f5d6d399\", element=\"2AC09FA0B46BA22AB5ABB7ED7CEA54E3_element_474\")>\n",
      "가원식당 4.84 대구 동구 팔공산로199길 6-3 가원식당\n"
     ]
    },
    {
     "name": "stderr",
     "output_type": "stream",
     "text": [
      "\n",
      "  1%|▊                                                                               | 3/300 [01:27<2:46:10, 33.57s/it]\n",
      "0it [00:00, ?it/s]\u001b[A\n",
      "  1%|█                                                                               | 4/300 [01:41<2:07:41, 25.88s/it]"
     ]
    },
    {
     "name": "stdout",
     "output_type": "stream",
     "text": [
      "동백 팔공산화본역점\n",
      "효령매운탕\n",
      "Camellia\n",
      "추추\n"
     ]
    },
    {
     "name": "stderr",
     "output_type": "stream",
     "text": [
      "\n",
      "  0%|                                                                                            | 0/4 [00:00<?, ?it/s]\u001b[A\n",
      " 25%|█████████████████████                                                               | 1/4 [00:06<00:18,  6.21s/it]\u001b[A"
     ]
    },
    {
     "name": "stdout",
     "output_type": "stream",
     "text": [
      "<selenium.webdriver.remote.webelement.WebElement (session=\"86dcb9ebbc84607c213cd942850696e3\", element=\"70767D77F9F123C48649E902DA3B8662_element_117\")>\n",
      "동백 팔공산화본역점 4.8 대구 군위군 산성면 산성가음로 711-6\n"
     ]
    },
    {
     "name": "stderr",
     "output_type": "stream",
     "text": [
      "\n",
      " 50%|██████████████████████████████████████████                                          | 2/4 [00:08<00:07,  3.83s/it]\u001b[A"
     ]
    },
    {
     "name": "stdout",
     "output_type": "stream",
     "text": [
      "<selenium.webdriver.remote.webelement.WebElement (session=\"86dcb9ebbc84607c213cd942850696e3\", element=\"70767D77F9F123C48649E902DA3B8662_element_145\")>\n",
      "효령매운탕 4.54 대구 군위군 효령면 치산효령로 2267-8\n",
      "<selenium.webdriver.remote.webelement.WebElement (session=\"86dcb9ebbc84607c213cd942850696e3\", element=\"70767D77F9F123C48649E902DA3B8662_element_187\")>\n"
     ]
    },
    {
     "name": "stderr",
     "output_type": "stream",
     "text": [
      "\n",
      " 75%|███████████████████████████████████████████████████████████████                     | 3/4 [00:15<00:05,  5.38s/it]\u001b[A"
     ]
    },
    {
     "name": "stdout",
     "output_type": "stream",
     "text": [
      "Camellia NaN 대구 군위군 산성면 산성가음로 711\n",
      "<selenium.webdriver.remote.webelement.WebElement (session=\"86dcb9ebbc84607c213cd942850696e3\", element=\"70767D77F9F123C48649E902DA3B8662_element_227\")>\n"
     ]
    },
    {
     "name": "stderr",
     "output_type": "stream",
     "text": [
      "\n",
      "100%|████████████████████████████████████████████████████████████████████████████████████| 4/4 [00:22<00:00,  5.70s/it]\u001b[A"
     ]
    },
    {
     "name": "stdout",
     "output_type": "stream",
     "text": [
      "추추 NaN 경북 의성군 금성면 탑리5길 34\n"
     ]
    },
    {
     "name": "stderr",
     "output_type": "stream",
     "text": [
      "\n",
      "  2%|█▎                                                                              | 5/300 [02:16<2:24:15, 29.34s/it]"
     ]
    },
    {
     "name": "stdout",
     "output_type": "stream",
     "text": [
      "우주떡볶이 네이처파크점\n",
      "차콜우드\n",
      "조선전통소머리곰탕\n"
     ]
    },
    {
     "name": "stderr",
     "output_type": "stream",
     "text": [
      "\n",
      "  0%|                                                                                            | 0/3 [00:07<?, ?it/s]\u001b[A\n",
      "  2%|█▌                                                                              | 6/300 [02:32<2:01:21, 24.77s/it]"
     ]
    },
    {
     "name": "stdout",
     "output_type": "stream",
     "text": [
      "올더플레이트 동성로점\n",
      "하이타이\n",
      "참숯삼인조 종로직영점\n",
      "배배꼬 동성로점\n"
     ]
    },
    {
     "name": "stderr",
     "output_type": "stream",
     "text": [
      "\n",
      "  0%|                                                                                            | 0/4 [00:00<?, ?it/s]\u001b[A\n",
      " 25%|█████████████████████                                                               | 1/4 [00:06<00:18,  6.24s/it]\u001b[A"
     ]
    },
    {
     "name": "stdout",
     "output_type": "stream",
     "text": [
      "<selenium.webdriver.remote.webelement.WebElement (session=\"a029af9595bb1121a9a08a8a117c8be5\", element=\"AB20A7182B45D7FBCD805E02CA044888_element_93\")>\n",
      "올더플레이트 동성로점 4.76 대구 중구 동성로3길 77 2층\n",
      "<selenium.webdriver.remote.webelement.WebElement (session=\"a029af9595bb1121a9a08a8a117c8be5\", element=\"AB20A7182B45D7FBCD805E02CA044888_element_141\")>\n"
     ]
    },
    {
     "name": "stderr",
     "output_type": "stream",
     "text": [
      "\n",
      " 50%|██████████████████████████████████████████                                          | 2/4 [00:13<00:13,  6.80s/it]\u001b[A"
     ]
    },
    {
     "name": "stdout",
     "output_type": "stream",
     "text": [
      "하이타이 NaN 대구 중구 공평로 53 1층 하이타이\n",
      "<selenium.webdriver.remote.webelement.WebElement (session=\"a029af9595bb1121a9a08a8a117c8be5\", element=\"AB20A7182B45D7FBCD805E02CA044888_element_184\")>\n"
     ]
    },
    {
     "name": "stderr",
     "output_type": "stream",
     "text": [
      "\n",
      " 75%|███████████████████████████████████████████████████████████████                     | 3/4 [00:20<00:06,  6.98s/it]\u001b[A"
     ]
    },
    {
     "name": "stdout",
     "output_type": "stream",
     "text": [
      "참숯삼인조 종로직영점 NaN 대구 중구 중앙대로81길 53 1층\n",
      "<selenium.webdriver.remote.webelement.WebElement (session=\"a029af9595bb1121a9a08a8a117c8be5\", element=\"AB20A7182B45D7FBCD805E02CA044888_element_225\")>\n"
     ]
    },
    {
     "name": "stderr",
     "output_type": "stream",
     "text": [
      "\n",
      "100%|████████████████████████████████████████████████████████████████████████████████████| 4/4 [00:27<00:00,  6.94s/it]\u001b[A"
     ]
    },
    {
     "name": "stdout",
     "output_type": "stream",
     "text": [
      "배배꼬 동성로점 NaN 대구 중구 동성로6길 76 1층\n"
     ]
    },
    {
     "name": "stderr",
     "output_type": "stream",
     "text": [
      "\n",
      "  2%|█▊                                                                              | 7/300 [03:14<2:29:14, 30.56s/it]"
     ]
    },
    {
     "name": "stdout",
     "output_type": "stream",
     "text": [
      "소굽는집\n",
      "국밥슐랭\n",
      "오봉집 현풍점\n",
      "뜨돈 테크노점\n",
      "쿠우쿠우 현풍테크노점\n",
      "유가네닭갈비 대구현풍점\n",
      "박대박왕소금구이\n",
      "코지하우스 현풍점\n",
      "명륜진사갈비 대구 테크노폴리스점\n",
      "백소정 대구테크노폴리스점\n"
     ]
    },
    {
     "name": "stderr",
     "output_type": "stream",
     "text": [
      "\n",
      "  0%|                                                                                           | 0/10 [00:07<?, ?it/s]\u001b[A\n",
      "  3%|██▏                                                                             | 8/300 [03:33<2:09:34, 26.62s/it]"
     ]
    },
    {
     "name": "stdout",
     "output_type": "stream",
     "text": [
      "사파키친\n",
      "모닥 동대구점\n",
      "심지\n",
      "딤딤섬 신세계백화점대구점\n",
      "라일락식탁\n",
      "연화\n",
      "인문공학\n",
      "바비레드 신세계백화점 대구점\n",
      "피에프창 신세계백화점동대구점\n",
      "프랭크프랭크\n"
     ]
    },
    {
     "name": "stderr",
     "output_type": "stream",
     "text": [
      "\n",
      "  0%|                                                                                           | 0/10 [00:00<?, ?it/s]\u001b[A\n",
      " 10%|████████▎                                                                          | 1/10 [00:06<00:56,  6.24s/it]\u001b[A"
     ]
    },
    {
     "name": "stdout",
     "output_type": "stream",
     "text": [
      "<selenium.webdriver.remote.webelement.WebElement (session=\"c3fd2890f37bdd57e71b3ff178810dc4\", element=\"F9760AAD5F0B36656A51E9B6E701B8BC_element_117\")>\n",
      "사파키친 4.59 대구 동구 동부로34길 10 사파키친\n"
     ]
    },
    {
     "name": "stderr",
     "output_type": "stream",
     "text": [
      "\n",
      " 20%|████████████████▌                                                                  | 2/10 [00:08<00:30,  3.82s/it]\u001b[A"
     ]
    },
    {
     "name": "stdout",
     "output_type": "stream",
     "text": [
      "<selenium.webdriver.remote.webelement.WebElement (session=\"c3fd2890f37bdd57e71b3ff178810dc4\", element=\"F9760AAD5F0B36656A51E9B6E701B8BC_element_158\")>\n",
      "모닥 동대구점 4.82 대구 동구 동부로34길 6 모닥 1층\n",
      "<selenium.webdriver.remote.webelement.WebElement (session=\"c3fd2890f37bdd57e71b3ff178810dc4\", element=\"F9760AAD5F0B36656A51E9B6E701B8BC_element_200\")>\n"
     ]
    },
    {
     "name": "stderr",
     "output_type": "stream",
     "text": [
      "\n",
      " 30%|████████████████████████▉                                                          | 3/10 [00:15<00:37,  5.35s/it]\u001b[A"
     ]
    },
    {
     "name": "stdout",
     "output_type": "stream",
     "text": [
      "심지 NaN 대구 동구 동부로32길 14\n"
     ]
    },
    {
     "name": "stderr",
     "output_type": "stream",
     "text": [
      "\n",
      " 40%|█████████████████████████████████▏                                                 | 4/10 [00:17<00:24,  4.08s/it]\u001b[A"
     ]
    },
    {
     "name": "stdout",
     "output_type": "stream",
     "text": [
      "<selenium.webdriver.remote.webelement.WebElement (session=\"c3fd2890f37bdd57e71b3ff178810dc4\", element=\"F9760AAD5F0B36656A51E9B6E701B8BC_element_227\")>\n",
      "딤딤섬 신세계백화점대구점 4.48 대구 동구 동부로 149 대구신세계백화점 9층\n",
      "<selenium.webdriver.remote.webelement.WebElement (session=\"c3fd2890f37bdd57e71b3ff178810dc4\", element=\"F9760AAD5F0B36656A51E9B6E701B8BC_element_256\")>\n"
     ]
    },
    {
     "name": "stderr",
     "output_type": "stream",
     "text": [
      "\n",
      " 50%|█████████████████████████████████████████▌                                         | 5/10 [00:24<00:26,  5.21s/it]\u001b[A"
     ]
    },
    {
     "name": "stdout",
     "output_type": "stream",
     "text": [
      "라일락식탁 NaN 대구 동구 동부로32길 1 2층\n"
     ]
    },
    {
     "name": "stderr",
     "output_type": "stream",
     "text": [
      "\n",
      " 60%|█████████████████████████████████████████████████▊                                 | 6/10 [00:27<00:16,  4.17s/it]\u001b[A"
     ]
    },
    {
     "name": "stdout",
     "output_type": "stream",
     "text": [
      "<selenium.webdriver.remote.webelement.WebElement (session=\"c3fd2890f37bdd57e71b3ff178810dc4\", element=\"F9760AAD5F0B36656A51E9B6E701B8BC_element_278\")>\n",
      "연화 4.65 대구 동구 동부로34길 3 연화\n"
     ]
    },
    {
     "name": "stderr",
     "output_type": "stream",
     "text": [
      "\n",
      " 70%|██████████████████████████████████████████████████████████                         | 7/10 [00:29<00:10,  3.52s/it]\u001b[A"
     ]
    },
    {
     "name": "stdout",
     "output_type": "stream",
     "text": [
      "<selenium.webdriver.remote.webelement.WebElement (session=\"c3fd2890f37bdd57e71b3ff178810dc4\", element=\"F9760AAD5F0B36656A51E9B6E701B8BC_element_339\")>\n",
      "인문공학 4.45 대구 동구 동부로 156 인문공학 동대구\n"
     ]
    },
    {
     "name": "stderr",
     "output_type": "stream",
     "text": [
      "\n",
      " 80%|██████████████████████████████████████████████████████████████████▍                | 8/10 [00:31<00:06,  3.08s/it]\u001b[A"
     ]
    },
    {
     "name": "stdout",
     "output_type": "stream",
     "text": [
      "<selenium.webdriver.remote.webelement.WebElement (session=\"c3fd2890f37bdd57e71b3ff178810dc4\", element=\"F9760AAD5F0B36656A51E9B6E701B8BC_element_381\")>\n",
      "바비레드 신세계백화점 대구점 4.43 대구 동구 동부로 149 신세계백화점 대구점 지하 1층\n"
     ]
    },
    {
     "name": "stderr",
     "output_type": "stream",
     "text": [
      "\n",
      " 90%|██████████████████████████████████████████████████████████████████████████▋        | 9/10 [00:33<00:02,  2.80s/it]\u001b[A"
     ]
    },
    {
     "name": "stdout",
     "output_type": "stream",
     "text": [
      "<selenium.webdriver.remote.webelement.WebElement (session=\"c3fd2890f37bdd57e71b3ff178810dc4\", element=\"F9760AAD5F0B36656A51E9B6E701B8BC_element_405\")>\n",
      "피에프창 신세계백화점동대구점 4.65 대구 동구 동부로 149 신세계 백화점 8층\n"
     ]
    },
    {
     "name": "stderr",
     "output_type": "stream",
     "text": [
      "\n",
      "100%|██████████████████████████████████████████████████████████████████████████████████| 10/10 [00:35<00:00,  3.57s/it]\u001b[A"
     ]
    },
    {
     "name": "stdout",
     "output_type": "stream",
     "text": [
      "<selenium.webdriver.remote.webelement.WebElement (session=\"c3fd2890f37bdd57e71b3ff178810dc4\", element=\"F9760AAD5F0B36656A51E9B6E701B8BC_element_428\")>\n",
      "프랭크프랭크 4.54 대구 동구 동부로32길 20-1\n"
     ]
    },
    {
     "name": "stderr",
     "output_type": "stream",
     "text": [
      "\n",
      "  3%|██▍                                                                             | 9/300 [04:23<2:44:21, 33.89s/it]"
     ]
    },
    {
     "name": "stdout",
     "output_type": "stream",
     "text": [
      "오데뜨 대구점\n",
      "바토플루이르 송해\n",
      "송해공원 옥연지 주막촌\n",
      "핸즈커피 송해공원점\n",
      "솔밭생수식당\n",
      "옥포식당\n",
      "대구식당\n",
      "계령갈치정식\n",
      "장수하늘소\n",
      "웜 브리즈\n"
     ]
    },
    {
     "name": "stderr",
     "output_type": "stream",
     "text": [
      "\n",
      "  0%|                                                                                           | 0/10 [00:07<?, ?it/s]\u001b[A\n",
      "  3%|██▋                                                                            | 10/300 [04:40<2:19:41, 28.90s/it]"
     ]
    },
    {
     "name": "stdout",
     "output_type": "stream",
     "text": [
      "도리신닭도리탕 대명점\n",
      "기장아나고\n",
      "뉴욕뉴욕 바이 켄싱턴\n",
      "애슐리퀸즈 대구이월드점\n",
      "오얏\n",
      "석뚜껑 삼겹살 두류점\n",
      "피자몰 대구이월드점\n",
      "윤포차\n",
      "웨이브콜\n",
      "몽짬뽕 달서구직영점\n"
     ]
    },
    {
     "name": "stderr",
     "output_type": "stream",
     "text": [
      "\n",
      "  0%|                                                                                           | 0/10 [00:00<?, ?it/s]\u001b[A"
     ]
    },
    {
     "name": "stdout",
     "output_type": "stream",
     "text": [
      "<selenium.webdriver.remote.webelement.WebElement (session=\"f81fdea8936cbaa401d269024f0eb6f9\", element=\"4B42AAED4DC00B5617BAEE105D0E4F13_element_105\")>\n"
     ]
    },
    {
     "name": "stderr",
     "output_type": "stream",
     "text": [
      "\n",
      " 10%|████████▎                                                                          | 1/10 [00:11<01:41, 11.29s/it]\u001b[A"
     ]
    },
    {
     "name": "stdout",
     "output_type": "stream",
     "text": [
      "도리신닭도리탕 대명점 NaN 대구 남구 중앙대로31길 161 도리신 닭도리탕\n"
     ]
    },
    {
     "name": "stderr",
     "output_type": "stream",
     "text": [
      "\n",
      " 20%|████████████████▌                                                                  | 2/10 [00:13<00:47,  5.89s/it]\u001b[A"
     ]
    },
    {
     "name": "stdout",
     "output_type": "stream",
     "text": [
      "<selenium.webdriver.remote.webelement.WebElement (session=\"f81fdea8936cbaa401d269024f0eb6f9\", element=\"4B42AAED4DC00B5617BAEE105D0E4F13_element_154\")>\n",
      "기장아나고 4.45 대구 남구 두류공원로 108-4\n",
      "<selenium.webdriver.remote.webelement.WebElement (session=\"f81fdea8936cbaa401d269024f0eb6f9\", element=\"4B42AAED4DC00B5617BAEE105D0E4F13_element_194\")>\n"
     ]
    },
    {
     "name": "stderr",
     "output_type": "stream",
     "text": [
      "\n",
      " 30%|████████████████████████▉                                                          | 3/10 [00:20<00:45,  6.47s/it]\u001b[A"
     ]
    },
    {
     "name": "stdout",
     "output_type": "stream",
     "text": [
      "뉴욕뉴욕 바이 켄싱턴 NaN 대구 달서구 두류공원로 200 이월드 83타워 78층\n",
      "<selenium.webdriver.remote.webelement.WebElement (session=\"f81fdea8936cbaa401d269024f0eb6f9\", element=\"4B42AAED4DC00B5617BAEE105D0E4F13_element_239\")>\n"
     ]
    },
    {
     "name": "stderr",
     "output_type": "stream",
     "text": [
      "\n",
      " 40%|█████████████████████████████████▏                                                 | 4/10 [00:27<00:40,  6.75s/it]\u001b[A"
     ]
    },
    {
     "name": "stdout",
     "output_type": "stream",
     "text": [
      "애슐리퀸즈 대구이월드점 NaN 대구 달서구 두류공원로 200 83타워 1층 애슐리퀸즈\n"
     ]
    },
    {
     "name": "stderr",
     "output_type": "stream",
     "text": [
      "\n",
      " 50%|█████████████████████████████████████████▌                                         | 5/10 [00:29<00:25,  5.09s/it]\u001b[A"
     ]
    },
    {
     "name": "stdout",
     "output_type": "stream",
     "text": [
      "<selenium.webdriver.remote.webelement.WebElement (session=\"f81fdea8936cbaa401d269024f0eb6f9\", element=\"4B42AAED4DC00B5617BAEE105D0E4F13_element_273\")>\n",
      "오얏 4.71 대구 달서구 야외음악당로 287-1\n"
     ]
    },
    {
     "name": "stderr",
     "output_type": "stream",
     "text": [
      "\n",
      " 60%|█████████████████████████████████████████████████▊                                 | 6/10 [00:32<00:16,  4.09s/it]\u001b[A"
     ]
    },
    {
     "name": "stdout",
     "output_type": "stream",
     "text": [
      "<selenium.webdriver.remote.webelement.WebElement (session=\"f81fdea8936cbaa401d269024f0eb6f9\", element=\"4B42AAED4DC00B5617BAEE105D0E4F13_element_341\")>\n",
      "석뚜껑 삼겹살 두류점 4.51 대구 달서구 파도고개로 202 1층\n"
     ]
    },
    {
     "name": "stderr",
     "output_type": "stream",
     "text": [
      "\n",
      " 70%|██████████████████████████████████████████████████████████                         | 7/10 [00:34<00:10,  3.49s/it]\u001b[A"
     ]
    },
    {
     "name": "stdout",
     "output_type": "stream",
     "text": [
      "<selenium.webdriver.remote.webelement.WebElement (session=\"f81fdea8936cbaa401d269024f0eb6f9\", element=\"4B42AAED4DC00B5617BAEE105D0E4F13_element_379\")>\n",
      "피자몰 대구이월드점 4.43 대구 달서구 두류공원로 200 스타벅스 옆\n"
     ]
    },
    {
     "name": "stderr",
     "output_type": "stream",
     "text": [
      "\n",
      " 80%|██████████████████████████████████████████████████████████████████▍                | 8/10 [00:36<00:06,  3.06s/it]\u001b[A"
     ]
    },
    {
     "name": "stdout",
     "output_type": "stream",
     "text": [
      "<selenium.webdriver.remote.webelement.WebElement (session=\"f81fdea8936cbaa401d269024f0eb6f9\", element=\"4B42AAED4DC00B5617BAEE105D0E4F13_element_406\")>\n",
      "윤포차 4.38 대구 달서구 파도고개로 190 1층 윤포차\n",
      "<selenium.webdriver.remote.webelement.WebElement (session=\"f81fdea8936cbaa401d269024f0eb6f9\", element=\"4B42AAED4DC00B5617BAEE105D0E4F13_element_448\")>\n"
     ]
    },
    {
     "name": "stderr",
     "output_type": "stream",
     "text": [
      "\n",
      " 90%|██████████████████████████████████████████████████████████████████████████▋        | 9/10 [00:43<00:04,  4.35s/it]\u001b[A"
     ]
    },
    {
     "name": "stdout",
     "output_type": "stream",
     "text": [
      "웨이브콜 NaN 대구 달서구 파도고개로 115 1층\n"
     ]
    },
    {
     "name": "stderr",
     "output_type": "stream",
     "text": [
      "\n",
      "100%|██████████████████████████████████████████████████████████████████████████████████| 10/10 [00:45<00:00,  4.58s/it]\u001b[A"
     ]
    },
    {
     "name": "stdout",
     "output_type": "stream",
     "text": [
      "<selenium.webdriver.remote.webelement.WebElement (session=\"f81fdea8936cbaa401d269024f0eb6f9\", element=\"4B42AAED4DC00B5617BAEE105D0E4F13_element_473\")>\n",
      "몽짬뽕 달서구직영점 4.35 대구 달서구 야외음악당로 277 1층\n"
     ]
    },
    {
     "name": "stderr",
     "output_type": "stream",
     "text": [
      "\n",
      "  4%|██▉                                                                            | 11/300 [05:41<3:06:11, 38.66s/it]"
     ]
    },
    {
     "name": "stdout",
     "output_type": "stream",
     "text": [
      "대새목장\n"
     ]
    },
    {
     "name": "stderr",
     "output_type": "stream",
     "text": [
      "\n",
      "  0%|                                                                                            | 0/1 [00:07<?, ?it/s]\u001b[A\n",
      "  4%|███▏                                                                           | 12/300 [05:57<2:32:21, 31.74s/it]"
     ]
    },
    {
     "name": "stdout",
     "output_type": "stream",
     "text": [
      "애하인앞산\n",
      "봉수낙지\n"
     ]
    },
    {
     "name": "stderr",
     "output_type": "stream",
     "text": [
      "\n",
      "  0%|                                                                                            | 0/2 [00:00<?, ?it/s]\u001b[A"
     ]
    },
    {
     "name": "stdout",
     "output_type": "stream",
     "text": [
      "<selenium.webdriver.remote.webelement.WebElement (session=\"baf5a839eadd505c2e82bb48da323790\", element=\"CA2FB548FD1E3733DD55D71266E08AB2_element_90\")>\n"
     ]
    },
    {
     "name": "stderr",
     "output_type": "stream",
     "text": [
      "\n",
      " 50%|██████████████████████████████████████████                                          | 1/2 [00:11<00:11, 11.29s/it]\u001b[A"
     ]
    },
    {
     "name": "stdout",
     "output_type": "stream",
     "text": [
      "애하인앞산 NaN 대구 남구 용두2길 26 1층\n"
     ]
    },
    {
     "name": "stderr",
     "output_type": "stream",
     "text": [
      "\n",
      "100%|████████████████████████████████████████████████████████████████████████████████████| 2/2 [00:13<00:00,  6.70s/it]\u001b[A"
     ]
    },
    {
     "name": "stdout",
     "output_type": "stream",
     "text": [
      "<selenium.webdriver.remote.webelement.WebElement (session=\"baf5a839eadd505c2e82bb48da323790\", element=\"CA2FB548FD1E3733DD55D71266E08AB2_element_139\")>\n",
      "봉수낙지 4.5 대구 남구 대명로14길 112\n"
     ]
    },
    {
     "name": "stderr",
     "output_type": "stream",
     "text": [
      "\n",
      "  4%|███▍                                                                           | 13/300 [06:24<2:25:10, 30.35s/it]"
     ]
    },
    {
     "name": "stdout",
     "output_type": "stream",
     "text": [
      "고령촌돼지찌개\n",
      "대덕식당\n",
      "면장수 앞산점\n",
      "카펠라\n",
      "풍국면 앞산케이블카점\n",
      "양정화네 앞산온천골\n",
      "인디안까페\n",
      "앞산손메밀묵집\n",
      "커피명가 앞산케이블카점\n",
      "현짬뽕\n"
     ]
    },
    {
     "name": "stderr",
     "output_type": "stream",
     "text": [
      "\n",
      "  0%|                                                                                           | 0/10 [00:07<?, ?it/s]\u001b[A\n",
      "  5%|███▋                                                                           | 14/300 [06:42<2:06:27, 26.53s/it]\n",
      "0it [00:00, ?it/s]\u001b[A\n",
      "  5%|███▉                                                                           | 15/300 [06:56<1:48:15, 22.79s/it]"
     ]
    },
    {
     "name": "stdout",
     "output_type": "stream",
     "text": [
      "사조회참치\n",
      "백색라이브\n",
      "사석\n",
      "수주식당\n",
      "경희식당\n",
      "몽블랑드파리\n",
      "구공탄막창\n",
      "빠레뜨한남 대구 동성로점\n",
      "유창반점\n",
      "신라식당\n"
     ]
    },
    {
     "name": "stderr",
     "output_type": "stream",
     "text": [
      "\n",
      "  0%|                                                                                           | 0/10 [00:00<?, ?it/s]\u001b[A"
     ]
    },
    {
     "name": "stdout",
     "output_type": "stream",
     "text": [
      "<selenium.webdriver.remote.webelement.WebElement (session=\"5a0db809981d5d2f18f03e809b22c524\", element=\"B7B6ECB986742E6262764D4E79EACC91_element_108\")>\n"
     ]
    },
    {
     "name": "stderr",
     "output_type": "stream",
     "text": [
      "\n",
      " 10%|████████▎                                                                          | 1/10 [00:11<01:41, 11.28s/it]\u001b[A"
     ]
    },
    {
     "name": "stdout",
     "output_type": "stream",
     "text": [
      "사조회참치 NaN 대구 서구 달서천로57길 37 1층 사조회참치\n",
      "<selenium.webdriver.remote.webelement.WebElement (session=\"5a0db809981d5d2f18f03e809b22c524\", element=\"B7B6ECB986742E6262764D4E79EACC91_element_146\")>\n"
     ]
    },
    {
     "name": "stderr",
     "output_type": "stream",
     "text": [
      "\n",
      " 20%|████████████████▌                                                                  | 2/10 [00:18<01:10,  8.84s/it]\u001b[A"
     ]
    },
    {
     "name": "stdout",
     "output_type": "stream",
     "text": [
      "백색라이브 NaN 대구 서구 국채보상로 238 지하 백색7080라이브\n",
      "<selenium.webdriver.remote.webelement.WebElement (session=\"5a0db809981d5d2f18f03e809b22c524\", element=\"B7B6ECB986742E6262764D4E79EACC91_element_199\")>\n"
     ]
    },
    {
     "name": "stderr",
     "output_type": "stream",
     "text": [
      "\n",
      " 30%|████████████████████████▉                                                          | 3/10 [00:25<00:56,  8.07s/it]\u001b[A"
     ]
    },
    {
     "name": "stdout",
     "output_type": "stream",
     "text": [
      "사석 NaN 대구 중구 중앙대로 375 YMCA 건물 1층 사석\n"
     ]
    },
    {
     "name": "stderr",
     "output_type": "stream",
     "text": [
      "\n",
      " 40%|█████████████████████████████████▏                                                 | 4/10 [00:27<00:34,  5.73s/it]\u001b[A"
     ]
    },
    {
     "name": "stdout",
     "output_type": "stream",
     "text": [
      "<selenium.webdriver.remote.webelement.WebElement (session=\"5a0db809981d5d2f18f03e809b22c524\", element=\"B7B6ECB986742E6262764D4E79EACC91_element_241\")>\n",
      "수주식당 4.51 대구 중구 중앙대로81길 58 1층 수주식당\n"
     ]
    },
    {
     "name": "stderr",
     "output_type": "stream",
     "text": [
      "\n",
      " 50%|█████████████████████████████████████████▌                                         | 5/10 [00:29<00:22,  4.44s/it]\u001b[A"
     ]
    },
    {
     "name": "stdout",
     "output_type": "stream",
     "text": [
      "<selenium.webdriver.remote.webelement.WebElement (session=\"5a0db809981d5d2f18f03e809b22c524\", element=\"B7B6ECB986742E6262764D4E79EACC91_element_281\")>\n",
      "경희식당 4.34 대구 중구 큰장로28길 25\n",
      "<selenium.webdriver.remote.webelement.WebElement (session=\"5a0db809981d5d2f18f03e809b22c524\", element=\"B7B6ECB986742E6262764D4E79EACC91_element_288\")>\n"
     ]
    },
    {
     "name": "stderr",
     "output_type": "stream",
     "text": [
      "\n",
      " 60%|█████████████████████████████████████████████████▊                                 | 6/10 [00:37<00:21,  5.38s/it]\u001b[A"
     ]
    },
    {
     "name": "stdout",
     "output_type": "stream",
     "text": [
      "몽블랑드파리 NaN 대구 중구 동성로6길 21\n",
      "<selenium.webdriver.remote.webelement.WebElement (session=\"5a0db809981d5d2f18f03e809b22c524\", element=\"B7B6ECB986742E6262764D4E79EACC91_element_348\")>\n"
     ]
    },
    {
     "name": "stderr",
     "output_type": "stream",
     "text": [
      "\n",
      " 70%|██████████████████████████████████████████████████████████                         | 7/10 [00:44<00:17,  5.96s/it]\u001b[A"
     ]
    },
    {
     "name": "stdout",
     "output_type": "stream",
     "text": [
      "구공탄막창 NaN 대구 서구 국채보상로 308 1층\n",
      "<selenium.webdriver.remote.webelement.WebElement (session=\"5a0db809981d5d2f18f03e809b22c524\", element=\"B7B6ECB986742E6262764D4E79EACC91_element_369\")>\n"
     ]
    },
    {
     "name": "stderr",
     "output_type": "stream",
     "text": [
      "\n",
      " 80%|██████████████████████████████████████████████████████████████████▍                | 8/10 [00:51<00:12,  6.34s/it]\u001b[A"
     ]
    },
    {
     "name": "stdout",
     "output_type": "stream",
     "text": [
      "빠레뜨한남 대구 동성로점 NaN 대구 중구 동성로2길 58 2층 빠레뜨한남\n",
      "<selenium.webdriver.remote.webelement.WebElement (session=\"5a0db809981d5d2f18f03e809b22c524\", element=\"B7B6ECB986742E6262764D4E79EACC91_element_428\")>\n"
     ]
    },
    {
     "name": "stderr",
     "output_type": "stream",
     "text": [
      "\n",
      " 90%|██████████████████████████████████████████████████████████████████████████▋        | 9/10 [00:58<00:06,  6.59s/it]\u001b[A"
     ]
    },
    {
     "name": "stdout",
     "output_type": "stream",
     "text": [
      "유창반점 NaN 대구 중구 명륜로 20 1층\n"
     ]
    },
    {
     "name": "stderr",
     "output_type": "stream",
     "text": [
      "\n",
      "100%|██████████████████████████████████████████████████████████████████████████████████| 10/10 [01:00<00:00,  6.07s/it]\u001b[A"
     ]
    },
    {
     "name": "stdout",
     "output_type": "stream",
     "text": [
      "<selenium.webdriver.remote.webelement.WebElement (session=\"5a0db809981d5d2f18f03e809b22c524\", element=\"B7B6ECB986742E6262764D4E79EACC91_element_434\")>\n",
      "신라식당 4.39 대구 중구 중앙대로 406-8\n"
     ]
    },
    {
     "name": "stderr",
     "output_type": "stream",
     "text": [
      "\n",
      "  5%|████▏                                                                          | 16/300 [08:13<3:05:00, 39.09s/it]\n",
      "0it [00:00, ?it/s]\u001b[A\n",
      "  6%|████▍                                                                          | 17/300 [08:27<2:29:33, 31.71s/it]"
     ]
    },
    {
     "name": "stdout",
     "output_type": "stream",
     "text": [
      "핑크라이언\n",
      "롤링핀 대구수목원점\n",
      "뜨돈 진천본점\n",
      "킹콩 G.C점\n",
      "동이식당\n",
      "계령식당\n",
      "WANN\n",
      "하루부엌\n",
      "서남왕족발\n",
      "일공공샤브 대구수목원점\n"
     ]
    },
    {
     "name": "stderr",
     "output_type": "stream",
     "text": [
      "\n",
      "  0%|                                                                                           | 0/10 [00:00<?, ?it/s]\u001b[A\n",
      " 10%|████████▎                                                                          | 1/10 [00:06<00:56,  6.23s/it]\u001b[A"
     ]
    },
    {
     "name": "stdout",
     "output_type": "stream",
     "text": [
      "<selenium.webdriver.remote.webelement.WebElement (session=\"c659055085d55828e50e792225e8d64d\", element=\"FF89A73B19E4E9E649EDE67E8CC25CC1_element_115\")>\n",
      "핑크라이언 4.68 대구 달서구 한실로6길 158-3 핑크라이언\n",
      "<selenium.webdriver.remote.webelement.WebElement (session=\"c659055085d55828e50e792225e8d64d\", element=\"FF89A73B19E4E9E649EDE67E8CC25CC1_element_162\")>\n"
     ]
    },
    {
     "name": "stderr",
     "output_type": "stream",
     "text": [
      "\n",
      " 20%|████████████████▌                                                                  | 2/10 [00:13<00:54,  6.79s/it]\u001b[A"
     ]
    },
    {
     "name": "stdout",
     "output_type": "stream",
     "text": [
      "롤링핀 대구수목원점 NaN 대구 달서구 한실로6길 158\n"
     ]
    },
    {
     "name": "stderr",
     "output_type": "stream",
     "text": [
      "\n",
      " 30%|████████████████████████▉                                                          | 3/10 [00:15<00:32,  4.67s/it]\u001b[A"
     ]
    },
    {
     "name": "stdout",
     "output_type": "stream",
     "text": [
      "<selenium.webdriver.remote.webelement.WebElement (session=\"c659055085d55828e50e792225e8d64d\", element=\"FF89A73B19E4E9E649EDE67E8CC25CC1_element_224\")>\n",
      "뜨돈 진천본점 4.49 대구 달서구 진천로9길 30\n",
      "<selenium.webdriver.remote.webelement.WebElement (session=\"c659055085d55828e50e792225e8d64d\", element=\"FF89A73B19E4E9E649EDE67E8CC25CC1_element_267\")>\n"
     ]
    },
    {
     "name": "stderr",
     "output_type": "stream",
     "text": [
      "\n",
      " 40%|█████████████████████████████████▏                                                 | 4/10 [00:22<00:33,  5.65s/it]\u001b[A"
     ]
    },
    {
     "name": "stdout",
     "output_type": "stream",
     "text": [
      "킹콩 G.C점 NaN 대구 달서구 화암로 322 1~2층\n"
     ]
    },
    {
     "name": "stderr",
     "output_type": "stream",
     "text": [
      "\n",
      " 50%|█████████████████████████████████████████▌                                         | 5/10 [00:24<00:21,  4.39s/it]\u001b[A"
     ]
    },
    {
     "name": "stdout",
     "output_type": "stream",
     "text": [
      "<selenium.webdriver.remote.webelement.WebElement (session=\"c659055085d55828e50e792225e8d64d\", element=\"FF89A73B19E4E9E649EDE67E8CC25CC1_element_303\")>\n",
      "동이식당 4.4 대구 달서구 한실로6길 165-7\n"
     ]
    },
    {
     "name": "stderr",
     "output_type": "stream",
     "text": [
      "\n",
      " 60%|█████████████████████████████████████████████████▊                                 | 6/10 [00:27<00:14,  3.63s/it]\u001b[A"
     ]
    },
    {
     "name": "stdout",
     "output_type": "stream",
     "text": [
      "<selenium.webdriver.remote.webelement.WebElement (session=\"c659055085d55828e50e792225e8d64d\", element=\"FF89A73B19E4E9E649EDE67E8CC25CC1_element_344\")>\n",
      "계령식당 4.36 대구 달서구 한실로6길 155-15 1층\n"
     ]
    },
    {
     "name": "stderr",
     "output_type": "stream",
     "text": [
      "\n",
      " 70%|██████████████████████████████████████████████████████████                         | 7/10 [00:29<00:09,  3.14s/it]\u001b[A"
     ]
    },
    {
     "name": "stdout",
     "output_type": "stream",
     "text": [
      "<selenium.webdriver.remote.webelement.WebElement (session=\"c659055085d55828e50e792225e8d64d\", element=\"FF89A73B19E4E9E649EDE67E8CC25CC1_element_388\")>\n",
      "WANN 4.32 대구 달서구 한실로6길 161\n"
     ]
    },
    {
     "name": "stderr",
     "output_type": "stream",
     "text": [
      "\n",
      " 80%|██████████████████████████████████████████████████████████████████▍                | 8/10 [00:31<00:05,  2.82s/it]\u001b[A"
     ]
    },
    {
     "name": "stdout",
     "output_type": "stream",
     "text": [
      "<selenium.webdriver.remote.webelement.WebElement (session=\"c659055085d55828e50e792225e8d64d\", element=\"FF89A73B19E4E9E649EDE67E8CC25CC1_element_417\")>\n",
      "하루부엌 4.57 대구 달서구 화암로71길 19 하루부엌\n"
     ]
    },
    {
     "name": "stderr",
     "output_type": "stream",
     "text": [
      "\n",
      " 90%|██████████████████████████████████████████████████████████████████████████▋        | 9/10 [00:33<00:02,  2.60s/it]\u001b[A"
     ]
    },
    {
     "name": "stdout",
     "output_type": "stream",
     "text": [
      "<selenium.webdriver.remote.webelement.WebElement (session=\"c659055085d55828e50e792225e8d64d\", element=\"FF89A73B19E4E9E649EDE67E8CC25CC1_element_473\")>\n",
      "서남왕족발 4.33 대구 달서구 명천로 14\n"
     ]
    },
    {
     "name": "stderr",
     "output_type": "stream",
     "text": [
      "\n",
      "100%|██████████████████████████████████████████████████████████████████████████████████| 10/10 [00:35<00:00,  3.56s/it]\u001b[A"
     ]
    },
    {
     "name": "stdout",
     "output_type": "stream",
     "text": [
      "<selenium.webdriver.remote.webelement.WebElement (session=\"c659055085d55828e50e792225e8d64d\", element=\"FF89A73B19E4E9E649EDE67E8CC25CC1_element_506\")>\n",
      "일공공샤브 대구수목원점 4.38 대구 달서구 화암로 331\n"
     ]
    },
    {
     "name": "stderr",
     "output_type": "stream",
     "text": [
      "\n",
      "  6%|████▋                                                                          | 18/300 [09:15<2:51:37, 36.52s/it]"
     ]
    },
    {
     "name": "stdout",
     "output_type": "stream",
     "text": [
      "쉼소\n",
      "동백 팔공산화본역점\n"
     ]
    },
    {
     "name": "stderr",
     "output_type": "stream",
     "text": [
      "\n",
      "  0%|                                                                                            | 0/2 [00:07<?, ?it/s]\u001b[A\n",
      "  6%|█████                                                                          | 19/300 [09:32<2:23:26, 30.63s/it]"
     ]
    },
    {
     "name": "stdout",
     "output_type": "stream",
     "text": [
      "디어원케이크\n",
      "울진대게 본점\n",
      "류센소 범어점\n",
      "리안\n",
      "후꾸스시\n",
      "에폰베이크샵\n",
      "공주얼큰이칼국수\n",
      "황금돗소리\n",
      "오스테리아밀즈\n",
      "고미텐\n"
     ]
    },
    {
     "name": "stderr",
     "output_type": "stream",
     "text": [
      "\n",
      "  0%|                                                                                           | 0/10 [00:00<?, ?it/s]\u001b[A"
     ]
    },
    {
     "name": "stdout",
     "output_type": "stream",
     "text": [
      "<selenium.webdriver.remote.webelement.WebElement (session=\"9839d50f683dea8589840bc8b141bb91\", element=\"E86064E4E7B9032B0C5A2BBCD6C9002D_element_108\")>\n"
     ]
    },
    {
     "name": "stderr",
     "output_type": "stream",
     "text": [
      "\n",
      " 10%|████████▎                                                                          | 1/10 [00:11<01:41, 11.24s/it]\u001b[A"
     ]
    },
    {
     "name": "stdout",
     "output_type": "stream",
     "text": [
      "디어원케이크 NaN 대구 수성구 교학로4길 10\n"
     ]
    },
    {
     "name": "stderr",
     "output_type": "stream",
     "text": [
      "\n",
      " 20%|████████████████▌                                                                  | 2/10 [00:13<00:47,  5.88s/it]\u001b[A"
     ]
    },
    {
     "name": "stdout",
     "output_type": "stream",
     "text": [
      "<selenium.webdriver.remote.webelement.WebElement (session=\"9839d50f683dea8589840bc8b141bb91\", element=\"E86064E4E7B9032B0C5A2BBCD6C9002D_element_167\")>\n",
      "울진대게 본점 4.45 대구 수성구 명덕로 450-1 울진대게\n",
      "<selenium.webdriver.remote.webelement.WebElement (session=\"9839d50f683dea8589840bc8b141bb91\", element=\"E86064E4E7B9032B0C5A2BBCD6C9002D_element_193\")>\n"
     ]
    },
    {
     "name": "stderr",
     "output_type": "stream",
     "text": [
      "\n",
      " 30%|████████████████████████▉                                                          | 3/10 [00:20<00:45,  6.47s/it]\u001b[A"
     ]
    },
    {
     "name": "stdout",
     "output_type": "stream",
     "text": [
      "류센소 범어점 NaN 대구 수성구 달구벌대로496길 5 1층 류센소 범어점\n"
     ]
    },
    {
     "name": "stderr",
     "output_type": "stream",
     "text": [
      "\n",
      " 40%|█████████████████████████████████▏                                                 | 4/10 [00:22<00:28,  4.77s/it]\u001b[A"
     ]
    },
    {
     "name": "stdout",
     "output_type": "stream",
     "text": [
      "<selenium.webdriver.remote.webelement.WebElement (session=\"9839d50f683dea8589840bc8b141bb91\", element=\"E86064E4E7B9032B0C5A2BBCD6C9002D_element_219\")>\n",
      "리안 4.48 대구 수성구 교학로4길 48\n"
     ]
    },
    {
     "name": "stderr",
     "output_type": "stream",
     "text": [
      "\n",
      " 50%|█████████████████████████████████████████▌                                         | 5/10 [00:24<00:19,  3.82s/it]\u001b[A"
     ]
    },
    {
     "name": "stdout",
     "output_type": "stream",
     "text": [
      "<selenium.webdriver.remote.webelement.WebElement (session=\"9839d50f683dea8589840bc8b141bb91\", element=\"E86064E4E7B9032B0C5A2BBCD6C9002D_element_244\")>\n",
      "후꾸스시 4.55 대구 수성구 동대구로20길 66 후꾸\n",
      "<selenium.webdriver.remote.webelement.WebElement (session=\"9839d50f683dea8589840bc8b141bb91\", element=\"E86064E4E7B9032B0C5A2BBCD6C9002D_element_287\")>\n"
     ]
    },
    {
     "name": "stderr",
     "output_type": "stream",
     "text": [
      "\n",
      " 60%|█████████████████████████████████████████████████▊                                 | 6/10 [00:32<00:19,  4.96s/it]\u001b[A"
     ]
    },
    {
     "name": "stdout",
     "output_type": "stream",
     "text": [
      "에폰베이크샵 NaN 대구 수성구 범어로24길 14 1층\n",
      "<selenium.webdriver.remote.webelement.WebElement (session=\"9839d50f683dea8589840bc8b141bb91\", element=\"E86064E4E7B9032B0C5A2BBCD6C9002D_element_308\")>\n"
     ]
    },
    {
     "name": "stderr",
     "output_type": "stream",
     "text": [
      "\n",
      " 70%|██████████████████████████████████████████████████████████                         | 7/10 [00:39<00:17,  5.67s/it]\u001b[A"
     ]
    },
    {
     "name": "stdout",
     "output_type": "stream",
     "text": [
      "공주얼큰이칼국수 NaN 대구 수성구 범어천로 49 공주얼큰이칼국수\n",
      "<selenium.webdriver.remote.webelement.WebElement (session=\"9839d50f683dea8589840bc8b141bb91\", element=\"E86064E4E7B9032B0C5A2BBCD6C9002D_element_351\")>\n"
     ]
    },
    {
     "name": "stderr",
     "output_type": "stream",
     "text": [
      "\n",
      " 80%|██████████████████████████████████████████████████████████████████▍                | 8/10 [00:46<00:12,  6.16s/it]\u001b[A"
     ]
    },
    {
     "name": "stdout",
     "output_type": "stream",
     "text": [
      "황금돗소리 NaN 대구 수성구 범어천로 22 . 1층(황금동) 황금돗소리\n"
     ]
    },
    {
     "name": "stderr",
     "output_type": "stream",
     "text": [
      "\n",
      " 90%|██████████████████████████████████████████████████████████████████████████▋        | 9/10 [00:48<00:04,  4.90s/it]\u001b[A"
     ]
    },
    {
     "name": "stdout",
     "output_type": "stream",
     "text": [
      "<selenium.webdriver.remote.webelement.WebElement (session=\"9839d50f683dea8589840bc8b141bb91\", element=\"E86064E4E7B9032B0C5A2BBCD6C9002D_element_390\")>\n",
      "오스테리아밀즈 4.55 대구 수성구 동원로1길 26 1층\n"
     ]
    },
    {
     "name": "stderr",
     "output_type": "stream",
     "text": [
      "\n",
      "100%|██████████████████████████████████████████████████████████████████████████████████| 10/10 [00:50<00:00,  5.06s/it]\u001b[A"
     ]
    },
    {
     "name": "stdout",
     "output_type": "stream",
     "text": [
      "<selenium.webdriver.remote.webelement.WebElement (session=\"9839d50f683dea8589840bc8b141bb91\", element=\"E86064E4E7B9032B0C5A2BBCD6C9002D_element_419\")>\n",
      "고미텐 4.63 대구 수성구 동원로 6 1층\n"
     ]
    },
    {
     "name": "stderr",
     "output_type": "stream",
     "text": [
      "\n",
      "  7%|█████▎                                                                         | 20/300 [10:37<3:10:26, 40.81s/it]\n",
      "0it [00:00, ?it/s]\u001b[A\n",
      "  7%|█████▌                                                                         | 21/300 [10:50<2:31:43, 32.63s/it]"
     ]
    },
    {
     "name": "stdout",
     "output_type": "stream",
     "text": [
      "광장코아 물음표 soju & beer 본점\n",
      "bistro053\n",
      "현짬뽕\n",
      "조조칼국수 죽전직영점\n",
      "상무초밥 죽전점\n",
      "해풍해물칼국수 대구본점\n",
      "달고떡볶이\n",
      "제주곤이칼국수 대구죽전점\n",
      "푸른회식당\n",
      "정성순대 대구죽전점\n"
     ]
    },
    {
     "name": "stderr",
     "output_type": "stream",
     "text": [
      "\n",
      "  0%|                                                                                           | 0/10 [00:00<?, ?it/s]\u001b[A"
     ]
    },
    {
     "name": "stdout",
     "output_type": "stream",
     "text": [
      "<selenium.webdriver.remote.webelement.WebElement (session=\"6ade134625d30f3215e84e2da37fd750\", element=\"987C8128E4C4A8037038C93163486A66_element_134\")>\n"
     ]
    },
    {
     "name": "stderr",
     "output_type": "stream",
     "text": [
      "\n",
      " 10%|████████▎                                                                          | 1/10 [00:11<01:41, 11.27s/it]\u001b[A"
     ]
    },
    {
     "name": "stdout",
     "output_type": "stream",
     "text": [
      "광장코아 물음표 soju & beer 본점 NaN 대구 달서구 달구벌대로344길 46\n",
      "<selenium.webdriver.remote.webelement.WebElement (session=\"6ade134625d30f3215e84e2da37fd750\", element=\"987C8128E4C4A8037038C93163486A66_element_177\")>\n"
     ]
    },
    {
     "name": "stderr",
     "output_type": "stream",
     "text": [
      "\n",
      " 20%|████████████████▌                                                                  | 2/10 [00:18<01:10,  8.85s/it]\u001b[A"
     ]
    },
    {
     "name": "stdout",
     "output_type": "stream",
     "text": [
      "bistro053 NaN 대구 달서구 당산로38길 13 1층\n"
     ]
    },
    {
     "name": "stderr",
     "output_type": "stream",
     "text": [
      "\n",
      " 30%|████████████████████████▉                                                          | 3/10 [00:20<00:40,  5.78s/it]\u001b[A"
     ]
    },
    {
     "name": "stdout",
     "output_type": "stream",
     "text": [
      "<selenium.webdriver.remote.webelement.WebElement (session=\"6ade134625d30f3215e84e2da37fd750\", element=\"987C8128E4C4A8037038C93163486A66_element_223\")>\n",
      "현짬뽕 4.55 대구 남구 대봉로 89\n"
     ]
    },
    {
     "name": "stderr",
     "output_type": "stream",
     "text": [
      "\n",
      " 40%|█████████████████████████████████▏                                                 | 4/10 [00:22<00:26,  4.36s/it]\u001b[A"
     ]
    },
    {
     "name": "stdout",
     "output_type": "stream",
     "text": [
      "<selenium.webdriver.remote.webelement.WebElement (session=\"6ade134625d30f3215e84e2da37fd750\", element=\"987C8128E4C4A8037038C93163486A66_element_265\")>\n",
      "조조칼국수 죽전직영점 4.52 대구 달서구 와룡로 169\n",
      "<selenium.webdriver.remote.webelement.WebElement (session=\"6ade134625d30f3215e84e2da37fd750\", element=\"987C8128E4C4A8037038C93163486A66_element_307\")>\n"
     ]
    },
    {
     "name": "stderr",
     "output_type": "stream",
     "text": [
      "\n",
      " 50%|█████████████████████████████████████████▌                                         | 5/10 [00:29<00:26,  5.38s/it]\u001b[A"
     ]
    },
    {
     "name": "stdout",
     "output_type": "stream",
     "text": [
      "상무초밥 죽전점 NaN 대구 달서구 와룡로 169 상가 103동 109, 110호\n"
     ]
    },
    {
     "name": "stderr",
     "output_type": "stream",
     "text": [
      "\n",
      " 60%|█████████████████████████████████████████████████▊                                 | 6/10 [00:32<00:17,  4.28s/it]\u001b[A"
     ]
    },
    {
     "name": "stdout",
     "output_type": "stream",
     "text": [
      "<selenium.webdriver.remote.webelement.WebElement (session=\"6ade134625d30f3215e84e2da37fd750\", element=\"987C8128E4C4A8037038C93163486A66_element_347\")>\n",
      "해풍해물칼국수 대구본점 4.57 대구 달서구 야외음악당로39안길 8\n"
     ]
    },
    {
     "name": "stderr",
     "output_type": "stream",
     "text": [
      "\n",
      " 70%|██████████████████████████████████████████████████████████                         | 7/10 [00:34<00:10,  3.58s/it]\u001b[A"
     ]
    },
    {
     "name": "stdout",
     "output_type": "stream",
     "text": [
      "<selenium.webdriver.remote.webelement.WebElement (session=\"6ade134625d30f3215e84e2da37fd750\", element=\"987C8128E4C4A8037038C93163486A66_element_374\")>\n",
      "달고떡볶이 4.45 대구 달서구 야외음악당로39길 54 삼정그린빌상가 113동 107호\n",
      "<selenium.webdriver.remote.webelement.WebElement (session=\"6ade134625d30f3215e84e2da37fd750\", element=\"987C8128E4C4A8037038C93163486A66_element_417\")>\n"
     ]
    },
    {
     "name": "stderr",
     "output_type": "stream",
     "text": [
      "\n",
      " 80%|██████████████████████████████████████████████████████████████████▍                | 8/10 [00:41<00:09,  4.72s/it]\u001b[A"
     ]
    },
    {
     "name": "stdout",
     "output_type": "stream",
     "text": [
      "제주곤이칼국수 대구죽전점 NaN 대구 달서구 달구벌대로 1546 1층\n"
     ]
    },
    {
     "name": "stderr",
     "output_type": "stream",
     "text": [
      "\n",
      " 90%|██████████████████████████████████████████████████████████████████████████▋        | 9/10 [00:43<00:03,  3.91s/it]\u001b[A"
     ]
    },
    {
     "name": "stdout",
     "output_type": "stream",
     "text": [
      "<selenium.webdriver.remote.webelement.WebElement (session=\"6ade134625d30f3215e84e2da37fd750\", element=\"987C8128E4C4A8037038C93163486A66_element_423\")>\n",
      "푸른회식당 4.46 대구 서구 달구벌대로375길 14-1\n",
      "<selenium.webdriver.remote.webelement.WebElement (session=\"6ade134625d30f3215e84e2da37fd750\", element=\"987C8128E4C4A8037038C93163486A66_element_486\")>\n"
     ]
    },
    {
     "name": "stderr",
     "output_type": "stream",
     "text": [
      "\n",
      "100%|██████████████████████████████████████████████████████████████████████████████████| 10/10 [00:50<00:00,  5.07s/it]\u001b[A"
     ]
    },
    {
     "name": "stdout",
     "output_type": "stream",
     "text": [
      "정성순대 대구죽전점 NaN 대구 달서구 와룡로 169 상가 107동 106, 107호\n"
     ]
    },
    {
     "name": "stderr",
     "output_type": "stream",
     "text": [
      "\n",
      "  7%|█████▊                                                                         | 22/300 [11:53<3:13:18, 41.72s/it]"
     ]
    },
    {
     "name": "stdout",
     "output_type": "stream",
     "text": [
      "카페비올라 사문진점\n",
      "행복이머무는집 어탕전문점 고령본점\n",
      "돈까스클럽 대구달서점\n",
      "행복한오리 화원옥포점\n",
      "커피명가 루체215\n",
      "핸즈커피 화원점\n",
      "카페비올라 사문진점\n",
      "명륜진사갈비 대구새화원점\n",
      "순해집손칼국수 화원본점\n",
      "셀렉토커피 대구화원사문진점\n"
     ]
    },
    {
     "name": "stderr",
     "output_type": "stream",
     "text": [
      "\n",
      "  0%|                                                                                           | 0/10 [00:07<?, ?it/s]\u001b[A\n",
      "  8%|██████                                                                         | 23/300 [12:10<2:37:53, 34.20s/it]"
     ]
    },
    {
     "name": "stdout",
     "output_type": "stream",
     "text": [
      "몽돌매운간장닭발&치킨\n",
      "블루샥 대구 효목점\n",
      "청담한쭈꾸미\n",
      "로렐트리 동촌유원지 본점\n",
      "마루막창 대구동촌유원지점\n",
      "인스퍼레이션디동촌유원지\n",
      "민물장어 직판장 풍천관 동촌유원지점\n",
      "아양짚 동촌유원지점\n",
      "원조돼지갈비찜\n",
      "더뷔페 앳 인터불고\n"
     ]
    },
    {
     "name": "stderr",
     "output_type": "stream",
     "text": [
      "\n",
      "  0%|                                                                                           | 0/10 [00:00<?, ?it/s]\u001b[A"
     ]
    },
    {
     "name": "stdout",
     "output_type": "stream",
     "text": [
      "<selenium.webdriver.remote.webelement.WebElement (session=\"a74c5895a42a17226e9af10e81d0b26e\", element=\"05881915301CE7F5D2D53D07C7371453_element_106\")>\n"
     ]
    },
    {
     "name": "stderr",
     "output_type": "stream",
     "text": [
      "\n",
      " 10%|████████▎                                                                          | 1/10 [00:11<01:41, 11.25s/it]\u001b[A"
     ]
    },
    {
     "name": "stdout",
     "output_type": "stream",
     "text": [
      "몽돌매운간장닭발&치킨 NaN 대구 동구 효동로6길 30 2층(효목동)\n"
     ]
    },
    {
     "name": "stderr",
     "output_type": "stream",
     "text": [
      "\n",
      " 20%|████████████████▌                                                                  | 2/10 [00:13<00:47,  5.88s/it]\u001b[A"
     ]
    },
    {
     "name": "stdout",
     "output_type": "stream",
     "text": [
      "<selenium.webdriver.remote.webelement.WebElement (session=\"a74c5895a42a17226e9af10e81d0b26e\", element=\"05881915301CE7F5D2D53D07C7371453_element_166\")>\n",
      "블루샥 대구 효목점 4.52 대구 동구 효목로 20-1 1층 블루샥 효목점\n",
      "<selenium.webdriver.remote.webelement.WebElement (session=\"a74c5895a42a17226e9af10e81d0b26e\", element=\"05881915301CE7F5D2D53D07C7371453_element_210\")>\n"
     ]
    },
    {
     "name": "stderr",
     "output_type": "stream",
     "text": [
      "\n",
      " 30%|████████████████████████▉                                                          | 3/10 [00:20<00:45,  6.48s/it]\u001b[A"
     ]
    },
    {
     "name": "stdout",
     "output_type": "stream",
     "text": [
      "청담한쭈꾸미 NaN 대구 동구 효동로2길 47-7\n"
     ]
    },
    {
     "name": "stderr",
     "output_type": "stream",
     "text": [
      "\n",
      " 40%|█████████████████████████████████▏                                                 | 4/10 [00:22<00:28,  4.77s/it]\u001b[A"
     ]
    },
    {
     "name": "stdout",
     "output_type": "stream",
     "text": [
      "<selenium.webdriver.remote.webelement.WebElement (session=\"a74c5895a42a17226e9af10e81d0b26e\", element=\"05881915301CE7F5D2D53D07C7371453_element_234\")>\n",
      "로렐트리 동촌유원지 본점 4.71 대구 동구 효동로6길 122 로렐트리\n"
     ]
    },
    {
     "name": "stderr",
     "output_type": "stream",
     "text": [
      "\n",
      " 50%|█████████████████████████████████████████▌                                         | 5/10 [00:24<00:19,  3.82s/it]\u001b[A"
     ]
    },
    {
     "name": "stdout",
     "output_type": "stream",
     "text": [
      "<selenium.webdriver.remote.webelement.WebElement (session=\"a74c5895a42a17226e9af10e81d0b26e\", element=\"05881915301CE7F5D2D53D07C7371453_element_272\")>\n",
      "마루막창 대구동촌유원지점 4.4 대구 동구 효동로2길 33-7 1층 마루막창 동촌점\n"
     ]
    },
    {
     "name": "stderr",
     "output_type": "stream",
     "text": [
      "\n",
      " 60%|█████████████████████████████████████████████████▊                                 | 6/10 [00:26<00:12,  3.25s/it]\u001b[A"
     ]
    },
    {
     "name": "stdout",
     "output_type": "stream",
     "text": [
      "<selenium.webdriver.remote.webelement.WebElement (session=\"a74c5895a42a17226e9af10e81d0b26e\", element=\"05881915301CE7F5D2D53D07C7371453_element_296\")>\n",
      "인스퍼레이션디동촌유원지 4.41 대구 동구 효동로6길 57 인스퍼레이션디 동촌유원지\n",
      "<selenium.webdriver.remote.webelement.WebElement (session=\"a74c5895a42a17226e9af10e81d0b26e\", element=\"05881915301CE7F5D2D53D07C7371453_element_305\")>\n"
     ]
    },
    {
     "name": "stderr",
     "output_type": "stream",
     "text": [
      "\n",
      " 70%|██████████████████████████████████████████████████████████                         | 7/10 [00:34<00:13,  4.54s/it]\u001b[A"
     ]
    },
    {
     "name": "stdout",
     "output_type": "stream",
     "text": [
      "민물장어 직판장 풍천관 동촌유원지점 NaN 대구 동구 효동로2길 47-7 2층 풍천관 동촌유원지점\n",
      "<selenium.webdriver.remote.webelement.WebElement (session=\"a74c5895a42a17226e9af10e81d0b26e\", element=\"05881915301CE7F5D2D53D07C7371453_element_342\")>\n"
     ]
    },
    {
     "name": "stderr",
     "output_type": "stream",
     "text": [
      "\n",
      " 80%|██████████████████████████████████████████████████████████████████▍                | 8/10 [00:41<00:10,  5.39s/it]\u001b[A"
     ]
    },
    {
     "name": "stdout",
     "output_type": "stream",
     "text": [
      "아양짚 동촌유원지점 NaN 대구 동구 효동로2길 29 1층 아양짚\n"
     ]
    },
    {
     "name": "stderr",
     "output_type": "stream",
     "text": [
      "\n",
      " 90%|██████████████████████████████████████████████████████████████████████████▋        | 9/10 [00:43<00:04,  4.37s/it]\u001b[A"
     ]
    },
    {
     "name": "stdout",
     "output_type": "stream",
     "text": [
      "<selenium.webdriver.remote.webelement.WebElement (session=\"a74c5895a42a17226e9af10e81d0b26e\", element=\"05881915301CE7F5D2D53D07C7371453_element_382\")>\n",
      "원조돼지갈비찜 4.38 대구 동구 해동로 186 원조 돼지 갈비찜\n"
     ]
    },
    {
     "name": "stderr",
     "output_type": "stream",
     "text": [
      "\n",
      "100%|██████████████████████████████████████████████████████████████████████████████████| 10/10 [00:45<00:00,  4.57s/it]\u001b[A"
     ]
    },
    {
     "name": "stdout",
     "output_type": "stream",
     "text": [
      "<selenium.webdriver.remote.webelement.WebElement (session=\"a74c5895a42a17226e9af10e81d0b26e\", element=\"05881915301CE7F5D2D53D07C7371453_element_421\")>\n",
      "더뷔페 앳 인터불고 4.54 대구 수성구 팔현길 212 호텔인터불고\n"
     ]
    },
    {
     "name": "stderr",
     "output_type": "stream",
     "text": [
      "\n",
      "  8%|██████▎                                                                        | 24/300 [13:10<3:13:30, 42.07s/it]"
     ]
    },
    {
     "name": "stdout",
     "output_type": "stream",
     "text": [
      "농부\n",
      "백곰포차\n",
      "팔도웰빙쌈밥\n",
      "불로회수산 본점\n",
      "한상바다 봉무본점\n",
      "딥딥딥\n",
      "대구추어탕\n",
      "카페 탄\n",
      "돈가스튀기는오빠 본점\n",
      "쉬어가는 집\n"
     ]
    },
    {
     "name": "stderr",
     "output_type": "stream",
     "text": [
      "\n",
      "  0%|                                                                                           | 0/10 [00:01<?, ?it/s]\u001b[A\n",
      "  8%|██████▌                                                                        | 25/300 [13:21<2:30:17, 32.79s/it]"
     ]
    },
    {
     "name": "stdout",
     "output_type": "stream",
     "text": [
      "내안에\n",
      "패대기 들안길점\n",
      "카이젠\n",
      "아티코\n",
      "화로38 수성못점\n",
      "마담에뽀끄 대구수성못점\n",
      "먼데이오프플리즈 대구\n",
      "꽃피는화덕피자D485 대구수성못점\n",
      "용지봉\n",
      "소수미반상\n"
     ]
    },
    {
     "name": "stderr",
     "output_type": "stream",
     "text": [
      "\n",
      "  0%|                                                                                           | 0/10 [00:00<?, ?it/s]\u001b[A\n",
      " 10%|████████▎                                                                          | 1/10 [00:06<00:55,  6.20s/it]\u001b[A"
     ]
    },
    {
     "name": "stdout",
     "output_type": "stream",
     "text": [
      "<selenium.webdriver.remote.webelement.WebElement (session=\"70ba26a018599831e5aa6fbe5264f9a7\", element=\"465BC6C5B34F610842C612E6CB1000D7_element_110\")>\n",
      "내안에 4.29 대구 수성구 무학로 85 내안에\n"
     ]
    },
    {
     "name": "stderr",
     "output_type": "stream",
     "text": [
      "\n",
      " 20%|████████████████▌                                                                  | 2/10 [00:08<00:30,  3.81s/it]\u001b[A"
     ]
    },
    {
     "name": "stdout",
     "output_type": "stream",
     "text": [
      "<selenium.webdriver.remote.webelement.WebElement (session=\"70ba26a018599831e5aa6fbe5264f9a7\", element=\"465BC6C5B34F610842C612E6CB1000D7_element_160\")>\n",
      "패대기 들안길점 4.85 대구 수성구 들안로 51-1 1층\n",
      "<selenium.webdriver.remote.webelement.WebElement (session=\"70ba26a018599831e5aa6fbe5264f9a7\", element=\"465BC6C5B34F610842C612E6CB1000D7_element_201\")>\n"
     ]
    },
    {
     "name": "stderr",
     "output_type": "stream",
     "text": [
      "\n",
      " 30%|████████████████████████▉                                                          | 3/10 [00:15<00:37,  5.35s/it]\u001b[A"
     ]
    },
    {
     "name": "stdout",
     "output_type": "stream",
     "text": [
      "카이젠 NaN 대구 수성구 수성못2길 39 1층\n"
     ]
    },
    {
     "name": "stderr",
     "output_type": "stream",
     "text": [
      "\n",
      " 40%|█████████████████████████████████▏                                                 | 4/10 [00:17<00:24,  4.09s/it]\u001b[A"
     ]
    },
    {
     "name": "stdout",
     "output_type": "stream",
     "text": [
      "<selenium.webdriver.remote.webelement.WebElement (session=\"70ba26a018599831e5aa6fbe5264f9a7\", element=\"465BC6C5B34F610842C612E6CB1000D7_element_229\")>\n",
      "아티코 4.9 대구 수성구 지범로 43-12\n",
      "<selenium.webdriver.remote.webelement.WebElement (session=\"70ba26a018599831e5aa6fbe5264f9a7\", element=\"465BC6C5B34F610842C612E6CB1000D7_element_284\")>\n"
     ]
    },
    {
     "name": "stderr",
     "output_type": "stream",
     "text": [
      "\n",
      " 50%|█████████████████████████████████████████▌                                         | 5/10 [00:24<00:25,  5.20s/it]\u001b[A"
     ]
    },
    {
     "name": "stdout",
     "output_type": "stream",
     "text": [
      "화로38 수성못점 NaN 대구 수성구 수성못2길 55-1 4층\n",
      "<selenium.webdriver.remote.webelement.WebElement (session=\"70ba26a018599831e5aa6fbe5264f9a7\", element=\"465BC6C5B34F610842C612E6CB1000D7_element_324\")>\n"
     ]
    },
    {
     "name": "stderr",
     "output_type": "stream",
     "text": [
      "\n",
      " 60%|█████████████████████████████████████████████████▊                                 | 6/10 [00:32<00:23,  5.88s/it]\u001b[A"
     ]
    },
    {
     "name": "stdout",
     "output_type": "stream",
     "text": [
      "마담에뽀끄 대구수성못점 NaN 대구 수성구 수성못2길 21 2층 MADAM EPOQUE\n",
      "<selenium.webdriver.remote.webelement.WebElement (session=\"70ba26a018599831e5aa6fbe5264f9a7\", element=\"465BC6C5B34F610842C612E6CB1000D7_element_350\")>\n"
     ]
    },
    {
     "name": "stderr",
     "output_type": "stream",
     "text": [
      "\n",
      " 70%|██████████████████████████████████████████████████████████                         | 7/10 [00:39<00:18,  6.31s/it]\u001b[A"
     ]
    },
    {
     "name": "stdout",
     "output_type": "stream",
     "text": [
      "먼데이오프플리즈 대구 NaN 대구 수성구 수성못2길 27-5 1층, 2층\n"
     ]
    },
    {
     "name": "stderr",
     "output_type": "stream",
     "text": [
      "\n",
      " 80%|██████████████████████████████████████████████████████████████████▍                | 8/10 [00:41<00:09,  4.98s/it]\u001b[A"
     ]
    },
    {
     "name": "stdout",
     "output_type": "stream",
     "text": [
      "<selenium.webdriver.remote.webelement.WebElement (session=\"70ba26a018599831e5aa6fbe5264f9a7\", element=\"465BC6C5B34F610842C612E6CB1000D7_element_411\")>\n",
      "꽃피는화덕피자D485 대구수성못점 4.55 대구 수성구 용학로 111\n"
     ]
    },
    {
     "name": "stderr",
     "output_type": "stream",
     "text": [
      "\n",
      " 90%|██████████████████████████████████████████████████████████████████████████▋        | 9/10 [00:43<00:04,  4.10s/it]\u001b[A"
     ]
    },
    {
     "name": "stdout",
     "output_type": "stream",
     "text": [
      "<selenium.webdriver.remote.webelement.WebElement (session=\"70ba26a018599831e5aa6fbe5264f9a7\", element=\"465BC6C5B34F610842C612E6CB1000D7_element_455\")>\n",
      "용지봉 4.34 대구 수성구 들안로 9\n"
     ]
    },
    {
     "name": "stderr",
     "output_type": "stream",
     "text": [
      "\n",
      "100%|██████████████████████████████████████████████████████████████████████████████████| 10/10 [00:45<00:00,  4.57s/it]\u001b[A"
     ]
    },
    {
     "name": "stdout",
     "output_type": "stream",
     "text": [
      "<selenium.webdriver.remote.webelement.WebElement (session=\"70ba26a018599831e5aa6fbe5264f9a7\", element=\"465BC6C5B34F610842C612E6CB1000D7_element_496\")>\n",
      "소수미반상 4.46 대구 수성구 수성못2길 55 2층 소수미반상\n"
     ]
    },
    {
     "name": "stderr",
     "output_type": "stream",
     "text": [
      "\n",
      "  9%|██████▊                                                                        | 26/300 [14:21<3:06:45, 40.89s/it]\n",
      "0it [00:00, ?it/s]\u001b[A\n",
      "  9%|███████                                                                        | 27/300 [14:35<2:28:54, 32.73s/it]"
     ]
    },
    {
     "name": "stdout",
     "output_type": "stream",
     "text": [
      "블랙타코앤그릴\n",
      "빠레뜨한남 대구 동성로점\n",
      "머꼬삼겹살\n",
      "몽블랑드파리\n",
      "얼디\n",
      "노팅힐커피하우스\n",
      "사석\n",
      "오무하무 동성로점\n",
      "보난자카츠\n",
      "왕거미식당\n"
     ]
    },
    {
     "name": "stderr",
     "output_type": "stream",
     "text": [
      "\n",
      "  0%|                                                                                           | 0/10 [00:00<?, ?it/s]\u001b[A\n",
      " 10%|████████▎                                                                          | 1/10 [00:06<00:56,  6.24s/it]\u001b[A"
     ]
    },
    {
     "name": "stdout",
     "output_type": "stream",
     "text": [
      "<selenium.webdriver.remote.webelement.WebElement (session=\"86eaacba4ac7f27fb07b5478b5a718d9\", element=\"A1A5B744CD06CDFAF4DD1F17E482E827_element_112\")>\n",
      "블랙타코앤그릴 4.53 대구 중구 공평로 31 건물 2층\n",
      "<selenium.webdriver.remote.webelement.WebElement (session=\"86eaacba4ac7f27fb07b5478b5a718d9\", element=\"A1A5B744CD06CDFAF4DD1F17E482E827_element_159\")>\n"
     ]
    },
    {
     "name": "stderr",
     "output_type": "stream",
     "text": [
      "\n",
      " 20%|████████████████▌                                                                  | 2/10 [00:13<00:54,  6.77s/it]\u001b[A"
     ]
    },
    {
     "name": "stdout",
     "output_type": "stream",
     "text": [
      "빠레뜨한남 대구 동성로점 NaN 대구 중구 동성로2길 58 2층 빠레뜨한남\n"
     ]
    },
    {
     "name": "stderr",
     "output_type": "stream",
     "text": [
      "\n",
      " 30%|████████████████████████▉                                                          | 3/10 [00:15<00:32,  4.66s/it]\u001b[A"
     ]
    },
    {
     "name": "stdout",
     "output_type": "stream",
     "text": [
      "<selenium.webdriver.remote.webelement.WebElement (session=\"86eaacba4ac7f27fb07b5478b5a718d9\", element=\"A1A5B744CD06CDFAF4DD1F17E482E827_element_199\")>\n",
      "머꼬삼겹살 4.78 대구 중구 동성로3길 32-43 1층\n",
      "<selenium.webdriver.remote.webelement.WebElement (session=\"86eaacba4ac7f27fb07b5478b5a718d9\", element=\"A1A5B744CD06CDFAF4DD1F17E482E827_element_241\")>\n"
     ]
    },
    {
     "name": "stderr",
     "output_type": "stream",
     "text": [
      "\n",
      " 40%|█████████████████████████████████▏                                                 | 4/10 [00:22<00:33,  5.65s/it]\u001b[A"
     ]
    },
    {
     "name": "stdout",
     "output_type": "stream",
     "text": [
      "몽블랑드파리 NaN 대구 중구 동성로6길 21\n"
     ]
    },
    {
     "name": "stderr",
     "output_type": "stream",
     "text": [
      "\n",
      " 50%|█████████████████████████████████████████▌                                         | 5/10 [00:24<00:21,  4.38s/it]\u001b[A"
     ]
    },
    {
     "name": "stdout",
     "output_type": "stream",
     "text": [
      "<selenium.webdriver.remote.webelement.WebElement (session=\"86eaacba4ac7f27fb07b5478b5a718d9\", element=\"A1A5B744CD06CDFAF4DD1F17E482E827_element_281\")>\n",
      "얼디 4.69 대구 중구 달구벌대로445길 26-5 1층\n",
      "<selenium.webdriver.remote.webelement.WebElement (session=\"86eaacba4ac7f27fb07b5478b5a718d9\", element=\"A1A5B744CD06CDFAF4DD1F17E482E827_element_333\")>\n"
     ]
    },
    {
     "name": "stderr",
     "output_type": "stream",
     "text": [
      "\n",
      " 60%|█████████████████████████████████████████████████▊                                 | 6/10 [00:32<00:21,  5.33s/it]\u001b[A"
     ]
    },
    {
     "name": "stdout",
     "output_type": "stream",
     "text": [
      "노팅힐커피하우스 NaN 대구 중구 명륜로23길 56 1층\n",
      "<selenium.webdriver.remote.webelement.WebElement (session=\"86eaacba4ac7f27fb07b5478b5a718d9\", element=\"A1A5B744CD06CDFAF4DD1F17E482E827_element_355\")>\n"
     ]
    },
    {
     "name": "stderr",
     "output_type": "stream",
     "text": [
      "\n",
      " 70%|██████████████████████████████████████████████████████████                         | 7/10 [00:39<00:17,  5.94s/it]\u001b[A"
     ]
    },
    {
     "name": "stdout",
     "output_type": "stream",
     "text": [
      "사석 NaN 대구 중구 중앙대로 375 YMCA 건물 1층 사석\n",
      "<selenium.webdriver.remote.webelement.WebElement (session=\"86eaacba4ac7f27fb07b5478b5a718d9\", element=\"A1A5B744CD06CDFAF4DD1F17E482E827_element_380\")>\n"
     ]
    },
    {
     "name": "stderr",
     "output_type": "stream",
     "text": [
      "\n",
      " 80%|██████████████████████████████████████████████████████████████████▍                | 8/10 [00:46<00:12,  6.32s/it]\u001b[A"
     ]
    },
    {
     "name": "stdout",
     "output_type": "stream",
     "text": [
      "오무하무 동성로점 NaN 대구 중구 동성로3길 5 2층\n",
      "<selenium.webdriver.remote.webelement.WebElement (session=\"86eaacba4ac7f27fb07b5478b5a718d9\", element=\"A1A5B744CD06CDFAF4DD1F17E482E827_element_423\")>\n"
     ]
    },
    {
     "name": "stderr",
     "output_type": "stream",
     "text": [
      "\n",
      " 90%|██████████████████████████████████████████████████████████████████████████▋        | 9/10 [00:53<00:06,  6.59s/it]\u001b[A"
     ]
    },
    {
     "name": "stdout",
     "output_type": "stream",
     "text": [
      "보난자카츠 NaN 대구 중구 달구벌대로446길 28 1층\n"
     ]
    },
    {
     "name": "stderr",
     "output_type": "stream",
     "text": [
      "\n",
      "100%|██████████████████████████████████████████████████████████████████████████████████| 10/10 [00:55<00:00,  5.57s/it]\u001b[A"
     ]
    },
    {
     "name": "stdout",
     "output_type": "stream",
     "text": [
      "<selenium.webdriver.remote.webelement.WebElement (session=\"86eaacba4ac7f27fb07b5478b5a718d9\", element=\"A1A5B744CD06CDFAF4DD1F17E482E827_element_461\")>\n",
      "왕거미식당 4.42 대구 중구 국채보상로 696-8\n"
     ]
    },
    {
     "name": "stderr",
     "output_type": "stream",
     "text": [
      "\n",
      "  9%|███████▎                                                                       | 28/300 [15:43<3:16:15, 43.29s/it]"
     ]
    },
    {
     "name": "stdout",
     "output_type": "stream",
     "text": [
      "하삼동커피 청라언덕역점\n",
      "다금예전칼국수\n",
      "찰만생대패 남산점\n",
      "빗살 본점\n",
      "랑만\n",
      "우와생고기\n",
      "화평다방\n",
      "카페몬짜\n",
      "BBQ치킨 남산스마트점\n"
     ]
    },
    {
     "name": "stderr",
     "output_type": "stream",
     "text": [
      "\n",
      "  0%|                                                                                            | 0/9 [00:07<?, ?it/s]\u001b[A\n",
      " 10%|███████▋                                                                       | 29/300 [15:59<2:38:42, 35.14s/it]\n",
      "0it [00:00, ?it/s]\u001b[A\n",
      " 10%|███████▉                                                                       | 30/300 [16:13<2:10:03, 28.90s/it]\n",
      "0it [00:00, ?it/s]\u001b[A\n",
      " 10%|████████▏                                                                      | 31/300 [16:31<1:54:54, 25.63s/it]"
     ]
    },
    {
     "name": "stdout",
     "output_type": "stream",
     "text": [
      "카이젠\n",
      "아티코\n",
      "화로38 수성못점\n",
      "마담에뽀끄 대구수성못점\n",
      "용지봉\n",
      "먼데이오프플리즈 대구\n",
      "꽃피는화덕피자D485 대구수성못점\n",
      "수성못 스펠바운드 레스토랑\n",
      "소수미반상\n",
      "푸나왈라\n"
     ]
    },
    {
     "name": "stderr",
     "output_type": "stream",
     "text": [
      "\n",
      "  0%|                                                                                           | 0/10 [00:00<?, ?it/s]\u001b[A"
     ]
    },
    {
     "name": "stdout",
     "output_type": "stream",
     "text": [
      "<selenium.webdriver.remote.webelement.WebElement (session=\"390fd3fbf9b4c49fcfea180dac147830\", element=\"F931FC8DAF593006A832818F56FCFB6F_element_106\")>\n"
     ]
    },
    {
     "name": "stderr",
     "output_type": "stream",
     "text": [
      "\n",
      " 10%|████████▎                                                                          | 1/10 [00:11<01:40, 11.21s/it]\u001b[A"
     ]
    },
    {
     "name": "stdout",
     "output_type": "stream",
     "text": [
      "카이젠 NaN 대구 수성구 수성못2길 39 1층\n"
     ]
    },
    {
     "name": "stderr",
     "output_type": "stream",
     "text": [
      "\n",
      " 20%|████████████████▌                                                                  | 2/10 [00:13<00:46,  5.86s/it]\u001b[A"
     ]
    },
    {
     "name": "stdout",
     "output_type": "stream",
     "text": [
      "<selenium.webdriver.remote.webelement.WebElement (session=\"390fd3fbf9b4c49fcfea180dac147830\", element=\"F931FC8DAF593006A832818F56FCFB6F_element_157\")>\n",
      "아티코 4.9 대구 수성구 지범로 43-12\n",
      "<selenium.webdriver.remote.webelement.WebElement (session=\"390fd3fbf9b4c49fcfea180dac147830\", element=\"F931FC8DAF593006A832818F56FCFB6F_element_213\")>\n"
     ]
    },
    {
     "name": "stderr",
     "output_type": "stream",
     "text": [
      "\n",
      " 30%|████████████████████████▉                                                          | 3/10 [00:20<00:45,  6.47s/it]\u001b[A"
     ]
    },
    {
     "name": "stdout",
     "output_type": "stream",
     "text": [
      "화로38 수성못점 NaN 대구 수성구 수성못2길 55-1 4층\n",
      "<selenium.webdriver.remote.webelement.WebElement (session=\"390fd3fbf9b4c49fcfea180dac147830\", element=\"F931FC8DAF593006A832818F56FCFB6F_element_253\")>\n"
     ]
    },
    {
     "name": "stderr",
     "output_type": "stream",
     "text": [
      "\n",
      " 40%|█████████████████████████████████▏                                                 | 4/10 [00:27<00:40,  6.75s/it]\u001b[A"
     ]
    },
    {
     "name": "stdout",
     "output_type": "stream",
     "text": [
      "마담에뽀끄 대구수성못점 NaN 대구 수성구 수성못2길 21 2층 MADAM EPOQUE\n"
     ]
    },
    {
     "name": "stderr",
     "output_type": "stream",
     "text": [
      "\n",
      " 50%|█████████████████████████████████████████▌                                         | 5/10 [00:29<00:25,  5.08s/it]\u001b[A"
     ]
    },
    {
     "name": "stdout",
     "output_type": "stream",
     "text": [
      "<selenium.webdriver.remote.webelement.WebElement (session=\"390fd3fbf9b4c49fcfea180dac147830\", element=\"F931FC8DAF593006A832818F56FCFB6F_element_278\")>\n",
      "용지봉 4.34 대구 수성구 들안로 9\n",
      "<selenium.webdriver.remote.webelement.WebElement (session=\"390fd3fbf9b4c49fcfea180dac147830\", element=\"F931FC8DAF593006A832818F56FCFB6F_element_336\")>\n"
     ]
    },
    {
     "name": "stderr",
     "output_type": "stream",
     "text": [
      "\n",
      " 60%|█████████████████████████████████████████████████▊                                 | 6/10 [00:36<00:23,  5.78s/it]\u001b[A"
     ]
    },
    {
     "name": "stdout",
     "output_type": "stream",
     "text": [
      "먼데이오프플리즈 대구 NaN 대구 수성구 수성못2길 27-5 1층, 2층\n"
     ]
    },
    {
     "name": "stderr",
     "output_type": "stream",
     "text": [
      "\n",
      " 70%|██████████████████████████████████████████████████████████                         | 7/10 [00:39<00:13,  4.60s/it]\u001b[A"
     ]
    },
    {
     "name": "stdout",
     "output_type": "stream",
     "text": [
      "<selenium.webdriver.remote.webelement.WebElement (session=\"390fd3fbf9b4c49fcfea180dac147830\", element=\"F931FC8DAF593006A832818F56FCFB6F_element_382\")>\n",
      "꽃피는화덕피자D485 대구수성못점 4.55 대구 수성구 용학로 111\n"
     ]
    },
    {
     "name": "stderr",
     "output_type": "stream",
     "text": [
      "\n",
      " 80%|██████████████████████████████████████████████████████████████████▍                | 8/10 [00:41<00:07,  3.82s/it]\u001b[A"
     ]
    },
    {
     "name": "stdout",
     "output_type": "stream",
     "text": [
      "<selenium.webdriver.remote.webelement.WebElement (session=\"390fd3fbf9b4c49fcfea180dac147830\", element=\"F931FC8DAF593006A832818F56FCFB6F_element_406\")>\n",
      "수성못 스펠바운드 레스토랑 4.34 대구 수성구 용학로 106-5 2층\n"
     ]
    },
    {
     "name": "stderr",
     "output_type": "stream",
     "text": [
      "\n",
      " 90%|██████████████████████████████████████████████████████████████████████████▋        | 9/10 [00:43<00:03,  3.30s/it]\u001b[A"
     ]
    },
    {
     "name": "stdout",
     "output_type": "stream",
     "text": [
      "<selenium.webdriver.remote.webelement.WebElement (session=\"390fd3fbf9b4c49fcfea180dac147830\", element=\"F931FC8DAF593006A832818F56FCFB6F_element_451\")>\n",
      "소수미반상 4.46 대구 수성구 수성못2길 55 2층 소수미반상\n"
     ]
    },
    {
     "name": "stderr",
     "output_type": "stream",
     "text": [
      "\n",
      "100%|██████████████████████████████████████████████████████████████████████████████████| 10/10 [00:45<00:00,  4.56s/it]\u001b[A"
     ]
    },
    {
     "name": "stdout",
     "output_type": "stream",
     "text": [
      "<selenium.webdriver.remote.webelement.WebElement (session=\"390fd3fbf9b4c49fcfea180dac147830\", element=\"F931FC8DAF593006A832818F56FCFB6F_element_493\")>\n",
      "푸나왈라 4.63 대구 수성구 수성못2길 3 3층\n"
     ]
    },
    {
     "name": "stderr",
     "output_type": "stream",
     "text": [
      "\n",
      " 11%|████████▍                                                                      | 32/300 [17:33<2:42:56, 36.48s/it]"
     ]
    },
    {
     "name": "stdout",
     "output_type": "stream",
     "text": [
      "청담한쭈꾸미\n",
      "로렐트리 동촌유원지 본점\n",
      "마루막창 대구동촌유원지점\n",
      "민물장어 직판장 풍천관 동촌유원지점\n",
      "아양짚 동촌유원지점\n",
      "촘촘 동촌유원지점\n",
      "어물전&갈비찜고수 동촌유원지 본점\n",
      "더아양\n",
      "쭈꾸미네\n",
      "하잇테코이\n"
     ]
    },
    {
     "name": "stderr",
     "output_type": "stream",
     "text": [
      "\n",
      "  0%|                                                                                           | 0/10 [00:07<?, ?it/s]\u001b[A\n",
      " 11%|████████▋                                                                      | 33/300 [17:51<2:17:24, 30.88s/it]"
     ]
    },
    {
     "name": "stdout",
     "output_type": "stream",
     "text": [
      "사석\n",
      "경희식당\n",
      "수주식당\n",
      "몽블랑드파리\n",
      "구공탄막창\n",
      "유창반점\n",
      "빠레뜨한남 대구 동성로점\n",
      "신라식당\n",
      "삼미찜갈비 서문시장점\n",
      "태능집\n"
     ]
    },
    {
     "name": "stderr",
     "output_type": "stream",
     "text": [
      "\n",
      "  0%|                                                                                           | 0/10 [00:00<?, ?it/s]\u001b[A"
     ]
    },
    {
     "name": "stdout",
     "output_type": "stream",
     "text": [
      "<selenium.webdriver.remote.webelement.WebElement (session=\"7f9d0af6dd790987aee653429ab80ad8\", element=\"9CF689657A573D6D2509DD832AAE3C43_element_111\")>\n"
     ]
    },
    {
     "name": "stderr",
     "output_type": "stream",
     "text": [
      "\n",
      " 10%|████████▎                                                                          | 1/10 [00:11<01:41, 11.24s/it]\u001b[A"
     ]
    },
    {
     "name": "stdout",
     "output_type": "stream",
     "text": [
      "사석 NaN 대구 중구 중앙대로 375 YMCA 건물 1층 사석\n"
     ]
    },
    {
     "name": "stderr",
     "output_type": "stream",
     "text": [
      "\n",
      " 20%|████████████████▌                                                                  | 2/10 [00:13<00:47,  5.88s/it]\u001b[A"
     ]
    },
    {
     "name": "stdout",
     "output_type": "stream",
     "text": [
      "<selenium.webdriver.remote.webelement.WebElement (session=\"7f9d0af6dd790987aee653429ab80ad8\", element=\"9CF689657A573D6D2509DD832AAE3C43_element_153\")>\n",
      "경희식당 4.34 대구 중구 큰장로28길 25\n"
     ]
    },
    {
     "name": "stderr",
     "output_type": "stream",
     "text": [
      "\n",
      " 30%|████████████████████████▉                                                          | 3/10 [00:15<00:29,  4.17s/it]\u001b[A"
     ]
    },
    {
     "name": "stdout",
     "output_type": "stream",
     "text": [
      "<selenium.webdriver.remote.webelement.WebElement (session=\"7f9d0af6dd790987aee653429ab80ad8\", element=\"9CF689657A573D6D2509DD832AAE3C43_element_197\")>\n",
      "수주식당 4.51 대구 중구 중앙대로81길 58 1층 수주식당\n",
      "<selenium.webdriver.remote.webelement.WebElement (session=\"7f9d0af6dd790987aee653429ab80ad8\", element=\"9CF689657A573D6D2509DD832AAE3C43_element_253\")>\n"
     ]
    },
    {
     "name": "stderr",
     "output_type": "stream",
     "text": [
      "\n",
      " 40%|█████████████████████████████████▏                                                 | 4/10 [00:22<00:32,  5.35s/it]\u001b[A"
     ]
    },
    {
     "name": "stdout",
     "output_type": "stream",
     "text": [
      "몽블랑드파리 NaN 대구 중구 동성로6길 21\n",
      "<selenium.webdriver.remote.webelement.WebElement (session=\"7f9d0af6dd790987aee653429ab80ad8\", element=\"9CF689657A573D6D2509DD832AAE3C43_element_294\")>\n"
     ]
    },
    {
     "name": "stderr",
     "output_type": "stream",
     "text": [
      "\n",
      " 50%|█████████████████████████████████████████▌                                         | 5/10 [00:29<00:30,  6.01s/it]\u001b[A"
     ]
    },
    {
     "name": "stdout",
     "output_type": "stream",
     "text": [
      "구공탄막창 NaN 대구 서구 국채보상로 308 1층\n",
      "<selenium.webdriver.remote.webelement.WebElement (session=\"7f9d0af6dd790987aee653429ab80ad8\", element=\"9CF689657A573D6D2509DD832AAE3C43_element_333\")>\n"
     ]
    },
    {
     "name": "stderr",
     "output_type": "stream",
     "text": [
      "\n",
      " 60%|█████████████████████████████████████████████████▊                                 | 6/10 [00:37<00:25,  6.41s/it]\u001b[A"
     ]
    },
    {
     "name": "stdout",
     "output_type": "stream",
     "text": [
      "유창반점 NaN 대구 중구 명륜로 20 1층\n",
      "<selenium.webdriver.remote.webelement.WebElement (session=\"7f9d0af6dd790987aee653429ab80ad8\", element=\"9CF689657A573D6D2509DD832AAE3C43_element_358\")>\n"
     ]
    },
    {
     "name": "stderr",
     "output_type": "stream",
     "text": [
      "\n",
      " 70%|██████████████████████████████████████████████████████████                         | 7/10 [00:44<00:19,  6.66s/it]\u001b[A"
     ]
    },
    {
     "name": "stdout",
     "output_type": "stream",
     "text": [
      "빠레뜨한남 대구 동성로점 NaN 대구 중구 동성로2길 58 2층 빠레뜨한남\n"
     ]
    },
    {
     "name": "stderr",
     "output_type": "stream",
     "text": [
      "\n",
      " 80%|██████████████████████████████████████████████████████████████████▍                | 8/10 [00:46<00:10,  5.23s/it]\u001b[A"
     ]
    },
    {
     "name": "stdout",
     "output_type": "stream",
     "text": [
      "<selenium.webdriver.remote.webelement.WebElement (session=\"7f9d0af6dd790987aee653429ab80ad8\", element=\"9CF689657A573D6D2509DD832AAE3C43_element_368\")>\n",
      "신라식당 4.39 대구 중구 중앙대로 406-8\n"
     ]
    },
    {
     "name": "stderr",
     "output_type": "stream",
     "text": [
      "\n",
      " 90%|██████████████████████████████████████████████████████████████████████████▋        | 9/10 [00:48<00:04,  4.26s/it]\u001b[A"
     ]
    },
    {
     "name": "stdout",
     "output_type": "stream",
     "text": [
      "<selenium.webdriver.remote.webelement.WebElement (session=\"7f9d0af6dd790987aee653429ab80ad8\", element=\"9CF689657A573D6D2509DD832AAE3C43_element_414\")>\n",
      "삼미찜갈비 서문시장점 4.2 대구 중구 큰장로28길 25\n"
     ]
    },
    {
     "name": "stderr",
     "output_type": "stream",
     "text": [
      "\n",
      "100%|██████████████████████████████████████████████████████████████████████████████████| 10/10 [00:50<00:00,  5.07s/it]\u001b[A"
     ]
    },
    {
     "name": "stdout",
     "output_type": "stream",
     "text": [
      "<selenium.webdriver.remote.webelement.WebElement (session=\"7f9d0af6dd790987aee653429ab80ad8\", element=\"9CF689657A573D6D2509DD832AAE3C43_element_442\")>\n",
      "태능집 4.44 대구 중구 달성로22길 86\n"
     ]
    },
    {
     "name": "stderr",
     "output_type": "stream",
     "text": [
      "\n",
      " 11%|████████▉                                                                      | 34/300 [18:57<3:03:51, 41.47s/it]"
     ]
    },
    {
     "name": "stdout",
     "output_type": "stream",
     "text": [
      "도원돌판오리\n",
      "유미정\n",
      "홍익돈까스 대구수변공원점\n",
      "카모가와 스시\n",
      "시래한상 대구월광수변공원본점\n",
      "원풍참한닭\n",
      "문라이트 브런치카페\n",
      "할매묵집\n",
      "오프트 대구\n",
      "도원돌판오리\n"
     ]
    },
    {
     "name": "stderr",
     "output_type": "stream",
     "text": [
      "\n",
      "  0%|                                                                                           | 0/10 [00:07<?, ?it/s]\u001b[A\n",
      " 12%|█████████▏                                                                     | 35/300 [19:15<2:31:33, 34.32s/it]"
     ]
    },
    {
     "name": "stdout",
     "output_type": "stream",
     "text": [
      "애하인앞산\n",
      "봉수낙지\n"
     ]
    },
    {
     "name": "stderr",
     "output_type": "stream",
     "text": [
      "\n",
      "  0%|                                                                                            | 0/2 [00:00<?, ?it/s]\u001b[A"
     ]
    },
    {
     "name": "stdout",
     "output_type": "stream",
     "text": [
      "<selenium.webdriver.remote.webelement.WebElement (session=\"404bdd39e924ebb15bc9678cbbff5375\", element=\"7636103BAA1662BA1DA99449A41525C9_element_92\")>\n"
     ]
    },
    {
     "name": "stderr",
     "output_type": "stream",
     "text": [
      "\n",
      " 50%|██████████████████████████████████████████                                          | 1/2 [00:11<00:11, 11.22s/it]\u001b[A"
     ]
    },
    {
     "name": "stdout",
     "output_type": "stream",
     "text": [
      "애하인앞산 NaN 대구 남구 용두2길 26 1층\n"
     ]
    },
    {
     "name": "stderr",
     "output_type": "stream",
     "text": [
      "\n",
      "100%|████████████████████████████████████████████████████████████████████████████████████| 2/2 [00:13<00:00,  6.67s/it]\u001b[A"
     ]
    },
    {
     "name": "stdout",
     "output_type": "stream",
     "text": [
      "<selenium.webdriver.remote.webelement.WebElement (session=\"404bdd39e924ebb15bc9678cbbff5375\", element=\"7636103BAA1662BA1DA99449A41525C9_element_120\")>\n",
      "봉수낙지 4.5 대구 남구 대명로14길 112\n"
     ]
    },
    {
     "name": "stderr",
     "output_type": "stream",
     "text": [
      "\n",
      " 12%|█████████▍                                                                     | 36/300 [19:41<2:20:26, 31.92s/it]"
     ]
    },
    {
     "name": "stdout",
     "output_type": "stream",
     "text": [
      "명인집 근대역사관점\n"
     ]
    },
    {
     "name": "stderr",
     "output_type": "stream",
     "text": [
      "\n",
      "  0%|                                                                                            | 0/1 [00:07<?, ?it/s]\u001b[A\n",
      " 12%|█████████▋                                                                     | 37/300 [19:57<1:59:06, 27.17s/it]\n",
      "0it [00:00, ?it/s]\u001b[A\n",
      " 13%|██████████                                                                     | 38/300 [20:11<1:40:48, 23.09s/it]\n",
      "0it [00:00, ?it/s]\u001b[A\n",
      " 13%|██████████▎                                                                    | 39/300 [20:28<1:32:46, 21.33s/it]\n",
      "0it [00:00, ?it/s]\u001b[A\n",
      " 13%|██████████▌                                                                    | 40/300 [20:45<1:27:05, 20.10s/it]"
     ]
    },
    {
     "name": "stdout",
     "output_type": "stream",
     "text": [
      "이디야커피 대구어린이세상점\n"
     ]
    },
    {
     "name": "stderr",
     "output_type": "stream",
     "text": [
      "\n",
      "  0%|                                                                                            | 0/1 [00:00<?, ?it/s]\u001b[A"
     ]
    },
    {
     "name": "stdout",
     "output_type": "stream",
     "text": [
      "<selenium.webdriver.remote.webelement.WebElement (session=\"32727e50a278c3bf58a77b6dd0e5a7ce\", element=\"AFE460636E81476DFBBD6EAE58B960C0_element_80\")>\n"
     ]
    },
    {
     "name": "stderr",
     "output_type": "stream",
     "text": [
      "\n",
      "100%|████████████████████████████████████████████████████████████████████████████████████| 1/1 [00:11<00:00, 11.24s/it]\u001b[A"
     ]
    },
    {
     "name": "stdout",
     "output_type": "stream",
     "text": [
      "이디야커피 대구어린이세상점 NaN 대구 수성구 동대구로 176 지하1층\n"
     ]
    },
    {
     "name": "stderr",
     "output_type": "stream",
     "text": [
      "\n",
      " 14%|██████████▊                                                                    | 41/300 [21:12<1:36:09, 22.28s/it]"
     ]
    },
    {
     "name": "stdout",
     "output_type": "stream",
     "text": [
      "장미공원막창\n",
      "저스트텐동 계대점\n",
      "물그나무 카페\n"
     ]
    },
    {
     "name": "stderr",
     "output_type": "stream",
     "text": [
      "\n",
      "  0%|                                                                                            | 0/3 [00:07<?, ?it/s]\u001b[A\n",
      " 14%|███████████                                                                    | 42/300 [21:29<1:28:59, 20.69s/it]"
     ]
    },
    {
     "name": "stdout",
     "output_type": "stream",
     "text": [
      "라헬의부엌 분당점\n",
      "Sov 무국적술집\n",
      "스타벅스 대구228중앙공원점\n",
      "양춘회\n",
      "밤새먹소 걸포중앙공원점\n",
      "카페 태평살롱\n",
      "꽃피는닭갈비 권선중앙공원\n",
      "스타벅스 간석중앙공원DT점\n",
      "BHC치킨 산본중앙공원점\n",
      "커피빈 화정중앙공원점\n"
     ]
    },
    {
     "name": "stderr",
     "output_type": "stream",
     "text": [
      "\n",
      "  0%|                                                                                           | 0/10 [00:00<?, ?it/s]\u001b[A"
     ]
    },
    {
     "name": "stdout",
     "output_type": "stream",
     "text": [
      "<selenium.webdriver.remote.webelement.WebElement (session=\"bb598159d1d41e245e7e2568b851e48f\", element=\"1DF48BA739BCC28271EAFD6AD952890D_element_104\")>\n"
     ]
    },
    {
     "name": "stderr",
     "output_type": "stream",
     "text": [
      "\n",
      " 10%|████████▎                                                                          | 1/10 [00:11<01:41, 11.25s/it]\u001b[A"
     ]
    },
    {
     "name": "stdout",
     "output_type": "stream",
     "text": [
      "라헬의부엌 분당점 NaN 경기 성남시 분당구 수내로 39 1층 120-2, 121호\n",
      "<selenium.webdriver.remote.webelement.WebElement (session=\"bb598159d1d41e245e7e2568b851e48f\", element=\"1DF48BA739BCC28271EAFD6AD952890D_element_164\")>\n"
     ]
    },
    {
     "name": "stderr",
     "output_type": "stream",
     "text": [
      "\n",
      " 20%|████████████████▌                                                                  | 2/10 [00:18<01:10,  8.86s/it]\u001b[A"
     ]
    },
    {
     "name": "stdout",
     "output_type": "stream",
     "text": [
      "Sov 무국적술집 NaN 경기 성남시 분당구 황새울로360번길 24 203~4호(서현동, 대명코 아)\n"
     ]
    },
    {
     "name": "stderr",
     "output_type": "stream",
     "text": [
      "\n",
      " 30%|████████████████████████▉                                                          | 3/10 [00:20<00:40,  5.78s/it]\u001b[A"
     ]
    },
    {
     "name": "stdout",
     "output_type": "stream",
     "text": [
      "<selenium.webdriver.remote.webelement.WebElement (session=\"bb598159d1d41e245e7e2568b851e48f\", element=\"1DF48BA739BCC28271EAFD6AD952890D_element_191\")>\n",
      "스타벅스 대구228중앙공원점 4.61 대구 중구 동성로2길 95\n",
      "<selenium.webdriver.remote.webelement.WebElement (session=\"bb598159d1d41e245e7e2568b851e48f\", element=\"1DF48BA739BCC28271EAFD6AD952890D_element_225\")>\n"
     ]
    },
    {
     "name": "stderr",
     "output_type": "stream",
     "text": [
      "\n",
      " 40%|█████████████████████████████████▏                                                 | 4/10 [00:27<00:38,  6.35s/it]\u001b[A"
     ]
    },
    {
     "name": "stdout",
     "output_type": "stream",
     "text": [
      "양춘회 NaN 대구 중구 경상감영1길 13 1층\n"
     ]
    },
    {
     "name": "stderr",
     "output_type": "stream",
     "text": [
      "\n",
      " 50%|█████████████████████████████████████████▌                                         | 5/10 [00:29<00:24,  4.83s/it]\u001b[A"
     ]
    },
    {
     "name": "stdout",
     "output_type": "stream",
     "text": [
      "<selenium.webdriver.remote.webelement.WebElement (session=\"bb598159d1d41e245e7e2568b851e48f\", element=\"1DF48BA739BCC28271EAFD6AD952890D_element_251\")>\n",
      "밤새먹소 걸포중앙공원점 4.48 경기 김포시 걸포로 94 1층밤새먹소\n",
      "<selenium.webdriver.remote.webelement.WebElement (session=\"bb598159d1d41e245e7e2568b851e48f\", element=\"1DF48BA739BCC28271EAFD6AD952890D_element_295\")>\n"
     ]
    },
    {
     "name": "stderr",
     "output_type": "stream",
     "text": [
      "\n",
      " 60%|█████████████████████████████████████████████████▊                                 | 6/10 [00:37<00:22,  5.62s/it]\u001b[A"
     ]
    },
    {
     "name": "stdout",
     "output_type": "stream",
     "text": [
      "카페 태평살롱 NaN 대구 중구 서성로14길 84 1층\n",
      "<selenium.webdriver.remote.webelement.WebElement (session=\"bb598159d1d41e245e7e2568b851e48f\", element=\"1DF48BA739BCC28271EAFD6AD952890D_element_336\")>\n"
     ]
    },
    {
     "name": "stderr",
     "output_type": "stream",
     "text": [
      "\n",
      " 70%|██████████████████████████████████████████████████████████                         | 7/10 [00:44<00:18,  6.14s/it]\u001b[A"
     ]
    },
    {
     "name": "stdout",
     "output_type": "stream",
     "text": [
      "꽃피는닭갈비 권선중앙공원 NaN 경기 수원시 권선구 권중로56번길 2 1층\n"
     ]
    },
    {
     "name": "stderr",
     "output_type": "stream",
     "text": [
      "\n",
      " 80%|██████████████████████████████████████████████████████████████████▍                | 8/10 [00:46<00:09,  4.87s/it]\u001b[A"
     ]
    },
    {
     "name": "stdout",
     "output_type": "stream",
     "text": [
      "<selenium.webdriver.remote.webelement.WebElement (session=\"bb598159d1d41e245e7e2568b851e48f\", element=\"1DF48BA739BCC28271EAFD6AD952890D_element_357\")>\n",
      "스타벅스 간석중앙공원DT점 4.45 인천 남동구 경인로 563\n"
     ]
    },
    {
     "name": "stderr",
     "output_type": "stream",
     "text": [
      "\n",
      " 90%|██████████████████████████████████████████████████████████████████████████▋        | 9/10 [00:48<00:04,  4.01s/it]\u001b[A"
     ]
    },
    {
     "name": "stdout",
     "output_type": "stream",
     "text": [
      "<selenium.webdriver.remote.webelement.WebElement (session=\"bb598159d1d41e245e7e2568b851e48f\", element=\"1DF48BA739BCC28271EAFD6AD952890D_element_402\")>\n",
      "BHC치킨 산본중앙공원점 4.43 경기 군포시 산본로386번길 5-7\n"
     ]
    },
    {
     "name": "stderr",
     "output_type": "stream",
     "text": [
      "\n",
      "100%|██████████████████████████████████████████████████████████████████████████████████| 10/10 [00:50<00:00,  5.07s/it]\u001b[A"
     ]
    },
    {
     "name": "stdout",
     "output_type": "stream",
     "text": [
      "<selenium.webdriver.remote.webelement.WebElement (session=\"bb598159d1d41e245e7e2568b851e48f\", element=\"1DF48BA739BCC28271EAFD6AD952890D_element_428\")>\n",
      "커피빈 화정중앙공원점 4.45 경기 고양시 덕양구 화신로260번길 26 동민프라자빌딩\n"
     ]
    },
    {
     "name": "stderr",
     "output_type": "stream",
     "text": [
      "\n",
      " 14%|███████████▎                                                                   | 43/300 [22:34<2:25:02, 33.86s/it]"
     ]
    },
    {
     "name": "stdout",
     "output_type": "stream",
     "text": [
      "봉수낙지\n"
     ]
    },
    {
     "name": "stderr",
     "output_type": "stream",
     "text": [
      "\n",
      "  0%|                                                                                            | 0/1 [00:07<?, ?it/s]\u001b[A\n",
      " 15%|███████████▌                                                                   | 44/300 [22:51<2:02:37, 28.74s/it]\n",
      "0it [00:00, ?it/s]\u001b[A\n",
      " 15%|███████████▊                                                                   | 45/300 [23:05<1:43:54, 24.45s/it]"
     ]
    },
    {
     "name": "stdout",
     "output_type": "stream",
     "text": [
      "뜨돈 테크노점\n",
      "슬로우스톤\n",
      "국밥슐랭\n",
      "오르망\n",
      "유가네닭갈비 대구현풍점\n",
      "어물전 현풍점\n",
      "갈비만 현풍테크노폴리스 직영점\n",
      "오봉집 현풍점\n",
      "나폴리언덕\n",
      "박대박왕소금구이\n"
     ]
    },
    {
     "name": "stderr",
     "output_type": "stream",
     "text": [
      "\n",
      "  0%|                                                                                           | 0/10 [00:00<?, ?it/s]\u001b[A\n",
      " 10%|████████▎                                                                          | 1/10 [00:06<00:55,  6.18s/it]\u001b[A"
     ]
    },
    {
     "name": "stdout",
     "output_type": "stream",
     "text": [
      "<selenium.webdriver.remote.webelement.WebElement (session=\"ccafb40d44549929cfb2c06fb6ff1bb9\", element=\"97D20D0DAF7B0C944F487FD31E06ECDB_element_136\")>\n",
      "뜨돈 테크노점 4.5 대구 달성군 유가읍 테크노상업로 98 비슬타워 201호\n"
     ]
    },
    {
     "name": "stderr",
     "output_type": "stream",
     "text": [
      "\n",
      " 20%|████████████████▌                                                                  | 2/10 [00:08<00:30,  3.79s/it]\u001b[A"
     ]
    },
    {
     "name": "stdout",
     "output_type": "stream",
     "text": [
      "<selenium.webdriver.remote.webelement.WebElement (session=\"ccafb40d44549929cfb2c06fb6ff1bb9\", element=\"97D20D0DAF7B0C944F487FD31E06ECDB_element_162\")>\n",
      "슬로우스톤 4.64 대구 달성군 유가읍 휴양림길 109 슬로우스톤\n"
     ]
    },
    {
     "name": "stderr",
     "output_type": "stream",
     "text": [
      "\n",
      " 30%|████████████████████████▉                                                          | 3/10 [00:10<00:21,  3.05s/it]\u001b[A"
     ]
    },
    {
     "name": "stdout",
     "output_type": "stream",
     "text": [
      "<selenium.webdriver.remote.webelement.WebElement (session=\"ccafb40d44549929cfb2c06fb6ff1bb9\", element=\"97D20D0DAF7B0C944F487FD31E06ECDB_element_206\")>\n",
      "국밥슐랭 4.59 대구 달성군 유가읍 테크노순환로12길 4 1층\n"
     ]
    },
    {
     "name": "stderr",
     "output_type": "stream",
     "text": [
      "\n",
      " 40%|█████████████████████████████████▏                                                 | 4/10 [00:12<00:16,  2.69s/it]\u001b[A"
     ]
    },
    {
     "name": "stdout",
     "output_type": "stream",
     "text": [
      "<selenium.webdriver.remote.webelement.WebElement (session=\"ccafb40d44549929cfb2c06fb6ff1bb9\", element=\"97D20D0DAF7B0C944F487FD31E06ECDB_element_235\")>\n",
      "오르망 4.45 대구 달성군 유가읍 휴양림길 215 오르망 카페\n"
     ]
    },
    {
     "name": "stderr",
     "output_type": "stream",
     "text": [
      "\n",
      " 50%|█████████████████████████████████████████▌                                         | 5/10 [00:14<00:12,  2.50s/it]\u001b[A"
     ]
    },
    {
     "name": "stdout",
     "output_type": "stream",
     "text": [
      "<selenium.webdriver.remote.webelement.WebElement (session=\"ccafb40d44549929cfb2c06fb6ff1bb9\", element=\"97D20D0DAF7B0C944F487FD31E06ECDB_element_261\")>\n",
      "유가네닭갈비 대구현풍점 4.53 대구 달성군 유가읍 테크노상업로4길 8-7 유가네닭갈비 대구현풍점\n",
      "<selenium.webdriver.remote.webelement.WebElement (session=\"ccafb40d44549929cfb2c06fb6ff1bb9\", element=\"97D20D0DAF7B0C944F487FD31E06ECDB_element_302\")>\n"
     ]
    },
    {
     "name": "stderr",
     "output_type": "stream",
     "text": [
      "\n",
      " 60%|█████████████████████████████████████████████████▊                                 | 6/10 [00:21<00:16,  4.09s/it]\u001b[A"
     ]
    },
    {
     "name": "stdout",
     "output_type": "stream",
     "text": [
      "어물전 현풍점 NaN 대구 달성군 유가읍 테크노순환로12길 33 1층 103~106호\n"
     ]
    },
    {
     "name": "stderr",
     "output_type": "stream",
     "text": [
      "\n",
      " 70%|██████████████████████████████████████████████████████████                         | 7/10 [00:24<00:10,  3.45s/it]\u001b[A"
     ]
    },
    {
     "name": "stdout",
     "output_type": "stream",
     "text": [
      "<selenium.webdriver.remote.webelement.WebElement (session=\"ccafb40d44549929cfb2c06fb6ff1bb9\", element=\"97D20D0DAF7B0C944F487FD31E06ECDB_element_343\")>\n",
      "갈비만 현풍테크노폴리스 직영점 4.61 대구 달성군 유가읍 테크노상업로 110 2층\n",
      "<selenium.webdriver.remote.webelement.WebElement (session=\"ccafb40d44549929cfb2c06fb6ff1bb9\", element=\"97D20D0DAF7B0C944F487FD31E06ECDB_element_385\")>\n"
     ]
    },
    {
     "name": "stderr",
     "output_type": "stream",
     "text": [
      "\n",
      " 80%|██████████████████████████████████████████████████████████████████▍                | 8/10 [00:31<00:09,  4.64s/it]\u001b[A"
     ]
    },
    {
     "name": "stdout",
     "output_type": "stream",
     "text": [
      "오봉집 현풍점 NaN 대구 달성군 유가읍 테크노상업로4길 17-5 1층 103, 104호\n",
      "<selenium.webdriver.remote.webelement.WebElement (session=\"ccafb40d44549929cfb2c06fb6ff1bb9\", element=\"97D20D0DAF7B0C944F487FD31E06ECDB_element_411\")>\n"
     ]
    },
    {
     "name": "stderr",
     "output_type": "stream",
     "text": [
      "\n",
      " 90%|██████████████████████████████████████████████████████████████████████████▋        | 9/10 [00:38<00:05,  5.45s/it]\u001b[A"
     ]
    },
    {
     "name": "stdout",
     "output_type": "stream",
     "text": [
      "나폴리언덕 NaN 대구 달성군 유가읍 테크노순환로12길 33\n"
     ]
    },
    {
     "name": "stderr",
     "output_type": "stream",
     "text": [
      "\n",
      "100%|██████████████████████████████████████████████████████████████████████████████████| 10/10 [00:40<00:00,  4.06s/it]\u001b[A"
     ]
    },
    {
     "name": "stdout",
     "output_type": "stream",
     "text": [
      "<selenium.webdriver.remote.webelement.WebElement (session=\"ccafb40d44549929cfb2c06fb6ff1bb9\", element=\"97D20D0DAF7B0C944F487FD31E06ECDB_element_421\")>\n",
      "박대박왕소금구이 4.61 대구 달성군 유가읍 테크노상업로4길 14\n"
     ]
    },
    {
     "name": "stderr",
     "output_type": "stream",
     "text": [
      "\n",
      " 15%|████████████                                                                   | 46/300 [24:02<2:24:36, 34.16s/it]"
     ]
    },
    {
     "name": "stdout",
     "output_type": "stream",
     "text": [
      "카페기브온\n",
      "호야네식당\n",
      "카페 보물350\n",
      "도동리138\n",
      "카페D.D.R.628\n",
      "개경포주막\n",
      "삼성식당\n",
      "대천식육식당\n",
      "나루터식당\n"
     ]
    },
    {
     "name": "stderr",
     "output_type": "stream",
     "text": [
      "\n",
      "  0%|                                                                                            | 0/9 [00:07<?, ?it/s]\u001b[A\n",
      " 16%|████████████▍                                                                  | 47/300 [24:18<2:01:15, 28.76s/it]\n",
      "0it [00:00, ?it/s]\u001b[A\n",
      " 16%|████████████▋                                                                  | 48/300 [24:32<1:41:54, 24.26s/it]"
     ]
    },
    {
     "name": "stdout",
     "output_type": "stream",
     "text": [
      "고향식당\n",
      "올라오니\n",
      "산중식당 팔공산본점\n",
      "올바릇 나사리식당\n",
      "산채식당\n",
      "탑골식당\n",
      "수다레스토랑\n",
      "째미핑거\n",
      "티아이티에프\n",
      "가원식당\n"
     ]
    },
    {
     "name": "stderr",
     "output_type": "stream",
     "text": [
      "\n",
      "  0%|                                                                                           | 0/10 [00:00<?, ?it/s]\u001b[A\n",
      " 10%|████████▎                                                                          | 1/10 [00:06<00:56,  6.23s/it]\u001b[A"
     ]
    },
    {
     "name": "stdout",
     "output_type": "stream",
     "text": [
      "<selenium.webdriver.remote.webelement.WebElement (session=\"2df56e46d42a8a77b55472a6d9907489\", element=\"DC62F528930AD00C951E3FB1126D0532_element_112\")>\n",
      "고향식당 4.3 대구 동구 팔공산로185길 63\n",
      "<selenium.webdriver.remote.webelement.WebElement (session=\"2df56e46d42a8a77b55472a6d9907489\", element=\"DC62F528930AD00C951E3FB1126D0532_element_161\")>\n"
     ]
    },
    {
     "name": "stderr",
     "output_type": "stream",
     "text": [
      "\n",
      " 20%|████████████████▌                                                                  | 2/10 [00:13<00:53,  6.75s/it]\u001b[A"
     ]
    },
    {
     "name": "stdout",
     "output_type": "stream",
     "text": [
      "올라오니 NaN 대구 동구 팔공산로185길 60 1층, 2층 올라오니\n"
     ]
    },
    {
     "name": "stderr",
     "output_type": "stream",
     "text": [
      "\n",
      " 30%|████████████████████████▉                                                          | 3/10 [00:15<00:32,  4.64s/it]\u001b[A"
     ]
    },
    {
     "name": "stdout",
     "output_type": "stream",
     "text": [
      "<selenium.webdriver.remote.webelement.WebElement (session=\"2df56e46d42a8a77b55472a6d9907489\", element=\"DC62F528930AD00C951E3FB1126D0532_element_204\")>\n",
      "산중식당 팔공산본점 4.33 대구 동구 팔공산로185길 55 1층\n",
      "<selenium.webdriver.remote.webelement.WebElement (session=\"2df56e46d42a8a77b55472a6d9907489\", element=\"DC62F528930AD00C951E3FB1126D0532_element_232\")>\n"
     ]
    },
    {
     "name": "stderr",
     "output_type": "stream",
     "text": [
      "\n",
      " 40%|█████████████████████████████████▏                                                 | 4/10 [00:22<00:33,  5.64s/it]\u001b[A"
     ]
    },
    {
     "name": "stdout",
     "output_type": "stream",
     "text": [
      "올바릇 나사리식당 NaN 대구 동구 팔공산로 1179 1층~3층\n"
     ]
    },
    {
     "name": "stderr",
     "output_type": "stream",
     "text": [
      "\n",
      " 50%|█████████████████████████████████████████▌                                         | 5/10 [00:24<00:21,  4.38s/it]\u001b[A"
     ]
    },
    {
     "name": "stdout",
     "output_type": "stream",
     "text": [
      "<selenium.webdriver.remote.webelement.WebElement (session=\"2df56e46d42a8a77b55472a6d9907489\", element=\"DC62F528930AD00C951E3FB1126D0532_element_257\")>\n",
      "산채식당 4.38 대구 동구 팔공산로185길 72\n"
     ]
    },
    {
     "name": "stderr",
     "output_type": "stream",
     "text": [
      "\n",
      " 60%|█████████████████████████████████████████████████▊                                 | 6/10 [00:26<00:14,  3.62s/it]\u001b[A"
     ]
    },
    {
     "name": "stdout",
     "output_type": "stream",
     "text": [
      "<selenium.webdriver.remote.webelement.WebElement (session=\"2df56e46d42a8a77b55472a6d9907489\", element=\"DC62F528930AD00C951E3FB1126D0532_element_281\")>\n",
      "탑골식당 4.49 대구 동구 동화사2길 21-7 1층\n"
     ]
    },
    {
     "name": "stderr",
     "output_type": "stream",
     "text": [
      "\n",
      " 70%|██████████████████████████████████████████████████████████                         | 7/10 [00:29<00:09,  3.14s/it]\u001b[A"
     ]
    },
    {
     "name": "stdout",
     "output_type": "stream",
     "text": [
      "<selenium.webdriver.remote.webelement.WebElement (session=\"2df56e46d42a8a77b55472a6d9907489\", element=\"DC62F528930AD00C951E3FB1126D0532_element_340\")>\n",
      "수다레스토랑 4.59 대구 동구 동화사2길 21-10\n"
     ]
    },
    {
     "name": "stderr",
     "output_type": "stream",
     "text": [
      "\n",
      " 80%|██████████████████████████████████████████████████████████████████▍                | 8/10 [00:31<00:05,  2.82s/it]\u001b[A"
     ]
    },
    {
     "name": "stdout",
     "output_type": "stream",
     "text": [
      "<selenium.webdriver.remote.webelement.WebElement (session=\"2df56e46d42a8a77b55472a6d9907489\", element=\"DC62F528930AD00C951E3FB1126D0532_element_385\")>\n",
      "째미핑거 4.59 대구 동구 팔공산로 1165-7\n",
      "<selenium.webdriver.remote.webelement.WebElement (session=\"2df56e46d42a8a77b55472a6d9907489\", element=\"DC62F528930AD00C951E3FB1126D0532_element_411\")>\n"
     ]
    },
    {
     "name": "stderr",
     "output_type": "stream",
     "text": [
      "\n",
      " 90%|██████████████████████████████████████████████████████████████████████████▋        | 9/10 [00:38<00:04,  4.17s/it]\u001b[A"
     ]
    },
    {
     "name": "stdout",
     "output_type": "stream",
     "text": [
      "티아이티에프 NaN 대구 동구 팔공산로 1169\n"
     ]
    },
    {
     "name": "stderr",
     "output_type": "stream",
     "text": [
      "\n",
      "100%|██████████████████████████████████████████████████████████████████████████████████| 10/10 [00:40<00:00,  4.05s/it]\u001b[A"
     ]
    },
    {
     "name": "stdout",
     "output_type": "stream",
     "text": [
      "<selenium.webdriver.remote.webelement.WebElement (session=\"2df56e46d42a8a77b55472a6d9907489\", element=\"DC62F528930AD00C951E3FB1126D0532_element_453\")>\n",
      "가원식당 4.84 대구 동구 팔공산로199길 6-3 가원식당\n"
     ]
    },
    {
     "name": "stderr",
     "output_type": "stream",
     "text": [
      "\n",
      " 16%|████████████▉                                                                  | 49/300 [25:29<2:22:20, 34.03s/it]"
     ]
    },
    {
     "name": "stdout",
     "output_type": "stream",
     "text": [
      "닭한끼 앞산본점\n",
      "오오무 앞산점\n",
      "현짬뽕\n",
      "조조칼국수 앞산점\n",
      "오무하무\n",
      "앞산 큰골집 본점\n",
      "고바카츠\n",
      "브리에브레드\n",
      "지환이네왕족발 본점\n",
      "크래프터\n"
     ]
    },
    {
     "name": "stderr",
     "output_type": "stream",
     "text": [
      "\n",
      "  0%|                                                                                           | 0/10 [00:07<?, ?it/s]\u001b[A\n",
      " 17%|█████████████▏                                                                 | 50/300 [25:47<2:01:27, 29.15s/it]"
     ]
    },
    {
     "name": "stdout",
     "output_type": "stream",
     "text": [
      "율하체육공원푸드트럭허가구역\n",
      "일등한우 율하점\n"
     ]
    },
    {
     "name": "stderr",
     "output_type": "stream",
     "text": [
      "\n",
      "  0%|                                                                                            | 0/2 [00:00<?, ?it/s]\u001b[A"
     ]
    },
    {
     "name": "stdout",
     "output_type": "stream",
     "text": [
      "<selenium.webdriver.remote.webelement.WebElement (session=\"ebd0e1320c40cd350672c5628ea0a518\", element=\"41C39317A4BB22329F0A83FDA87561A0_element_52\")>\n"
     ]
    },
    {
     "name": "stderr",
     "output_type": "stream",
     "text": [
      "\n",
      " 50%|██████████████████████████████████████████                                          | 1/2 [00:11<00:11, 11.25s/it]\u001b[A"
     ]
    },
    {
     "name": "stdout",
     "output_type": "stream",
     "text": [
      "율하체육공원푸드트럭허가구역 NaN 대구 동구 금호강변로 278\n",
      "<selenium.webdriver.remote.webelement.WebElement (session=\"ebd0e1320c40cd350672c5628ea0a518\", element=\"41C39317A4BB22329F0A83FDA87561A0_element_79\")>\n"
     ]
    },
    {
     "name": "stderr",
     "output_type": "stream",
     "text": [
      "\n",
      "100%|████████████████████████████████████████████████████████████████████████████████████| 2/2 [00:18<00:00,  9.18s/it]\u001b[A"
     ]
    },
    {
     "name": "stdout",
     "output_type": "stream",
     "text": [
      "일등한우 율하점 NaN 대구 동구 안심로22길 60-13 광장프라자2\n"
     ]
    },
    {
     "name": "stderr",
     "output_type": "stream",
     "text": [
      "\n",
      " 17%|█████████████▍                                                                 | 51/300 [26:18<2:03:47, 29.83s/it]"
     ]
    },
    {
     "name": "stdout",
     "output_type": "stream",
     "text": [
      "한밤황토집\n",
      "시골밥상\n",
      "카페우즈\n",
      "한밤황토집\n",
      "금레당\n",
      "엘아르카 비타 팔공산점\n",
      "안정환의바글바글\n",
      "카페푸른달\n",
      "돌담칼국수\n",
      "두향\n"
     ]
    },
    {
     "name": "stderr",
     "output_type": "stream",
     "text": [
      "\n",
      "  0%|                                                                                           | 0/10 [00:07<?, ?it/s]\u001b[A\n",
      " 17%|█████████████▋                                                                 | 52/300 [26:35<1:46:55, 25.87s/it]\n",
      "0it [00:00, ?it/s]\u001b[A\n",
      " 18%|█████████████▉                                                                 | 53/300 [26:49<1:32:44, 22.53s/it]\n",
      "0it [00:00, ?it/s]\u001b[A\n",
      " 18%|██████████████▏                                                                | 54/300 [27:06<1:25:31, 20.86s/it]\n",
      "0it [00:00, ?it/s]\u001b[A\n",
      " 18%|██████████████▍                                                                | 55/300 [27:23<1:20:25, 19.70s/it]\n",
      "0it [00:00, ?it/s]\u001b[A\n",
      " 19%|██████████████▋                                                                | 56/300 [27:40<1:16:48, 18.89s/it]\n",
      "0it [00:00, ?it/s]\u001b[A\n",
      " 19%|███████████████                                                                | 57/300 [27:58<1:15:21, 18.61s/it]"
     ]
    },
    {
     "name": "stdout",
     "output_type": "stream",
     "text": [
      "콩카페 대구동성로로데오점\n",
      "건담\n",
      "블랙타코앤그릴\n",
      "빠레뜨한남 대구 동성로점\n",
      "오무하무 동성로점\n",
      "몽블랑드파리\n",
      "머꼬삼겹살\n",
      "숨은집 동성로본점\n",
      "도마29\n",
      "신라식당\n"
     ]
    },
    {
     "name": "stderr",
     "output_type": "stream",
     "text": [
      "\n",
      "  0%|                                                                                           | 0/10 [00:00<?, ?it/s]\u001b[A"
     ]
    },
    {
     "name": "stdout",
     "output_type": "stream",
     "text": [
      "<selenium.webdriver.remote.webelement.WebElement (session=\"c34b7c7d4b038913e5cd0ab5dbcda5ba\", element=\"930CAD275441950F807FAB9A8055AF9A_element_109\")>\n"
     ]
    },
    {
     "name": "stderr",
     "output_type": "stream",
     "text": [
      "\n",
      " 10%|████████▎                                                                          | 1/10 [00:11<01:41, 11.26s/it]\u001b[A"
     ]
    },
    {
     "name": "stdout",
     "output_type": "stream",
     "text": [
      "콩카페 대구동성로로데오점 NaN 대구 중구 동성로5길 45 2층\n"
     ]
    },
    {
     "name": "stderr",
     "output_type": "stream",
     "text": [
      " 10%|████████▎                                                                          | 1/10 [00:12<01:51, 12.35s/it]\n",
      " 19%|███████████████▎                                                               | 58/300 [28:27<1:27:06, 21.60s/it]"
     ]
    },
    {
     "name": "stdout",
     "output_type": "stream",
     "text": [
      "산\n",
      "진1926 대구종로점\n",
      "블랙타코앤그릴\n",
      "오레가노\n",
      "소선 샤브\n",
      "삼송빵집 본점\n",
      "스타벅스 대구종로고택점\n",
      "오디너리하우스\n",
      "대구근대골목단팥빵 본점\n",
      "바뷔치 중앙로점\n"
     ]
    },
    {
     "name": "stderr",
     "output_type": "stream",
     "text": [
      "\n",
      "  0%|                                                                                           | 0/10 [00:01<?, ?it/s]\u001b[A\n",
      " 20%|███████████████▌                                                               | 59/300 [28:40<1:16:04, 18.94s/it]"
     ]
    },
    {
     "name": "stdout",
     "output_type": "stream",
     "text": [
      "카페모미\n",
      "카페회낭\n"
     ]
    },
    {
     "name": "stderr",
     "output_type": "stream",
     "text": [
      "\n",
      "  0%|                                                                                            | 0/2 [00:00<?, ?it/s]\u001b[A"
     ]
    },
    {
     "name": "stdout",
     "output_type": "stream",
     "text": [
      "<selenium.webdriver.remote.webelement.WebElement (session=\"63eef1e45342c634475c063d60796097\", element=\"A8B4B1311EB9DDF1A3BEF70A9F7EB39D_element_120\")>\n"
     ]
    },
    {
     "name": "stderr",
     "output_type": "stream",
     "text": [
      "\n",
      " 50%|██████████████████████████████████████████                                          | 1/2 [00:11<00:11, 11.24s/it]\u001b[A"
     ]
    },
    {
     "name": "stdout",
     "output_type": "stream",
     "text": [
      "카페모미 NaN 대구 동구 옻골로 179 카페모미\n",
      "<selenium.webdriver.remote.webelement.WebElement (session=\"63eef1e45342c634475c063d60796097\", element=\"A8B4B1311EB9DDF1A3BEF70A9F7EB39D_element_131\")>\n"
     ]
    },
    {
     "name": "stderr",
     "output_type": "stream",
     "text": [
      "\n",
      "100%|████████████████████████████████████████████████████████████████████████████████████| 2/2 [00:18<00:00,  9.20s/it]\u001b[A"
     ]
    },
    {
     "name": "stdout",
     "output_type": "stream",
     "text": [
      "카페회낭 NaN 대구 동구 옻골로 187 1층\n"
     ]
    },
    {
     "name": "stderr",
     "output_type": "stream",
     "text": [
      "\n",
      " 20%|███████████████▊                                                               | 60/300 [29:11<1:31:15, 22.81s/it]"
     ]
    },
    {
     "name": "stdout",
     "output_type": "stream",
     "text": [
      "로비로비\n",
      "노가국수\n"
     ]
    },
    {
     "name": "stderr",
     "output_type": "stream",
     "text": [
      "\n",
      "  0%|                                                                                            | 0/2 [00:07<?, ?it/s]\u001b[A\n",
      " 20%|████████████████                                                               | 61/300 [29:27<1:22:36, 20.74s/it]\n",
      "0it [00:00, ?it/s]\u001b[A\n",
      " 21%|████████████████▎                                                              | 62/300 [29:41<1:13:55, 18.64s/it]\n",
      "0it [00:00, ?it/s]\u001b[A\n",
      " 21%|████████████████▌                                                              | 63/300 [29:58<1:11:53, 18.20s/it]\n",
      "0it [00:00, ?it/s]\u001b[A\n",
      " 21%|████████████████▊                                                              | 64/300 [30:15<1:10:15, 17.86s/it]"
     ]
    },
    {
     "name": "stdout",
     "output_type": "stream",
     "text": [
      "설악항 호섭이네 11호\n",
      "커피마시로\n"
     ]
    },
    {
     "name": "stderr",
     "output_type": "stream",
     "text": [
      "\n",
      "  0%|                                                                                            | 0/2 [00:00<?, ?it/s]\u001b[A\n",
      " 50%|██████████████████████████████████████████                                          | 1/2 [00:06<00:06,  6.20s/it]\u001b[A"
     ]
    },
    {
     "name": "stdout",
     "output_type": "stream",
     "text": [
      "<selenium.webdriver.remote.webelement.WebElement (session=\"0114fe50881439a610e4396b973e7634\", element=\"7682F8B03EE6AB513794ED202FF48F5D_element_92\")>\n",
      "설악항 호섭이네 11호 4.35 강원 속초시 동해대로 3666 설악항활어회센터 11호 호섭이네횟집\n",
      "<selenium.webdriver.remote.webelement.WebElement (session=\"0114fe50881439a610e4396b973e7634\", element=\"7682F8B03EE6AB513794ED202FF48F5D_element_141\")>\n"
     ]
    },
    {
     "name": "stderr",
     "output_type": "stream",
     "text": [
      "\n",
      "100%|████████████████████████████████████████████████████████████████████████████████████| 2/2 [00:13<00:00,  6.68s/it]\u001b[A"
     ]
    },
    {
     "name": "stdout",
     "output_type": "stream",
     "text": [
      "커피마시로 NaN 경북 포항시 북구 환호공원길 19 1층\n"
     ]
    },
    {
     "name": "stderr",
     "output_type": "stream",
     "text": [
      "\n",
      " 22%|█████████████████                                                              | 65/300 [30:45<1:23:36, 21.35s/it]"
     ]
    },
    {
     "name": "stdout",
     "output_type": "stream",
     "text": [
      "불로식당\n"
     ]
    },
    {
     "name": "stderr",
     "output_type": "stream",
     "text": [
      "\n",
      "  0%|                                                                                            | 0/1 [00:07<?, ?it/s]\u001b[A\n",
      " 22%|█████████████████▍                                                             | 66/300 [31:01<1:16:55, 19.73s/it]\n",
      "0it [00:00, ?it/s]\u001b[A\n",
      " 22%|█████████████████▋                                                             | 67/300 [31:15<1:09:51, 17.99s/it]\n",
      "0it [00:00, ?it/s]\u001b[A\n",
      " 23%|█████████████████▉                                                             | 68/300 [31:32<1:08:33, 17.73s/it]"
     ]
    },
    {
     "name": "stdout",
     "output_type": "stream",
     "text": [
      "용문촌두부\n"
     ]
    },
    {
     "name": "stderr",
     "output_type": "stream",
     "text": [
      "\n",
      "  0%|                                                                                            | 0/1 [00:00<?, ?it/s]\u001b[A"
     ]
    },
    {
     "name": "stdout",
     "output_type": "stream",
     "text": [
      "<selenium.webdriver.remote.webelement.WebElement (session=\"818a792e4cb30fee6c5d5637992fb7a6\", element=\"BB6A3BB6FE3792DDC39C6A353F2B47C9_element_89\")>\n"
     ]
    },
    {
     "name": "stderr",
     "output_type": "stream",
     "text": [
      "\n",
      "100%|████████████████████████████████████████████████████████████████████████████████████| 1/1 [00:11<00:00, 11.23s/it]\u001b[A"
     ]
    },
    {
     "name": "stdout",
     "output_type": "stream",
     "text": [
      "용문촌두부 NaN 대구 달성군 화원읍 마비정길 259\n"
     ]
    },
    {
     "name": "stderr",
     "output_type": "stream",
     "text": [
      "\n",
      " 23%|██████████████████▏                                                            | 69/300 [31:59<1:19:19, 20.60s/it]"
     ]
    },
    {
     "name": "stdout",
     "output_type": "stream",
     "text": [
      "아떼에르 인 예다숲\n",
      "국밥슐랭\n",
      "정미네\n",
      "아떼에르 인 예다숲\n",
      "산엘아르카\n",
      "카페월든\n",
      "로카커피\n",
      "슬로우스톤\n",
      "카페 담\n",
      "김태희옛날손국수\n"
     ]
    },
    {
     "name": "stderr",
     "output_type": "stream",
     "text": [
      "\n",
      "  0%|                                                                                           | 0/10 [00:07<?, ?it/s]\u001b[A\n",
      " 23%|██████████████████▍                                                            | 70/300 [32:17<1:16:01, 19.83s/it]"
     ]
    },
    {
     "name": "stdout",
     "output_type": "stream",
     "text": [
      "성주곱창막창\n",
      "조조칼국수 앞산점\n",
      "홍림곱창\n",
      "똔똔이곱창막창\n",
      "핑퐁스낵\n",
      "더크\n",
      "읍천리382 본점\n",
      "안지곱창막창\n",
      "도리도프\n",
      "월포리91\n"
     ]
    },
    {
     "name": "stderr",
     "output_type": "stream",
     "text": [
      "\n",
      "  0%|                                                                                           | 0/10 [00:00<?, ?it/s]\u001b[A\n",
      " 10%|████████▎                                                                          | 1/10 [00:06<00:56,  6.25s/it]\u001b[A"
     ]
    },
    {
     "name": "stdout",
     "output_type": "stream",
     "text": [
      "<selenium.webdriver.remote.webelement.WebElement (session=\"43361c4ad4015acf1439f204a934cdfa\", element=\"F39AF9F1BE5E645D6911AF72D7096D3D_element_91\")>\n",
      "성주곱창막창 4.44 대구 남구 대명로36길 63 성주곱창막창\n"
     ]
    },
    {
     "name": "stderr",
     "output_type": "stream",
     "text": [
      "\n",
      " 20%|████████████████▌                                                                  | 2/10 [00:08<00:30,  3.81s/it]\u001b[A"
     ]
    },
    {
     "name": "stdout",
     "output_type": "stream",
     "text": [
      "<selenium.webdriver.remote.webelement.WebElement (session=\"43361c4ad4015acf1439f204a934cdfa\", element=\"F39AF9F1BE5E645D6911AF72D7096D3D_element_153\")>\n",
      "조조칼국수 앞산점 4.53 대구 남구 현충로15길 13-1\n"
     ]
    },
    {
     "name": "stderr",
     "output_type": "stream",
     "text": [
      "\n",
      " 30%|████████████████████████▉                                                          | 3/10 [00:10<00:21,  3.04s/it]\u001b[A"
     ]
    },
    {
     "name": "stdout",
     "output_type": "stream",
     "text": [
      "<selenium.webdriver.remote.webelement.WebElement (session=\"43361c4ad4015acf1439f204a934cdfa\", element=\"F39AF9F1BE5E645D6911AF72D7096D3D_element_182\")>\n",
      "홍림곱창 4.09 대구 남구 대명로36길 58\n"
     ]
    },
    {
     "name": "stderr",
     "output_type": "stream",
     "text": [
      "\n",
      " 40%|█████████████████████████████████▏                                                 | 4/10 [00:12<00:16,  2.69s/it]\u001b[A"
     ]
    },
    {
     "name": "stdout",
     "output_type": "stream",
     "text": [
      "<selenium.webdriver.remote.webelement.WebElement (session=\"43361c4ad4015acf1439f204a934cdfa\", element=\"F39AF9F1BE5E645D6911AF72D7096D3D_element_210\")>\n",
      "똔똔이곱창막창 4.48 대구 남구 대명로36길 71-2\n"
     ]
    },
    {
     "name": "stderr",
     "output_type": "stream",
     "text": [
      "\n",
      " 50%|█████████████████████████████████████████▌                                         | 5/10 [00:14<00:12,  2.49s/it]\u001b[A"
     ]
    },
    {
     "name": "stdout",
     "output_type": "stream",
     "text": [
      "<selenium.webdriver.remote.webelement.WebElement (session=\"43361c4ad4015acf1439f204a934cdfa\", element=\"F39AF9F1BE5E645D6911AF72D7096D3D_element_251\")>\n",
      "핑퐁스낵 4.47 대구 남구 대명동 872-20\n"
     ]
    },
    {
     "name": "stderr",
     "output_type": "stream",
     "text": [
      "\n",
      " 60%|█████████████████████████████████████████████████▊                                 | 6/10 [00:16<00:09,  2.38s/it]\u001b[A"
     ]
    },
    {
     "name": "stdout",
     "output_type": "stream",
     "text": [
      "<selenium.webdriver.remote.webelement.WebElement (session=\"43361c4ad4015acf1439f204a934cdfa\", element=\"F39AF9F1BE5E645D6911AF72D7096D3D_element_279\")>\n",
      "더크 4.83 대구 남구 안골길 42\n"
     ]
    },
    {
     "name": "stderr",
     "output_type": "stream",
     "text": [
      "\n",
      " 70%|██████████████████████████████████████████████████████████                         | 7/10 [00:19<00:06,  2.30s/it]\u001b[A"
     ]
    },
    {
     "name": "stdout",
     "output_type": "stream",
     "text": [
      "<selenium.webdriver.remote.webelement.WebElement (session=\"43361c4ad4015acf1439f204a934cdfa\", element=\"F39AF9F1BE5E645D6911AF72D7096D3D_element_309\")>\n",
      "읍천리382 본점 4.51 대구 남구 안골길 17-1\n"
     ]
    },
    {
     "name": "stderr",
     "output_type": "stream",
     "text": [
      "\n",
      " 80%|██████████████████████████████████████████████████████████████████▍                | 8/10 [00:21<00:04,  2.26s/it]\u001b[A"
     ]
    },
    {
     "name": "stdout",
     "output_type": "stream",
     "text": [
      "<selenium.webdriver.remote.webelement.WebElement (session=\"43361c4ad4015acf1439f204a934cdfa\", element=\"F39AF9F1BE5E645D6911AF72D7096D3D_element_338\")>\n",
      "안지곱창막창 4.55 대구 남구 대명로36길 63\n"
     ]
    },
    {
     "name": "stderr",
     "output_type": "stream",
     "text": [
      "\n",
      " 90%|██████████████████████████████████████████████████████████████████████████▋        | 9/10 [00:23<00:02,  2.22s/it]\u001b[A"
     ]
    },
    {
     "name": "stdout",
     "output_type": "stream",
     "text": [
      "<selenium.webdriver.remote.webelement.WebElement (session=\"43361c4ad4015acf1439f204a934cdfa\", element=\"F39AF9F1BE5E645D6911AF72D7096D3D_element_364\")>\n",
      "도리도프 4.55 대구 남구 안골길 57\n"
     ]
    },
    {
     "name": "stderr",
     "output_type": "stream",
     "text": [
      "\n",
      "100%|██████████████████████████████████████████████████████████████████████████████████| 10/10 [00:25<00:00,  2.55s/it]\u001b[A"
     ]
    },
    {
     "name": "stdout",
     "output_type": "stream",
     "text": [
      "<selenium.webdriver.remote.webelement.WebElement (session=\"43361c4ad4015acf1439f204a934cdfa\", element=\"F39AF9F1BE5E645D6911AF72D7096D3D_element_405\")>\n",
      "월포리91 4.57 대구 남구 안골1길 38\n"
     ]
    },
    {
     "name": "stderr",
     "output_type": "stream",
     "text": [
      "\n",
      " 24%|██████████████████▋                                                            | 71/300 [32:57<1:38:11, 25.73s/it]"
     ]
    },
    {
     "name": "stdout",
     "output_type": "stream",
     "text": [
      "의정부 부대찌개\n",
      "더드림삼겹살전문점 대구칠곡점\n"
     ]
    },
    {
     "name": "stderr",
     "output_type": "stream",
     "text": [
      "\n",
      "  0%|                                                                                            | 0/2 [00:07<?, ?it/s]\u001b[A\n",
      " 24%|██████████████████▉                                                            | 72/300 [33:13<1:26:48, 22.85s/it]"
     ]
    },
    {
     "name": "stdout",
     "output_type": "stream",
     "text": [
      "핑크라이언\n",
      "동이식당\n",
      "롤링핀 대구수목원점\n",
      "킹콩 G.C점\n",
      "스타벅스 대구수목원점\n",
      "길섶한우 대곡점\n",
      "샤브향 대구수목원점\n",
      "하루부엌\n",
      "일공공샤브 대구수목원점\n",
      "오복반점\n"
     ]
    },
    {
     "name": "stderr",
     "output_type": "stream",
     "text": [
      "\n",
      "  0%|                                                                                           | 0/10 [00:00<?, ?it/s]\u001b[A\n",
      " 10%|████████▎                                                                          | 1/10 [00:06<00:55,  6.21s/it]\u001b[A"
     ]
    },
    {
     "name": "stdout",
     "output_type": "stream",
     "text": [
      "<selenium.webdriver.remote.webelement.WebElement (session=\"ddb1fdd6cf4dd4343d1d9d273ebce851\", element=\"E8C3950F3851B762BE0938744AE8AF4B_element_134\")>\n",
      "핑크라이언 4.68 대구 달서구 한실로6길 158-3 핑크라이언\n"
     ]
    },
    {
     "name": "stderr",
     "output_type": "stream",
     "text": [
      "\n",
      " 20%|████████████████▌                                                                  | 2/10 [00:08<00:30,  3.80s/it]\u001b[A"
     ]
    },
    {
     "name": "stdout",
     "output_type": "stream",
     "text": [
      "<selenium.webdriver.remote.webelement.WebElement (session=\"ddb1fdd6cf4dd4343d1d9d273ebce851\", element=\"E8C3950F3851B762BE0938744AE8AF4B_element_162\")>\n",
      "동이식당 4.4 대구 달서구 한실로6길 165-7\n",
      "<selenium.webdriver.remote.webelement.WebElement (session=\"ddb1fdd6cf4dd4343d1d9d273ebce851\", element=\"E8C3950F3851B762BE0938744AE8AF4B_element_184\")>\n"
     ]
    },
    {
     "name": "stderr",
     "output_type": "stream",
     "text": [
      "\n",
      " 30%|████████████████████████▉                                                          | 3/10 [00:15<00:37,  5.35s/it]\u001b[A"
     ]
    },
    {
     "name": "stdout",
     "output_type": "stream",
     "text": [
      "롤링핀 대구수목원점 NaN 대구 달서구 한실로6길 158\n",
      "<selenium.webdriver.remote.webelement.WebElement (session=\"ddb1fdd6cf4dd4343d1d9d273ebce851\", element=\"E8C3950F3851B762BE0938744AE8AF4B_element_233\")>\n"
     ]
    },
    {
     "name": "stderr",
     "output_type": "stream",
     "text": [
      "\n",
      " 40%|█████████████████████████████████▏                                                 | 4/10 [00:22<00:36,  6.06s/it]\u001b[A"
     ]
    },
    {
     "name": "stdout",
     "output_type": "stream",
     "text": [
      "킹콩 G.C점 NaN 대구 달서구 화암로 322 1~2층\n"
     ]
    },
    {
     "name": "stderr",
     "output_type": "stream",
     "text": [
      "\n",
      " 50%|█████████████████████████████████████████▌                                         | 5/10 [00:24<00:23,  4.64s/it]\u001b[A"
     ]
    },
    {
     "name": "stdout",
     "output_type": "stream",
     "text": [
      "<selenium.webdriver.remote.webelement.WebElement (session=\"ddb1fdd6cf4dd4343d1d9d273ebce851\", element=\"E8C3950F3851B762BE0938744AE8AF4B_element_245\")>\n",
      "스타벅스 대구수목원점 4.51 대구 달서구 화암로 379\n"
     ]
    },
    {
     "name": "stderr",
     "output_type": "stream",
     "text": [
      "\n",
      " 60%|█████████████████████████████████████████████████▊                                 | 6/10 [00:26<00:15,  3.80s/it]\u001b[A"
     ]
    },
    {
     "name": "stdout",
     "output_type": "stream",
     "text": [
      "<selenium.webdriver.remote.webelement.WebElement (session=\"ddb1fdd6cf4dd4343d1d9d273ebce851\", element=\"E8C3950F3851B762BE0938744AE8AF4B_element_273\")>\n",
      "길섶한우 대곡점 4.64 대구 달서구 명천로 43 길섶한우\n"
     ]
    },
    {
     "name": "stderr",
     "output_type": "stream",
     "text": [
      "\n",
      " 70%|██████████████████████████████████████████████████████████                         | 7/10 [00:29<00:09,  3.25s/it]\u001b[A"
     ]
    },
    {
     "name": "stdout",
     "output_type": "stream",
     "text": [
      "<selenium.webdriver.remote.webelement.WebElement (session=\"ddb1fdd6cf4dd4343d1d9d273ebce851\", element=\"E8C3950F3851B762BE0938744AE8AF4B_element_304\")>\n",
      "샤브향 대구수목원점 4.45 대구 달서구 화암로 323\n"
     ]
    },
    {
     "name": "stderr",
     "output_type": "stream",
     "text": [
      "\n",
      " 80%|██████████████████████████████████████████████████████████████████▍                | 8/10 [00:31<00:05,  2.90s/it]\u001b[A"
     ]
    },
    {
     "name": "stdout",
     "output_type": "stream",
     "text": [
      "<selenium.webdriver.remote.webelement.WebElement (session=\"ddb1fdd6cf4dd4343d1d9d273ebce851\", element=\"E8C3950F3851B762BE0938744AE8AF4B_element_348\")>\n",
      "하루부엌 4.57 대구 달서구 화암로71길 19 하루부엌\n"
     ]
    },
    {
     "name": "stderr",
     "output_type": "stream",
     "text": [
      "\n",
      " 90%|██████████████████████████████████████████████████████████████████████████▋        | 9/10 [00:33<00:02,  2.66s/it]\u001b[A"
     ]
    },
    {
     "name": "stdout",
     "output_type": "stream",
     "text": [
      "<selenium.webdriver.remote.webelement.WebElement (session=\"ddb1fdd6cf4dd4343d1d9d273ebce851\", element=\"E8C3950F3851B762BE0938744AE8AF4B_element_381\")>\n",
      "일공공샤브 대구수목원점 4.38 대구 달서구 화암로 331\n"
     ]
    },
    {
     "name": "stderr",
     "output_type": "stream",
     "text": [
      "\n",
      "100%|██████████████████████████████████████████████████████████████████████████████████| 10/10 [00:35<00:00,  3.55s/it]\u001b[A"
     ]
    },
    {
     "name": "stdout",
     "output_type": "stream",
     "text": [
      "<selenium.webdriver.remote.webelement.WebElement (session=\"ddb1fdd6cf4dd4343d1d9d273ebce851\", element=\"E8C3950F3851B762BE0938744AE8AF4B_element_403\")>\n",
      "오복반점 4.43 대구 달성군 화원읍 명천로 146\n"
     ]
    },
    {
     "name": "stderr",
     "output_type": "stream",
     "text": [
      "\n",
      " 24%|███████████████████▏                                                           | 73/300 [34:02<1:56:39, 30.83s/it]"
     ]
    },
    {
     "name": "stdout",
     "output_type": "stream",
     "text": [
      "갓성비 한우 대구칠곡점\n"
     ]
    },
    {
     "name": "stderr",
     "output_type": "stream",
     "text": [
      "\n",
      "  0%|                                                                                            | 0/1 [00:07<?, ?it/s]\u001b[A\n",
      " 25%|███████████████████▍                                                           | 74/300 [34:19<1:40:18, 26.63s/it]\n",
      "0it [00:00, ?it/s]\u001b[A\n",
      " 25%|███████████████████▊                                                           | 75/300 [34:33<1:25:36, 22.83s/it]\n",
      "0it [00:00, ?it/s]\u001b[A\n",
      " 25%|████████████████████                                                           | 76/300 [34:50<1:18:43, 21.09s/it]"
     ]
    },
    {
     "name": "stdout",
     "output_type": "stream",
     "text": [
      "엔엘리오카페,베이커리,레스토랑\n",
      "강나들이\n",
      "영서실링진미식당\n",
      "통달배 논공점\n",
      "바다친구\n",
      "공원기사식당\n",
      "명갈비\n",
      "찜닭상회\n",
      "피자치크\n",
      "요이땅치킨 논공점\n"
     ]
    },
    {
     "name": "stderr",
     "output_type": "stream",
     "text": [
      "\n",
      "  0%|                                                                                           | 0/10 [00:00<?, ?it/s]\u001b[A\n",
      " 10%|████████▎                                                                          | 1/10 [00:06<00:56,  6.24s/it]\u001b[A"
     ]
    },
    {
     "name": "stdout",
     "output_type": "stream",
     "text": [
      "<selenium.webdriver.remote.webelement.WebElement (session=\"259c2ae85f9357647c4440486aa58973\", element=\"DC2B8D4C609F5ECF2A44C8003854CE6A_element_134\")>\n",
      "엔엘리오카페,베이커리,레스토랑 4.43 대구 달성군 논공읍 비슬로 1137 엔엘리오 커피앤브레드\n"
     ]
    },
    {
     "name": "stderr",
     "output_type": "stream",
     "text": [
      "\n",
      " 20%|████████████████▌                                                                  | 2/10 [00:08<00:30,  3.81s/it]\u001b[A"
     ]
    },
    {
     "name": "stdout",
     "output_type": "stream",
     "text": [
      "<selenium.webdriver.remote.webelement.WebElement (session=\"259c2ae85f9357647c4440486aa58973\", element=\"DC2B8D4C609F5ECF2A44C8003854CE6A_element_173\")>\n",
      "강나들이 4.3 대구 달성군 논공읍 비슬로 1109\n",
      "<selenium.webdriver.remote.webelement.WebElement (session=\"259c2ae85f9357647c4440486aa58973\", element=\"DC2B8D4C609F5ECF2A44C8003854CE6A_element_181\")>\n"
     ]
    },
    {
     "name": "stderr",
     "output_type": "stream",
     "text": [
      "\n",
      " 30%|████████████████████████▉                                                          | 3/10 [00:15<00:37,  5.35s/it]\u001b[A"
     ]
    },
    {
     "name": "stdout",
     "output_type": "stream",
     "text": [
      "영서실링진미식당 NaN 대구 달성군 논공읍 약산덧재길 14\n",
      "<selenium.webdriver.remote.webelement.WebElement (session=\"259c2ae85f9357647c4440486aa58973\", element=\"DC2B8D4C609F5ECF2A44C8003854CE6A_element_206\")>\n"
     ]
    },
    {
     "name": "stderr",
     "output_type": "stream",
     "text": [
      "\n",
      " 40%|█████████████████████████████████▏                                                 | 4/10 [00:22<00:36,  6.06s/it]\u001b[A"
     ]
    },
    {
     "name": "stdout",
     "output_type": "stream",
     "text": [
      "통달배 논공점 NaN 대구 달성군 논공읍 논공로 852-4\n"
     ]
    },
    {
     "name": "stderr",
     "output_type": "stream",
     "text": [
      "\n",
      " 50%|█████████████████████████████████████████▌                                         | 5/10 [00:24<00:23,  4.65s/it]\u001b[A"
     ]
    },
    {
     "name": "stdout",
     "output_type": "stream",
     "text": [
      "<selenium.webdriver.remote.webelement.WebElement (session=\"259c2ae85f9357647c4440486aa58973\", element=\"DC2B8D4C609F5ECF2A44C8003854CE6A_element_241\")>\n",
      "바다친구 4.79 대구 달성군 논공읍 논공로9길 7\n"
     ]
    },
    {
     "name": "stderr",
     "output_type": "stream",
     "text": [
      "\n",
      " 60%|█████████████████████████████████████████████████▊                                 | 6/10 [00:26<00:15,  3.79s/it]\u001b[A"
     ]
    },
    {
     "name": "stdout",
     "output_type": "stream",
     "text": [
      "<selenium.webdriver.remote.webelement.WebElement (session=\"259c2ae85f9357647c4440486aa58973\", element=\"DC2B8D4C609F5ECF2A44C8003854CE6A_element_277\")>\n",
      "공원기사식당 4.32 대구 달성군 논공읍 논공로 852-8\n",
      "<selenium.webdriver.remote.webelement.WebElement (session=\"259c2ae85f9357647c4440486aa58973\", element=\"DC2B8D4C609F5ECF2A44C8003854CE6A_element_286\")>\n"
     ]
    },
    {
     "name": "stderr",
     "output_type": "stream",
     "text": [
      "\n",
      " 70%|██████████████████████████████████████████████████████████                         | 7/10 [00:34<00:14,  4.90s/it]\u001b[A"
     ]
    },
    {
     "name": "stdout",
     "output_type": "stream",
     "text": [
      "명갈비 NaN 대구 달성군 논공읍 논공로9길 13\n",
      "<selenium.webdriver.remote.webelement.WebElement (session=\"259c2ae85f9357647c4440486aa58973\", element=\"DC2B8D4C609F5ECF2A44C8003854CE6A_element_315\")>\n"
     ]
    },
    {
     "name": "stderr",
     "output_type": "stream",
     "text": [
      "\n",
      " 80%|██████████████████████████████████████████████████████████████████▍                | 8/10 [00:41<00:11,  5.62s/it]\u001b[A"
     ]
    },
    {
     "name": "stdout",
     "output_type": "stream",
     "text": [
      "찜닭상회 NaN 대구 달성군 논공읍 논공로5길 57\n",
      "<selenium.webdriver.remote.webelement.WebElement (session=\"259c2ae85f9357647c4440486aa58973\", element=\"DC2B8D4C609F5ECF2A44C8003854CE6A_element_332\")>\n"
     ]
    },
    {
     "name": "stderr",
     "output_type": "stream",
     "text": [
      "\n",
      " 90%|██████████████████████████████████████████████████████████████████████████▋        | 9/10 [00:48<00:06,  6.11s/it]\u001b[A"
     ]
    },
    {
     "name": "stdout",
     "output_type": "stream",
     "text": [
      "피자치크 NaN 대구 달성군 논공읍 논공로7길 26-13\n",
      "<selenium.webdriver.remote.webelement.WebElement (session=\"259c2ae85f9357647c4440486aa58973\", element=\"DC2B8D4C609F5ECF2A44C8003854CE6A_element_363\")>\n"
     ]
    },
    {
     "name": "stderr",
     "output_type": "stream",
     "text": [
      "\n",
      "100%|██████████████████████████████████████████████████████████████████████████████████| 10/10 [00:55<00:00,  5.56s/it]\u001b[A"
     ]
    },
    {
     "name": "stdout",
     "output_type": "stream",
     "text": [
      "요이땅치킨 논공점 NaN 대구 달성군 논공읍 논공로5길 63\n"
     ]
    },
    {
     "name": "stderr",
     "output_type": "stream",
     "text": [
      "\n",
      " 26%|████████████████████▎                                                          | 77/300 [36:02<2:14:54, 36.30s/it]\n",
      "0it [00:00, ?it/s]\u001b[A\n",
      " 26%|████████████████████▌                                                          | 78/300 [36:16<1:49:43, 29.65s/it]\n",
      "0it [00:00, ?it/s]\u001b[A\n",
      " 26%|████████████████████▊                                                          | 79/300 [36:33<1:35:21, 25.89s/it]"
     ]
    },
    {
     "name": "stdout",
     "output_type": "stream",
     "text": [
      "돈가스튀기는오빠 본점\n",
      "한상바다 봉무본점\n",
      "개정 이시아폴리스점\n",
      "농부\n",
      "한끼맛있다 이시아폴리스점\n",
      "명륜진사갈비 대구 이시아폴리스점\n",
      "해운대연탄생갈비 대구이시아폴리스점\n",
      "메콩타이 이시아폴리스점\n",
      "행복한초밥\n",
      "백리향\n"
     ]
    },
    {
     "name": "stderr",
     "output_type": "stream",
     "text": [
      "\n",
      "  0%|                                                                                           | 0/10 [00:00<?, ?it/s]\u001b[A"
     ]
    },
    {
     "name": "stdout",
     "output_type": "stream",
     "text": [
      "<selenium.webdriver.remote.webelement.WebElement (session=\"601994a4418b8a09c5d4dfaadede243b\", element=\"FCA2EB640CF5A95608AB2493618910A8_element_129\")>\n"
     ]
    },
    {
     "name": "stderr",
     "output_type": "stream",
     "text": [
      "\n",
      " 10%|████████▎                                                                          | 1/10 [00:11<01:41, 11.24s/it]\u001b[A"
     ]
    },
    {
     "name": "stdout",
     "output_type": "stream",
     "text": [
      "돈가스튀기는오빠 본점 NaN 대구 동구 팔공로51길 41 정욱빌딩 1층\n"
     ]
    },
    {
     "name": "stderr",
     "output_type": "stream",
     "text": [
      "\n",
      " 20%|████████████████▌                                                                  | 2/10 [00:13<00:46,  5.87s/it]\u001b[A"
     ]
    },
    {
     "name": "stdout",
     "output_type": "stream",
     "text": [
      "<selenium.webdriver.remote.webelement.WebElement (session=\"601994a4418b8a09c5d4dfaadede243b\", element=\"FCA2EB640CF5A95608AB2493618910A8_element_154\")>\n",
      "한상바다 봉무본점 4.52 대구 동구 팔공로51길 15-13\n"
     ]
    },
    {
     "name": "stderr",
     "output_type": "stream",
     "text": [
      "\n",
      " 30%|████████████████████████▉                                                          | 3/10 [00:15<00:29,  4.17s/it]\u001b[A"
     ]
    },
    {
     "name": "stdout",
     "output_type": "stream",
     "text": [
      "<selenium.webdriver.remote.webelement.WebElement (session=\"601994a4418b8a09c5d4dfaadede243b\", element=\"FCA2EB640CF5A95608AB2493618910A8_element_193\")>\n",
      "개정 이시아폴리스점 4.45 대구 동구 팔공로53길 77-2\n"
     ]
    },
    {
     "name": "stderr",
     "output_type": "stream",
     "text": [
      "\n",
      " 40%|█████████████████████████████████▏                                                 | 4/10 [00:17<00:20,  3.37s/it]\u001b[A"
     ]
    },
    {
     "name": "stdout",
     "output_type": "stream",
     "text": [
      "<selenium.webdriver.remote.webelement.WebElement (session=\"601994a4418b8a09c5d4dfaadede243b\", element=\"FCA2EB640CF5A95608AB2493618910A8_element_237\")>\n",
      "농부 4.5 대구 동구 팔공로51길 41 정욱빌딩2층 농부레스토랑\n"
     ]
    },
    {
     "name": "stderr",
     "output_type": "stream",
     "text": [
      "\n",
      " 50%|█████████████████████████████████████████▌                                         | 5/10 [00:19<00:14,  2.94s/it]\u001b[A"
     ]
    },
    {
     "name": "stdout",
     "output_type": "stream",
     "text": [
      "<selenium.webdriver.remote.webelement.WebElement (session=\"601994a4418b8a09c5d4dfaadede243b\", element=\"FCA2EB640CF5A95608AB2493618910A8_element_282\")>\n",
      "한끼맛있다 이시아폴리스점 4.42 대구 동구 팔공로51길 31-10\n",
      "<selenium.webdriver.remote.webelement.WebElement (session=\"601994a4418b8a09c5d4dfaadede243b\", element=\"FCA2EB640CF5A95608AB2493618910A8_element_326\")>\n"
     ]
    },
    {
     "name": "stderr",
     "output_type": "stream",
     "text": [
      "\n",
      " 60%|█████████████████████████████████████████████████▊                                 | 6/10 [00:27<00:17,  4.39s/it]\u001b[A"
     ]
    },
    {
     "name": "stdout",
     "output_type": "stream",
     "text": [
      "명륜진사갈비 대구 이시아폴리스점 NaN 대구 동구 팔공로51길 15-8 2층\n",
      "<selenium.webdriver.remote.webelement.WebElement (session=\"601994a4418b8a09c5d4dfaadede243b\", element=\"FCA2EB640CF5A95608AB2493618910A8_element_336\")>\n"
     ]
    },
    {
     "name": "stderr",
     "output_type": "stream",
     "text": [
      "\n",
      " 70%|██████████████████████████████████████████████████████████                         | 7/10 [00:34<00:15,  5.30s/it]\u001b[A"
     ]
    },
    {
     "name": "stdout",
     "output_type": "stream",
     "text": [
      "해운대연탄생갈비 대구이시아폴리스점 NaN 대구 동구 팔공로51길 15-7 105호\n"
     ]
    },
    {
     "name": "stderr",
     "output_type": "stream",
     "text": [
      "\n",
      " 80%|██████████████████████████████████████████████████████████████████▍                | 8/10 [00:36<00:08,  4.30s/it]\u001b[A"
     ]
    },
    {
     "name": "stdout",
     "output_type": "stream",
     "text": [
      "<selenium.webdriver.remote.webelement.WebElement (session=\"601994a4418b8a09c5d4dfaadede243b\", element=\"FCA2EB640CF5A95608AB2493618910A8_element_395\")>\n",
      "메콩타이 이시아폴리스점 4.56 대구 동구 팔공로51길 15-8 101호\n"
     ]
    },
    {
     "name": "stderr",
     "output_type": "stream",
     "text": [
      "\n",
      " 90%|██████████████████████████████████████████████████████████████████████████▋        | 9/10 [00:38<00:03,  3.62s/it]\u001b[A"
     ]
    },
    {
     "name": "stdout",
     "output_type": "stream",
     "text": [
      "<selenium.webdriver.remote.webelement.WebElement (session=\"601994a4418b8a09c5d4dfaadede243b\", element=\"FCA2EB640CF5A95608AB2493618910A8_element_424\")>\n",
      "행복한초밥 4.52 대구 동구 팔공로51길 11 1층 114호 행복한초밥\n"
     ]
    },
    {
     "name": "stderr",
     "output_type": "stream",
     "text": [
      "\n",
      "100%|██████████████████████████████████████████████████████████████████████████████████| 10/10 [00:40<00:00,  4.07s/it]\u001b[A"
     ]
    },
    {
     "name": "stdout",
     "output_type": "stream",
     "text": [
      "<selenium.webdriver.remote.webelement.WebElement (session=\"601994a4418b8a09c5d4dfaadede243b\", element=\"FCA2EB640CF5A95608AB2493618910A8_element_454\")>\n",
      "백리향 4.43 대구 동구 팔공로 250 129호\n"
     ]
    },
    {
     "name": "stderr",
     "output_type": "stream",
     "text": [
      "\n",
      " 27%|█████████████████████                                                          | 80/300 [37:26<2:04:40, 34.00s/it]"
     ]
    },
    {
     "name": "stdout",
     "output_type": "stream",
     "text": [
      "쉬즈베이글 율하점\n",
      "종종 비건쿠키\n",
      "팔봉리닭집 율하광장점\n",
      "수유리혼밥왕 율하광장점\n",
      "컴포즈커피 대구율하광장점\n",
      "율하동김밥 광장점\n",
      "더벤티 대구율하광장점\n",
      "빽다방 대구율하광장점\n",
      "덤브치킨 율하광장점\n",
      "맘스터치 대구율하광장점\n"
     ]
    },
    {
     "name": "stderr",
     "output_type": "stream",
     "text": [
      "\n",
      "  0%|                                                                                           | 0/10 [00:07<?, ?it/s]\u001b[A\n",
      " 27%|█████████████████████▎                                                         | 81/300 [37:42<1:44:49, 28.72s/it]\n",
      "0it [00:00, ?it/s]\u001b[A\n",
      " 27%|█████████████████████▌                                                         | 82/300 [37:56<1:27:56, 24.20s/it]"
     ]
    },
    {
     "name": "stdout",
     "output_type": "stream",
     "text": [
      "양춘회\n",
      "차방책방\n",
      "카페 태평살롱\n"
     ]
    },
    {
     "name": "stderr",
     "output_type": "stream",
     "text": [
      "\n",
      "  0%|                                                                                            | 0/3 [00:00<?, ?it/s]\u001b[A"
     ]
    },
    {
     "name": "stdout",
     "output_type": "stream",
     "text": [
      "<selenium.webdriver.remote.webelement.WebElement (session=\"e9ee3f3be56e5563d5b097812bcc3670\", element=\"1AE9BF9E4498F843124166A83035A6DF_element_95\")>\n"
     ]
    },
    {
     "name": "stderr",
     "output_type": "stream",
     "text": [
      "\n",
      " 33%|████████████████████████████                                                        | 1/3 [00:11<00:22, 11.23s/it]\u001b[A"
     ]
    },
    {
     "name": "stdout",
     "output_type": "stream",
     "text": [
      "양춘회 NaN 대구 중구 경상감영1길 13 1층\n"
     ]
    },
    {
     "name": "stderr",
     "output_type": "stream",
     "text": [
      "\n",
      " 67%|████████████████████████████████████████████████████████                            | 2/3 [00:13<00:05,  5.87s/it]\u001b[A"
     ]
    },
    {
     "name": "stdout",
     "output_type": "stream",
     "text": [
      "<selenium.webdriver.remote.webelement.WebElement (session=\"e9ee3f3be56e5563d5b097812bcc3670\", element=\"1AE9BF9E4498F843124166A83035A6DF_element_143\")>\n",
      "차방책방 4.89 대구 중구 경상감영길 60 1층 차방책방\n",
      "<selenium.webdriver.remote.webelement.WebElement (session=\"e9ee3f3be56e5563d5b097812bcc3670\", element=\"1AE9BF9E4498F843124166A83035A6DF_element_191\")>\n"
     ]
    },
    {
     "name": "stderr",
     "output_type": "stream",
     "text": [
      "\n",
      "100%|████████████████████████████████████████████████████████████████████████████████████| 3/3 [00:20<00:00,  6.84s/it]\u001b[A"
     ]
    },
    {
     "name": "stdout",
     "output_type": "stream",
     "text": [
      "카페 태평살롱 NaN 대구 중구 서성로14길 84 1층\n"
     ]
    },
    {
     "name": "stderr",
     "output_type": "stream",
     "text": [
      "\n",
      " 28%|█████████████████████▊                                                         | 83/300 [38:33<1:40:57, 27.92s/it]\n",
      "0it [00:00, ?it/s]\u001b[A\n",
      " 28%|██████████████████████                                                         | 84/300 [38:46<1:24:59, 23.61s/it]"
     ]
    },
    {
     "name": "stdout",
     "output_type": "stream",
     "text": [
      "민물장어 직판장 풍천관 본점\n",
      "돼지만 대구본점\n",
      "월촌역 청춘삼겹살\n",
      "비비당\n",
      "심야매점 상인동본점\n",
      "베를린 에스프레소 바\n",
      "가야성\n",
      "최윤숙안동생고기뭉티기 본점\n",
      "황금쭈꾸미집 상인점\n",
      "샤브20 상인점\n"
     ]
    },
    {
     "name": "stderr",
     "output_type": "stream",
     "text": [
      "\n",
      "  0%|                                                                                           | 0/10 [00:00<?, ?it/s]\u001b[A\n",
      " 10%|████████▎                                                                          | 1/10 [00:06<00:56,  6.24s/it]\u001b[A"
     ]
    },
    {
     "name": "stdout",
     "output_type": "stream",
     "text": [
      "<selenium.webdriver.remote.webelement.WebElement (session=\"8606e0be97f80e096e1b630d3f0aa77b\", element=\"54E940FA39933F42B2ED574F32AA2618_element_113\")>\n",
      "민물장어 직판장 풍천관 본점 4.89 대구 달서구 월곡로 268-10 풍천관 본점\n"
     ]
    },
    {
     "name": "stderr",
     "output_type": "stream",
     "text": [
      "\n",
      " 20%|████████████████▌                                                                  | 2/10 [00:08<00:30,  3.83s/it]\u001b[A"
     ]
    },
    {
     "name": "stdout",
     "output_type": "stream",
     "text": [
      "<selenium.webdriver.remote.webelement.WebElement (session=\"8606e0be97f80e096e1b630d3f0aa77b\", element=\"54E940FA39933F42B2ED574F32AA2618_element_180\")>\n",
      "돼지만 대구본점 4.62 대구 달서구 상화북로 192\n"
     ]
    },
    {
     "name": "stderr",
     "output_type": "stream",
     "text": [
      "\n",
      " 30%|████████████████████████▉                                                          | 3/10 [00:10<00:21,  3.11s/it]\u001b[A"
     ]
    },
    {
     "name": "stdout",
     "output_type": "stream",
     "text": [
      "<selenium.webdriver.remote.webelement.WebElement (session=\"8606e0be97f80e096e1b630d3f0aa77b\", element=\"54E940FA39933F42B2ED574F32AA2618_element_224\")>\n",
      "월촌역 청춘삼겹살 4.5 대구 달서구 송현로 40-1 청춘삼겹살\n",
      "<selenium.webdriver.remote.webelement.WebElement (session=\"8606e0be97f80e096e1b630d3f0aa77b\", element=\"54E940FA39933F42B2ED574F32AA2618_element_259\")>\n"
     ]
    },
    {
     "name": "stderr",
     "output_type": "stream",
     "text": [
      "\n",
      " 40%|█████████████████████████████████▏                                                 | 4/10 [00:17<00:28,  4.71s/it]\u001b[A"
     ]
    },
    {
     "name": "stdout",
     "output_type": "stream",
     "text": [
      "비비당 NaN 대구 달서구 월배로 203 1층 비비당\n"
     ]
    },
    {
     "name": "stderr",
     "output_type": "stream",
     "text": [
      "\n",
      " 50%|█████████████████████████████████████████▌                                         | 5/10 [00:19<00:18,  3.80s/it]\u001b[A"
     ]
    },
    {
     "name": "stdout",
     "output_type": "stream",
     "text": [
      "<selenium.webdriver.remote.webelement.WebElement (session=\"8606e0be97f80e096e1b630d3f0aa77b\", element=\"54E940FA39933F42B2ED574F32AA2618_element_286\")>\n",
      "심야매점 상인동본점 4.4 대구 달서구 월배로 199 1층 심야매점\n"
     ]
    },
    {
     "name": "stderr",
     "output_type": "stream",
     "text": [
      "\n",
      " 60%|█████████████████████████████████████████████████▊                                 | 6/10 [00:22<00:12,  3.23s/it]\u001b[A"
     ]
    },
    {
     "name": "stdout",
     "output_type": "stream",
     "text": [
      "<selenium.webdriver.remote.webelement.WebElement (session=\"8606e0be97f80e096e1b630d3f0aa77b\", element=\"54E940FA39933F42B2ED574F32AA2618_element_315\")>\n",
      "베를린 에스프레소 바 4.65 대구 달서구 미리샘길 82 1층\n"
     ]
    },
    {
     "name": "stderr",
     "output_type": "stream",
     "text": [
      "\n",
      " 70%|██████████████████████████████████████████████████████████                         | 7/10 [00:24<00:08,  2.88s/it]\u001b[A"
     ]
    },
    {
     "name": "stdout",
     "output_type": "stream",
     "text": [
      "<selenium.webdriver.remote.webelement.WebElement (session=\"8606e0be97f80e096e1b630d3f0aa77b\", element=\"54E940FA39933F42B2ED574F32AA2618_element_354\")>\n",
      "가야성 4.37 대구 달서구 월배로83길 7\n"
     ]
    },
    {
     "name": "stderr",
     "output_type": "stream",
     "text": [
      "\n",
      " 80%|██████████████████████████████████████████████████████████████████▍                | 8/10 [00:26<00:05,  2.65s/it]\u001b[A"
     ]
    },
    {
     "name": "stdout",
     "output_type": "stream",
     "text": [
      "<selenium.webdriver.remote.webelement.WebElement (session=\"8606e0be97f80e096e1b630d3f0aa77b\", element=\"54E940FA39933F42B2ED574F32AA2618_element_382\")>\n",
      "최윤숙안동생고기뭉티기 본점 4.46 대구 달서구 월곡로47길 28\n"
     ]
    },
    {
     "name": "stderr",
     "output_type": "stream",
     "text": [
      "\n",
      " 90%|██████████████████████████████████████████████████████████████████████████▋        | 9/10 [00:28<00:02,  2.49s/it]\u001b[A"
     ]
    },
    {
     "name": "stdout",
     "output_type": "stream",
     "text": [
      "<selenium.webdriver.remote.webelement.WebElement (session=\"8606e0be97f80e096e1b630d3f0aa77b\", element=\"54E940FA39933F42B2ED574F32AA2618_element_409\")>\n",
      "황금쭈꾸미집 상인점 4.92 대구 달서구 월곡로51길 17 황금쭈꾸미집\n",
      "<selenium.webdriver.remote.webelement.WebElement (session=\"8606e0be97f80e096e1b630d3f0aa77b\", element=\"54E940FA39933F42B2ED574F32AA2618_element_437\")>\n"
     ]
    },
    {
     "name": "stderr",
     "output_type": "stream",
     "text": [
      "\n",
      "100%|██████████████████████████████████████████████████████████████████████████████████| 10/10 [00:35<00:00,  3.57s/it]\u001b[A"
     ]
    },
    {
     "name": "stdout",
     "output_type": "stream",
     "text": [
      "샤브20 상인점 NaN 대구 달서구 월배로 227 2층\n"
     ]
    },
    {
     "name": "stderr",
     "output_type": "stream",
     "text": [
      "\n",
      " 28%|██████████████████████▍                                                        | 85/300 [39:35<1:51:40, 31.16s/it]"
     ]
    },
    {
     "name": "stdout",
     "output_type": "stream",
     "text": [
      "류센소 범어점\n",
      "카이젠\n",
      "블랙타코앤그릴\n",
      "몽블랑드파리\n",
      "아티코\n",
      "조조칼국수 본점\n",
      "무화커피\n",
      "노팅힐커피하우스\n",
      "얼디\n",
      "빠레뜨한남 대구 동성로점\n"
     ]
    },
    {
     "name": "stderr",
     "output_type": "stream",
     "text": [
      "\n",
      "  0%|                                                                                           | 0/10 [00:07<?, ?it/s]\u001b[A\n",
      " 29%|██████████████████████▋                                                        | 86/300 [39:52<1:36:09, 26.96s/it]\n",
      "0it [00:00, ?it/s]\u001b[A\n",
      " 29%|██████████████████████▉                                                        | 87/300 [40:06<1:22:07, 23.14s/it]\n",
      "0it [00:00, ?it/s]\u001b[A\n",
      " 29%|███████████████████████▏                                                       | 88/300 [40:23<1:15:09, 21.27s/it]"
     ]
    },
    {
     "name": "stdout",
     "output_type": "stream",
     "text": [
      "대구조개창고 대구달서점\n",
      "니가아는식당 전골&편백찜 대곡점\n",
      "핑크라이언\n",
      "롤링핀 대구수목원점\n",
      "동이식당\n",
      "계령식당\n",
      "부용정 굴비정식\n",
      "정코다리 대곡점\n",
      "브리즈 브레드\n",
      "WANN\n"
     ]
    },
    {
     "name": "stderr",
     "output_type": "stream",
     "text": [
      "\n",
      "  0%|                                                                                           | 0/10 [00:00<?, ?it/s]\u001b[A\n",
      " 10%|████████▎                                                                          | 1/10 [00:06<00:55,  6.19s/it]\u001b[A"
     ]
    },
    {
     "name": "stdout",
     "output_type": "stream",
     "text": [
      "<selenium.webdriver.remote.webelement.WebElement (session=\"008a74a85eff18e24387a8a22a7bf6d6\", element=\"A809EC1B27BD4D60B83F502411C873A2_element_106\")>\n",
      "대구조개창고 대구달서점 4.24 대구 달서구 명천로 43 길섶한우건물 2층\n"
     ]
    },
    {
     "name": "stderr",
     "output_type": "stream",
     "text": [
      "\n",
      " 20%|████████████████▌                                                                  | 2/10 [00:08<00:30,  3.81s/it]\u001b[A"
     ]
    },
    {
     "name": "stdout",
     "output_type": "stream",
     "text": [
      "<selenium.webdriver.remote.webelement.WebElement (session=\"008a74a85eff18e24387a8a22a7bf6d6\", element=\"A809EC1B27BD4D60B83F502411C873A2_element_154\")>\n",
      "니가아는식당 전골&편백찜 대곡점 4.51 대구 달서구 갈밭로4길 14 1층\n"
     ]
    },
    {
     "name": "stderr",
     "output_type": "stream",
     "text": [
      "\n",
      " 30%|████████████████████████▉                                                          | 3/10 [00:10<00:21,  3.03s/it]\u001b[A"
     ]
    },
    {
     "name": "stdout",
     "output_type": "stream",
     "text": [
      "<selenium.webdriver.remote.webelement.WebElement (session=\"008a74a85eff18e24387a8a22a7bf6d6\", element=\"A809EC1B27BD4D60B83F502411C873A2_element_216\")>\n",
      "핑크라이언 4.68 대구 달서구 한실로6길 158-3 핑크라이언\n",
      "<selenium.webdriver.remote.webelement.WebElement (session=\"008a74a85eff18e24387a8a22a7bf6d6\", element=\"A809EC1B27BD4D60B83F502411C873A2_element_261\")>\n"
     ]
    },
    {
     "name": "stderr",
     "output_type": "stream",
     "text": [
      "\n",
      " 40%|█████████████████████████████████▏                                                 | 4/10 [00:17<00:28,  4.67s/it]\u001b[A"
     ]
    },
    {
     "name": "stdout",
     "output_type": "stream",
     "text": [
      "롤링핀 대구수목원점 NaN 대구 달서구 한실로6길 158\n"
     ]
    },
    {
     "name": "stderr",
     "output_type": "stream",
     "text": [
      "\n",
      " 50%|█████████████████████████████████████████▌                                         | 5/10 [00:19<00:18,  3.76s/it]\u001b[A"
     ]
    },
    {
     "name": "stdout",
     "output_type": "stream",
     "text": [
      "<selenium.webdriver.remote.webelement.WebElement (session=\"008a74a85eff18e24387a8a22a7bf6d6\", element=\"A809EC1B27BD4D60B83F502411C873A2_element_298\")>\n",
      "동이식당 4.4 대구 달서구 한실로6길 165-7\n"
     ]
    },
    {
     "name": "stderr",
     "output_type": "stream",
     "text": [
      "\n",
      " 60%|█████████████████████████████████████████████████▊                                 | 6/10 [00:21<00:12,  3.21s/it]\u001b[A"
     ]
    },
    {
     "name": "stdout",
     "output_type": "stream",
     "text": [
      "<selenium.webdriver.remote.webelement.WebElement (session=\"008a74a85eff18e24387a8a22a7bf6d6\", element=\"A809EC1B27BD4D60B83F502411C873A2_element_340\")>\n",
      "계령식당 4.36 대구 달서구 한실로6길 155-15 1층\n",
      "<selenium.webdriver.remote.webelement.WebElement (session=\"008a74a85eff18e24387a8a22a7bf6d6\", element=\"A809EC1B27BD4D60B83F502411C873A2_element_380\")>\n"
     ]
    },
    {
     "name": "stderr",
     "output_type": "stream",
     "text": [
      "\n",
      " 70%|██████████████████████████████████████████████████████████                         | 7/10 [00:29<00:13,  4.50s/it]\u001b[A"
     ]
    },
    {
     "name": "stdout",
     "output_type": "stream",
     "text": [
      "부용정 굴비정식 NaN 대구 달서구 한실로6길 164 1층 101호\n"
     ]
    },
    {
     "name": "stderr",
     "output_type": "stream",
     "text": [
      "\n",
      " 80%|██████████████████████████████████████████████████████████████████▍                | 8/10 [00:31<00:07,  3.75s/it]\u001b[A"
     ]
    },
    {
     "name": "stdout",
     "output_type": "stream",
     "text": [
      "<selenium.webdriver.remote.webelement.WebElement (session=\"008a74a85eff18e24387a8a22a7bf6d6\", element=\"A809EC1B27BD4D60B83F502411C873A2_element_406\")>\n",
      "정코다리 대곡점 4.42 대구 달서구 한실로6길 150 정코다리 대곡점 1층\n"
     ]
    },
    {
     "name": "stderr",
     "output_type": "stream",
     "text": [
      "\n",
      " 90%|██████████████████████████████████████████████████████████████████████████▋        | 9/10 [00:33<00:03,  3.25s/it]\u001b[A"
     ]
    },
    {
     "name": "stdout",
     "output_type": "stream",
     "text": [
      "<selenium.webdriver.remote.webelement.WebElement (session=\"008a74a85eff18e24387a8a22a7bf6d6\", element=\"A809EC1B27BD4D60B83F502411C873A2_element_437\")>\n",
      "브리즈 브레드 4.47 대구 달서구 한실로6길 120-25 102호\n"
     ]
    },
    {
     "name": "stderr",
     "output_type": "stream",
     "text": [
      "\n",
      "100%|██████████████████████████████████████████████████████████████████████████████████| 10/10 [00:35<00:00,  3.55s/it]\u001b[A"
     ]
    },
    {
     "name": "stdout",
     "output_type": "stream",
     "text": [
      "<selenium.webdriver.remote.webelement.WebElement (session=\"008a74a85eff18e24387a8a22a7bf6d6\", element=\"A809EC1B27BD4D60B83F502411C873A2_element_458\")>\n",
      "WANN 4.32 대구 달서구 한실로6길 161\n"
     ]
    },
    {
     "name": "stderr",
     "output_type": "stream",
     "text": [
      "\n",
      " 30%|███████████████████████▍                                                       | 89/300 [41:15<1:46:57, 30.41s/it]\n",
      "0it [00:00, ?it/s]\u001b[A\n",
      " 30%|███████████████████████▋                                                       | 90/300 [41:29<1:29:26, 25.56s/it]\n",
      "0it [00:00, ?it/s]\u001b[A\n",
      " 30%|███████████████████████▉                                                       | 91/300 [41:46<1:19:57, 22.96s/it]"
     ]
    },
    {
     "name": "stdout",
     "output_type": "stream",
     "text": [
      "하빈밥집 본점\n"
     ]
    },
    {
     "name": "stderr",
     "output_type": "stream",
     "text": [
      "\n",
      "  0%|                                                                                            | 0/1 [00:00<?, ?it/s]\u001b[A\n",
      "100%|████████████████████████████████████████████████████████████████████████████████████| 1/1 [00:06<00:00,  6.23s/it]\u001b[A"
     ]
    },
    {
     "name": "stdout",
     "output_type": "stream",
     "text": [
      "<selenium.webdriver.remote.webelement.WebElement (session=\"1cc96ffaaa4855e87d41c1c199d829b3\", element=\"BAF34BC6600188B8210FE8153DBCE0F8_element_85\")>\n",
      "하빈밥집 본점 4.09 대구 달성군 하빈면 하목정길 32 하빈밥집본점\n"
     ]
    },
    {
     "name": "stderr",
     "output_type": "stream",
     "text": [
      "\n",
      " 31%|████████████████████████▏                                                      | 92/300 [42:04<1:14:44, 21.56s/it]\n",
      "0it [00:00, ?it/s]\u001b[A\n",
      " 31%|████████████████████████▍                                                      | 93/300 [42:19<1:07:20, 19.52s/it]\n",
      "0it [00:00, ?it/s]\u001b[A\n",
      " 31%|████████████████████████▊                                                      | 94/300 [42:36<1:04:34, 18.81s/it]\n",
      "0it [00:00, ?it/s]\u001b[A\n",
      " 32%|█████████████████████████                                                      | 95/300 [42:53<1:02:30, 18.29s/it]\n",
      "0it [00:00, ?it/s]\u001b[A\n",
      " 32%|█████████████████████████▎                                                     | 96/300 [43:10<1:00:53, 17.91s/it]"
     ]
    },
    {
     "name": "stdout",
     "output_type": "stream",
     "text": [
      "한밤황토집\n",
      "카페우즈\n",
      "시골밥상\n",
      "금레당\n",
      "엘아르카 비타 팔공산점\n",
      "돌담칼국수\n",
      "두향\n",
      "대흥식당\n",
      "플루보\n",
      "카페푸른달\n"
     ]
    },
    {
     "name": "stderr",
     "output_type": "stream",
     "text": [
      "\n",
      "  0%|                                                                                           | 0/10 [00:00<?, ?it/s]\u001b[A\n",
      " 10%|████████▎                                                                          | 1/10 [00:06<00:55,  6.21s/it]\u001b[A"
     ]
    },
    {
     "name": "stdout",
     "output_type": "stream",
     "text": [
      "<selenium.webdriver.remote.webelement.WebElement (session=\"f5b310b920dd6a75ed7eeb2e4adcff2a\", element=\"F5B18FF9240E65571BEDFD07FF6BA7C9_element_116\")>\n",
      "한밤황토집 4.87 대구 군위군 부계면 한밤8길 46-55\n",
      "<selenium.webdriver.remote.webelement.WebElement (session=\"f5b310b920dd6a75ed7eeb2e4adcff2a\", element=\"F5B18FF9240E65571BEDFD07FF6BA7C9_element_163\")>\n"
     ]
    },
    {
     "name": "stderr",
     "output_type": "stream",
     "text": [
      "\n",
      " 20%|████████████████▌                                                                  | 2/10 [00:13<00:53,  6.74s/it]\u001b[A"
     ]
    },
    {
     "name": "stdout",
     "output_type": "stream",
     "text": [
      "카페우즈 NaN 대구 군위군 부계면 한티로 2034\n"
     ]
    },
    {
     "name": "stderr",
     "output_type": "stream",
     "text": [
      "\n",
      " 30%|████████████████████████▉                                                          | 3/10 [00:15<00:32,  4.64s/it]\u001b[A"
     ]
    },
    {
     "name": "stdout",
     "output_type": "stream",
     "text": [
      "<selenium.webdriver.remote.webelement.WebElement (session=\"f5b310b920dd6a75ed7eeb2e4adcff2a\", element=\"F5B18FF9240E65571BEDFD07FF6BA7C9_element_204\")>\n",
      "시골밥상 4.24 대구 군위군 부계면 한티로 1903\n",
      "<selenium.webdriver.remote.webelement.WebElement (session=\"f5b310b920dd6a75ed7eeb2e4adcff2a\", element=\"F5B18FF9240E65571BEDFD07FF6BA7C9_element_230\")>\n"
     ]
    },
    {
     "name": "stderr",
     "output_type": "stream",
     "text": [
      "\n",
      " 40%|█████████████████████████████████▏                                                 | 4/10 [00:22<00:33,  5.65s/it]\u001b[A"
     ]
    },
    {
     "name": "stdout",
     "output_type": "stream",
     "text": [
      "금레당 NaN 대구 군위군 부계면 한밤5길 20-1\n"
     ]
    },
    {
     "name": "stderr",
     "output_type": "stream",
     "text": [
      "\n",
      " 50%|█████████████████████████████████████████▌                                         | 5/10 [00:24<00:21,  4.39s/it]\u001b[A"
     ]
    },
    {
     "name": "stdout",
     "output_type": "stream",
     "text": [
      "<selenium.webdriver.remote.webelement.WebElement (session=\"f5b310b920dd6a75ed7eeb2e4adcff2a\", element=\"F5B18FF9240E65571BEDFD07FF6BA7C9_element_269\")>\n",
      "엘아르카 비타 팔공산점 4.72 대구 군위군 부계면 한티로 2030\n",
      "<selenium.webdriver.remote.webelement.WebElement (session=\"f5b310b920dd6a75ed7eeb2e4adcff2a\", element=\"F5B18FF9240E65571BEDFD07FF6BA7C9_element_320\")>\n"
     ]
    },
    {
     "name": "stderr",
     "output_type": "stream",
     "text": [
      "\n",
      " 60%|█████████████████████████████████████████████████▊                                 | 6/10 [00:31<00:21,  5.32s/it]\u001b[A"
     ]
    },
    {
     "name": "stdout",
     "output_type": "stream",
     "text": [
      "돌담칼국수 NaN 대구 군위군 부계면 한밤8길 45-8\n",
      "<selenium.webdriver.remote.webelement.WebElement (session=\"f5b310b920dd6a75ed7eeb2e4adcff2a\", element=\"F5B18FF9240E65571BEDFD07FF6BA7C9_element_337\")>\n"
     ]
    },
    {
     "name": "stderr",
     "output_type": "stream",
     "text": [
      "\n",
      " 70%|██████████████████████████████████████████████████████████                         | 7/10 [00:39<00:17,  5.92s/it]\u001b[A"
     ]
    },
    {
     "name": "stdout",
     "output_type": "stream",
     "text": [
      "두향 NaN 대구 군위군 부계면 한티로 2206-37\n",
      "<selenium.webdriver.remote.webelement.WebElement (session=\"f5b310b920dd6a75ed7eeb2e4adcff2a\", element=\"F5B18FF9240E65571BEDFD07FF6BA7C9_element_402\")>\n"
     ]
    },
    {
     "name": "stderr",
     "output_type": "stream",
     "text": [
      "\n",
      " 80%|██████████████████████████████████████████████████████████████████▍                | 8/10 [00:46<00:12,  6.32s/it]\u001b[A"
     ]
    },
    {
     "name": "stdout",
     "output_type": "stream",
     "text": [
      "대흥식당 NaN 대구 군위군 부계면 한티로 2161\n",
      "<selenium.webdriver.remote.webelement.WebElement (session=\"f5b310b920dd6a75ed7eeb2e4adcff2a\", element=\"F5B18FF9240E65571BEDFD07FF6BA7C9_element_435\")>\n"
     ]
    },
    {
     "name": "stderr",
     "output_type": "stream",
     "text": [
      "\n",
      " 90%|██████████████████████████████████████████████████████████████████████████▋        | 9/10 [00:53<00:06,  6.58s/it]\u001b[A"
     ]
    },
    {
     "name": "stdout",
     "output_type": "stream",
     "text": [
      "플루보 NaN 대구 군위군 부계면 한밤8길 143-3\n"
     ]
    },
    {
     "name": "stderr",
     "output_type": "stream",
     "text": [
      "\n",
      "100%|██████████████████████████████████████████████████████████████████████████████████| 10/10 [00:55<00:00,  5.56s/it]\u001b[A"
     ]
    },
    {
     "name": "stdout",
     "output_type": "stream",
     "text": [
      "<selenium.webdriver.remote.webelement.WebElement (session=\"f5b310b920dd6a75ed7eeb2e4adcff2a\", element=\"F5B18FF9240E65571BEDFD07FF6BA7C9_element_477\")>\n",
      "카페푸른달 4.4 대구 군위군 부계면 한티로 1905\n"
     ]
    },
    {
     "name": "stderr",
     "output_type": "stream",
     "text": [
      "\n",
      " 32%|█████████████████████████▌                                                     | 97/300 [44:18<1:51:14, 32.88s/it]\n",
      "0it [00:00, ?it/s]\u001b[A\n",
      " 33%|█████████████████████████▊                                                     | 98/300 [44:33<1:32:30, 27.48s/it]"
     ]
    },
    {
     "name": "stdout",
     "output_type": "stream",
     "text": [
      "포도밭식당\n",
      "Cafe.803\n",
      "갓바위우리식당\n",
      "천서리메밀촌\n",
      "갓오브커피\n",
      "꿀집식당\n",
      "진선재토속음식전문\n",
      "커피(선본사)\n",
      "산골식당\n",
      "건강밥상군불로\n"
     ]
    },
    {
     "name": "stderr",
     "output_type": "stream",
     "text": [
      "\n",
      "  0%|                                                                                           | 0/10 [00:00<?, ?it/s]\u001b[A\n",
      " 10%|████████▎                                                                          | 1/10 [00:06<00:55,  6.22s/it]\u001b[A"
     ]
    },
    {
     "name": "stdout",
     "output_type": "stream",
     "text": [
      "<selenium.webdriver.remote.webelement.WebElement (session=\"7f0e5530832f28b136641752b14565cd\", element=\"288ED718F0666123D7EDF48BB79A68DF_element_96\")>\n",
      "포도밭식당 4.48 대구 동구 갓바위로 259\n"
     ]
    },
    {
     "name": "stderr",
     "output_type": "stream",
     "text": [
      "\n",
      " 20%|████████████████▌                                                                  | 2/10 [00:08<00:30,  3.80s/it]\u001b[A"
     ]
    },
    {
     "name": "stdout",
     "output_type": "stream",
     "text": [
      "<selenium.webdriver.remote.webelement.WebElement (session=\"7f0e5530832f28b136641752b14565cd\", element=\"288ED718F0666123D7EDF48BB79A68DF_element_173\")>\n",
      "Cafe.803 4.59 경북 경산시 와촌면 갓바위로 550 카페 803\n"
     ]
    },
    {
     "name": "stderr",
     "output_type": "stream",
     "text": [
      "\n",
      " 30%|████████████████████████▉                                                          | 3/10 [00:10<00:21,  3.05s/it]\u001b[A"
     ]
    },
    {
     "name": "stdout",
     "output_type": "stream",
     "text": [
      "<selenium.webdriver.remote.webelement.WebElement (session=\"7f0e5530832f28b136641752b14565cd\", element=\"288ED718F0666123D7EDF48BB79A68DF_element_220\")>\n",
      "갓바위우리식당 4.35 대구 동구 갓바위로 257\n"
     ]
    },
    {
     "name": "stderr",
     "output_type": "stream",
     "text": [
      "\n",
      " 40%|█████████████████████████████████▏                                                 | 4/10 [00:12<00:16,  2.69s/it]\u001b[A"
     ]
    },
    {
     "name": "stdout",
     "output_type": "stream",
     "text": [
      "<selenium.webdriver.remote.webelement.WebElement (session=\"7f0e5530832f28b136641752b14565cd\", element=\"288ED718F0666123D7EDF48BB79A68DF_element_247\")>\n",
      "천서리메밀촌 4.35 대구 동구 갓바위로 243-3\n",
      "<selenium.webdriver.remote.webelement.WebElement (session=\"7f0e5530832f28b136641752b14565cd\", element=\"288ED718F0666123D7EDF48BB79A68DF_element_288\")>\n"
     ]
    },
    {
     "name": "stderr",
     "output_type": "stream",
     "text": [
      "\n",
      " 50%|█████████████████████████████████████████▌                                         | 5/10 [00:19<00:21,  4.30s/it]\u001b[A"
     ]
    },
    {
     "name": "stdout",
     "output_type": "stream",
     "text": [
      "갓오브커피 NaN 대구 동구 갓바위로 243-5 갓오브커피\n"
     ]
    },
    {
     "name": "stderr",
     "output_type": "stream",
     "text": [
      "\n",
      " 60%|█████████████████████████████████████████████████▊                                 | 6/10 [00:21<00:14,  3.56s/it]\u001b[A"
     ]
    },
    {
     "name": "stdout",
     "output_type": "stream",
     "text": [
      "<selenium.webdriver.remote.webelement.WebElement (session=\"7f0e5530832f28b136641752b14565cd\", element=\"288ED718F0666123D7EDF48BB79A68DF_element_295\")>\n",
      "꿀집식당 4.49 대구 동구 갓바위로 256\n"
     ]
    },
    {
     "name": "stderr",
     "output_type": "stream",
     "text": [
      "\n",
      " 70%|██████████████████████████████████████████████████████████                         | 7/10 [00:24<00:09,  3.10s/it]\u001b[A"
     ]
    },
    {
     "name": "stdout",
     "output_type": "stream",
     "text": [
      "<selenium.webdriver.remote.webelement.WebElement (session=\"7f0e5530832f28b136641752b14565cd\", element=\"288ED718F0666123D7EDF48BB79A68DF_element_317\")>\n",
      "진선재토속음식전문 4.35 대구 동구 갓바위로 255-10\n"
     ]
    },
    {
     "name": "stderr",
     "output_type": "stream",
     "text": [
      "\n",
      " 80%|██████████████████████████████████████████████████████████████████▍                | 8/10 [00:26<00:05,  2.79s/it]\u001b[A"
     ]
    },
    {
     "name": "stdout",
     "output_type": "stream",
     "text": [
      "<selenium.webdriver.remote.webelement.WebElement (session=\"7f0e5530832f28b136641752b14565cd\", element=\"288ED718F0666123D7EDF48BB79A68DF_element_359\")>\n",
      "커피(선본사) 4.44 경북 경산시 와촌면 갓바위로81길 176-64\n",
      "<selenium.webdriver.remote.webelement.WebElement (session=\"7f0e5530832f28b136641752b14565cd\", element=\"288ED718F0666123D7EDF48BB79A68DF_element_370\")>\n"
     ]
    },
    {
     "name": "stderr",
     "output_type": "stream",
     "text": [
      "\n",
      " 90%|██████████████████████████████████████████████████████████████████████████▋        | 9/10 [00:33<00:04,  4.16s/it]\u001b[A"
     ]
    },
    {
     "name": "stdout",
     "output_type": "stream",
     "text": [
      "산골식당 NaN 대구 동구 갓바위로 255-4\n",
      "<selenium.webdriver.remote.webelement.WebElement (session=\"7f0e5530832f28b136641752b14565cd\", element=\"288ED718F0666123D7EDF48BB79A68DF_element_395\")>\n"
     ]
    },
    {
     "name": "stderr",
     "output_type": "stream",
     "text": [
      "\n",
      "100%|██████████████████████████████████████████████████████████████████████████████████| 10/10 [00:40<00:00,  4.05s/it]\u001b[A"
     ]
    },
    {
     "name": "stdout",
     "output_type": "stream",
     "text": [
      "건강밥상군불로 NaN 대구 동구 갓바위로 244\n"
     ]
    },
    {
     "name": "stderr",
     "output_type": "stream",
     "text": [
      "\n",
      " 33%|██████████████████████████                                                     | 99/300 [45:26<1:57:20, 35.03s/it]\n",
      "0it [00:00, ?it/s]\u001b[A\n",
      " 33%|██████████████████████████                                                    | 100/300 [45:40<1:35:49, 28.75s/it]\n",
      "0it [00:00, ?it/s]\u001b[A\n",
      " 34%|██████████████████████████▎                                                   | 101/300 [45:57<1:23:36, 25.21s/it]\n",
      "0it [00:00, ?it/s]\u001b[A\n",
      " 34%|██████████████████████████▌                                                   | 102/300 [46:14<1:14:59, 22.73s/it]\n",
      "0it [00:00, ?it/s]\u001b[A\n",
      " 34%|██████████████████████████▊                                                   | 103/300 [46:31<1:08:58, 21.01s/it]"
     ]
    },
    {
     "name": "stdout",
     "output_type": "stream",
     "text": [
      "선비꼬마김밥 각산비나리공원점\n"
     ]
    },
    {
     "name": "stderr",
     "output_type": "stream",
     "text": [
      "\n",
      "  0%|                                                                                            | 0/1 [00:00<?, ?it/s]\u001b[A"
     ]
    },
    {
     "name": "stdout",
     "output_type": "stream",
     "text": [
      "<selenium.webdriver.remote.webelement.WebElement (session=\"36f461094e8a3c5bd145170eccae0064\", element=\"6D2D6D86DCFEEF6973D74460CE7AABE6_element_78\")>\n"
     ]
    },
    {
     "name": "stderr",
     "output_type": "stream",
     "text": [
      "\n",
      "100%|████████████████████████████████████████████████████████████████████████████████████| 1/1 [00:11<00:00, 11.22s/it]\u001b[A"
     ]
    },
    {
     "name": "stdout",
     "output_type": "stream",
     "text": [
      "선비꼬마김밥 각산비나리공원점 NaN 대구 동구 이노밸리로 162 105호\n"
     ]
    },
    {
     "name": "stderr",
     "output_type": "stream",
     "text": [
      "\n",
      " 35%|███████████████████████████                                                   | 104/300 [46:54<1:10:45, 21.66s/it]\n",
      "0it [00:00, ?it/s]\u001b[A\n",
      " 35%|███████████████████████████▎                                                  | 105/300 [47:08<1:02:44, 19.30s/it]\n",
      "0it [00:00, ?it/s]\u001b[A\n",
      " 35%|███████████████████████████▌                                                  | 106/300 [47:25<1:00:13, 18.63s/it]\n",
      "0it [00:00, ?it/s]\u001b[A\n",
      " 36%|████████████████████████████▌                                                   | 107/300 [47:42<58:26, 18.17s/it]\n",
      "0it [00:00, ?it/s]\u001b[A\n",
      " 36%|████████████████████████████▊                                                   | 108/300 [47:59<57:02, 17.83s/it]\n",
      "0it [00:00, ?it/s]\u001b[A\n",
      " 36%|█████████████████████████████                                                   | 109/300 [48:16<56:12, 17.66s/it]\n",
      "0it [00:00, ?it/s]\u001b[A\n",
      " 37%|█████████████████████████████▎                                                  | 110/300 [48:33<55:18, 17.46s/it]\n",
      "0it [00:00, ?it/s]\u001b[A\n",
      " 37%|█████████████████████████████▌                                                  | 111/300 [48:50<54:29, 17.30s/it]"
     ]
    },
    {
     "name": "stdout",
     "output_type": "stream",
     "text": [
      "곳카페\n",
      "팔공산 닭갈비\n",
      "오오키\n",
      "아미타\n",
      "팔공로507\n",
      "팔공참한우마실\n",
      "화덕촌 대구지묘점\n",
      "커피팩토리\n",
      "시골보리밥\n",
      "숯불바베큐 감탄\n"
     ]
    },
    {
     "name": "stderr",
     "output_type": "stream",
     "text": [
      "\n",
      "  0%|                                                                                           | 0/10 [00:00<?, ?it/s]\u001b[A\n",
      " 10%|████████▎                                                                          | 1/10 [00:06<00:55,  6.22s/it]\u001b[A"
     ]
    },
    {
     "name": "stdout",
     "output_type": "stream",
     "text": [
      "<selenium.webdriver.remote.webelement.WebElement (session=\"b35d0eb3495f2711b409ed13a631637b\", element=\"61D8DEC7A58C721B74BE6AFA1A341C5B_element_132\")>\n",
      "곳카페 4.54 대구 동구 지묘동 86-5\n"
     ]
    },
    {
     "name": "stderr",
     "output_type": "stream",
     "text": [
      "\n",
      " 20%|████████████████▌                                                                  | 2/10 [00:08<00:30,  3.81s/it]\u001b[A"
     ]
    },
    {
     "name": "stdout",
     "output_type": "stream",
     "text": [
      "<selenium.webdriver.remote.webelement.WebElement (session=\"b35d0eb3495f2711b409ed13a631637b\", element=\"61D8DEC7A58C721B74BE6AFA1A341C5B_element_158\")>\n",
      "팔공산 닭갈비 4.59 대구 동구 파계로 154-8\n"
     ]
    },
    {
     "name": "stderr",
     "output_type": "stream",
     "text": [
      "\n",
      " 30%|████████████████████████▉                                                          | 3/10 [00:10<00:21,  3.05s/it]\u001b[A"
     ]
    },
    {
     "name": "stdout",
     "output_type": "stream",
     "text": [
      "<selenium.webdriver.remote.webelement.WebElement (session=\"b35d0eb3495f2711b409ed13a631637b\", element=\"61D8DEC7A58C721B74BE6AFA1A341C5B_element_187\")>\n",
      "오오키 4.71 대구 동구 신숭겸길 7\n",
      "<selenium.webdriver.remote.webelement.WebElement (session=\"b35d0eb3495f2711b409ed13a631637b\", element=\"61D8DEC7A58C721B74BE6AFA1A341C5B_element_232\")>\n"
     ]
    },
    {
     "name": "stderr",
     "output_type": "stream",
     "text": [
      "\n",
      " 40%|█████████████████████████████████▏                                                 | 4/10 [00:17<00:28,  4.68s/it]\u001b[A"
     ]
    },
    {
     "name": "stdout",
     "output_type": "stream",
     "text": [
      "아미타 NaN 대구 동구 팔공로 505 1층 아미타카페\n",
      "<selenium.webdriver.remote.webelement.WebElement (session=\"b35d0eb3495f2711b409ed13a631637b\", element=\"61D8DEC7A58C721B74BE6AFA1A341C5B_element_270\")>\n"
     ]
    },
    {
     "name": "stderr",
     "output_type": "stream",
     "text": [
      "\n",
      " 50%|█████████████████████████████████████████▌                                         | 5/10 [00:24<00:27,  5.58s/it]\u001b[A"
     ]
    },
    {
     "name": "stdout",
     "output_type": "stream",
     "text": [
      "팔공로507 NaN 대구 동구 팔공로 507 1층\n",
      "<selenium.webdriver.remote.webelement.WebElement (session=\"b35d0eb3495f2711b409ed13a631637b\", element=\"61D8DEC7A58C721B74BE6AFA1A341C5B_element_310\")>\n"
     ]
    },
    {
     "name": "stderr",
     "output_type": "stream",
     "text": [
      "\n",
      " 60%|█████████████████████████████████████████████████▊                                 | 6/10 [00:32<00:24,  6.12s/it]\u001b[A"
     ]
    },
    {
     "name": "stdout",
     "output_type": "stream",
     "text": [
      "팔공참한우마실 NaN 대구 동구 팔공로 481\n",
      "<selenium.webdriver.remote.webelement.WebElement (session=\"b35d0eb3495f2711b409ed13a631637b\", element=\"61D8DEC7A58C721B74BE6AFA1A341C5B_element_335\")>\n"
     ]
    },
    {
     "name": "stderr",
     "output_type": "stream",
     "text": [
      "\n",
      " 70%|██████████████████████████████████████████████████████████                         | 7/10 [00:39<00:19,  6.47s/it]\u001b[A"
     ]
    },
    {
     "name": "stdout",
     "output_type": "stream",
     "text": [
      "화덕촌 대구지묘점 NaN 대구 동구 신숭겸길 15 지묘동근생 C동 1층\n"
     ]
    },
    {
     "name": "stderr",
     "output_type": "stream",
     "text": [
      "\n",
      " 80%|██████████████████████████████████████████████████████████████████▍                | 8/10 [00:41<00:10,  5.09s/it]\u001b[A"
     ]
    },
    {
     "name": "stdout",
     "output_type": "stream",
     "text": [
      "<selenium.webdriver.remote.webelement.WebElement (session=\"b35d0eb3495f2711b409ed13a631637b\", element=\"61D8DEC7A58C721B74BE6AFA1A341C5B_element_376\")>\n",
      "커피팩토리 4.59 대구 동구 팔공로101길 39 커피팩토리\n"
     ]
    },
    {
     "name": "stderr",
     "output_type": "stream",
     "text": [
      "\n",
      " 90%|██████████████████████████████████████████████████████████████████████████▋        | 9/10 [00:43<00:04,  4.17s/it]\u001b[A"
     ]
    },
    {
     "name": "stdout",
     "output_type": "stream",
     "text": [
      "<selenium.webdriver.remote.webelement.WebElement (session=\"b35d0eb3495f2711b409ed13a631637b\", element=\"61D8DEC7A58C721B74BE6AFA1A341C5B_element_388\")>\n",
      "시골보리밥 4.3 대구 동구 파계로 126\n"
     ]
    },
    {
     "name": "stderr",
     "output_type": "stream",
     "text": [
      "\n",
      "100%|██████████████████████████████████████████████████████████████████████████████████| 10/10 [00:45<00:00,  4.56s/it]\u001b[A"
     ]
    },
    {
     "name": "stdout",
     "output_type": "stream",
     "text": [
      "<selenium.webdriver.remote.webelement.WebElement (session=\"b35d0eb3495f2711b409ed13a631637b\", element=\"61D8DEC7A58C721B74BE6AFA1A341C5B_element_427\")>\n",
      "숯불바베큐 감탄 4.55 대구 동구 파계로6길 24 1층\n"
     ]
    },
    {
     "name": "stderr",
     "output_type": "stream",
     "text": [
      "\n",
      " 37%|█████████████████████████████                                                 | 112/300 [49:48<1:32:20, 29.47s/it]\n",
      "0it [00:00, ?it/s]\u001b[A\n",
      " 38%|█████████████████████████████▍                                                | 113/300 [50:02<1:17:54, 25.00s/it]\n",
      "0it [00:00, ?it/s]\u001b[A\n",
      " 38%|█████████████████████████████▋                                                | 114/300 [50:20<1:10:18, 22.68s/it]\n",
      "0it [00:00, ?it/s]\u001b[A\n",
      " 38%|█████████████████████████████▉                                                | 115/300 [50:37<1:04:35, 20.95s/it]"
     ]
    },
    {
     "name": "stdout",
     "output_type": "stream",
     "text": [
      "모이다식탁 연암공원점\n"
     ]
    },
    {
     "name": "stderr",
     "output_type": "stream",
     "text": [
      "\n",
      "  0%|                                                                                            | 0/1 [00:00<?, ?it/s]\u001b[A\n",
      "100%|████████████████████████████████████████████████████████████████████████████████████| 1/1 [00:06<00:00,  6.17s/it]\u001b[A"
     ]
    },
    {
     "name": "stdout",
     "output_type": "stream",
     "text": [
      "<selenium.webdriver.remote.webelement.WebElement (session=\"5808ac46ef6c416238f715d1c2d22062\", element=\"A0315E04D33A53BA8497AE239BAB6FD8_element_82\")>\n",
      "모이다식탁 연암공원점 4.72 대구 북구 연암공원로 38\n"
     ]
    },
    {
     "name": "stderr",
     "output_type": "stream",
     "text": [
      "\n",
      " 39%|██████████████████████████████▏                                               | 116/300 [50:56<1:02:30, 20.38s/it]\n",
      "0it [00:00, ?it/s]\u001b[A\n",
      " 39%|███████████████████████████████▏                                                | 117/300 [51:12<58:03, 19.03s/it]\n",
      "0it [00:00, ?it/s]\u001b[A\n",
      " 39%|███████████████████████████████▍                                                | 118/300 [51:30<56:57, 18.78s/it]"
     ]
    },
    {
     "name": "stdout",
     "output_type": "stream",
     "text": [
      "똥집대통령 평화시장본점\n",
      "더큰본부 똥집 찜닭\n",
      "똥집을 잘 아는 남자\n",
      "고인돌\n",
      "그놈포차 대구신암점\n",
      "신산홍\n"
     ]
    },
    {
     "name": "stderr",
     "output_type": "stream",
     "text": [
      "\n",
      "  0%|                                                                                            | 0/6 [00:00<?, ?it/s]\u001b[A\n",
      " 17%|██████████████                                                                      | 1/6 [00:06<00:31,  6.23s/it]\u001b[A"
     ]
    },
    {
     "name": "stdout",
     "output_type": "stream",
     "text": [
      "<selenium.webdriver.remote.webelement.WebElement (session=\"1cb847b11d4dba2fcb896c8b94e9bc48\", element=\"8AB492AF0EFEA05D5782AB20FB417381_element_104\")>\n",
      "똥집대통령 평화시장본점 4.36 대구 동구 아양로9길 7\n"
     ]
    },
    {
     "name": "stderr",
     "output_type": "stream",
     "text": [
      "\n",
      " 33%|████████████████████████████                                                        | 2/6 [00:08<00:15,  3.81s/it]\u001b[A"
     ]
    },
    {
     "name": "stdout",
     "output_type": "stream",
     "text": [
      "<selenium.webdriver.remote.webelement.WebElement (session=\"1cb847b11d4dba2fcb896c8b94e9bc48\", element=\"8AB492AF0EFEA05D5782AB20FB417381_element_166\")>\n",
      "더큰본부 똥집 찜닭 4.46 대구 동구 아양로9길 8 1층\n"
     ]
    },
    {
     "name": "stderr",
     "output_type": "stream",
     "text": [
      "\n",
      " 50%|██████████████████████████████████████████                                          | 3/6 [00:10<00:09,  3.05s/it]\u001b[A"
     ]
    },
    {
     "name": "stdout",
     "output_type": "stream",
     "text": [
      "<selenium.webdriver.remote.webelement.WebElement (session=\"1cb847b11d4dba2fcb896c8b94e9bc48\", element=\"8AB492AF0EFEA05D5782AB20FB417381_element_193\")>\n",
      "똥집을 잘 아는 남자 4.39 대구 동구 아양로9길 3\n",
      "<selenium.webdriver.remote.webelement.WebElement (session=\"1cb847b11d4dba2fcb896c8b94e9bc48\", element=\"8AB492AF0EFEA05D5782AB20FB417381_element_205\")>\n"
     ]
    },
    {
     "name": "stderr",
     "output_type": "stream",
     "text": [
      "\n",
      " 67%|████████████████████████████████████████████████████████                            | 4/6 [00:17<00:09,  4.68s/it]\u001b[A"
     ]
    },
    {
     "name": "stdout",
     "output_type": "stream",
     "text": [
      "고인돌 NaN 대구 동구 아양로9길 5 1층고인돌\n",
      "<selenium.webdriver.remote.webelement.WebElement (session=\"1cb847b11d4dba2fcb896c8b94e9bc48\", element=\"8AB492AF0EFEA05D5782AB20FB417381_element_264\")>\n"
     ]
    },
    {
     "name": "stderr",
     "output_type": "stream",
     "text": [
      "\n",
      " 83%|██████████████████████████████████████████████████████████████████████              | 5/6 [00:24<00:05,  5.58s/it]\u001b[A"
     ]
    },
    {
     "name": "stdout",
     "output_type": "stream",
     "text": [
      "그놈포차 대구신암점 NaN 대구 동구 아양로 25 1층\n"
     ]
    },
    {
     "name": "stderr",
     "output_type": "stream",
     "text": [
      "\n",
      "100%|████████████████████████████████████████████████████████████████████████████████████| 6/6 [00:26<00:00,  4.50s/it]\u001b[A"
     ]
    },
    {
     "name": "stdout",
     "output_type": "stream",
     "text": [
      "<selenium.webdriver.remote.webelement.WebElement (session=\"1cb847b11d4dba2fcb896c8b94e9bc48\", element=\"8AB492AF0EFEA05D5782AB20FB417381_element_286\")>\n",
      "신산홍 4.93 대구 동구 아양로7길 12 신암뜨란채 상가108호\n"
     ]
    },
    {
     "name": "stderr",
     "output_type": "stream",
     "text": [
      "\n",
      " 40%|██████████████████████████████▉                                               | 119/300 [52:09<1:15:05, 24.89s/it]"
     ]
    },
    {
     "name": "stdout",
     "output_type": "stream",
     "text": [
      "서원\n"
     ]
    },
    {
     "name": "stderr",
     "output_type": "stream",
     "text": [
      "\n",
      "  0%|                                                                                            | 0/1 [00:07<?, ?it/s]\u001b[A\n",
      " 40%|███████████████████████████████▏                                              | 120/300 [52:25<1:06:33, 22.19s/it]\n",
      "0it [00:00, ?it/s]\u001b[A\n",
      " 40%|████████████████████████████████▎                                               | 121/300 [52:40<59:42, 20.02s/it]\n",
      "0it [00:00, ?it/s]\u001b[A\n",
      " 41%|████████████████████████████████▌                                               | 122/300 [52:57<56:49, 19.16s/it]\n",
      "0it [00:00, ?it/s]\u001b[A\n",
      " 41%|████████████████████████████████▊                                               | 123/300 [53:15<55:30, 18.82s/it]\n",
      "0it [00:00, ?it/s]\u001b[A\n",
      " 41%|█████████████████████████████████                                               | 124/300 [53:32<53:33, 18.26s/it]\n",
      "0it [00:00, ?it/s]\u001b[A\n",
      " 42%|█████████████████████████████████▎                                              | 125/300 [53:50<52:56, 18.15s/it]"
     ]
    },
    {
     "name": "stdout",
     "output_type": "stream",
     "text": [
      "경원해물찜 범어점\n"
     ]
    },
    {
     "name": "stderr",
     "output_type": "stream",
     "text": [
      "\n",
      "  0%|                                                                                            | 0/1 [00:00<?, ?it/s]\u001b[A"
     ]
    },
    {
     "name": "stdout",
     "output_type": "stream",
     "text": [
      "<selenium.webdriver.remote.webelement.WebElement (session=\"f7725640837d6b27211254822f0c9f3b\", element=\"D02F7CCC10AB91AF3B05727B4FD350A8_element_98\")>\n"
     ]
    },
    {
     "name": "stderr",
     "output_type": "stream",
     "text": [
      "\n",
      "100%|████████████████████████████████████████████████████████████████████████████████████| 1/1 [00:11<00:00, 11.27s/it]\u001b[A"
     ]
    },
    {
     "name": "stdout",
     "output_type": "stream",
     "text": [
      "경원해물찜 범어점 NaN 경남 양산시 물금읍 범구5길 22 1층\n"
     ]
    },
    {
     "name": "stderr",
     "output_type": "stream",
     "text": [
      "\n",
      " 42%|████████████████████████████████▊                                             | 126/300 [54:17<1:00:45, 20.95s/it]\n",
      "0it [00:00, ?it/s]\u001b[A\n",
      " 42%|█████████████████████████████████▊                                              | 127/300 [54:31<54:24, 18.87s/it]"
     ]
    },
    {
     "name": "stdout",
     "output_type": "stream",
     "text": [
      "써브웨이 화성송산그린시티\n"
     ]
    },
    {
     "name": "stderr",
     "output_type": "stream",
     "text": [
      "\n",
      "  0%|                                                                                            | 0/1 [00:00<?, ?it/s]\u001b[A"
     ]
    },
    {
     "name": "stdout",
     "output_type": "stream",
     "text": [
      "<selenium.webdriver.remote.webelement.WebElement (session=\"ee8684eaf51741cd12902b13c34b5f46\", element=\"BBD167CA722CDBD3C87F63B8791C08DB_element_98\")>\n"
     ]
    },
    {
     "name": "stderr",
     "output_type": "stream",
     "text": [
      "\n",
      "100%|████████████████████████████████████████████████████████████████████████████████████| 1/1 [00:11<00:00, 11.27s/it]\u001b[A"
     ]
    },
    {
     "name": "stdout",
     "output_type": "stream",
     "text": [
      "써브웨이 화성송산그린시티 NaN 경기 화성시 수노을중앙로 130 1층 104, 105호\n"
     ]
    },
    {
     "name": "stderr",
     "output_type": "stream",
     "text": [
      "\n",
      " 43%|██████████████████████████████████▏                                             | 128/300 [54:55<57:57, 20.22s/it]"
     ]
    },
    {
     "name": "stdout",
     "output_type": "stream",
     "text": [
      "시골밥상\n",
      "카페우즈\n",
      "호박이넝쿨채로\n",
      "카페푸른달\n",
      "엘아르카 비타 팔공산점\n",
      "803로스터리\n",
      "플루보\n",
      "유천가든\n",
      "청도매운탕다슬기본가\n",
      "동촌식당\n"
     ]
    },
    {
     "name": "stderr",
     "output_type": "stream",
     "text": [
      "\n",
      "  0%|                                                                                           | 0/10 [00:07<?, ?it/s]\u001b[A\n",
      " 43%|██████████████████████████████████▍                                             | 129/300 [55:12<55:17, 19.40s/it]"
     ]
    },
    {
     "name": "stdout",
     "output_type": "stream",
     "text": [
      "앞산구움미학\n",
      "화덕꽃피자\n",
      "현짬뽕\n",
      "조조칼국수 앞산점\n",
      "오무하무\n",
      "앞산 큰골집 본점\n",
      "고바카츠\n",
      "브리에브레드\n",
      "지환이네왕족발 본점\n",
      "크래프터\n"
     ]
    },
    {
     "name": "stderr",
     "output_type": "stream",
     "text": [
      "\n",
      "  0%|                                                                                           | 0/10 [00:00<?, ?it/s]\u001b[A"
     ]
    },
    {
     "name": "stdout",
     "output_type": "stream",
     "text": [
      "<selenium.webdriver.remote.webelement.WebElement (session=\"5da5e1e586880334401e8987374dc496\", element=\"9492E6AA3857B43F1A6F61124078AE6E_element_140\")>\n"
     ]
    },
    {
     "name": "stderr",
     "output_type": "stream",
     "text": [
      "\n",
      " 10%|████████▎                                                                          | 1/10 [00:11<01:41, 11.25s/it]\u001b[A"
     ]
    },
    {
     "name": "stdout",
     "output_type": "stream",
     "text": [
      "앞산구움미학 NaN 대구 남구 안지랑로15길 52-1 1층 101호\n",
      "<selenium.webdriver.remote.webelement.WebElement (session=\"5da5e1e586880334401e8987374dc496\", element=\"9492E6AA3857B43F1A6F61124078AE6E_element_167\")>\n"
     ]
    },
    {
     "name": "stderr",
     "output_type": "stream",
     "text": [
      "\n",
      " 20%|████████████████▌                                                                  | 2/10 [00:18<01:10,  8.85s/it]\u001b[A"
     ]
    },
    {
     "name": "stdout",
     "output_type": "stream",
     "text": [
      "화덕꽃피자 NaN 대구 남구 앞산순환로 397 1층\n"
     ]
    },
    {
     "name": "stderr",
     "output_type": "stream",
     "text": [
      "\n",
      " 30%|████████████████████████▉                                                          | 3/10 [00:20<00:40,  5.78s/it]\u001b[A"
     ]
    },
    {
     "name": "stdout",
     "output_type": "stream",
     "text": [
      "<selenium.webdriver.remote.webelement.WebElement (session=\"5da5e1e586880334401e8987374dc496\", element=\"9492E6AA3857B43F1A6F61124078AE6E_element_213\")>\n",
      "현짬뽕 4.55 대구 남구 대봉로 89\n"
     ]
    },
    {
     "name": "stderr",
     "output_type": "stream",
     "text": [
      "\n",
      " 40%|█████████████████████████████████▏                                                 | 4/10 [00:22<00:26,  4.37s/it]\u001b[A"
     ]
    },
    {
     "name": "stdout",
     "output_type": "stream",
     "text": [
      "<selenium.webdriver.remote.webelement.WebElement (session=\"5da5e1e586880334401e8987374dc496\", element=\"9492E6AA3857B43F1A6F61124078AE6E_element_255\")>\n",
      "조조칼국수 앞산점 4.53 대구 남구 현충로15길 13-1\n",
      "<selenium.webdriver.remote.webelement.WebElement (session=\"5da5e1e586880334401e8987374dc496\", element=\"9492E6AA3857B43F1A6F61124078AE6E_element_281\")>\n"
     ]
    },
    {
     "name": "stderr",
     "output_type": "stream",
     "text": [
      "\n",
      " 50%|█████████████████████████████████████████▌                                         | 5/10 [00:29<00:26,  5.37s/it]\u001b[A"
     ]
    },
    {
     "name": "stdout",
     "output_type": "stream",
     "text": [
      "오무하무 NaN 대구 남구 안지랑로 21 1층 오무하무\n"
     ]
    },
    {
     "name": "stderr",
     "output_type": "stream",
     "text": [
      "\n",
      " 60%|█████████████████████████████████████████████████▊                                 | 6/10 [00:32<00:17,  4.28s/it]\u001b[A"
     ]
    },
    {
     "name": "stdout",
     "output_type": "stream",
     "text": [
      "<selenium.webdriver.remote.webelement.WebElement (session=\"5da5e1e586880334401e8987374dc496\", element=\"9492E6AA3857B43F1A6F61124078AE6E_element_327\")>\n",
      "앞산 큰골집 본점 4.75 대구 남구 큰골길 35 앞산큰골집\n",
      "<selenium.webdriver.remote.webelement.WebElement (session=\"5da5e1e586880334401e8987374dc496\", element=\"9492E6AA3857B43F1A6F61124078AE6E_element_371\")>\n"
     ]
    },
    {
     "name": "stderr",
     "output_type": "stream",
     "text": [
      "\n",
      " 70%|██████████████████████████████████████████████████████████                         | 7/10 [00:39<00:15,  5.23s/it]\u001b[A"
     ]
    },
    {
     "name": "stdout",
     "output_type": "stream",
     "text": [
      "고바카츠 NaN 대구 남구 현충로 41-1 1층\n",
      "<selenium.webdriver.remote.webelement.WebElement (session=\"5da5e1e586880334401e8987374dc496\", element=\"9492E6AA3857B43F1A6F61124078AE6E_element_400\")>\n"
     ]
    },
    {
     "name": "stderr",
     "output_type": "stream",
     "text": [
      "\n",
      " 80%|██████████████████████████████████████████████████████████████████▍                | 8/10 [00:46<00:11,  5.84s/it]\u001b[A"
     ]
    },
    {
     "name": "stdout",
     "output_type": "stream",
     "text": [
      "브리에브레드 NaN 대구 남구 현충로7길 7 1층\n"
     ]
    },
    {
     "name": "stderr",
     "output_type": "stream",
     "text": [
      "\n",
      " 90%|██████████████████████████████████████████████████████████████████████████▋        | 9/10 [00:48<00:04,  4.69s/it]\u001b[A"
     ]
    },
    {
     "name": "stdout",
     "output_type": "stream",
     "text": [
      "<selenium.webdriver.remote.webelement.WebElement (session=\"5da5e1e586880334401e8987374dc496\", element=\"9492E6AA3857B43F1A6F61124078AE6E_element_438\")>\n",
      "지환이네왕족발 본점 4.68 대구 남구 대명복개로 96\n"
     ]
    },
    {
     "name": "stderr",
     "output_type": "stream",
     "text": [
      "\n",
      "100%|██████████████████████████████████████████████████████████████████████████████████| 10/10 [00:50<00:00,  5.07s/it]\u001b[A"
     ]
    },
    {
     "name": "stdout",
     "output_type": "stream",
     "text": [
      "<selenium.webdriver.remote.webelement.WebElement (session=\"5da5e1e586880334401e8987374dc496\", element=\"9492E6AA3857B43F1A6F61124078AE6E_element_465\")>\n",
      "크래프터 4.53 대구 남구 현충로 41-3\n"
     ]
    },
    {
     "name": "stderr",
     "output_type": "stream",
     "text": [
      "\n",
      " 43%|█████████████████████████████████▊                                            | 130/300 [56:17<1:33:35, 33.03s/it]\n",
      "0it [00:00, ?it/s]\u001b[A\n",
      " 44%|██████████████████████████████████                                            | 131/300 [56:33<1:18:18, 27.80s/it]\n",
      "0it [00:00, ?it/s]\u001b[A\n",
      " 44%|██████████████████████████████████▎                                           | 132/300 [56:51<1:09:34, 24.85s/it]"
     ]
    },
    {
     "name": "stdout",
     "output_type": "stream",
     "text": [
      "청밭추어탕 만촌점\n"
     ]
    },
    {
     "name": "stderr",
     "output_type": "stream",
     "text": [
      "\n",
      "  0%|                                                                                            | 0/1 [00:00<?, ?it/s]\u001b[A"
     ]
    },
    {
     "name": "stdout",
     "output_type": "stream",
     "text": [
      "<selenium.webdriver.remote.webelement.WebElement (session=\"9bc75d294806e4c7db7d3d8a2b86999f\", element=\"83DE458FD271D92B8CA36A3B659306E4_element_64\")>\n"
     ]
    },
    {
     "name": "stderr",
     "output_type": "stream",
     "text": [
      "\n",
      "100%|████████████████████████████████████████████████████████████████████████████████████| 1/1 [00:11<00:00, 11.22s/it]\u001b[A"
     ]
    },
    {
     "name": "stdout",
     "output_type": "stream",
     "text": [
      "청밭추어탕 만촌점 NaN 대구 수성구 만촌로 142 1층(만촌동)\n"
     ]
    },
    {
     "name": "stderr",
     "output_type": "stream",
     "text": [
      "\n",
      " 44%|██████████████████████████████████▌                                           | 133/300 [57:14<1:07:47, 24.35s/it]\n",
      "0it [00:00, ?it/s]\u001b[A\n",
      " 45%|███████████████████████████████████▋                                            | 134/300 [57:28<58:57, 21.31s/it]\n",
      "0it [00:00, ?it/s]\u001b[A\n",
      " 45%|████████████████████████████████████                                            | 135/300 [57:45<55:02, 20.01s/it]\n",
      "0it [00:00, ?it/s]\u001b[A\n",
      " 45%|████████████████████████████████████▎                                           | 136/300 [58:02<52:20, 19.15s/it]"
     ]
    },
    {
     "name": "stdout",
     "output_type": "stream",
     "text": [
      "묘운\n",
      "전통맛손칼국수\n",
      "카페투고\n",
      "윤이푸드\n",
      "출장뷔페\n"
     ]
    },
    {
     "name": "stderr",
     "output_type": "stream",
     "text": [
      "\n",
      "  0%|                                                                                            | 0/5 [00:00<?, ?it/s]\u001b[A"
     ]
    },
    {
     "name": "stdout",
     "output_type": "stream",
     "text": [
      "<selenium.webdriver.remote.webelement.WebElement (session=\"d4256be0f6c7f15f144dd7a24513c841\", element=\"6E30AF5B7A9376D19B0F830683AA6ABB_element_120\")>\n"
     ]
    },
    {
     "name": "stderr",
     "output_type": "stream",
     "text": [
      "\n",
      " 20%|████████████████▊                                                                   | 1/5 [00:11<00:45, 11.26s/it]\u001b[A"
     ]
    },
    {
     "name": "stdout",
     "output_type": "stream",
     "text": [
      "묘운 NaN 대구 달성군 하빈면 육신사길 34 1층\n",
      "<selenium.webdriver.remote.webelement.WebElement (session=\"d4256be0f6c7f15f144dd7a24513c841\", element=\"6E30AF5B7A9376D19B0F830683AA6ABB_element_140\")>\n"
     ]
    },
    {
     "name": "stderr",
     "output_type": "stream",
     "text": [
      "\n",
      " 40%|█████████████████████████████████▌                                                  | 2/5 [00:18<00:26,  8.82s/it]\u001b[A"
     ]
    },
    {
     "name": "stdout",
     "output_type": "stream",
     "text": [
      "전통맛손칼국수 NaN 대구 달성군 하빈면 묘동길 205\n",
      "<selenium.webdriver.remote.webelement.WebElement (session=\"d4256be0f6c7f15f144dd7a24513c841\", element=\"6E30AF5B7A9376D19B0F830683AA6ABB_element_182\")>\n"
     ]
    },
    {
     "name": "stderr",
     "output_type": "stream",
     "text": [
      "\n",
      " 60%|██████████████████████████████████████████████████▍                                 | 3/5 [00:25<00:16,  8.07s/it]\u001b[A"
     ]
    },
    {
     "name": "stdout",
     "output_type": "stream",
     "text": [
      "카페투고 NaN 대구 달성군 하빈면 육신사길 3\n",
      "<selenium.webdriver.remote.webelement.WebElement (session=\"d4256be0f6c7f15f144dd7a24513c841\", element=\"6E30AF5B7A9376D19B0F830683AA6ABB_element_207\")>\n"
     ]
    },
    {
     "name": "stderr",
     "output_type": "stream",
     "text": [
      "\n",
      " 80%|███████████████████████████████████████████████████████████████████▏                | 4/5 [00:32<00:07,  7.72s/it]\u001b[A"
     ]
    },
    {
     "name": "stdout",
     "output_type": "stream",
     "text": [
      "윤이푸드 NaN 대구 달성군 하빈면 하산4길 77\n",
      "<selenium.webdriver.remote.webelement.WebElement (session=\"d4256be0f6c7f15f144dd7a24513c841\", element=\"6E30AF5B7A9376D19B0F830683AA6ABB_element_217\")>\n"
     ]
    },
    {
     "name": "stderr",
     "output_type": "stream",
     "text": [
      "\n",
      "100%|████████████████████████████████████████████████████████████████████████████████████| 5/5 [00:39<00:00,  7.98s/it]\u001b[A"
     ]
    },
    {
     "name": "stdout",
     "output_type": "stream",
     "text": [
      "출장뷔페 NaN 경북 칠곡군 왜관읍 금남리\n"
     ]
    },
    {
     "name": "stderr",
     "output_type": "stream",
     "text": [
      "\n",
      " 46%|███████████████████████████████████▌                                          | 137/300 [58:54<1:18:45, 28.99s/it]\n",
      "0it [00:00, ?it/s]\u001b[A\n",
      " 46%|███████████████████████████████████▉                                          | 138/300 [59:08<1:05:51, 24.39s/it]\n",
      "0it [00:00, ?it/s]\u001b[A\n",
      " 46%|█████████████████████████████████████                                           | 139/300 [59:25<59:43, 22.26s/it]\n",
      "0it [00:00, ?it/s]\u001b[A\n",
      " 47%|█████████████████████████████████████▎                                          | 140/300 [59:42<55:03, 20.65s/it]\n",
      "0it [00:00, ?it/s]\u001b[A\n",
      " 47%|████████████████████████████████████▋                                         | 141/300 [1:00:00<52:30, 19.82s/it]\n",
      "0it [00:00, ?it/s]\u001b[A\n",
      " 47%|████████████████████████████████████▉                                         | 142/300 [1:00:17<50:01, 19.00s/it]\n",
      "0it [00:00, ?it/s]\u001b[A\n",
      " 48%|█████████████████████████████████████▏                                        | 143/300 [1:00:34<48:09, 18.41s/it]"
     ]
    },
    {
     "name": "stdout",
     "output_type": "stream",
     "text": [
      "범산목장 두산점\n",
      "OK참숯목장\n",
      "한우목장\n",
      "반야월OK한우목장김또깡1호점\n",
      "산수골목장\n",
      "바다목장\n",
      "로비아네\n",
      "네시앙\n",
      "레디투커피\n"
     ]
    },
    {
     "name": "stderr",
     "output_type": "stream",
     "text": [
      "\n",
      "  0%|                                                                                            | 0/9 [00:00<?, ?it/s]\u001b[A\n",
      " 11%|█████████▎                                                                          | 1/9 [00:06<00:49,  6.24s/it]\u001b[A"
     ]
    },
    {
     "name": "stdout",
     "output_type": "stream",
     "text": [
      "<selenium.webdriver.remote.webelement.WebElement (session=\"223b1b6957c26afd90004a147bdf94d1\", element=\"B51C5AB2BBFBF95F40D2D7B3E0EA6C2D_element_121\")>\n",
      "범산목장 두산점 4.48 대구 수성구 동대구로 59 대우트럼프월드아파트 D동 104호\n",
      "<selenium.webdriver.remote.webelement.WebElement (session=\"223b1b6957c26afd90004a147bdf94d1\", element=\"B51C5AB2BBFBF95F40D2D7B3E0EA6C2D_element_164\")>\n"
     ]
    },
    {
     "name": "stderr",
     "output_type": "stream",
     "text": [
      "\n",
      " 22%|██████████████████▋                                                                 | 2/9 [00:13<00:47,  6.76s/it]\u001b[A"
     ]
    },
    {
     "name": "stdout",
     "output_type": "stream",
     "text": [
      "OK참숯목장 NaN 대구 북구 대천로7길 6-15 야우목장\n",
      "<selenium.webdriver.remote.webelement.WebElement (session=\"223b1b6957c26afd90004a147bdf94d1\", element=\"B51C5AB2BBFBF95F40D2D7B3E0EA6C2D_element_175\")>\n"
     ]
    },
    {
     "name": "stderr",
     "output_type": "stream",
     "text": [
      "\n",
      " 33%|████████████████████████████                                                        | 3/9 [00:17<00:33,  5.62s/it]\u001b[A"
     ]
    },
    {
     "name": "stdout",
     "output_type": "stream",
     "text": [
      "한우목장 4.42 대구 달서구 장기로57서길 6\n"
     ]
    },
    {
     "name": "stderr",
     "output_type": "stream",
     "text": [
      "\n",
      " 44%|█████████████████████████████████████▎                                              | 4/9 [00:19<00:21,  4.24s/it]\u001b[A"
     ]
    },
    {
     "name": "stdout",
     "output_type": "stream",
     "text": [
      "<selenium.webdriver.remote.webelement.WebElement (session=\"223b1b6957c26afd90004a147bdf94d1\", element=\"B51C5AB2BBFBF95F40D2D7B3E0EA6C2D_element_200\")>\n",
      "반야월OK한우목장김또깡1호점 4.33 대구 동구 동호로2길 37\n"
     ]
    },
    {
     "name": "stderr",
     "output_type": "stream",
     "text": [
      "\n",
      " 56%|██████████████████████████████████████████████▋                                     | 5/9 [00:21<00:13,  3.48s/it]\u001b[A"
     ]
    },
    {
     "name": "stdout",
     "output_type": "stream",
     "text": [
      "<selenium.webdriver.remote.webelement.WebElement (session=\"223b1b6957c26afd90004a147bdf94d1\", element=\"B51C5AB2BBFBF95F40D2D7B3E0EA6C2D_element_227\")>\n",
      "산수골목장 4.2 대구 달서구 월배로5길 8-11\n",
      "<selenium.webdriver.remote.webelement.WebElement (session=\"223b1b6957c26afd90004a147bdf94d1\", element=\"B51C5AB2BBFBF95F40D2D7B3E0EA6C2D_element_247\")>\n"
     ]
    },
    {
     "name": "stderr",
     "output_type": "stream",
     "text": [
      "\n",
      " 67%|████████████████████████████████████████████████████████                            | 6/9 [00:29<00:14,  4.73s/it]\u001b[A"
     ]
    },
    {
     "name": "stdout",
     "output_type": "stream",
     "text": [
      "바다목장 NaN 대구 북구 칠곡중앙대로91길 22\n"
     ]
    },
    {
     "name": "stderr",
     "output_type": "stream",
     "text": [
      "\n",
      " 78%|█████████████████████████████████████████████████████████████████▎                  | 7/9 [00:31<00:07,  3.88s/it]\u001b[A"
     ]
    },
    {
     "name": "stdout",
     "output_type": "stream",
     "text": [
      "<selenium.webdriver.remote.webelement.WebElement (session=\"223b1b6957c26afd90004a147bdf94d1\", element=\"B51C5AB2BBFBF95F40D2D7B3E0EA6C2D_element_265\")>\n",
      "로비아네 4.63 대구 북구 옥산로 111 1층\n"
     ]
    },
    {
     "name": "stderr",
     "output_type": "stream",
     "text": [
      "\n",
      " 89%|██████████████████████████████████████████████████████████████████████████▋         | 8/9 [00:33<00:03,  3.33s/it]\u001b[A"
     ]
    },
    {
     "name": "stdout",
     "output_type": "stream",
     "text": [
      "<selenium.webdriver.remote.webelement.WebElement (session=\"223b1b6957c26afd90004a147bdf94d1\", element=\"B51C5AB2BBFBF95F40D2D7B3E0EA6C2D_element_313\")>\n",
      "네시앙 4.37 대구 수성구 동대구로 394 네시앙\n",
      "<selenium.webdriver.remote.webelement.WebElement (session=\"223b1b6957c26afd90004a147bdf94d1\", element=\"B51C5AB2BBFBF95F40D2D7B3E0EA6C2D_element_342\")>\n"
     ]
    },
    {
     "name": "stderr",
     "output_type": "stream",
     "text": [
      "\n",
      "100%|████████████████████████████████████████████████████████████████████████████████████| 9/9 [00:40<00:00,  4.50s/it]\u001b[A"
     ]
    },
    {
     "name": "stdout",
     "output_type": "stream",
     "text": [
      "레디투커피 NaN 대구 수성구 청솔로 71 1층\n"
     ]
    },
    {
     "name": "stderr",
     "output_type": "stream",
     "text": [
      "\n",
      " 48%|████████████████████████████████████▍                                       | 144/300 [1:01:27<1:14:34, 28.68s/it]\n",
      "0it [00:00, ?it/s]\u001b[A\n",
      " 48%|████████████████████████████████████▋                                       | 145/300 [1:01:41<1:02:53, 24.35s/it]\n",
      "0it [00:00, ?it/s]\u001b[A\n",
      " 49%|█████████████████████████████████████▉                                        | 146/300 [1:01:58<56:46, 22.12s/it]"
     ]
    },
    {
     "name": "stdout",
     "output_type": "stream",
     "text": [
      "리틀티가든\n",
      "힙포 본점\n"
     ]
    },
    {
     "name": "stderr",
     "output_type": "stream",
     "text": [
      "\n",
      "  0%|                                                                                            | 0/2 [00:00<?, ?it/s]\u001b[A"
     ]
    },
    {
     "name": "stdout",
     "output_type": "stream",
     "text": [
      "<selenium.webdriver.remote.webelement.WebElement (session=\"89d536d205f859bc76a267a2cc8700be\", element=\"0E639636052FA8BD4FE2552F8E861905_element_85\")>\n"
     ]
    },
    {
     "name": "stderr",
     "output_type": "stream",
     "text": [
      "\n",
      " 50%|██████████████████████████████████████████                                          | 1/2 [00:11<00:11, 11.29s/it]\u001b[A"
     ]
    },
    {
     "name": "stdout",
     "output_type": "stream",
     "text": [
      "리틀티가든 NaN 울산 울주군 상북면 신기길 50-1\n"
     ]
    },
    {
     "name": "stderr",
     "output_type": "stream",
     "text": [
      "\n",
      "100%|████████████████████████████████████████████████████████████████████████████████████| 2/2 [00:13<00:00,  6.71s/it]\u001b[A"
     ]
    },
    {
     "name": "stdout",
     "output_type": "stream",
     "text": [
      "<selenium.webdriver.remote.webelement.WebElement (session=\"89d536d205f859bc76a267a2cc8700be\", element=\"0E639636052FA8BD4FE2552F8E861905_element_110\")>\n",
      "힙포 본점 4.69 경기 고양시 일산동구 고봉로 771 1층\n"
     ]
    },
    {
     "name": "stderr",
     "output_type": "stream",
     "text": [
      "\n",
      " 49%|██████████████████████████████████████▏                                       | 147/300 [1:02:23<58:54, 23.10s/it]\n",
      "0it [00:00, ?it/s]\u001b[A\n",
      " 49%|██████████████████████████████████████▍                                       | 148/300 [1:02:37<51:19, 20.26s/it]"
     ]
    },
    {
     "name": "stdout",
     "output_type": "stream",
     "text": [
      "앞산전망대(비파산전망대) 카페\n"
     ]
    },
    {
     "name": "stderr",
     "output_type": "stream",
     "text": [
      "\n",
      "  0%|                                                                                            | 0/1 [00:00<?, ?it/s]\u001b[A"
     ]
    },
    {
     "name": "stdout",
     "output_type": "stream",
     "text": [
      "<selenium.webdriver.remote.webelement.WebElement (session=\"a02f660cc88a5933879c4520276722e1\", element=\"9DD6935D1551E1E559FCF1EAF9583424_element_71\")>\n"
     ]
    },
    {
     "name": "stderr",
     "output_type": "stream",
     "text": [
      "\n",
      "100%|████████████████████████████████████████████████████████████████████████████████████| 1/1 [00:11<00:00, 11.25s/it]\u001b[A"
     ]
    },
    {
     "name": "stdout",
     "output_type": "stream",
     "text": [
      "앞산전망대(비파산전망대) 카페 NaN 대구 남구 앞산순환로 454\n"
     ]
    },
    {
     "name": "stderr",
     "output_type": "stream",
     "text": [
      "\n",
      " 50%|██████████████████████████████████████▋                                       | 149/300 [1:03:01<53:59, 21.46s/it]\n",
      "0it [00:00, ?it/s]\u001b[A\n",
      " 50%|███████████████████████████████████████                                       | 150/300 [1:03:15<47:55, 19.17s/it]\n",
      "0it [00:00, ?it/s]\u001b[A\n",
      " 50%|███████████████████████████████████████▎                                      | 151/300 [1:03:32<46:03, 18.55s/it]\n",
      "0it [00:00, ?it/s]\u001b[A\n",
      " 51%|███████████████████████████████████████▌                                      | 152/300 [1:03:49<44:34, 18.07s/it]\n",
      "0it [00:00, ?it/s]\u001b[A\n",
      " 51%|███████████████████████████████████████▊                                      | 153/300 [1:04:06<43:31, 17.76s/it]\n",
      "0it [00:00, ?it/s]\u001b[A\n",
      " 51%|████████████████████████████████████████                                      | 154/300 [1:04:23<42:42, 17.55s/it]\n",
      "0it [00:00, ?it/s]\u001b[A\n",
      " 52%|████████████████████████████████████████▎                                     | 155/300 [1:04:40<42:03, 17.40s/it]\n",
      "0it [00:00, ?it/s]\u001b[A\n",
      " 52%|████████████████████████████████████████▌                                     | 156/300 [1:04:58<41:53, 17.46s/it]\n",
      "0it [00:00, ?it/s]\u001b[A\n",
      " 52%|████████████████████████████████████████▊                                     | 157/300 [1:05:17<42:41, 17.91s/it]\n",
      "0it [00:00, ?it/s]\u001b[A\n",
      " 53%|█████████████████████████████████████████                                     | 158/300 [1:05:34<42:12, 17.84s/it]"
     ]
    },
    {
     "name": "stdout",
     "output_type": "stream",
     "text": [
      "이디야커피 성서운동장점\n"
     ]
    },
    {
     "name": "stderr",
     "output_type": "stream",
     "text": [
      "\n",
      "  0%|                                                                                            | 0/1 [00:00<?, ?it/s]\u001b[A\n",
      "100%|████████████████████████████████████████████████████████████████████████████████████| 1/1 [00:06<00:00,  6.25s/it]\u001b[A"
     ]
    },
    {
     "name": "stdout",
     "output_type": "stream",
     "text": [
      "<selenium.webdriver.remote.webelement.WebElement (session=\"22351dde12a24b985e634d9bb8bc8bb0\", element=\"30B6ACEBAA11A3124E09ED838EBE2BC1_element_68\")>\n",
      "이디야커피 성서운동장점 4.4 대구 달서구 선원로23길 5 1,2층\n"
     ]
    },
    {
     "name": "stderr",
     "output_type": "stream",
     "text": [
      "\n",
      " 53%|█████████████████████████████████████████▎                                    | 159/300 [1:05:53<42:41, 18.17s/it]\n",
      "0it [00:00, ?it/s]\u001b[A\n",
      " 53%|█████████████████████████████████████████▌                                    | 160/300 [1:06:07<39:29, 16.92s/it]\n",
      "0it [00:00, ?it/s]\u001b[A\n",
      " 54%|█████████████████████████████████████████▊                                    | 161/300 [1:06:24<39:25, 17.02s/it]\n",
      "0it [00:00, ?it/s]\u001b[A\n",
      " 54%|██████████████████████████████████████████                                    | 162/300 [1:06:41<39:11, 17.04s/it]"
     ]
    },
    {
     "name": "stdout",
     "output_type": "stream",
     "text": [
      "최쉐프의아구왕\n",
      "연화산\n",
      "형제조각 여의도\n",
      "가양칼국수버섯매운탕\n",
      "진주집\n",
      "코코로카라 더현대 서울\n",
      "테디뵈르하우스 더현대서울점\n",
      "수티문\n",
      "타마\n",
      "주옥발\n"
     ]
    },
    {
     "name": "stderr",
     "output_type": "stream",
     "text": [
      "\n",
      "  0%|                                                                                           | 0/10 [00:00<?, ?it/s]\u001b[A"
     ]
    },
    {
     "name": "stdout",
     "output_type": "stream",
     "text": [
      "<selenium.webdriver.remote.webelement.WebElement (session=\"ed7b3308a2b63d9d45e2c1a0574bb2d5\", element=\"BE7F39832E3634EBBB81A15BFD07983C_element_141\")>\n"
     ]
    },
    {
     "name": "stderr",
     "output_type": "stream",
     "text": [
      "\n",
      " 10%|████████▎                                                                          | 1/10 [00:11<01:41, 11.23s/it]\u001b[A"
     ]
    },
    {
     "name": "stdout",
     "output_type": "stream",
     "text": [
      "최쉐프의아구왕 NaN 경기 구리시 벌말로147번길 59 1층\n",
      "<selenium.webdriver.remote.webelement.WebElement (session=\"ed7b3308a2b63d9d45e2c1a0574bb2d5\", element=\"BE7F39832E3634EBBB81A15BFD07983C_element_176\")>\n"
     ]
    },
    {
     "name": "stderr",
     "output_type": "stream",
     "text": [
      "\n",
      " 20%|████████████████▌                                                                  | 2/10 [00:18<01:10,  8.83s/it]\u001b[A"
     ]
    },
    {
     "name": "stdout",
     "output_type": "stream",
     "text": [
      "연화산 NaN 경기 구리시 벌말로 76 1, 2층\n",
      "<selenium.webdriver.remote.webelement.WebElement (session=\"ed7b3308a2b63d9d45e2c1a0574bb2d5\", element=\"BE7F39832E3634EBBB81A15BFD07983C_element_213\")>\n"
     ]
    },
    {
     "name": "stderr",
     "output_type": "stream",
     "text": [
      "\n",
      " 30%|████████████████████████▉                                                          | 3/10 [00:25<00:56,  8.07s/it]\u001b[A"
     ]
    },
    {
     "name": "stdout",
     "output_type": "stream",
     "text": [
      "형제조각 여의도 NaN 서울 영등포구 국제금융로8길 16 지하1층 B132호\n"
     ]
    },
    {
     "name": "stderr",
     "output_type": "stream",
     "text": [
      "\n",
      " 40%|█████████████████████████████████▏                                                 | 4/10 [00:27<00:34,  5.73s/it]\u001b[A"
     ]
    },
    {
     "name": "stdout",
     "output_type": "stream",
     "text": [
      "<selenium.webdriver.remote.webelement.WebElement (session=\"ed7b3308a2b63d9d45e2c1a0574bb2d5\", element=\"BE7F39832E3634EBBB81A15BFD07983C_element_254\")>\n",
      "가양칼국수버섯매운탕 4.44 서울 영등포구 국제금융로 78 홍우빌딩 지하 1층\n"
     ]
    },
    {
     "name": "stderr",
     "output_type": "stream",
     "text": [
      "\n",
      " 50%|█████████████████████████████████████████▌                                         | 5/10 [00:29<00:22,  4.44s/it]\u001b[A"
     ]
    },
    {
     "name": "stdout",
     "output_type": "stream",
     "text": [
      "<selenium.webdriver.remote.webelement.WebElement (session=\"ed7b3308a2b63d9d45e2c1a0574bb2d5\", element=\"BE7F39832E3634EBBB81A15BFD07983C_element_302\")>\n",
      "진주집 4.4 서울 영등포구 국제금융로6길 33 지하 1층\n",
      "<selenium.webdriver.remote.webelement.WebElement (session=\"ed7b3308a2b63d9d45e2c1a0574bb2d5\", element=\"BE7F39832E3634EBBB81A15BFD07983C_element_329\")>\n"
     ]
    },
    {
     "name": "stderr",
     "output_type": "stream",
     "text": [
      "\n",
      " 60%|█████████████████████████████████████████████████▊                                 | 6/10 [00:36<00:21,  5.36s/it]\u001b[A"
     ]
    },
    {
     "name": "stdout",
     "output_type": "stream",
     "text": [
      "코코로카라 더현대 서울 NaN 서울 영등포구 여의대로 108\n",
      "<selenium.webdriver.remote.webelement.WebElement (session=\"ed7b3308a2b63d9d45e2c1a0574bb2d5\", element=\"BE7F39832E3634EBBB81A15BFD07983C_element_352\")>\n"
     ]
    },
    {
     "name": "stderr",
     "output_type": "stream",
     "text": [
      "\n",
      " 70%|██████████████████████████████████████████████████████████                         | 7/10 [00:44<00:17,  5.96s/it]\u001b[A"
     ]
    },
    {
     "name": "stdout",
     "output_type": "stream",
     "text": [
      "테디뵈르하우스 더현대서울점 NaN 서울 영등포구 여의대로 108\n",
      "<selenium.webdriver.remote.webelement.WebElement (session=\"ed7b3308a2b63d9d45e2c1a0574bb2d5\", element=\"BE7F39832E3634EBBB81A15BFD07983C_element_388\")>\n"
     ]
    },
    {
     "name": "stderr",
     "output_type": "stream",
     "text": [
      "\n",
      " 80%|██████████████████████████████████████████████████████████████████▍                | 8/10 [00:51<00:12,  6.35s/it]\u001b[A"
     ]
    },
    {
     "name": "stdout",
     "output_type": "stream",
     "text": [
      "수티문 NaN 서울 영등포구 국제금융로8길 27-8 지하1층 수티문\n",
      "<selenium.webdriver.remote.webelement.WebElement (session=\"ed7b3308a2b63d9d45e2c1a0574bb2d5\", element=\"BE7F39832E3634EBBB81A15BFD07983C_element_430\")>\n"
     ]
    },
    {
     "name": "stderr",
     "output_type": "stream",
     "text": [
      "\n",
      " 90%|██████████████████████████████████████████████████████████████████████████▋        | 9/10 [00:58<00:06,  6.61s/it]\u001b[A"
     ]
    },
    {
     "name": "stdout",
     "output_type": "stream",
     "text": [
      "타마 NaN 서울 영등포구 은행로 30 1층\n",
      "<selenium.webdriver.remote.webelement.WebElement (session=\"ed7b3308a2b63d9d45e2c1a0574bb2d5\", element=\"BE7F39832E3634EBBB81A15BFD07983C_element_472\")>\n"
     ]
    },
    {
     "name": "stderr",
     "output_type": "stream",
     "text": [
      "\n",
      "100%|██████████████████████████████████████████████████████████████████████████████████| 10/10 [01:05<00:00,  6.57s/it]\u001b[A"
     ]
    },
    {
     "name": "stdout",
     "output_type": "stream",
     "text": [
      "주옥발 NaN 서울 영등포구 여의대방로69길 19 상가동 2층 201호, 202호\n"
     ]
    },
    {
     "name": "stderr",
     "output_type": "stream",
     "text": [
      "\n",
      " 54%|█████████████████████████████████████████▎                                  | 163/300 [1:07:59<1:20:33, 35.28s/it]\n",
      "0it [00:00, ?it/s]\u001b[A\n",
      " 55%|█████████████████████████████████████████▌                                  | 164/300 [1:08:13<1:05:22, 28.84s/it]\n",
      "0it [00:00, ?it/s]\u001b[A\n",
      " 55%|██████████████████████████████████████████▉                                   | 165/300 [1:08:30<56:52, 25.27s/it]\n",
      "0it [00:00, ?it/s]\u001b[A\n",
      " 55%|███████████████████████████████████████████▏                                  | 166/300 [1:08:47<50:53, 22.79s/it]"
     ]
    },
    {
     "name": "stdout",
     "output_type": "stream",
     "text": [
      "플랩잭팬트리 태전점\n",
      "삼대족발 중대물빛공원점\n"
     ]
    },
    {
     "name": "stderr",
     "output_type": "stream",
     "text": [
      "\n",
      "  0%|                                                                                            | 0/2 [00:00<?, ?it/s]\u001b[A"
     ]
    },
    {
     "name": "stdout",
     "output_type": "stream",
     "text": [
      "<selenium.webdriver.remote.webelement.WebElement (session=\"5e6342cfd1b3b8d37c8e5da94a5d8451\", element=\"9897670993FBE07D1541103B91FDA79D_element_115\")>\n"
     ]
    },
    {
     "name": "stderr",
     "output_type": "stream",
     "text": [
      "\n",
      " 50%|██████████████████████████████████████████                                          | 1/2 [00:11<00:11, 11.21s/it]\u001b[A"
     ]
    },
    {
     "name": "stdout",
     "output_type": "stream",
     "text": [
      "플랩잭팬트리 태전점 NaN 경기 광주시 고불로 106 3층 3호\n"
     ]
    },
    {
     "name": "stderr",
     "output_type": "stream",
     "text": [
      "\n",
      "100%|████████████████████████████████████████████████████████████████████████████████████| 2/2 [00:13<00:00,  6.66s/it]\u001b[A"
     ]
    },
    {
     "name": "stdout",
     "output_type": "stream",
     "text": [
      "<selenium.webdriver.remote.webelement.WebElement (session=\"5e6342cfd1b3b8d37c8e5da94a5d8451\", element=\"9897670993FBE07D1541103B91FDA79D_element_159\")>\n",
      "삼대족발 중대물빛공원점 4.43 경기 광주시 순암로 294 1층\n"
     ]
    },
    {
     "name": "stderr",
     "output_type": "stream",
     "text": [
      "\n",
      " 56%|███████████████████████████████████████████▍                                  | 167/300 [1:09:12<52:13, 23.56s/it]\n",
      "0it [00:00, ?it/s]\u001b[A\n",
      " 56%|███████████████████████████████████████████▋                                  | 168/300 [1:09:26<45:27, 20.67s/it]\n",
      "0it [00:00, ?it/s]\u001b[A\n",
      " 56%|███████████████████████████████████████████▉                                  | 169/300 [1:09:44<43:25, 19.89s/it]\n",
      "0it [00:00, ?it/s]\u001b[A\n",
      " 57%|████████████████████████████████████████████▏                                 | 170/300 [1:10:01<41:14, 19.04s/it]"
     ]
    },
    {
     "name": "stdout",
     "output_type": "stream",
     "text": [
      "오호리준 범어본사직영점\n",
      "딥커피로스터스 범어\n",
      "라파테\n",
      "다이닝슬로우라이프\n",
      "대구만두 범어점\n",
      "만재네 범어점\n",
      "커피맛을조금아는남자 본점\n",
      "다이닝한재여관\n",
      "짬뽕지존 대구범어점\n",
      "우니카트\n"
     ]
    },
    {
     "name": "stderr",
     "output_type": "stream",
     "text": [
      "\n",
      "  0%|                                                                                           | 0/10 [00:00<?, ?it/s]\u001b[A\n",
      " 10%|████████▎                                                                          | 1/10 [00:06<00:55,  6.21s/it]\u001b[A"
     ]
    },
    {
     "name": "stdout",
     "output_type": "stream",
     "text": [
      "<selenium.webdriver.remote.webelement.WebElement (session=\"c5878e13618b6709c96d57ad279f01f9\", element=\"136FFF4EA3840BCC7270870415190330_element_131\")>\n",
      "오호리준 범어본사직영점 4.71 대구 수성구 동대구로59길 14-2 101호\n",
      "<selenium.webdriver.remote.webelement.WebElement (session=\"c5878e13618b6709c96d57ad279f01f9\", element=\"136FFF4EA3840BCC7270870415190330_element_161\")>\n"
     ]
    },
    {
     "name": "stderr",
     "output_type": "stream",
     "text": [
      "\n",
      " 20%|████████████████▌                                                                  | 2/10 [00:13<00:54,  6.77s/it]\u001b[A"
     ]
    },
    {
     "name": "stdout",
     "output_type": "stream",
     "text": [
      "딥커피로스터스 범어 NaN 대구 수성구 범어천로 155-1 1층\n",
      "<selenium.webdriver.remote.webelement.WebElement (session=\"c5878e13618b6709c96d57ad279f01f9\", element=\"136FFF4EA3840BCC7270870415190330_element_192\")>\n"
     ]
    },
    {
     "name": "stderr",
     "output_type": "stream",
     "text": [
      "\n",
      " 30%|████████████████████████▉                                                          | 3/10 [00:20<00:48,  6.95s/it]\u001b[A"
     ]
    },
    {
     "name": "stdout",
     "output_type": "stream",
     "text": [
      "라파테 NaN 대구 수성구 상록로 22-15 La pate\n",
      "<selenium.webdriver.remote.webelement.WebElement (session=\"c5878e13618b6709c96d57ad279f01f9\", element=\"136FFF4EA3840BCC7270870415190330_element_197\")>\n"
     ]
    },
    {
     "name": "stderr",
     "output_type": "stream",
     "text": [
      "\n",
      " 40%|█████████████████████████████████▏                                                 | 4/10 [00:27<00:42,  7.04s/it]\u001b[A"
     ]
    },
    {
     "name": "stdout",
     "output_type": "stream",
     "text": [
      "다이닝슬로우라이프 NaN 대구 수성구 상록로2길 45\n"
     ]
    },
    {
     "name": "stderr",
     "output_type": "stream",
     "text": [
      "\n",
      " 50%|█████████████████████████████████████████▌                                         | 5/10 [00:29<00:26,  5.27s/it]\u001b[A"
     ]
    },
    {
     "name": "stdout",
     "output_type": "stream",
     "text": [
      "<selenium.webdriver.remote.webelement.WebElement (session=\"c5878e13618b6709c96d57ad279f01f9\", element=\"136FFF4EA3840BCC7270870415190330_element_261\")>\n",
      "대구만두 범어점 4.81 대구 수성구 달구벌대로480길 21 1층 대구만두 범어점 (대구광역시 수성구 범어동 547-3 1층 대구만두 범어점)\n",
      "<selenium.webdriver.remote.webelement.WebElement (session=\"c5878e13618b6709c96d57ad279f01f9\", element=\"136FFF4EA3840BCC7270870415190330_element_286\")>\n"
     ]
    },
    {
     "name": "stderr",
     "output_type": "stream",
     "text": [
      "\n",
      " 60%|█████████████████████████████████████████████████▊                                 | 6/10 [00:37<00:23,  5.93s/it]\u001b[A"
     ]
    },
    {
     "name": "stdout",
     "output_type": "stream",
     "text": [
      "만재네 범어점 NaN 대구 수성구 상록로 10\n",
      "<selenium.webdriver.remote.webelement.WebElement (session=\"c5878e13618b6709c96d57ad279f01f9\", element=\"136FFF4EA3840BCC7270870415190330_element_312\")>\n"
     ]
    },
    {
     "name": "stderr",
     "output_type": "stream",
     "text": [
      "\n",
      " 70%|██████████████████████████████████████████████████████████                         | 7/10 [00:44<00:19,  6.35s/it]\u001b[A"
     ]
    },
    {
     "name": "stdout",
     "output_type": "stream",
     "text": [
      "커피맛을조금아는남자 본점 NaN 대구 수성구 범어천로 153 1층\n"
     ]
    },
    {
     "name": "stderr",
     "output_type": "stream",
     "text": [
      "\n",
      " 80%|██████████████████████████████████████████████████████████████████▍                | 8/10 [00:46<00:10,  5.01s/it]\u001b[A"
     ]
    },
    {
     "name": "stdout",
     "output_type": "stream",
     "text": [
      "<selenium.webdriver.remote.webelement.WebElement (session=\"c5878e13618b6709c96d57ad279f01f9\", element=\"136FFF4EA3840BCC7270870415190330_element_356\")>\n",
      "다이닝한재여관 4.44 대구 수성구 동대구로59길 10-15\n",
      "<selenium.webdriver.remote.webelement.WebElement (session=\"c5878e13618b6709c96d57ad279f01f9\", element=\"136FFF4EA3840BCC7270870415190330_element_399\")>\n"
     ]
    },
    {
     "name": "stderr",
     "output_type": "stream",
     "text": [
      "\n",
      " 90%|██████████████████████████████████████████████████████████████████████████▋        | 9/10 [00:53<00:05,  5.69s/it]\u001b[A"
     ]
    },
    {
     "name": "stdout",
     "output_type": "stream",
     "text": [
      "짬뽕지존 대구범어점 NaN 대구 수성구 상록로 5 2층\n"
     ]
    },
    {
     "name": "stderr",
     "output_type": "stream",
     "text": [
      "\n",
      "100%|██████████████████████████████████████████████████████████████████████████████████| 10/10 [00:55<00:00,  5.58s/it]\u001b[A"
     ]
    },
    {
     "name": "stdout",
     "output_type": "stream",
     "text": [
      "<selenium.webdriver.remote.webelement.WebElement (session=\"c5878e13618b6709c96d57ad279f01f9\", element=\"136FFF4EA3840BCC7270870415190330_element_416\")>\n",
      "우니카트 4.55 대구 수성구 범어천로 151-4\n"
     ]
    },
    {
     "name": "stderr",
     "output_type": "stream",
     "text": [
      "\n",
      " 57%|███████████████████████████████████████████▎                                | 171/300 [1:11:10<1:13:03, 33.98s/it]\n",
      "0it [00:00, ?it/s]\u001b[A\n",
      " 57%|███████████████████████████████████████████▌                                | 172/300 [1:11:25<1:00:11, 28.22s/it]"
     ]
    },
    {
     "name": "stdout",
     "output_type": "stream",
     "text": [
      "민물장어 직판장 풍천관 본점\n",
      "돼지만 대구본점\n",
      "월촌역 청춘삼겹살\n",
      "비비당\n",
      "가야성\n",
      "심야매점 상인동본점\n",
      "베를린 에스프레소 바\n",
      "최윤숙안동생고기뭉티기 본점\n",
      "황금쭈꾸미집 상인점\n",
      "샤브20 상인점\n"
     ]
    },
    {
     "name": "stderr",
     "output_type": "stream",
     "text": [
      "\n",
      "  0%|                                                                                           | 0/10 [00:00<?, ?it/s]\u001b[A\n",
      " 10%|████████▎                                                                          | 1/10 [00:06<00:56,  6.22s/it]\u001b[A"
     ]
    },
    {
     "name": "stdout",
     "output_type": "stream",
     "text": [
      "<selenium.webdriver.remote.webelement.WebElement (session=\"510c20a0d8d432052c77a1d2c819645b\", element=\"BDA6B2AA386555DA37C6D655EAD0FB5B_element_95\")>\n",
      "민물장어 직판장 풍천관 본점 4.89 대구 달서구 월곡로 268-10 풍천관 본점\n"
     ]
    },
    {
     "name": "stderr",
     "output_type": "stream",
     "text": [
      "\n",
      " 20%|████████████████▌                                                                  | 2/10 [00:08<00:30,  3.81s/it]\u001b[A"
     ]
    },
    {
     "name": "stdout",
     "output_type": "stream",
     "text": [
      "<selenium.webdriver.remote.webelement.WebElement (session=\"510c20a0d8d432052c77a1d2c819645b\", element=\"BDA6B2AA386555DA37C6D655EAD0FB5B_element_179\")>\n",
      "돼지만 대구본점 4.62 대구 달서구 상화북로 192\n"
     ]
    },
    {
     "name": "stderr",
     "output_type": "stream",
     "text": [
      "\n",
      " 30%|████████████████████████▉                                                          | 3/10 [00:10<00:21,  3.06s/it]\u001b[A"
     ]
    },
    {
     "name": "stdout",
     "output_type": "stream",
     "text": [
      "<selenium.webdriver.remote.webelement.WebElement (session=\"510c20a0d8d432052c77a1d2c819645b\", element=\"BDA6B2AA386555DA37C6D655EAD0FB5B_element_223\")>\n",
      "월촌역 청춘삼겹살 4.5 대구 달서구 송현로 40-1 청춘삼겹살\n",
      "<selenium.webdriver.remote.webelement.WebElement (session=\"510c20a0d8d432052c77a1d2c819645b\", element=\"BDA6B2AA386555DA37C6D655EAD0FB5B_element_258\")>\n"
     ]
    },
    {
     "name": "stderr",
     "output_type": "stream",
     "text": [
      "\n",
      " 40%|█████████████████████████████████▏                                                 | 4/10 [00:17<00:28,  4.68s/it]\u001b[A"
     ]
    },
    {
     "name": "stdout",
     "output_type": "stream",
     "text": [
      "비비당 NaN 대구 달서구 월배로 203 1층 비비당\n"
     ]
    },
    {
     "name": "stderr",
     "output_type": "stream",
     "text": [
      "\n",
      " 50%|█████████████████████████████████████████▌                                         | 5/10 [00:19<00:18,  3.77s/it]\u001b[A"
     ]
    },
    {
     "name": "stdout",
     "output_type": "stream",
     "text": [
      "<selenium.webdriver.remote.webelement.WebElement (session=\"510c20a0d8d432052c77a1d2c819645b\", element=\"BDA6B2AA386555DA37C6D655EAD0FB5B_element_285\")>\n",
      "가야성 4.37 대구 달서구 월배로83길 7\n"
     ]
    },
    {
     "name": "stderr",
     "output_type": "stream",
     "text": [
      "\n",
      " 60%|█████████████████████████████████████████████████▊                                 | 6/10 [00:21<00:12,  3.22s/it]\u001b[A"
     ]
    },
    {
     "name": "stdout",
     "output_type": "stream",
     "text": [
      "<selenium.webdriver.remote.webelement.WebElement (session=\"510c20a0d8d432052c77a1d2c819645b\", element=\"BDA6B2AA386555DA37C6D655EAD0FB5B_element_324\")>\n",
      "심야매점 상인동본점 4.4 대구 달서구 월배로 199 1층 심야매점\n"
     ]
    },
    {
     "name": "stderr",
     "output_type": "stream",
     "text": [
      "\n",
      " 70%|██████████████████████████████████████████████████████████                         | 7/10 [00:24<00:08,  2.87s/it]\u001b[A"
     ]
    },
    {
     "name": "stdout",
     "output_type": "stream",
     "text": [
      "<selenium.webdriver.remote.webelement.WebElement (session=\"510c20a0d8d432052c77a1d2c819645b\", element=\"BDA6B2AA386555DA37C6D655EAD0FB5B_element_351\")>\n",
      "베를린 에스프레소 바 4.65 대구 달서구 미리샘길 82 1층\n"
     ]
    },
    {
     "name": "stderr",
     "output_type": "stream",
     "text": [
      "\n",
      " 80%|██████████████████████████████████████████████████████████████████▍                | 8/10 [00:26<00:05,  2.64s/it]\u001b[A"
     ]
    },
    {
     "name": "stdout",
     "output_type": "stream",
     "text": [
      "<selenium.webdriver.remote.webelement.WebElement (session=\"510c20a0d8d432052c77a1d2c819645b\", element=\"BDA6B2AA386555DA37C6D655EAD0FB5B_element_392\")>\n",
      "최윤숙안동생고기뭉티기 본점 4.46 대구 달서구 월곡로47길 28\n"
     ]
    },
    {
     "name": "stderr",
     "output_type": "stream",
     "text": [
      "\n",
      " 90%|██████████████████████████████████████████████████████████████████████████▋        | 9/10 [00:28<00:02,  2.48s/it]\u001b[A"
     ]
    },
    {
     "name": "stdout",
     "output_type": "stream",
     "text": [
      "<selenium.webdriver.remote.webelement.WebElement (session=\"510c20a0d8d432052c77a1d2c819645b\", element=\"BDA6B2AA386555DA37C6D655EAD0FB5B_element_434\")>\n",
      "황금쭈꾸미집 상인점 4.92 대구 달서구 월곡로51길 17 황금쭈꾸미집\n",
      "<selenium.webdriver.remote.webelement.WebElement (session=\"510c20a0d8d432052c77a1d2c819645b\", element=\"BDA6B2AA386555DA37C6D655EAD0FB5B_element_474\")>\n"
     ]
    },
    {
     "name": "stderr",
     "output_type": "stream",
     "text": [
      "\n",
      "100%|██████████████████████████████████████████████████████████████████████████████████| 10/10 [00:35<00:00,  3.56s/it]\u001b[A"
     ]
    },
    {
     "name": "stdout",
     "output_type": "stream",
     "text": [
      "샤브20 상인점 NaN 대구 달서구 월배로 227 2층\n"
     ]
    },
    {
     "name": "stderr",
     "output_type": "stream",
     "text": [
      "\n",
      " 58%|███████████████████████████████████████████▊                                | 173/300 [1:12:13<1:12:09, 34.09s/it]\n",
      "0it [00:00, ?it/s]\u001b[A\n",
      " 58%|█████████████████████████████████████████████▏                                | 174/300 [1:12:27<58:46, 27.99s/it]\n",
      "0it [00:00, ?it/s]\u001b[A\n",
      " 58%|█████████████████████████████████████████████▌                                | 175/300 [1:12:44<51:29, 24.71s/it]\n",
      "0it [00:00, ?it/s]\u001b[A\n",
      " 59%|█████████████████████████████████████████████▊                                | 176/300 [1:13:01<46:14, 22.38s/it]"
     ]
    },
    {
     "name": "stdout",
     "output_type": "stream",
     "text": [
      "블랙타코앤그릴\n",
      "빠레뜨한남 대구 동성로점\n",
      "오무하무 동성로점\n",
      "몽블랑드파리\n",
      "머꼬삼겹살\n",
      "숨은집 동성로본점\n",
      "신라식당\n",
      "도마29\n",
      "과정\n",
      "차이\n"
     ]
    },
    {
     "name": "stderr",
     "output_type": "stream",
     "text": [
      "\n",
      "  0%|                                                                                           | 0/10 [00:00<?, ?it/s]\u001b[A\n",
      " 10%|████████▎                                                                          | 1/10 [00:06<00:56,  6.22s/it]\u001b[A"
     ]
    },
    {
     "name": "stdout",
     "output_type": "stream",
     "text": [
      "<selenium.webdriver.remote.webelement.WebElement (session=\"9a85e72bd52eefc09ccedc7de28584af\", element=\"6D1B7FC76AB0D839F1BAE52AB62C56AD_element_112\")>\n",
      "블랙타코앤그릴 4.53 대구 중구 공평로 31 건물 2층\n",
      "<selenium.webdriver.remote.webelement.WebElement (session=\"9a85e72bd52eefc09ccedc7de28584af\", element=\"6D1B7FC76AB0D839F1BAE52AB62C56AD_element_175\")>\n"
     ]
    },
    {
     "name": "stderr",
     "output_type": "stream",
     "text": [
      "\n",
      " 20%|████████████████▌                                                                  | 2/10 [00:13<00:54,  6.77s/it]\u001b[A"
     ]
    },
    {
     "name": "stdout",
     "output_type": "stream",
     "text": [
      "빠레뜨한남 대구 동성로점 NaN 대구 중구 동성로2길 58 2층 빠레뜨한남\n",
      "<selenium.webdriver.remote.webelement.WebElement (session=\"9a85e72bd52eefc09ccedc7de28584af\", element=\"6D1B7FC76AB0D839F1BAE52AB62C56AD_element_217\")>\n"
     ]
    },
    {
     "name": "stderr",
     "output_type": "stream",
     "text": [
      "\n",
      " 30%|████████████████████████▉                                                          | 3/10 [00:20<00:48,  6.96s/it]\u001b[A"
     ]
    },
    {
     "name": "stdout",
     "output_type": "stream",
     "text": [
      "오무하무 동성로점 NaN 대구 중구 동성로3길 5 2층\n",
      "<selenium.webdriver.remote.webelement.WebElement (session=\"9a85e72bd52eefc09ccedc7de28584af\", element=\"6D1B7FC76AB0D839F1BAE52AB62C56AD_element_258\")>\n"
     ]
    },
    {
     "name": "stderr",
     "output_type": "stream",
     "text": [
      "\n",
      " 40%|█████████████████████████████████▏                                                 | 4/10 [00:27<00:42,  7.05s/it]\u001b[A"
     ]
    },
    {
     "name": "stdout",
     "output_type": "stream",
     "text": [
      "몽블랑드파리 NaN 대구 중구 동성로6길 21\n"
     ]
    },
    {
     "name": "stderr",
     "output_type": "stream",
     "text": [
      "\n",
      " 50%|█████████████████████████████████████████▌                                         | 5/10 [00:29<00:26,  5.28s/it]\u001b[A"
     ]
    },
    {
     "name": "stdout",
     "output_type": "stream",
     "text": [
      "<selenium.webdriver.remote.webelement.WebElement (session=\"9a85e72bd52eefc09ccedc7de28584af\", element=\"6D1B7FC76AB0D839F1BAE52AB62C56AD_element_300\")>\n",
      "머꼬삼겹살 4.78 대구 중구 동성로3길 32-43 1층\n"
     ]
    },
    {
     "name": "stderr",
     "output_type": "stream",
     "text": [
      "\n",
      " 60%|█████████████████████████████████████████████████▊                                 | 6/10 [00:32<00:16,  4.21s/it]\u001b[A"
     ]
    },
    {
     "name": "stdout",
     "output_type": "stream",
     "text": [
      "<selenium.webdriver.remote.webelement.WebElement (session=\"9a85e72bd52eefc09ccedc7de28584af\", element=\"6D1B7FC76AB0D839F1BAE52AB62C56AD_element_342\")>\n",
      "숨은집 동성로본점 4.65 대구 중구 동성로1길 46-23 1층\n"
     ]
    },
    {
     "name": "stderr",
     "output_type": "stream",
     "text": [
      "\n",
      " 70%|██████████████████████████████████████████████████████████                         | 7/10 [00:34<00:10,  3.54s/it]\u001b[A"
     ]
    },
    {
     "name": "stdout",
     "output_type": "stream",
     "text": [
      "<selenium.webdriver.remote.webelement.WebElement (session=\"9a85e72bd52eefc09ccedc7de28584af\", element=\"6D1B7FC76AB0D839F1BAE52AB62C56AD_element_386\")>\n",
      "신라식당 4.39 대구 중구 중앙대로 406-8\n"
     ]
    },
    {
     "name": "stderr",
     "output_type": "stream",
     "text": [
      "\n",
      " 80%|██████████████████████████████████████████████████████████████████▍                | 8/10 [00:36<00:06,  3.10s/it]\u001b[A"
     ]
    },
    {
     "name": "stdout",
     "output_type": "stream",
     "text": [
      "<selenium.webdriver.remote.webelement.WebElement (session=\"9a85e72bd52eefc09ccedc7de28584af\", element=\"6D1B7FC76AB0D839F1BAE52AB62C56AD_element_412\")>\n",
      "도마29 4.62 대구 중구 동성로1길 46-2 도마29\n",
      "<selenium.webdriver.remote.webelement.WebElement (session=\"9a85e72bd52eefc09ccedc7de28584af\", element=\"6D1B7FC76AB0D839F1BAE52AB62C56AD_element_455\")>\n"
     ]
    },
    {
     "name": "stderr",
     "output_type": "stream",
     "text": [
      "\n",
      " 90%|██████████████████████████████████████████████████████████████████████████▋        | 9/10 [00:43<00:04,  4.37s/it]\u001b[A"
     ]
    },
    {
     "name": "stdout",
     "output_type": "stream",
     "text": [
      "과정 NaN 대구 중구 동성로2길 4-5 과정\n"
     ]
    },
    {
     "name": "stderr",
     "output_type": "stream",
     "text": [
      "\n",
      "100%|██████████████████████████████████████████████████████████████████████████████████| 10/10 [00:45<00:00,  4.56s/it]\u001b[A"
     ]
    },
    {
     "name": "stdout",
     "output_type": "stream",
     "text": [
      "<selenium.webdriver.remote.webelement.WebElement (session=\"9a85e72bd52eefc09ccedc7de28584af\", element=\"6D1B7FC76AB0D839F1BAE52AB62C56AD_element_498\")>\n",
      "차이 4.58 대구 중구 동성로2길 18-15\n"
     ]
    },
    {
     "name": "stderr",
     "output_type": "stream",
     "text": [
      "\n",
      " 59%|████████████████████████████████████████████▊                               | 177/300 [1:13:58<1:07:36, 32.98s/it]"
     ]
    },
    {
     "name": "stdout",
     "output_type": "stream",
     "text": [
      "류센소 범어점\n",
      "공주얼큰이칼국수\n",
      "후꾸스시\n",
      "황금돗소리\n",
      "에폰베이크샵\n",
      "영의정횟집\n",
      "효탄\n",
      "대구오마카세 스시아타이\n",
      "오호리준 범어본사직영점\n",
      "만재네 들안길점\n"
     ]
    },
    {
     "name": "stderr",
     "output_type": "stream",
     "text": [
      "\n",
      "  0%|                                                                                           | 0/10 [00:07<?, ?it/s]\u001b[A\n",
      " 59%|██████████████████████████████████████████████▎                               | 178/300 [1:14:16<57:55, 28.49s/it]"
     ]
    },
    {
     "name": "stdout",
     "output_type": "stream",
     "text": [
      "연남한양집\n",
      "오마\n",
      "연경 연희점\n",
      "오버딥\n",
      "미니히노코\n",
      "쿳사 연희\n",
      "우동카덴\n",
      "카페 마\n",
      "작은스페인\n",
      "그로어스\n"
     ]
    },
    {
     "name": "stderr",
     "output_type": "stream",
     "text": [
      "\n",
      "  0%|                                                                                           | 0/10 [00:00<?, ?it/s]\u001b[A"
     ]
    },
    {
     "name": "stdout",
     "output_type": "stream",
     "text": [
      "<selenium.webdriver.remote.webelement.WebElement (session=\"8a1a1d99c3821eabb609285d28384a34\", element=\"C0A506B6D80815E672A8415B22009444_element_108\")>\n"
     ]
    },
    {
     "name": "stderr",
     "output_type": "stream",
     "text": [
      "\n",
      " 10%|████████▎                                                                          | 1/10 [00:11<01:41, 11.27s/it]\u001b[A"
     ]
    },
    {
     "name": "stdout",
     "output_type": "stream",
     "text": [
      "연남한양집 NaN 서울 마포구 동교로46길 26 1층\n"
     ]
    },
    {
     "name": "stderr",
     "output_type": "stream",
     "text": [
      "\n",
      " 20%|████████████████▌                                                                  | 2/10 [00:13<00:47,  5.89s/it]\u001b[A"
     ]
    },
    {
     "name": "stdout",
     "output_type": "stream",
     "text": [
      "<selenium.webdriver.remote.webelement.WebElement (session=\"8a1a1d99c3821eabb609285d28384a34\", element=\"C0A506B6D80815E672A8415B22009444_element_152\")>\n",
      "오마 4.57 서울 마포구 성미산로 192 2F 오마\n",
      "<selenium.webdriver.remote.webelement.WebElement (session=\"8a1a1d99c3821eabb609285d28384a34\", element=\"C0A506B6D80815E672A8415B22009444_element_198\")>\n"
     ]
    },
    {
     "name": "stderr",
     "output_type": "stream",
     "text": [
      "\n",
      " 30%|████████████████████████▉                                                          | 3/10 [00:20<00:45,  6.49s/it]\u001b[A"
     ]
    },
    {
     "name": "stdout",
     "output_type": "stream",
     "text": [
      "연경 연희점 NaN 서울 서대문구 연희로 145\n",
      "<selenium.webdriver.remote.webelement.WebElement (session=\"8a1a1d99c3821eabb609285d28384a34\", element=\"C0A506B6D80815E672A8415B22009444_element_210\")>\n"
     ]
    },
    {
     "name": "stderr",
     "output_type": "stream",
     "text": [
      "\n",
      " 40%|█████████████████████████████████▏                                                 | 4/10 [00:27<00:40,  6.77s/it]\u001b[A"
     ]
    },
    {
     "name": "stdout",
     "output_type": "stream",
     "text": [
      "오버딥 NaN 서울 마포구 성미산로 149-8 2, 3층, 루프탑\n",
      "<selenium.webdriver.remote.webelement.WebElement (session=\"8a1a1d99c3821eabb609285d28384a34\", element=\"C0A506B6D80815E672A8415B22009444_element_266\")>\n"
     ]
    },
    {
     "name": "stderr",
     "output_type": "stream",
     "text": [
      "\n",
      " 50%|█████████████████████████████████████████▌                                         | 5/10 [00:35<00:34,  6.93s/it]\u001b[A"
     ]
    },
    {
     "name": "stdout",
     "output_type": "stream",
     "text": [
      "미니히노코 NaN 서울 마포구 동교로38길 33-16 2층 미니히노코\n"
     ]
    },
    {
     "name": "stderr",
     "output_type": "stream",
     "text": [
      "\n",
      " 60%|█████████████████████████████████████████████████▊                                 | 6/10 [00:37<00:21,  5.31s/it]\u001b[A"
     ]
    },
    {
     "name": "stdout",
     "output_type": "stream",
     "text": [
      "<selenium.webdriver.remote.webelement.WebElement (session=\"8a1a1d99c3821eabb609285d28384a34\", element=\"C0A506B6D80815E672A8415B22009444_element_292\")>\n",
      "쿳사 연희 4.73 서울 서대문구 증가로 48\n"
     ]
    },
    {
     "name": "stderr",
     "output_type": "stream",
     "text": [
      "\n",
      " 70%|██████████████████████████████████████████████████████████                         | 7/10 [00:39<00:12,  4.28s/it]\u001b[A"
     ]
    },
    {
     "name": "stdout",
     "output_type": "stream",
     "text": [
      "<selenium.webdriver.remote.webelement.WebElement (session=\"8a1a1d99c3821eabb609285d28384a34\", element=\"C0A506B6D80815E672A8415B22009444_element_335\")>\n",
      "우동카덴 4.3 서울 서대문구 연희로 173 거화빌딩 1층\n",
      "<selenium.webdriver.remote.webelement.WebElement (session=\"8a1a1d99c3821eabb609285d28384a34\", element=\"C0A506B6D80815E672A8415B22009444_element_384\")>\n"
     ]
    },
    {
     "name": "stderr",
     "output_type": "stream",
     "text": [
      "\n",
      " 80%|██████████████████████████████████████████████████████████████████▍                | 8/10 [00:46<00:10,  5.20s/it]\u001b[A"
     ]
    },
    {
     "name": "stdout",
     "output_type": "stream",
     "text": [
      "카페 마 NaN 서울 서대문구 연희로11가길 48-10\n"
     ]
    },
    {
     "name": "stderr",
     "output_type": "stream",
     "text": [
      "\n",
      " 90%|██████████████████████████████████████████████████████████████████████████▋        | 9/10 [00:48<00:04,  4.25s/it]\u001b[A"
     ]
    },
    {
     "name": "stdout",
     "output_type": "stream",
     "text": [
      "<selenium.webdriver.remote.webelement.WebElement (session=\"8a1a1d99c3821eabb609285d28384a34\", element=\"C0A506B6D80815E672A8415B22009444_element_431\")>\n",
      "작은스페인 4.57 서울 서대문구 연희로25길 37\n",
      "<selenium.webdriver.remote.webelement.WebElement (session=\"8a1a1d99c3821eabb609285d28384a34\", element=\"C0A506B6D80815E672A8415B22009444_element_458\")>\n"
     ]
    },
    {
     "name": "stderr",
     "output_type": "stream",
     "text": [
      "\n",
      "100%|██████████████████████████████████████████████████████████████████████████████████| 10/10 [00:55<00:00,  5.58s/it]\u001b[A"
     ]
    },
    {
     "name": "stdout",
     "output_type": "stream",
     "text": [
      "그로어스 NaN 서울 서대문구 연희로27길 52\n"
     ]
    },
    {
     "name": "stderr",
     "output_type": "stream",
     "text": [
      "\n",
      " 60%|█████████████████████████████████████████████▎                              | 179/300 [1:15:26<1:22:21, 40.84s/it]\n",
      "0it [00:00, ?it/s]\u001b[A\n",
      " 60%|█████████████████████████████████████████████▌                              | 180/300 [1:15:40<1:05:43, 32.86s/it]\n",
      "0it [00:00, ?it/s]\u001b[A\n",
      " 60%|███████████████████████████████████████████████                               | 181/300 [1:15:57<55:45, 28.11s/it]"
     ]
    },
    {
     "name": "stdout",
     "output_type": "stream",
     "text": [
      "윤쉐프의 고기집\n",
      "진남체육공원 식당\n",
      "카페 날마다봄날\n",
      "샤브마니아 포항양덕점\n",
      "일등한우 율하점\n",
      "커피방앗간정미소\n"
     ]
    },
    {
     "name": "stderr",
     "output_type": "stream",
     "text": [
      "\n",
      "  0%|                                                                                            | 0/6 [00:00<?, ?it/s]\u001b[A\n",
      " 17%|██████████████                                                                      | 1/6 [00:06<00:31,  6.21s/it]\u001b[A"
     ]
    },
    {
     "name": "stdout",
     "output_type": "stream",
     "text": [
      "<selenium.webdriver.remote.webelement.WebElement (session=\"27906d73ef5f68c2f5b6ce3abe5039f1\", element=\"200AE2EF18F35929CB5EAB59639869CE_element_118\")>\n",
      "윤쉐프의 고기집 4.54 경북 구미시 신시로14길 10 상산에이스타운 105호\n"
     ]
    },
    {
     "name": "stderr",
     "output_type": "stream",
     "text": [
      "\n",
      " 33%|████████████████████████████                                                        | 2/6 [00:08<00:15,  3.81s/it]\u001b[A"
     ]
    },
    {
     "name": "stdout",
     "output_type": "stream",
     "text": [
      "<selenium.webdriver.remote.webelement.WebElement (session=\"27906d73ef5f68c2f5b6ce3abe5039f1\", element=\"200AE2EF18F35929CB5EAB59639869CE_element_124\")>\n",
      "진남체육공원 식당 4.06 전남 여수시 진남체육관길 29\n"
     ]
    },
    {
     "name": "stderr",
     "output_type": "stream",
     "text": [
      "\n",
      " 50%|██████████████████████████████████████████                                          | 3/6 [00:10<00:09,  3.05s/it]\u001b[A"
     ]
    },
    {
     "name": "stdout",
     "output_type": "stream",
     "text": [
      "<selenium.webdriver.remote.webelement.WebElement (session=\"27906d73ef5f68c2f5b6ce3abe5039f1\", element=\"200AE2EF18F35929CB5EAB59639869CE_element_167\")>\n",
      "카페 날마다봄날 4.67 경기 의왕시 부곡중학길 69-20 2층\n",
      "<selenium.webdriver.remote.webelement.WebElement (session=\"27906d73ef5f68c2f5b6ce3abe5039f1\", element=\"200AE2EF18F35929CB5EAB59639869CE_element_192\")>\n"
     ]
    },
    {
     "name": "stderr",
     "output_type": "stream",
     "text": [
      "\n",
      " 67%|████████████████████████████████████████████████████████                            | 4/6 [00:17<00:09,  4.67s/it]\u001b[A"
     ]
    },
    {
     "name": "stdout",
     "output_type": "stream",
     "text": [
      "샤브마니아 포항양덕점 NaN 경북 포항시 북구 장량로 226 샤브마니아\n",
      "<selenium.webdriver.remote.webelement.WebElement (session=\"27906d73ef5f68c2f5b6ce3abe5039f1\", element=\"200AE2EF18F35929CB5EAB59639869CE_element_212\")>\n"
     ]
    },
    {
     "name": "stderr",
     "output_type": "stream",
     "text": [
      "\n",
      " 83%|██████████████████████████████████████████████████████████████████████              | 5/6 [00:24<00:05,  5.58s/it]\u001b[A"
     ]
    },
    {
     "name": "stdout",
     "output_type": "stream",
     "text": [
      "일등한우 율하점 NaN 대구 동구 안심로22길 60-13 광장프라자2\n"
     ]
    },
    {
     "name": "stderr",
     "output_type": "stream",
     "text": [
      "\n",
      "100%|████████████████████████████████████████████████████████████████████████████████████| 6/6 [00:26<00:00,  4.50s/it]\u001b[A"
     ]
    },
    {
     "name": "stdout",
     "output_type": "stream",
     "text": [
      "<selenium.webdriver.remote.webelement.WebElement (session=\"27906d73ef5f68c2f5b6ce3abe5039f1\", element=\"200AE2EF18F35929CB5EAB59639869CE_element_237\")>\n",
      "커피방앗간정미소 4.68 경북 포항시 남구 희망대로 973 커피방앗간정미소\n"
     ]
    },
    {
     "name": "stderr",
     "output_type": "stream",
     "text": [
      "\n",
      " 61%|██████████████████████████████████████████████                              | 182/300 [1:16:36<1:01:46, 31.41s/it]\n",
      "0it [00:00, ?it/s]\u001b[A\n",
      " 61%|███████████████████████████████████████████████▌                              | 183/300 [1:16:50<51:05, 26.20s/it]\n",
      "0it [00:00, ?it/s]\u001b[A\n",
      " 61%|███████████████████████████████████████████████▊                              | 184/300 [1:17:07<45:18, 23.43s/it]\n",
      "0it [00:00, ?it/s]\u001b[A\n",
      " 62%|████████████████████████████████████████████████                              | 185/300 [1:17:24<41:14, 21.52s/it]"
     ]
    },
    {
     "name": "stdout",
     "output_type": "stream",
     "text": [
      "생수정\n",
      "호랑이장칼국수 가창본점\n",
      "밥을짓다 가창점\n",
      "룰리커피 가창점\n",
      "노즈커피\n",
      "감나무집\n",
      "우록뜰\n",
      "커피 빈잔\n",
      "덕이네\n",
      "숲속의 피자\n"
     ]
    },
    {
     "name": "stderr",
     "output_type": "stream",
     "text": [
      "\n",
      "  0%|                                                                                           | 0/10 [00:00<?, ?it/s]\u001b[A\n",
      " 10%|████████▎                                                                          | 1/10 [00:06<00:55,  6.22s/it]\u001b[A"
     ]
    },
    {
     "name": "stdout",
     "output_type": "stream",
     "text": [
      "<selenium.webdriver.remote.webelement.WebElement (session=\"845e21982680cce78ae281b8f088e1b7\", element=\"4F11F3CCBBE11D3BB0CBD9895CECBD1F_element_113\")>\n",
      "생수정 4.32 대구 달성군 가창면 우록3길 58\n",
      "<selenium.webdriver.remote.webelement.WebElement (session=\"845e21982680cce78ae281b8f088e1b7\", element=\"4F11F3CCBBE11D3BB0CBD9895CECBD1F_element_162\")>\n"
     ]
    },
    {
     "name": "stderr",
     "output_type": "stream",
     "text": [
      "\n",
      " 20%|████████████████▌                                                                  | 2/10 [00:13<00:54,  6.76s/it]\u001b[A"
     ]
    },
    {
     "name": "stdout",
     "output_type": "stream",
     "text": [
      "호랑이장칼국수 가창본점 NaN 대구 달성군 가창면 우록길 184 1층\n",
      "<selenium.webdriver.remote.webelement.WebElement (session=\"845e21982680cce78ae281b8f088e1b7\", element=\"4F11F3CCBBE11D3BB0CBD9895CECBD1F_element_223\")>\n"
     ]
    },
    {
     "name": "stderr",
     "output_type": "stream",
     "text": [
      "\n",
      " 30%|████████████████████████▉                                                          | 3/10 [00:20<00:48,  6.96s/it]\u001b[A"
     ]
    },
    {
     "name": "stdout",
     "output_type": "stream",
     "text": [
      "밥을짓다 가창점 NaN 대구 달성군 가창면 우록1길 3-20 가창 밥을짓다\n",
      "<selenium.webdriver.remote.webelement.WebElement (session=\"845e21982680cce78ae281b8f088e1b7\", element=\"4F11F3CCBBE11D3BB0CBD9895CECBD1F_element_255\")>\n"
     ]
    },
    {
     "name": "stderr",
     "output_type": "stream",
     "text": [
      "\n",
      " 40%|█████████████████████████████████▏                                                 | 4/10 [00:27<00:42,  7.04s/it]\u001b[A"
     ]
    },
    {
     "name": "stdout",
     "output_type": "stream",
     "text": [
      "룰리커피 가창점 NaN 대구 달성군 가창면 우록길 76\n",
      "<selenium.webdriver.remote.webelement.WebElement (session=\"845e21982680cce78ae281b8f088e1b7\", element=\"4F11F3CCBBE11D3BB0CBD9895CECBD1F_element_266\")>\n"
     ]
    },
    {
     "name": "stderr",
     "output_type": "stream",
     "text": [
      "\n",
      " 50%|█████████████████████████████████████████▌                                         | 5/10 [00:34<00:35,  7.08s/it]\u001b[A"
     ]
    },
    {
     "name": "stdout",
     "output_type": "stream",
     "text": [
      "노즈커피 NaN 대구 달성군 가창면 우록길 244 A동\n",
      "<selenium.webdriver.remote.webelement.WebElement (session=\"845e21982680cce78ae281b8f088e1b7\", element=\"4F11F3CCBBE11D3BB0CBD9895CECBD1F_element_333\")>\n"
     ]
    },
    {
     "name": "stderr",
     "output_type": "stream",
     "text": [
      "\n",
      " 60%|█████████████████████████████████████████████████▊                                 | 6/10 [00:42<00:28,  7.10s/it]\u001b[A"
     ]
    },
    {
     "name": "stdout",
     "output_type": "stream",
     "text": [
      "감나무집 NaN 대구 달성군 가창면 우록3길 73\n",
      "<selenium.webdriver.remote.webelement.WebElement (session=\"845e21982680cce78ae281b8f088e1b7\", element=\"4F11F3CCBBE11D3BB0CBD9895CECBD1F_element_371\")>\n"
     ]
    },
    {
     "name": "stderr",
     "output_type": "stream",
     "text": [
      "\n",
      " 70%|██████████████████████████████████████████████████████████                         | 7/10 [00:49<00:21,  7.13s/it]\u001b[A"
     ]
    },
    {
     "name": "stdout",
     "output_type": "stream",
     "text": [
      "우록뜰 NaN 대구 달성군 가창면 우록길 127 우록뜰\n"
     ]
    },
    {
     "name": "stderr",
     "output_type": "stream",
     "text": [
      "\n",
      " 80%|██████████████████████████████████████████████████████████████████▍                | 8/10 [00:51<00:11,  5.54s/it]\u001b[A"
     ]
    },
    {
     "name": "stdout",
     "output_type": "stream",
     "text": [
      "<selenium.webdriver.remote.webelement.WebElement (session=\"845e21982680cce78ae281b8f088e1b7\", element=\"4F11F3CCBBE11D3BB0CBD9895CECBD1F_element_415\")>\n",
      "커피 빈잔 4.6 대구 달성군 가창면 우록길 177-11\n",
      "<selenium.webdriver.remote.webelement.WebElement (session=\"845e21982680cce78ae281b8f088e1b7\", element=\"4F11F3CCBBE11D3BB0CBD9895CECBD1F_element_440\")>\n"
     ]
    },
    {
     "name": "stderr",
     "output_type": "stream",
     "text": [
      "\n",
      " 90%|██████████████████████████████████████████████████████████████████████████▋        | 9/10 [00:58<00:06,  6.04s/it]\u001b[A"
     ]
    },
    {
     "name": "stdout",
     "output_type": "stream",
     "text": [
      "덕이네 NaN 대구 달성군 가창면 우록길 287 1층\n",
      "<selenium.webdriver.remote.webelement.WebElement (session=\"845e21982680cce78ae281b8f088e1b7\", element=\"4F11F3CCBBE11D3BB0CBD9895CECBD1F_element_498\")>\n"
     ]
    },
    {
     "name": "stderr",
     "output_type": "stream",
     "text": [
      "\n",
      "100%|██████████████████████████████████████████████████████████████████████████████████| 10/10 [01:05<00:00,  6.57s/it]\u001b[A"
     ]
    },
    {
     "name": "stdout",
     "output_type": "stream",
     "text": [
      "숲속의 피자 NaN 대구 달성군 가창면 우록길 131 가창카페 아트도서관\n"
     ]
    },
    {
     "name": "stderr",
     "output_type": "stream",
     "text": [
      "\n",
      " 62%|███████████████████████████████████████████████                             | 186/300 [1:18:43<1:13:31, 38.69s/it]"
     ]
    },
    {
     "name": "stdout",
     "output_type": "stream",
     "text": [
      "사석\n",
      "오무하무 동성로점\n",
      "머꼬삼겹살\n",
      "노팅힐커피하우스\n",
      "구삼커피\n",
      "숨은집 동성로본점\n",
      "도마29\n",
      "유창반점\n",
      "과정\n",
      "차이\n"
     ]
    },
    {
     "name": "stderr",
     "output_type": "stream",
     "text": [
      "\n",
      "  0%|                                                                                           | 0/10 [00:07<?, ?it/s]\u001b[A\n",
      " 62%|███████████████████████████████████████████████▎                            | 187/300 [1:19:00<1:00:39, 32.21s/it]"
     ]
    },
    {
     "name": "stdout",
     "output_type": "stream",
     "text": [
      "상도\n",
      "위바오\n",
      "노팅힐커피하우스\n",
      "발코니 밀즈\n",
      "소담히 동성로\n",
      "구삼커피\n",
      "딥커피로스터스\n",
      "헤이듀\n",
      "오브너\n",
      "선분\n"
     ]
    },
    {
     "name": "stderr",
     "output_type": "stream",
     "text": [
      "\n",
      "  0%|                                                                                           | 0/10 [00:01<?, ?it/s]\u001b[A\n",
      " 63%|████████████████████████████████████████████████▉                             | 188/300 [1:19:15<50:28, 27.04s/it]"
     ]
    },
    {
     "name": "stdout",
     "output_type": "stream",
     "text": [
      "푸른회식당\n",
      "반고개의성무침회본점\n",
      "똘똘이식당\n",
      "호남원조식당\n",
      "하프힐\n",
      "늘푸른무침회\n",
      "반고개무침회\n",
      "대교식당\n",
      "원조반고개무침회\n",
      "역전할머니맥주 대구반고개점\n"
     ]
    },
    {
     "name": "stderr",
     "output_type": "stream",
     "text": [
      "\n",
      "  0%|                                                                                           | 0/10 [00:00<?, ?it/s]\u001b[A\n",
      " 10%|████████▎                                                                          | 1/10 [00:06<00:56,  6.26s/it]\u001b[A"
     ]
    },
    {
     "name": "stdout",
     "output_type": "stream",
     "text": [
      "<selenium.webdriver.remote.webelement.WebElement (session=\"fdc557393df61c13e4017dddef3a14de\", element=\"DF62723D91E52BAE182275EAD8FBFB15_element_111\")>\n",
      "푸른회식당 4.46 대구 서구 달구벌대로375길 14-1\n"
     ]
    },
    {
     "name": "stderr",
     "output_type": "stream",
     "text": [
      "\n",
      " 20%|████████████████▌                                                                  | 2/10 [00:08<00:30,  3.83s/it]\u001b[A"
     ]
    },
    {
     "name": "stdout",
     "output_type": "stream",
     "text": [
      "<selenium.webdriver.remote.webelement.WebElement (session=\"fdc557393df61c13e4017dddef3a14de\", element=\"DF62723D91E52BAE182275EAD8FBFB15_element_172\")>\n",
      "반고개의성무침회본점 4.49 대구 서구 달구벌대로375길 17\n"
     ]
    },
    {
     "name": "stderr",
     "output_type": "stream",
     "text": [
      "\n",
      " 30%|████████████████████████▉                                                          | 3/10 [00:10<00:21,  3.06s/it]\u001b[A"
     ]
    },
    {
     "name": "stdout",
     "output_type": "stream",
     "text": [
      "<selenium.webdriver.remote.webelement.WebElement (session=\"fdc557393df61c13e4017dddef3a14de\", element=\"DF62723D91E52BAE182275EAD8FBFB15_element_199\")>\n",
      "똘똘이식당 4.37 대구 서구 달구벌대로375길 31\n"
     ]
    },
    {
     "name": "stderr",
     "output_type": "stream",
     "text": [
      "\n",
      " 40%|█████████████████████████████████▏                                                 | 4/10 [00:12<00:16,  2.70s/it]\u001b[A"
     ]
    },
    {
     "name": "stdout",
     "output_type": "stream",
     "text": [
      "<selenium.webdriver.remote.webelement.WebElement (session=\"fdc557393df61c13e4017dddef3a14de\", element=\"DF62723D91E52BAE182275EAD8FBFB15_element_240\")>\n",
      "호남원조식당 4.58 대구 서구 달구벌대로375길 26-1\n",
      "<selenium.webdriver.remote.webelement.WebElement (session=\"fdc557393df61c13e4017dddef3a14de\", element=\"DF62723D91E52BAE182275EAD8FBFB15_element_268\")>\n"
     ]
    },
    {
     "name": "stderr",
     "output_type": "stream",
     "text": [
      "\n",
      " 50%|█████████████████████████████████████████▌                                         | 5/10 [00:19<00:21,  4.33s/it]\u001b[A"
     ]
    },
    {
     "name": "stdout",
     "output_type": "stream",
     "text": [
      "하프힐 NaN 대구 서구 달구벌대로375길 23-1 하프힐 1층\n"
     ]
    },
    {
     "name": "stderr",
     "output_type": "stream",
     "text": [
      "\n",
      " 60%|█████████████████████████████████████████████████▊                                 | 6/10 [00:22<00:14,  3.58s/it]\u001b[A"
     ]
    },
    {
     "name": "stdout",
     "output_type": "stream",
     "text": [
      "<selenium.webdriver.remote.webelement.WebElement (session=\"fdc557393df61c13e4017dddef3a14de\", element=\"DF62723D91E52BAE182275EAD8FBFB15_element_278\")>\n",
      "늘푸른무침회 4.38 대구 서구 달구벌대로375길 11-2\n"
     ]
    },
    {
     "name": "stderr",
     "output_type": "stream",
     "text": [
      "\n",
      " 70%|██████████████████████████████████████████████████████████                         | 7/10 [00:24<00:09,  3.11s/it]\u001b[A"
     ]
    },
    {
     "name": "stdout",
     "output_type": "stream",
     "text": [
      "<selenium.webdriver.remote.webelement.WebElement (session=\"fdc557393df61c13e4017dddef3a14de\", element=\"DF62723D91E52BAE182275EAD8FBFB15_element_327\")>\n",
      "반고개무침회 4.34 대구 서구 달구벌대로375길 28 반고개무침회\n"
     ]
    },
    {
     "name": "stderr",
     "output_type": "stream",
     "text": [
      "\n",
      " 80%|██████████████████████████████████████████████████████████████████▍                | 8/10 [00:26<00:05,  2.80s/it]\u001b[A"
     ]
    },
    {
     "name": "stdout",
     "output_type": "stream",
     "text": [
      "<selenium.webdriver.remote.webelement.WebElement (session=\"fdc557393df61c13e4017dddef3a14de\", element=\"DF62723D91E52BAE182275EAD8FBFB15_element_366\")>\n",
      "대교식당 4.38 대구 서구 달구벌대로375길 23 대교회식당\n"
     ]
    },
    {
     "name": "stderr",
     "output_type": "stream",
     "text": [
      "\n",
      " 90%|██████████████████████████████████████████████████████████████████████████▋        | 9/10 [00:28<00:02,  2.60s/it]\u001b[A"
     ]
    },
    {
     "name": "stdout",
     "output_type": "stream",
     "text": [
      "<selenium.webdriver.remote.webelement.WebElement (session=\"fdc557393df61c13e4017dddef3a14de\", element=\"DF62723D91E52BAE182275EAD8FBFB15_element_378\")>\n",
      "원조반고개무침회 4.62 대구 서구 달구벌대로375길 20\n"
     ]
    },
    {
     "name": "stderr",
     "output_type": "stream",
     "text": [
      "\n",
      "100%|██████████████████████████████████████████████████████████████████████████████████| 10/10 [00:30<00:00,  3.06s/it]\u001b[A"
     ]
    },
    {
     "name": "stdout",
     "output_type": "stream",
     "text": [
      "<selenium.webdriver.remote.webelement.WebElement (session=\"fdc557393df61c13e4017dddef3a14de\", element=\"DF62723D91E52BAE182275EAD8FBFB15_element_398\")>\n",
      "역전할머니맥주 대구반고개점 4.63 대구 서구 달구벌대로375길 6\n"
     ]
    },
    {
     "name": "stderr",
     "output_type": "stream",
     "text": [
      "\n",
      " 63%|█████████████████████████████████████████████████▏                            | 189/300 [1:20:00<59:48, 32.33s/it]\n",
      "0it [00:00, ?it/s]\u001b[A\n",
      " 63%|█████████████████████████████████████████████████▍                            | 190/300 [1:20:14<49:00, 26.73s/it]\n",
      "0it [00:00, ?it/s]\u001b[A\n",
      " 64%|█████████████████████████████████████████████████▋                            | 191/300 [1:20:31<43:14, 23.80s/it]"
     ]
    },
    {
     "name": "stdout",
     "output_type": "stream",
     "text": [
      "신통치킨 상리공원점(용산파크타운 상가)\n",
      "카페캔버스 상리공원점\n"
     ]
    },
    {
     "name": "stderr",
     "output_type": "stream",
     "text": [
      "\n",
      "  0%|                                                                                            | 0/2 [00:00<?, ?it/s]\u001b[A\n",
      " 50%|██████████████████████████████████████████                                          | 1/2 [00:06<00:06,  6.20s/it]\u001b[A"
     ]
    },
    {
     "name": "stdout",
     "output_type": "stream",
     "text": [
      "<selenium.webdriver.remote.webelement.WebElement (session=\"f56bc2818c49e007b109da3e6394f4ec\", element=\"2C031826FCD92B65B52C85528BF385D9_element_87\")>\n",
      "신통치킨 상리공원점(용산파크타운 상가) 4.59 대구 달서구 용산로 259 용산파크타운\n",
      "<selenium.webdriver.remote.webelement.WebElement (session=\"f56bc2818c49e007b109da3e6394f4ec\", element=\"2C031826FCD92B65B52C85528BF385D9_element_136\")>\n"
     ]
    },
    {
     "name": "stderr",
     "output_type": "stream",
     "text": [
      "\n",
      "100%|████████████████████████████████████████████████████████████████████████████████████| 2/2 [00:13<00:00,  6.69s/it]\u001b[A"
     ]
    },
    {
     "name": "stdout",
     "output_type": "stream",
     "text": [
      "카페캔버스 상리공원점 NaN 대구 달서구 용산로 259 용산파크타운 상가1층 카페캔버스버스\n"
     ]
    },
    {
     "name": "stderr",
     "output_type": "stream",
     "text": [
      "\n",
      " 64%|█████████████████████████████████████████████████▉                            | 192/300 [1:20:56<43:40, 24.26s/it]\n",
      "0it [00:00, ?it/s]\u001b[A\n",
      " 64%|██████████████████████████████████████████████████▏                           | 193/300 [1:21:12<38:52, 21.79s/it]"
     ]
    },
    {
     "name": "stdout",
     "output_type": "stream",
     "text": [
      "블랙타코앤그릴\n",
      "머꼬삼겹살\n",
      "왕거미식당\n",
      "얼디\n",
      "티미드\n",
      "동아식당\n",
      "바스코 동성로본점\n",
      "카페 루시드\n",
      "무하노뎅\n",
      "낙영찜갈비 본점\n"
     ]
    },
    {
     "name": "stderr",
     "output_type": "stream",
     "text": [
      "\n",
      "  0%|                                                                                           | 0/10 [00:00<?, ?it/s]\u001b[A\n",
      " 10%|████████▎                                                                          | 1/10 [00:06<00:55,  6.20s/it]\u001b[A"
     ]
    },
    {
     "name": "stdout",
     "output_type": "stream",
     "text": [
      "<selenium.webdriver.remote.webelement.WebElement (session=\"43d26e9fc7fb30ea6b3f205c9fdd96f2\", element=\"1B746CF6328F002C66BAC9B6DB47D649_element_111\")>\n",
      "블랙타코앤그릴 4.53 대구 중구 공평로 31 건물 2층\n"
     ]
    },
    {
     "name": "stderr",
     "output_type": "stream",
     "text": [
      "\n",
      " 20%|████████████████▌                                                                  | 2/10 [00:08<00:30,  3.81s/it]\u001b[A"
     ]
    },
    {
     "name": "stdout",
     "output_type": "stream",
     "text": [
      "<selenium.webdriver.remote.webelement.WebElement (session=\"43d26e9fc7fb30ea6b3f205c9fdd96f2\", element=\"1B746CF6328F002C66BAC9B6DB47D649_element_174\")>\n",
      "머꼬삼겹살 4.78 대구 중구 동성로3길 32-43 1층\n"
     ]
    },
    {
     "name": "stderr",
     "output_type": "stream",
     "text": [
      "\n",
      " 30%|████████████████████████▉                                                          | 3/10 [00:10<00:21,  3.05s/it]\u001b[A"
     ]
    },
    {
     "name": "stdout",
     "output_type": "stream",
     "text": [
      "<selenium.webdriver.remote.webelement.WebElement (session=\"43d26e9fc7fb30ea6b3f205c9fdd96f2\", element=\"1B746CF6328F002C66BAC9B6DB47D649_element_200\")>\n",
      "왕거미식당 4.42 대구 중구 국채보상로 696-8\n"
     ]
    },
    {
     "name": "stderr",
     "output_type": "stream",
     "text": [
      "\n",
      " 40%|█████████████████████████████████▏                                                 | 4/10 [00:12<00:16,  2.68s/it]\u001b[A"
     ]
    },
    {
     "name": "stdout",
     "output_type": "stream",
     "text": [
      "<selenium.webdriver.remote.webelement.WebElement (session=\"43d26e9fc7fb30ea6b3f205c9fdd96f2\", element=\"1B746CF6328F002C66BAC9B6DB47D649_element_239\")>\n",
      "얼디 4.69 대구 중구 달구벌대로445길 26-5 1층\n",
      "<selenium.webdriver.remote.webelement.WebElement (session=\"43d26e9fc7fb30ea6b3f205c9fdd96f2\", element=\"1B746CF6328F002C66BAC9B6DB47D649_element_296\")>\n"
     ]
    },
    {
     "name": "stderr",
     "output_type": "stream",
     "text": [
      "\n",
      " 50%|█████████████████████████████████████████▌                                         | 5/10 [00:19<00:21,  4.30s/it]\u001b[A"
     ]
    },
    {
     "name": "stdout",
     "output_type": "stream",
     "text": [
      "티미드 NaN 대구 중구 국채보상로150길 76-6 1층\n"
     ]
    },
    {
     "name": "stderr",
     "output_type": "stream",
     "text": [
      "\n",
      " 60%|█████████████████████████████████████████████████▊                                 | 6/10 [00:21<00:14,  3.57s/it]\u001b[A"
     ]
    },
    {
     "name": "stdout",
     "output_type": "stream",
     "text": [
      "<selenium.webdriver.remote.webelement.WebElement (session=\"43d26e9fc7fb30ea6b3f205c9fdd96f2\", element=\"1B746CF6328F002C66BAC9B6DB47D649_element_325\")>\n",
      "동아식당 4.55 대구 중구 국채보상로125길 14\n"
     ]
    },
    {
     "name": "stderr",
     "output_type": "stream",
     "text": [
      "\n",
      " 70%|██████████████████████████████████████████████████████████                         | 7/10 [00:24<00:09,  3.11s/it]\u001b[A"
     ]
    },
    {
     "name": "stdout",
     "output_type": "stream",
     "text": [
      "<selenium.webdriver.remote.webelement.WebElement (session=\"43d26e9fc7fb30ea6b3f205c9fdd96f2\", element=\"1B746CF6328F002C66BAC9B6DB47D649_element_367\")>\n",
      "바스코 동성로본점 4.58 대구 중구 동성로4길 100 vasco\n"
     ]
    },
    {
     "name": "stderr",
     "output_type": "stream",
     "text": [
      "\n",
      " 80%|██████████████████████████████████████████████████████████████████▍                | 8/10 [00:26<00:05,  2.80s/it]\u001b[A"
     ]
    },
    {
     "name": "stdout",
     "output_type": "stream",
     "text": [
      "<selenium.webdriver.remote.webelement.WebElement (session=\"43d26e9fc7fb30ea6b3f205c9fdd96f2\", element=\"1B746CF6328F002C66BAC9B6DB47D649_element_407\")>\n",
      "카페 루시드 4.67 대구 중구 동성로4길 94\n",
      "<selenium.webdriver.remote.webelement.WebElement (session=\"43d26e9fc7fb30ea6b3f205c9fdd96f2\", element=\"1B746CF6328F002C66BAC9B6DB47D649_element_436\")>\n"
     ]
    },
    {
     "name": "stderr",
     "output_type": "stream",
     "text": [
      "\n",
      " 90%|██████████████████████████████████████████████████████████████████████████▋        | 9/10 [00:33<00:04,  4.17s/it]\u001b[A"
     ]
    },
    {
     "name": "stdout",
     "output_type": "stream",
     "text": [
      "무하노뎅 NaN 대구 중구 교동3길 31 1, 2층\n"
     ]
    },
    {
     "name": "stderr",
     "output_type": "stream",
     "text": [
      "\n",
      "100%|██████████████████████████████████████████████████████████████████████████████████| 10/10 [00:35<00:00,  3.56s/it]\u001b[A"
     ]
    },
    {
     "name": "stdout",
     "output_type": "stream",
     "text": [
      "<selenium.webdriver.remote.webelement.WebElement (session=\"43d26e9fc7fb30ea6b3f205c9fdd96f2\", element=\"1B746CF6328F002C66BAC9B6DB47D649_element_475\")>\n",
      "낙영찜갈비 본점 4.23 대구 중구 동덕로36길 9-17\n"
     ]
    },
    {
     "name": "stderr",
     "output_type": "stream",
     "text": [
      "\n",
      " 65%|██████████████████████████████████████████████████▍                           | 194/300 [1:22:00<52:18, 29.60s/it]\n",
      "0it [00:00, ?it/s]\u001b[A\n",
      " 65%|██████████████████████████████████████████████████▋                           | 195/300 [1:22:15<44:06, 25.21s/it]\n",
      "0it [00:00, ?it/s]\u001b[A\n",
      " 65%|██████████████████████████████████████████████████▉                           | 196/300 [1:22:32<39:26, 22.76s/it]"
     ]
    },
    {
     "name": "stdout",
     "output_type": "stream",
     "text": [
      "자연산회\n",
      "장기동막창마을\n",
      "밥스딜라잇\n",
      "루나루이스\n",
      "농부네숯불닭\n",
      "쭈꾸미집\n",
      "깔꾸리족발보쌈국수\n",
      "조돌해녀 장기점\n",
      "곱창이야기 대구장기동점\n",
      "포뜬갈비 장기점\n"
     ]
    },
    {
     "name": "stderr",
     "output_type": "stream",
     "text": [
      "\n",
      "  0%|                                                                                           | 0/10 [00:00<?, ?it/s]\u001b[A\n",
      " 10%|████████▎                                                                          | 1/10 [00:06<00:56,  6.24s/it]\u001b[A"
     ]
    },
    {
     "name": "stdout",
     "output_type": "stream",
     "text": [
      "<selenium.webdriver.remote.webelement.WebElement (session=\"9b7c0d675141de5aac82e9ee97be62c2\", element=\"BE5903C0DFB1CD296D6A06519E1F2BCF_element_116\")>\n",
      "자연산회 4.61 대구 달서구 장기로 285\n"
     ]
    },
    {
     "name": "stderr",
     "output_type": "stream",
     "text": [
      "\n",
      " 20%|████████████████▌                                                                  | 2/10 [00:08<00:31,  3.89s/it]\u001b[A"
     ]
    },
    {
     "name": "stdout",
     "output_type": "stream",
     "text": [
      "<selenium.webdriver.remote.webelement.WebElement (session=\"9b7c0d675141de5aac82e9ee97be62c2\", element=\"BE5903C0DFB1CD296D6A06519E1F2BCF_element_144\")>\n",
      "장기동막창마을 4.78 대구 달서구 용산로 31\n",
      "<selenium.webdriver.remote.webelement.WebElement (session=\"9b7c0d675141de5aac82e9ee97be62c2\", element=\"BE5903C0DFB1CD296D6A06519E1F2BCF_element_206\")>\n"
     ]
    },
    {
     "name": "stderr",
     "output_type": "stream",
     "text": [
      "\n",
      " 30%|████████████████████████▉                                                          | 3/10 [00:15<00:37,  5.40s/it]\u001b[A"
     ]
    },
    {
     "name": "stdout",
     "output_type": "stream",
     "text": [
      "밥스딜라잇 NaN 대구 달서구 장기로 231 1층,2층\n"
     ]
    },
    {
     "name": "stderr",
     "output_type": "stream",
     "text": [
      "\n",
      " 40%|█████████████████████████████████▏                                                 | 4/10 [00:17<00:24,  4.11s/it]\u001b[A"
     ]
    },
    {
     "name": "stdout",
     "output_type": "stream",
     "text": [
      "<selenium.webdriver.remote.webelement.WebElement (session=\"9b7c0d675141de5aac82e9ee97be62c2\", element=\"BE5903C0DFB1CD296D6A06519E1F2BCF_element_246\")>\n",
      "루나루이스 4.45 대구 달서구 대명천로 245\n",
      "<selenium.webdriver.remote.webelement.WebElement (session=\"9b7c0d675141de5aac82e9ee97be62c2\", element=\"BE5903C0DFB1CD296D6A06519E1F2BCF_element_254\")>\n"
     ]
    },
    {
     "name": "stderr",
     "output_type": "stream",
     "text": [
      "\n",
      " 50%|█████████████████████████████████████████▌                                         | 5/10 [00:24<00:25,  5.20s/it]\u001b[A"
     ]
    },
    {
     "name": "stdout",
     "output_type": "stream",
     "text": [
      "농부네숯불닭 NaN 대구 달서구 용산로 61 1층 농부네숯불닭\n"
     ]
    },
    {
     "name": "stderr",
     "output_type": "stream",
     "text": [
      "\n",
      " 60%|█████████████████████████████████████████████████▊                                 | 6/10 [00:27<00:16,  4.16s/it]\u001b[A"
     ]
    },
    {
     "name": "stdout",
     "output_type": "stream",
     "text": [
      "<selenium.webdriver.remote.webelement.WebElement (session=\"9b7c0d675141de5aac82e9ee97be62c2\", element=\"BE5903C0DFB1CD296D6A06519E1F2BCF_element_298\")>\n",
      "쭈꾸미집 4.46 대구 달서구 용산로 55\n"
     ]
    },
    {
     "name": "stderr",
     "output_type": "stream",
     "text": [
      "\n",
      " 70%|██████████████████████████████████████████████████████████                         | 7/10 [00:29<00:10,  3.51s/it]\u001b[A"
     ]
    },
    {
     "name": "stdout",
     "output_type": "stream",
     "text": [
      "<selenium.webdriver.remote.webelement.WebElement (session=\"9b7c0d675141de5aac82e9ee97be62c2\", element=\"BE5903C0DFB1CD296D6A06519E1F2BCF_element_342\")>\n",
      "깔꾸리족발보쌈국수 4.55 대구 달서구 대명천로 240 1층\n"
     ]
    },
    {
     "name": "stderr",
     "output_type": "stream",
     "text": [
      "\n",
      " 80%|██████████████████████████████████████████████████████████████████▍                | 8/10 [00:31<00:06,  3.11s/it]\u001b[A"
     ]
    },
    {
     "name": "stdout",
     "output_type": "stream",
     "text": [
      "<selenium.webdriver.remote.webelement.WebElement (session=\"9b7c0d675141de5aac82e9ee97be62c2\", element=\"BE5903C0DFB1CD296D6A06519E1F2BCF_element_383\")>\n",
      "조돌해녀 장기점 4.53 대구 달서구 용산로 33 본리동 1199-5\n"
     ]
    },
    {
     "name": "stderr",
     "output_type": "stream",
     "text": [
      "\n",
      " 90%|██████████████████████████████████████████████████████████████████████████▋        | 9/10 [00:33<00:02,  2.81s/it]\u001b[A"
     ]
    },
    {
     "name": "stdout",
     "output_type": "stream",
     "text": [
      "<selenium.webdriver.remote.webelement.WebElement (session=\"9b7c0d675141de5aac82e9ee97be62c2\", element=\"BE5903C0DFB1CD296D6A06519E1F2BCF_element_411\")>\n",
      "곱창이야기 대구장기동점 4.63 대구 달서구 장기로57길 21 1층\n"
     ]
    },
    {
     "name": "stderr",
     "output_type": "stream",
     "text": [
      "\n",
      "100%|██████████████████████████████████████████████████████████████████████████████████| 10/10 [00:35<00:00,  3.58s/it]\u001b[A"
     ]
    },
    {
     "name": "stdout",
     "output_type": "stream",
     "text": [
      "<selenium.webdriver.remote.webelement.WebElement (session=\"9b7c0d675141de5aac82e9ee97be62c2\", element=\"BE5903C0DFB1CD296D6A06519E1F2BCF_element_454\")>\n",
      "포뜬갈비 장기점 4.32 대구 달서구 대명천로 282 포뜬갈비 장기점\n"
     ]
    },
    {
     "name": "stderr",
     "output_type": "stream",
     "text": [
      "\n",
      " 66%|███████████████████████████████████████████████████▏                          | 197/300 [1:23:20<52:03, 30.32s/it]"
     ]
    },
    {
     "name": "stdout",
     "output_type": "stream",
     "text": [
      "고향숯불막창\n",
      "소소래\n",
      "달그릇공방 구암점\n",
      "마고노더니스_마고플레인태전점\n",
      "꼬모맨션 칠곡점\n",
      "함지산돼지국밥\n",
      "어촌풍경\n",
      "식껍 칠곡점\n",
      "사이섬커피바\n",
      "푸루푸루푸딩\n"
     ]
    },
    {
     "name": "stderr",
     "output_type": "stream",
     "text": [
      "\n",
      "  0%|                                                                                           | 0/10 [00:07<?, ?it/s]\u001b[A\n",
      " 66%|███████████████████████████████████████████████████▍                          | 198/300 [1:23:37<44:38, 26.26s/it]\n",
      "0it [00:00, ?it/s]\u001b[A\n",
      " 66%|███████████████████████████████████████████████████▋                          | 199/300 [1:23:51<38:01, 22.59s/it]\n",
      "0it [00:00, ?it/s]\u001b[A\n",
      " 67%|████████████████████████████████████████████████████                          | 200/300 [1:24:08<34:54, 20.94s/it]\n",
      "0it [00:00, ?it/s]\u001b[A\n",
      " 67%|████████████████████████████████████████████████████▎                         | 201/300 [1:24:26<33:02, 20.02s/it]\n",
      "0it [00:00, ?it/s]\u001b[A\n",
      " 67%|████████████████████████████████████████████████████▌                         | 202/300 [1:24:44<31:41, 19.40s/it]\n",
      "0it [00:00, ?it/s]\u001b[A\n",
      " 68%|████████████████████████████████████████████████████▊                         | 203/300 [1:25:01<30:14, 18.70s/it]\n",
      "0it [00:00, ?it/s]\u001b[A\n",
      " 68%|█████████████████████████████████████████████████████                         | 204/300 [1:25:18<29:31, 18.46s/it]\n",
      "0it [00:00, ?it/s]\u001b[A\n",
      " 68%|█████████████████████████████████████████████████████▎                        | 205/300 [1:25:35<28:30, 18.01s/it]"
     ]
    },
    {
     "name": "stdout",
     "output_type": "stream",
     "text": [
      "블랙타코앤그릴\n",
      "빠레뜨한남 대구 동성로점\n",
      "사석\n",
      "몽블랑드파리\n",
      "오무하무 동성로점\n",
      "머꼬삼겹살\n",
      "숨은집 동성로본점\n",
      "도마29\n",
      "과정\n",
      "차이\n"
     ]
    },
    {
     "name": "stderr",
     "output_type": "stream",
     "text": [
      "\n",
      "  0%|                                                                                           | 0/10 [00:00<?, ?it/s]\u001b[A\n",
      " 10%|████████▎                                                                          | 1/10 [00:06<00:55,  6.21s/it]\u001b[A"
     ]
    },
    {
     "name": "stdout",
     "output_type": "stream",
     "text": [
      "<selenium.webdriver.remote.webelement.WebElement (session=\"414ea6b2d518bb4a3282923cd54b77c1\", element=\"97A780AD742EA65B538E37DFBC2599BD_element_117\")>\n",
      "블랙타코앤그릴 4.53 대구 중구 공평로 31 건물 2층\n",
      "<selenium.webdriver.remote.webelement.WebElement (session=\"414ea6b2d518bb4a3282923cd54b77c1\", element=\"97A780AD742EA65B538E37DFBC2599BD_element_175\")>\n"
     ]
    },
    {
     "name": "stderr",
     "output_type": "stream",
     "text": [
      "\n",
      " 20%|████████████████▌                                                                  | 2/10 [00:13<00:54,  6.76s/it]\u001b[A"
     ]
    },
    {
     "name": "stdout",
     "output_type": "stream",
     "text": [
      "빠레뜨한남 대구 동성로점 NaN 대구 중구 동성로2길 58 2층 빠레뜨한남\n",
      "<selenium.webdriver.remote.webelement.WebElement (session=\"414ea6b2d518bb4a3282923cd54b77c1\", element=\"97A780AD742EA65B538E37DFBC2599BD_element_202\")>\n"
     ]
    },
    {
     "name": "stderr",
     "output_type": "stream",
     "text": [
      "\n",
      " 30%|████████████████████████▉                                                          | 3/10 [00:20<00:48,  6.96s/it]\u001b[A"
     ]
    },
    {
     "name": "stdout",
     "output_type": "stream",
     "text": [
      "사석 NaN 대구 중구 중앙대로 375 YMCA 건물 1층 사석\n",
      "<selenium.webdriver.remote.webelement.WebElement (session=\"414ea6b2d518bb4a3282923cd54b77c1\", element=\"97A780AD742EA65B538E37DFBC2599BD_element_222\")>\n"
     ]
    },
    {
     "name": "stderr",
     "output_type": "stream",
     "text": [
      "\n",
      " 40%|█████████████████████████████████▏                                                 | 4/10 [00:27<00:42,  7.04s/it]\u001b[A"
     ]
    },
    {
     "name": "stdout",
     "output_type": "stream",
     "text": [
      "몽블랑드파리 NaN 대구 중구 동성로6길 21\n",
      "<selenium.webdriver.remote.webelement.WebElement (session=\"414ea6b2d518bb4a3282923cd54b77c1\", element=\"97A780AD742EA65B538E37DFBC2599BD_element_285\")>\n"
     ]
    },
    {
     "name": "stderr",
     "output_type": "stream",
     "text": [
      "\n",
      " 50%|█████████████████████████████████████████▌                                         | 5/10 [00:34<00:35,  7.08s/it]\u001b[A"
     ]
    },
    {
     "name": "stdout",
     "output_type": "stream",
     "text": [
      "오무하무 동성로점 NaN 대구 중구 동성로3길 5 2층\n"
     ]
    },
    {
     "name": "stderr",
     "output_type": "stream",
     "text": [
      "\n",
      " 60%|█████████████████████████████████████████████████▊                                 | 6/10 [00:37<00:21,  5.40s/it]\u001b[A"
     ]
    },
    {
     "name": "stdout",
     "output_type": "stream",
     "text": [
      "<selenium.webdriver.remote.webelement.WebElement (session=\"414ea6b2d518bb4a3282923cd54b77c1\", element=\"97A780AD742EA65B538E37DFBC2599BD_element_327\")>\n",
      "머꼬삼겹살 4.78 대구 중구 동성로3길 32-43 1층\n"
     ]
    },
    {
     "name": "stderr",
     "output_type": "stream",
     "text": [
      "\n",
      " 70%|██████████████████████████████████████████████████████████                         | 7/10 [00:39<00:13,  4.33s/it]\u001b[A"
     ]
    },
    {
     "name": "stdout",
     "output_type": "stream",
     "text": [
      "<selenium.webdriver.remote.webelement.WebElement (session=\"414ea6b2d518bb4a3282923cd54b77c1\", element=\"97A780AD742EA65B538E37DFBC2599BD_element_353\")>\n",
      "숨은집 동성로본점 4.65 대구 중구 동성로1길 46-23 1층\n"
     ]
    },
    {
     "name": "stderr",
     "output_type": "stream",
     "text": [
      "\n",
      " 80%|██████████████████████████████████████████████████████████████████▍                | 8/10 [00:41<00:07,  3.64s/it]\u001b[A"
     ]
    },
    {
     "name": "stdout",
     "output_type": "stream",
     "text": [
      "<selenium.webdriver.remote.webelement.WebElement (session=\"414ea6b2d518bb4a3282923cd54b77c1\", element=\"97A780AD742EA65B538E37DFBC2599BD_element_382\")>\n",
      "도마29 4.62 대구 중구 동성로1길 46-2 도마29\n",
      "<selenium.webdriver.remote.webelement.WebElement (session=\"414ea6b2d518bb4a3282923cd54b77c1\", element=\"97A780AD742EA65B538E37DFBC2599BD_element_409\")>\n"
     ]
    },
    {
     "name": "stderr",
     "output_type": "stream",
     "text": [
      "\n",
      " 90%|██████████████████████████████████████████████████████████████████████████▋        | 9/10 [00:48<00:04,  4.74s/it]\u001b[A"
     ]
    },
    {
     "name": "stdout",
     "output_type": "stream",
     "text": [
      "과정 NaN 대구 중구 동성로2길 4-5 과정\n"
     ]
    },
    {
     "name": "stderr",
     "output_type": "stream",
     "text": [
      "\n",
      "100%|██████████████████████████████████████████████████████████████████████████████████| 10/10 [00:50<00:00,  5.06s/it]\u001b[A"
     ]
    },
    {
     "name": "stdout",
     "output_type": "stream",
     "text": [
      "<selenium.webdriver.remote.webelement.WebElement (session=\"414ea6b2d518bb4a3282923cd54b77c1\", element=\"97A780AD742EA65B538E37DFBC2599BD_element_452\")>\n",
      "차이 4.58 대구 중구 동성로2길 18-15\n"
     ]
    },
    {
     "name": "stderr",
     "output_type": "stream",
     "text": [
      "\n",
      " 69%|█████████████████████████████████████████████████████▌                        | 206/300 [1:26:42<51:09, 32.65s/it]\n",
      "0it [00:00, ?it/s]\u001b[A\n",
      " 69%|█████████████████████████████████████████████████████▊                        | 207/300 [1:26:56<42:00, 27.10s/it]\n",
      "0it [00:00, ?it/s]\u001b[A\n",
      " 69%|██████████████████████████████████████████████████████                        | 208/300 [1:27:14<37:23, 24.39s/it]\n",
      "0it [00:00, ?it/s]\u001b[A\n",
      " 70%|██████████████████████████████████████████████████████▎                       | 209/300 [1:27:31<33:36, 22.16s/it]\n",
      "0it [00:00, ?it/s]\u001b[A\n",
      " 70%|██████████████████████████████████████████████████████▌                       | 210/300 [1:27:48<30:55, 20.62s/it]\n",
      "0it [00:00, ?it/s]\u001b[A\n",
      " 70%|██████████████████████████████████████████████████████▊                       | 211/300 [1:28:05<28:57, 19.53s/it]\n",
      "0it [00:00, ?it/s]\u001b[A\n",
      " 71%|███████████████████████████████████████████████████████                       | 212/300 [1:28:22<27:31, 18.77s/it]"
     ]
    },
    {
     "name": "stdout",
     "output_type": "stream",
     "text": [
      "이대장구이\n",
      "하말\n",
      "구름순두부\n",
      "부촌가든\n",
      "팔공노을철판구이\n",
      "팔꽁이\n",
      "황토시골집\n",
      "만재네 칠곡3지구점\n",
      "로에베 플로레스\n",
      "가나안덕 대구칠곡점\n"
     ]
    },
    {
     "name": "stderr",
     "output_type": "stream",
     "text": [
      "\n",
      "  0%|                                                                                           | 0/10 [00:00<?, ?it/s]\u001b[A"
     ]
    },
    {
     "name": "stdout",
     "output_type": "stream",
     "text": [
      "<selenium.webdriver.remote.webelement.WebElement (session=\"2aaa86852655fe5967d33a708cf134ee\", element=\"05ACB270180AE39DB9D6E33857AF6EAB_element_113\")>\n"
     ]
    },
    {
     "name": "stderr",
     "output_type": "stream",
     "text": [
      "\n",
      " 10%|████████▎                                                                          | 1/10 [00:11<01:41, 11.27s/it]\u001b[A"
     ]
    },
    {
     "name": "stdout",
     "output_type": "stream",
     "text": [
      "이대장구이 NaN 대구 북구 도남길 25-4 1층\n"
     ]
    },
    {
     "name": "stderr",
     "output_type": "stream",
     "text": [
      " 10%|████████▎                                                                          | 1/10 [00:12<01:51, 12.36s/it]\n",
      " 71%|███████████████████████████████████████████████████████▍                      | 213/300 [1:28:47<29:43, 20.50s/it]\n",
      "0it [00:00, ?it/s]\u001b[A\n",
      " 71%|███████████████████████████████████████████████████████▋                      | 214/300 [1:29:01<26:31, 18.50s/it]\n",
      "0it [00:00, ?it/s]\u001b[A\n",
      " 72%|███████████████████████████████████████████████████████▉                      | 215/300 [1:29:19<25:56, 18.31s/it]"
     ]
    },
    {
     "name": "stdout",
     "output_type": "stream",
     "text": [
      "공원식당\n",
      "송현대게\n"
     ]
    },
    {
     "name": "stderr",
     "output_type": "stream",
     "text": [
      "\n",
      "  0%|                                                                                            | 0/2 [00:00<?, ?it/s]\u001b[A\n",
      " 50%|██████████████████████████████████████████                                          | 1/2 [00:06<00:06,  6.22s/it]\u001b[A"
     ]
    },
    {
     "name": "stdout",
     "output_type": "stream",
     "text": [
      "<selenium.webdriver.remote.webelement.WebElement (session=\"a500ef0d79527001f821d0003b78867a\", element=\"CF1D00E9BC907FDAC9E3D4977C1A9F8D_element_84\")>\n",
      "공원식당 4 대구 달서구 송현로8길 18\n"
     ]
    },
    {
     "name": "stderr",
     "output_type": "stream",
     "text": [
      "\n",
      "100%|████████████████████████████████████████████████████████████████████████████████████| 2/2 [00:08<00:00,  4.18s/it]\u001b[A"
     ]
    },
    {
     "name": "stdout",
     "output_type": "stream",
     "text": [
      "<selenium.webdriver.remote.webelement.WebElement (session=\"a500ef0d79527001f821d0003b78867a\", element=\"CF1D00E9BC907FDAC9E3D4977C1A9F8D_element_113\")>\n",
      "송현대게 4.61 부산 수영구 광안해변로358번길 6\n"
     ]
    },
    {
     "name": "stderr",
     "output_type": "stream",
     "text": [
      "\n",
      " 72%|████████████████████████████████████████████████████████▏                     | 216/300 [1:29:40<26:53, 19.21s/it]"
     ]
    },
    {
     "name": "stdout",
     "output_type": "stream",
     "text": [
      "해상공원\n"
     ]
    },
    {
     "name": "stderr",
     "output_type": "stream",
     "text": [
      "\n",
      "  0%|                                                                                            | 0/1 [00:07<?, ?it/s]\u001b[A\n",
      " 72%|████████████████████████████████████████████████████████▍                     | 217/300 [1:29:56<25:26, 18.39s/it]\n",
      "0it [00:00, ?it/s]\u001b[A\n",
      " 73%|████████████████████████████████████████████████████████▋                     | 218/300 [1:30:10<23:17, 17.04s/it]\n",
      "0it [00:00, ?it/s]\u001b[A\n",
      " 73%|████████████████████████████████████████████████████████▉                     | 219/300 [1:30:29<23:41, 17.54s/it]"
     ]
    },
    {
     "name": "stdout",
     "output_type": "stream",
     "text": [
      "산엘아르카\n",
      "카페 담\n",
      "송이초심정\n",
      "헤세디온\n",
      "포레밀\n",
      "마루스테이\n",
      "롤링핀 비슬산점\n",
      "유가사만물식당\n",
      "산수정\n",
      "와우산성\n"
     ]
    },
    {
     "name": "stderr",
     "output_type": "stream",
     "text": [
      "\n",
      "  0%|                                                                                           | 0/10 [00:00<?, ?it/s]\u001b[A\n",
      " 10%|████████▎                                                                          | 1/10 [00:06<00:55,  6.21s/it]\u001b[A"
     ]
    },
    {
     "name": "stdout",
     "output_type": "stream",
     "text": [
      "<selenium.webdriver.remote.webelement.WebElement (session=\"eb4303251896a4efd8f67a9c7c768b5c\", element=\"221CADEA2304A0FA12C7B8805178E8BF_element_113\")>\n",
      "산엘아르카 4.46 대구 달성군 유가읍 휴양림길 416 브런치카페 산엘아르카\n"
     ]
    },
    {
     "name": "stderr",
     "output_type": "stream",
     "text": [
      "\n",
      " 20%|████████████████▌                                                                  | 2/10 [00:08<00:30,  3.81s/it]\u001b[A"
     ]
    },
    {
     "name": "stdout",
     "output_type": "stream",
     "text": [
      "<selenium.webdriver.remote.webelement.WebElement (session=\"eb4303251896a4efd8f67a9c7c768b5c\", element=\"221CADEA2304A0FA12C7B8805178E8BF_element_178\")>\n",
      "카페 담 4.38 대구 달성군 유가읍 유가사2길 15\n"
     ]
    },
    {
     "name": "stderr",
     "output_type": "stream",
     "text": [
      "\n",
      " 30%|████████████████████████▉                                                          | 3/10 [00:10<00:21,  3.06s/it]\u001b[A"
     ]
    },
    {
     "name": "stdout",
     "output_type": "stream",
     "text": [
      "<selenium.webdriver.remote.webelement.WebElement (session=\"eb4303251896a4efd8f67a9c7c768b5c\", element=\"221CADEA2304A0FA12C7B8805178E8BF_element_206\")>\n",
      "송이초심정 4.22 대구 달성군 유가읍 유가사길 81 초심정\n",
      "<selenium.webdriver.remote.webelement.WebElement (session=\"eb4303251896a4efd8f67a9c7c768b5c\", element=\"221CADEA2304A0FA12C7B8805178E8BF_element_236\")>\n"
     ]
    },
    {
     "name": "stderr",
     "output_type": "stream",
     "text": [
      "\n",
      " 40%|█████████████████████████████████▏                                                 | 4/10 [00:17<00:28,  4.67s/it]\u001b[A"
     ]
    },
    {
     "name": "stdout",
     "output_type": "stream",
     "text": [
      "헤세디온 NaN 대구 달성군 유가읍 휴양림길 440-27\n",
      "<selenium.webdriver.remote.webelement.WebElement (session=\"eb4303251896a4efd8f67a9c7c768b5c\", element=\"221CADEA2304A0FA12C7B8805178E8BF_element_265\")>\n"
     ]
    },
    {
     "name": "stderr",
     "output_type": "stream",
     "text": [
      "\n",
      " 50%|█████████████████████████████████████████▌                                         | 5/10 [00:24<00:27,  5.57s/it]\u001b[A"
     ]
    },
    {
     "name": "stdout",
     "output_type": "stream",
     "text": [
      "포레밀 NaN 대구 달성군 유가읍 휴양림길 481 포레밀\n",
      "<selenium.webdriver.remote.webelement.WebElement (session=\"eb4303251896a4efd8f67a9c7c768b5c\", element=\"221CADEA2304A0FA12C7B8805178E8BF_element_302\")>\n"
     ]
    },
    {
     "name": "stderr",
     "output_type": "stream",
     "text": [
      "\n",
      " 60%|█████████████████████████████████████████████████▊                                 | 6/10 [00:31<00:24,  6.10s/it]\u001b[A"
     ]
    },
    {
     "name": "stdout",
     "output_type": "stream",
     "text": [
      "마루스테이 NaN 대구 달성군 유가읍 유가사길 87 마루스테이\n",
      "<selenium.webdriver.remote.webelement.WebElement (session=\"eb4303251896a4efd8f67a9c7c768b5c\", element=\"221CADEA2304A0FA12C7B8805178E8BF_element_331\")>\n"
     ]
    },
    {
     "name": "stderr",
     "output_type": "stream",
     "text": [
      "\n",
      " 70%|██████████████████████████████████████████████████████████                         | 7/10 [00:39<00:19,  6.46s/it]\u001b[A"
     ]
    },
    {
     "name": "stdout",
     "output_type": "stream",
     "text": [
      "롤링핀 비슬산점 NaN 대구 달성군 유가읍 휴양림길 439\n",
      "<selenium.webdriver.remote.webelement.WebElement (session=\"eb4303251896a4efd8f67a9c7c768b5c\", element=\"221CADEA2304A0FA12C7B8805178E8BF_element_336\")>\n"
     ]
    },
    {
     "name": "stderr",
     "output_type": "stream",
     "text": [
      "\n",
      " 80%|██████████████████████████████████████████████████████████████████▍                | 8/10 [00:41<00:10,  5.17s/it]\u001b[A"
     ]
    },
    {
     "name": "stdout",
     "output_type": "stream",
     "text": [
      "유가사만물식당 4.06 대구 달성군 유가읍 유가사2길 14\n"
     ]
    },
    {
     "name": "stderr",
     "output_type": "stream",
     "text": [
      "\n",
      " 90%|██████████████████████████████████████████████████████████████████████████▋        | 9/10 [00:43<00:04,  4.22s/it]\u001b[A"
     ]
    },
    {
     "name": "stdout",
     "output_type": "stream",
     "text": [
      "<selenium.webdriver.remote.webelement.WebElement (session=\"eb4303251896a4efd8f67a9c7c768b5c\", element=\"221CADEA2304A0FA12C7B8805178E8BF_element_407\")>\n",
      "산수정 4.31 대구 달성군 유가읍 유가사길 65\n",
      "<selenium.webdriver.remote.webelement.WebElement (session=\"eb4303251896a4efd8f67a9c7c768b5c\", element=\"221CADEA2304A0FA12C7B8805178E8BF_element_435\")>\n"
     ]
    },
    {
     "name": "stderr",
     "output_type": "stream",
     "text": [
      "\n",
      "100%|██████████████████████████████████████████████████████████████████████████████████| 10/10 [00:50<00:00,  5.08s/it]\u001b[A"
     ]
    },
    {
     "name": "stdout",
     "output_type": "stream",
     "text": [
      "와우산성 NaN 대구 달성군 유가읍 유가사1길 37\n"
     ]
    },
    {
     "name": "stderr",
     "output_type": "stream",
     "text": [
      "\n",
      " 73%|█████████████████████████████████████████████████████████▏                    | 220/300 [1:31:37<43:25, 32.56s/it]"
     ]
    },
    {
     "name": "stdout",
     "output_type": "stream",
     "text": [
      "금강로스구이 종로점\n",
      "끝돈 대구종로점\n",
      "팔공산 엄마밥상 침산점\n",
      "걸리버막창\n",
      "빠레뜨한남 대구 동성로점\n",
      "몽블랑드파리\n",
      "수주식당\n",
      "사석\n",
      "신라식당\n",
      "단성무이 대구고성점\n"
     ]
    },
    {
     "name": "stderr",
     "output_type": "stream",
     "text": [
      "\n",
      "  0%|                                                                                           | 0/10 [00:07<?, ?it/s]\u001b[A\n",
      " 74%|█████████████████████████████████████████████████████████▍                    | 221/300 [1:31:54<36:47, 27.94s/it]"
     ]
    },
    {
     "name": "stdout",
     "output_type": "stream",
     "text": [
      "청밭추어탕 만촌점\n",
      "공원실비식당\n",
      "커피바람\n",
      "솔밭생수식당\n"
     ]
    },
    {
     "name": "stderr",
     "output_type": "stream",
     "text": [
      "\n",
      "  0%|                                                                                            | 0/4 [00:00<?, ?it/s]\u001b[A"
     ]
    },
    {
     "name": "stdout",
     "output_type": "stream",
     "text": [
      "<selenium.webdriver.remote.webelement.WebElement (session=\"4ef1d13d45059d31bc6bd288cf246b20\", element=\"AF10954FD55B7ABFE7104D4F2B1E5B4A_element_93\")>\n"
     ]
    },
    {
     "name": "stderr",
     "output_type": "stream",
     "text": [
      "\n",
      " 25%|█████████████████████                                                               | 1/4 [00:11<00:33, 11.28s/it]\u001b[A"
     ]
    },
    {
     "name": "stdout",
     "output_type": "stream",
     "text": [
      "청밭추어탕 만촌점 NaN 대구 수성구 만촌로 142 1층(만촌동)\n",
      "<selenium.webdriver.remote.webelement.WebElement (session=\"4ef1d13d45059d31bc6bd288cf246b20\", element=\"AF10954FD55B7ABFE7104D4F2B1E5B4A_element_122\")>\n"
     ]
    },
    {
     "name": "stderr",
     "output_type": "stream",
     "text": [
      "\n",
      " 50%|██████████████████████████████████████████                                          | 2/4 [00:18<00:17,  8.86s/it]\u001b[A"
     ]
    },
    {
     "name": "stdout",
     "output_type": "stream",
     "text": [
      "공원실비식당 NaN 대구 수성구 파동로14길 8\n"
     ]
    },
    {
     "name": "stderr",
     "output_type": "stream",
     "text": [
      "\n",
      " 75%|███████████████████████████████████████████████████████████████                     | 3/4 [00:20<00:05,  5.78s/it]\u001b[A"
     ]
    },
    {
     "name": "stdout",
     "output_type": "stream",
     "text": [
      "<selenium.webdriver.remote.webelement.WebElement (session=\"4ef1d13d45059d31bc6bd288cf246b20\", element=\"AF10954FD55B7ABFE7104D4F2B1E5B4A_element_163\")>\n",
      "커피바람 4.55 대구 수성구 팔현길 209-35 1층\n"
     ]
    },
    {
     "name": "stderr",
     "output_type": "stream",
     "text": [
      "\n",
      "100%|████████████████████████████████████████████████████████████████████████████████████| 4/4 [00:22<00:00,  5.68s/it]\u001b[A"
     ]
    },
    {
     "name": "stdout",
     "output_type": "stream",
     "text": [
      "<selenium.webdriver.remote.webelement.WebElement (session=\"4ef1d13d45059d31bc6bd288cf246b20\", element=\"AF10954FD55B7ABFE7104D4F2B1E5B4A_element_199\")>\n",
      "솔밭생수식당 4.6 대구 수성구 들안로 93-1 1층~2층\n"
     ]
    },
    {
     "name": "stderr",
     "output_type": "stream",
     "text": [
      "\n",
      " 74%|█████████████████████████████████████████████████████████▋                    | 222/300 [1:32:30<39:23, 30.30s/it]\n",
      "0it [00:00, ?it/s]\u001b[A\n",
      " 74%|█████████████████████████████████████████████████████████▉                    | 223/300 [1:32:45<33:08, 25.82s/it]"
     ]
    },
    {
     "name": "stdout",
     "output_type": "stream",
     "text": [
      "스트로우베이지\n",
      "GRIFFIN\n",
      "그라운드페퍼\n"
     ]
    },
    {
     "name": "stderr",
     "output_type": "stream",
     "text": [
      "\n",
      "  0%|                                                                                            | 0/3 [00:00<?, ?it/s]\u001b[A"
     ]
    },
    {
     "name": "stdout",
     "output_type": "stream",
     "text": [
      "<selenium.webdriver.remote.webelement.WebElement (session=\"4927224c1fc875f3ccc1bcee1026ac24\", element=\"28F4067E1A6027D6D4690753C1ACFA63_element_97\")>\n"
     ]
    },
    {
     "name": "stderr",
     "output_type": "stream",
     "text": [
      "\n",
      " 33%|████████████████████████████                                                        | 1/3 [00:11<00:22, 11.28s/it]\u001b[A"
     ]
    },
    {
     "name": "stdout",
     "output_type": "stream",
     "text": [
      "스트로우베이지 NaN 대구 남구 두류공원로17길 89 1층\n"
     ]
    },
    {
     "name": "stderr",
     "output_type": "stream",
     "text": [
      "\n",
      " 67%|████████████████████████████████████████████████████████                            | 2/3 [00:13<00:05,  5.88s/it]\u001b[A"
     ]
    },
    {
     "name": "stdout",
     "output_type": "stream",
     "text": [
      "<selenium.webdriver.remote.webelement.WebElement (session=\"4927224c1fc875f3ccc1bcee1026ac24\", element=\"28F4067E1A6027D6D4690753C1ACFA63_element_137\")>\n",
      "GRIFFIN 4.31 대구 남구 두류공원로 73\n"
     ]
    },
    {
     "name": "stderr",
     "output_type": "stream",
     "text": [
      "\n",
      "100%|████████████████████████████████████████████████████████████████████████████████████| 3/3 [00:15<00:00,  5.18s/it]\u001b[A"
     ]
    },
    {
     "name": "stdout",
     "output_type": "stream",
     "text": [
      "<selenium.webdriver.remote.webelement.WebElement (session=\"4927224c1fc875f3ccc1bcee1026ac24\", element=\"28F4067E1A6027D6D4690753C1ACFA63_element_177\")>\n",
      "그라운드페퍼 4.85 대구 남구 두류공원로 87-2 2층\n"
     ]
    },
    {
     "name": "stderr",
     "output_type": "stream",
     "text": [
      "\n",
      " 75%|██████████████████████████████████████████████████████████▏                   | 224/300 [1:33:15<34:13, 27.02s/it]\n",
      "0it [00:00, ?it/s]\u001b[A\n",
      " 75%|██████████████████████████████████████████████████████████▌                   | 225/300 [1:33:29<28:52, 23.10s/it]"
     ]
    },
    {
     "name": "stdout",
     "output_type": "stream",
     "text": [
      "삼산회관 속초엑스포점\n"
     ]
    },
    {
     "name": "stderr",
     "output_type": "stream",
     "text": [
      "\n",
      "  0%|                                                                                            | 0/1 [00:00<?, ?it/s]\u001b[A"
     ]
    },
    {
     "name": "stdout",
     "output_type": "stream",
     "text": [
      "<selenium.webdriver.remote.webelement.WebElement (session=\"5b5f12ae3dbced366703a24542fb8373\", element=\"3DAA0B915D074C0828EB7E113EB5D774_element_81\")>\n"
     ]
    },
    {
     "name": "stderr",
     "output_type": "stream",
     "text": [
      "\n",
      "100%|████████████████████████████████████████████████████████████████████████████████████| 1/1 [00:11<00:00, 11.26s/it]\u001b[A"
     ]
    },
    {
     "name": "stdout",
     "output_type": "stream",
     "text": [
      "삼산회관 속초엑스포점 NaN 강원 속초시 엑스포로1길 21 1층\n"
     ]
    },
    {
     "name": "stderr",
     "output_type": "stream",
     "text": [
      "\n",
      " 75%|██████████████████████████████████████████████████████████▊                   | 226/300 [1:33:52<28:31, 23.13s/it]\n",
      "0it [00:00, ?it/s]\u001b[A\n",
      " 76%|███████████████████████████████████████████████████████████                   | 227/300 [1:34:07<25:00, 20.56s/it]\n",
      "0it [00:00, ?it/s]\u001b[A\n",
      " 76%|███████████████████████████████████████████████████████████▎                  | 228/300 [1:34:24<23:23, 19.49s/it]"
     ]
    },
    {
     "name": "stdout",
     "output_type": "stream",
     "text": [
      "빠레뜨한남 대구 동성로점\n",
      "몽블랑드파리\n",
      "신라식당\n",
      "히야\n",
      "동아식당\n",
      "무하노뎅\n",
      "바스코 동성로본점\n",
      "전원돈까스\n",
      "카페 루시드\n",
      "군위식당\n"
     ]
    },
    {
     "name": "stderr",
     "output_type": "stream",
     "text": [
      "\n",
      "  0%|                                                                                           | 0/10 [00:00<?, ?it/s]\u001b[A"
     ]
    },
    {
     "name": "stdout",
     "output_type": "stream",
     "text": [
      "<selenium.webdriver.remote.webelement.WebElement (session=\"02d97500a7e9d7a40cb2d8be97a9d0e0\", element=\"0B742F1091FC120153105E55307BFE26_element_112\")>\n"
     ]
    },
    {
     "name": "stderr",
     "output_type": "stream",
     "text": [
      "\n",
      " 10%|████████▎                                                                          | 1/10 [00:11<01:41, 11.28s/it]\u001b[A"
     ]
    },
    {
     "name": "stdout",
     "output_type": "stream",
     "text": [
      "빠레뜨한남 대구 동성로점 NaN 대구 중구 동성로2길 58 2층 빠레뜨한남\n",
      "<selenium.webdriver.remote.webelement.WebElement (session=\"02d97500a7e9d7a40cb2d8be97a9d0e0\", element=\"0B742F1091FC120153105E55307BFE26_element_172\")>\n"
     ]
    },
    {
     "name": "stderr",
     "output_type": "stream",
     "text": [
      "\n",
      " 20%|████████████████▌                                                                  | 2/10 [00:18<01:10,  8.83s/it]\u001b[A"
     ]
    },
    {
     "name": "stdout",
     "output_type": "stream",
     "text": [
      "몽블랑드파리 NaN 대구 중구 동성로6길 21\n"
     ]
    },
    {
     "name": "stderr",
     "output_type": "stream",
     "text": [
      "\n",
      " 30%|████████████████████████▉                                                          | 3/10 [00:20<00:40,  5.78s/it]\u001b[A"
     ]
    },
    {
     "name": "stdout",
     "output_type": "stream",
     "text": [
      "<selenium.webdriver.remote.webelement.WebElement (session=\"02d97500a7e9d7a40cb2d8be97a9d0e0\", element=\"0B742F1091FC120153105E55307BFE26_element_200\")>\n",
      "신라식당 4.39 대구 중구 중앙대로 406-8\n",
      "<selenium.webdriver.remote.webelement.WebElement (session=\"02d97500a7e9d7a40cb2d8be97a9d0e0\", element=\"0B742F1091FC120153105E55307BFE26_element_243\")>\n"
     ]
    },
    {
     "name": "stderr",
     "output_type": "stream",
     "text": [
      "\n",
      " 40%|█████████████████████████████████▏                                                 | 4/10 [00:27<00:38,  6.34s/it]\u001b[A"
     ]
    },
    {
     "name": "stdout",
     "output_type": "stream",
     "text": [
      "히야 NaN 대구 중구 교동1길 30 1층\n"
     ]
    },
    {
     "name": "stderr",
     "output_type": "stream",
     "text": [
      "\n",
      " 50%|█████████████████████████████████████████▌                                         | 5/10 [00:29<00:24,  4.83s/it]\u001b[A"
     ]
    },
    {
     "name": "stdout",
     "output_type": "stream",
     "text": [
      "<selenium.webdriver.remote.webelement.WebElement (session=\"02d97500a7e9d7a40cb2d8be97a9d0e0\", element=\"0B742F1091FC120153105E55307BFE26_element_287\")>\n",
      "동아식당 4.55 대구 중구 국채보상로125길 14\n",
      "<selenium.webdriver.remote.webelement.WebElement (session=\"02d97500a7e9d7a40cb2d8be97a9d0e0\", element=\"0B742F1091FC120153105E55307BFE26_element_316\")>\n"
     ]
    },
    {
     "name": "stderr",
     "output_type": "stream",
     "text": [
      "\n",
      " 60%|█████████████████████████████████████████████████▊                                 | 6/10 [00:37<00:22,  5.61s/it]\u001b[A"
     ]
    },
    {
     "name": "stdout",
     "output_type": "stream",
     "text": [
      "무하노뎅 NaN 대구 중구 교동3길 31 1, 2층\n"
     ]
    },
    {
     "name": "stderr",
     "output_type": "stream",
     "text": [
      "\n",
      " 70%|██████████████████████████████████████████████████████████                         | 7/10 [00:39<00:13,  4.48s/it]\u001b[A"
     ]
    },
    {
     "name": "stdout",
     "output_type": "stream",
     "text": [
      "<selenium.webdriver.remote.webelement.WebElement (session=\"02d97500a7e9d7a40cb2d8be97a9d0e0\", element=\"0B742F1091FC120153105E55307BFE26_element_357\")>\n",
      "바스코 동성로본점 4.58 대구 중구 동성로4길 100 vasco\n"
     ]
    },
    {
     "name": "stderr",
     "output_type": "stream",
     "text": [
      "\n",
      " 80%|██████████████████████████████████████████████████████████████████▍                | 8/10 [00:41<00:07,  3.74s/it]\u001b[A"
     ]
    },
    {
     "name": "stdout",
     "output_type": "stream",
     "text": [
      "<selenium.webdriver.remote.webelement.WebElement (session=\"02d97500a7e9d7a40cb2d8be97a9d0e0\", element=\"0B742F1091FC120153105E55307BFE26_element_396\")>\n",
      "전원돈까스 4.48 대구 중구 동성로6길 2-23 B1F\n"
     ]
    },
    {
     "name": "stderr",
     "output_type": "stream",
     "text": [
      "\n",
      " 90%|██████████████████████████████████████████████████████████████████████████▋        | 9/10 [00:43<00:03,  3.24s/it]\u001b[A"
     ]
    },
    {
     "name": "stdout",
     "output_type": "stream",
     "text": [
      "<selenium.webdriver.remote.webelement.WebElement (session=\"02d97500a7e9d7a40cb2d8be97a9d0e0\", element=\"0B742F1091FC120153105E55307BFE26_element_423\")>\n",
      "카페 루시드 4.67 대구 중구 동성로4길 94\n"
     ]
    },
    {
     "name": "stderr",
     "output_type": "stream",
     "text": [
      "\n",
      "100%|██████████████████████████████████████████████████████████████████████████████████| 10/10 [00:45<00:00,  4.56s/it]\u001b[A"
     ]
    },
    {
     "name": "stdout",
     "output_type": "stream",
     "text": [
      "<selenium.webdriver.remote.webelement.WebElement (session=\"02d97500a7e9d7a40cb2d8be97a9d0e0\", element=\"0B742F1091FC120153105E55307BFE26_element_478\")>\n",
      "군위식당 4.3 대구 중구 경상감영길 101 중앙상가\n"
     ]
    },
    {
     "name": "stderr",
     "output_type": "stream",
     "text": [
      "\n",
      " 76%|███████████████████████████████████████████████████████████▌                  | 229/300 [1:35:22<36:58, 31.25s/it]\n",
      "0it [00:00, ?it/s]\u001b[A\n",
      " 77%|███████████████████████████████████████████████████████████▊                  | 230/300 [1:35:36<30:22, 26.04s/it]\n",
      "0it [00:00, ?it/s]\u001b[A\n",
      " 77%|████████████████████████████████████████████████████████████                  | 231/300 [1:35:53<26:51, 23.36s/it]\n",
      "0it [00:00, ?it/s]\u001b[A\n",
      " 77%|████████████████████████████████████████████████████████████▎                 | 232/300 [1:36:10<24:23, 21.53s/it]"
     ]
    },
    {
     "name": "stdout",
     "output_type": "stream",
     "text": [
      "달인의찜닭 두류점\n",
      "노가국수\n"
     ]
    },
    {
     "name": "stderr",
     "output_type": "stream",
     "text": [
      "\n",
      "  0%|                                                                                            | 0/2 [00:00<?, ?it/s]\u001b[A\n",
      " 50%|██████████████████████████████████████████                                          | 1/2 [00:06<00:06,  6.22s/it]\u001b[A"
     ]
    },
    {
     "name": "stdout",
     "output_type": "stream",
     "text": [
      "<selenium.webdriver.remote.webelement.WebElement (session=\"6856e2b284ed32bc8b479ee844502acf\", element=\"AAA50B419DDB8073DFDA9BEDACC8E395_element_85\")>\n",
      "달인의찜닭 두류점 4.33 대구 달서구 두류공원로 255-1 1층\n",
      "<selenium.webdriver.remote.webelement.WebElement (session=\"6856e2b284ed32bc8b479ee844502acf\", element=\"AAA50B419DDB8073DFDA9BEDACC8E395_element_132\")>\n"
     ]
    },
    {
     "name": "stderr",
     "output_type": "stream",
     "text": [
      "\n",
      "100%|████████████████████████████████████████████████████████████████████████████████████| 2/2 [00:13<00:00,  6.67s/it]\u001b[A"
     ]
    },
    {
     "name": "stdout",
     "output_type": "stream",
     "text": [
      "노가국수 NaN 대구 서구 국채보상로38길 3 1층 노가국수\n"
     ]
    },
    {
     "name": "stderr",
     "output_type": "stream",
     "text": [
      "\n",
      " 78%|████████████████████████████████████████████████████████████▌                 | 233/300 [1:36:36<25:20, 22.70s/it]"
     ]
    },
    {
     "name": "stdout",
     "output_type": "stream",
     "text": [
      "컴포즈커피 주촌무지개공원점\n",
      "우도찐곰탕\n"
     ]
    },
    {
     "name": "stderr",
     "output_type": "stream",
     "text": [
      "\n",
      "  0%|                                                                                            | 0/2 [00:07<?, ?it/s]\u001b[A\n",
      " 78%|████████████████████████████████████████████████████████████▊                 | 234/300 [1:36:53<22:58, 20.89s/it]\n",
      "0it [00:00, ?it/s]\u001b[A\n",
      " 78%|█████████████████████████████████████████████████████████████                 | 235/300 [1:37:07<20:23, 18.83s/it]"
     ]
    },
    {
     "name": "stdout",
     "output_type": "stream",
     "text": [
      "하양끝집 대봉점\n",
      "로바타고요\n",
      "대봉집 컴퍼니\n",
      "오가닉모가\n",
      "구공회\n",
      "아폴로식당\n",
      "덕일생고기 대봉점\n",
      "동근막창\n",
      "무화\n",
      "봉자막창 대구대봉점\n"
     ]
    },
    {
     "name": "stderr",
     "output_type": "stream",
     "text": [
      "\n",
      "  0%|                                                                                           | 0/10 [00:00<?, ?it/s]\u001b[A"
     ]
    },
    {
     "name": "stdout",
     "output_type": "stream",
     "text": [
      "<selenium.webdriver.remote.webelement.WebElement (session=\"ae80a3d52beb6ee332997679da78429e\", element=\"BB0174BEB4BDFBDE6826C97BC746829D_element_116\")>\n"
     ]
    },
    {
     "name": "stderr",
     "output_type": "stream",
     "text": [
      "\n",
      " 10%|████████▎                                                                          | 1/10 [00:11<01:41, 11.23s/it]\u001b[A"
     ]
    },
    {
     "name": "stdout",
     "output_type": "stream",
     "text": [
      "하양끝집 대봉점 NaN 대구 중구 대봉로 214 1층\n",
      "<selenium.webdriver.remote.webelement.WebElement (session=\"ae80a3d52beb6ee332997679da78429e\", element=\"BB0174BEB4BDFBDE6826C97BC746829D_element_171\")>\n"
     ]
    },
    {
     "name": "stderr",
     "output_type": "stream",
     "text": [
      "\n",
      " 20%|████████████████▌                                                                  | 2/10 [00:18<01:10,  8.82s/it]\u001b[A"
     ]
    },
    {
     "name": "stdout",
     "output_type": "stream",
     "text": [
      "로바타고요 NaN 대구 중구 동덕로 48-10 1층\n"
     ]
    },
    {
     "name": "stderr",
     "output_type": "stream",
     "text": [
      "\n",
      " 30%|████████████████████████▉                                                          | 3/10 [00:20<00:40,  5.78s/it]\u001b[A"
     ]
    },
    {
     "name": "stdout",
     "output_type": "stream",
     "text": [
      "<selenium.webdriver.remote.webelement.WebElement (session=\"ae80a3d52beb6ee332997679da78429e\", element=\"BB0174BEB4BDFBDE6826C97BC746829D_element_198\")>\n",
      "대봉집 컴퍼니 4.79 대구 중구 대봉로 204-1\n"
     ]
    },
    {
     "name": "stderr",
     "output_type": "stream",
     "text": [
      "\n",
      " 40%|█████████████████████████████████▏                                                 | 4/10 [00:22<00:26,  4.35s/it]\u001b[A"
     ]
    },
    {
     "name": "stdout",
     "output_type": "stream",
     "text": [
      "<selenium.webdriver.remote.webelement.WebElement (session=\"ae80a3d52beb6ee332997679da78429e\", element=\"BB0174BEB4BDFBDE6826C97BC746829D_element_228\")>\n",
      "오가닉모가 4.66 대구 중구 동덕로 48-5 오가닉모가\n",
      "<selenium.webdriver.remote.webelement.WebElement (session=\"ae80a3d52beb6ee332997679da78429e\", element=\"BB0174BEB4BDFBDE6826C97BC746829D_element_256\")>\n"
     ]
    },
    {
     "name": "stderr",
     "output_type": "stream",
     "text": [
      "\n",
      " 50%|█████████████████████████████████████████▌                                         | 5/10 [00:29<00:26,  5.37s/it]\u001b[A"
     ]
    },
    {
     "name": "stdout",
     "output_type": "stream",
     "text": [
      "구공회 NaN 대구 중구 대봉로 220-27\n"
     ]
    },
    {
     "name": "stderr",
     "output_type": "stream",
     "text": [
      "\n",
      " 60%|█████████████████████████████████████████████████▊                                 | 6/10 [00:31<00:17,  4.27s/it]\u001b[A"
     ]
    },
    {
     "name": "stdout",
     "output_type": "stream",
     "text": [
      "<selenium.webdriver.remote.webelement.WebElement (session=\"ae80a3d52beb6ee332997679da78429e\", element=\"BB0174BEB4BDFBDE6826C97BC746829D_element_295\")>\n",
      "아폴로식당 4.78 대구 중구 대봉로 225 아폴로식당\n",
      "<selenium.webdriver.remote.webelement.WebElement (session=\"ae80a3d52beb6ee332997679da78429e\", element=\"BB0174BEB4BDFBDE6826C97BC746829D_element_324\")>\n"
     ]
    },
    {
     "name": "stderr",
     "output_type": "stream",
     "text": [
      "\n",
      " 70%|██████████████████████████████████████████████████████████                         | 7/10 [00:39<00:15,  5.22s/it]\u001b[A"
     ]
    },
    {
     "name": "stdout",
     "output_type": "stream",
     "text": [
      "덕일생고기 대봉점 NaN 대구 중구 대봉로 220-1\n",
      "<selenium.webdriver.remote.webelement.WebElement (session=\"ae80a3d52beb6ee332997679da78429e\", element=\"BB0174BEB4BDFBDE6826C97BC746829D_element_372\")>\n"
     ]
    },
    {
     "name": "stderr",
     "output_type": "stream",
     "text": [
      "\n",
      " 80%|██████████████████████████████████████████████████████████████████▍                | 8/10 [00:46<00:11,  5.86s/it]\u001b[A"
     ]
    },
    {
     "name": "stdout",
     "output_type": "stream",
     "text": [
      "동근막창 NaN 대구 중구 대봉로 236 1층 동근막창 본점\n"
     ]
    },
    {
     "name": "stderr",
     "output_type": "stream",
     "text": [
      "\n",
      " 90%|██████████████████████████████████████████████████████████████████████████▋        | 9/10 [00:48<00:04,  4.70s/it]\u001b[A"
     ]
    },
    {
     "name": "stdout",
     "output_type": "stream",
     "text": [
      "<selenium.webdriver.remote.webelement.WebElement (session=\"ae80a3d52beb6ee332997679da78429e\", element=\"BB0174BEB4BDFBDE6826C97BC746829D_element_415\")>\n",
      "무화 4.97 대구 중구 대봉로 207-1\n",
      "<selenium.webdriver.remote.webelement.WebElement (session=\"ae80a3d52beb6ee332997679da78429e\", element=\"BB0174BEB4BDFBDE6826C97BC746829D_element_447\")>\n"
     ]
    },
    {
     "name": "stderr",
     "output_type": "stream",
     "text": [
      "\n",
      "100%|██████████████████████████████████████████████████████████████████████████████████| 10/10 [00:55<00:00,  5.58s/it]\u001b[A"
     ]
    },
    {
     "name": "stdout",
     "output_type": "stream",
     "text": [
      "봉자막창 대구대봉점 NaN 대구 중구 대봉로 221-1 지상1층\n"
     ]
    },
    {
     "name": "stderr",
     "output_type": "stream",
     "text": [
      "\n",
      " 79%|█████████████████████████████████████████████████████████████▎                | 236/300 [1:38:19<37:05, 34.77s/it]\n",
      "0it [00:00, ?it/s]\u001b[A\n",
      " 79%|█████████████████████████████████████████████████████████████▌                | 237/300 [1:38:33<30:01, 28.60s/it]\n",
      "0it [00:00, ?it/s]\u001b[A\n",
      " 79%|█████████████████████████████████████████████████████████████▉                | 238/300 [1:38:50<25:56, 25.10s/it]"
     ]
    },
    {
     "name": "stdout",
     "output_type": "stream",
     "text": [
      "무성생삼겹브라더스\n",
      "플란트\n",
      "현짬뽕\n",
      "조조칼국수 앞산점\n",
      "앞산 큰골집 본점\n",
      "고바카츠\n",
      "브리에브레드\n",
      "크래프터\n",
      "아눅 앞산\n",
      "레오차우\n"
     ]
    },
    {
     "name": "stderr",
     "output_type": "stream",
     "text": [
      "\n",
      "  0%|                                                                                           | 0/10 [00:00<?, ?it/s]\u001b[A\n",
      " 10%|████████▎                                                                          | 1/10 [00:06<00:56,  6.23s/it]\u001b[A"
     ]
    },
    {
     "name": "stdout",
     "output_type": "stream",
     "text": [
      "<selenium.webdriver.remote.webelement.WebElement (session=\"dcae8bef2302ef80c7da5d673407a44e\", element=\"4585EE80923C84FABA800291DECA7D84_element_133\")>\n",
      "무성생삼겹브라더스 4.72 대구 남구 두류공원로 30-2\n",
      "<selenium.webdriver.remote.webelement.WebElement (session=\"dcae8bef2302ef80c7da5d673407a44e\", element=\"4585EE80923C84FABA800291DECA7D84_element_144\")>\n"
     ]
    },
    {
     "name": "stderr",
     "output_type": "stream",
     "text": [
      "\n",
      " 20%|████████████████▌                                                                  | 2/10 [00:13<00:53,  6.75s/it]\u001b[A"
     ]
    },
    {
     "name": "stdout",
     "output_type": "stream",
     "text": [
      "플란트 NaN 대구 남구 현충로7길 13-1 플란트\n"
     ]
    },
    {
     "name": "stderr",
     "output_type": "stream",
     "text": [
      "\n",
      " 30%|████████████████████████▉                                                          | 3/10 [00:15<00:32,  4.68s/it]\u001b[A"
     ]
    },
    {
     "name": "stdout",
     "output_type": "stream",
     "text": [
      "<selenium.webdriver.remote.webelement.WebElement (session=\"dcae8bef2302ef80c7da5d673407a44e\", element=\"4585EE80923C84FABA800291DECA7D84_element_204\")>\n",
      "현짬뽕 4.55 대구 남구 대봉로 89\n"
     ]
    },
    {
     "name": "stderr",
     "output_type": "stream",
     "text": [
      "\n",
      " 40%|█████████████████████████████████▏                                                 | 4/10 [00:17<00:22,  3.70s/it]\u001b[A"
     ]
    },
    {
     "name": "stdout",
     "output_type": "stream",
     "text": [
      "<selenium.webdriver.remote.webelement.WebElement (session=\"dcae8bef2302ef80c7da5d673407a44e\", element=\"4585EE80923C84FABA800291DECA7D84_element_227\")>\n",
      "조조칼국수 앞산점 4.53 대구 남구 현충로15길 13-1\n"
     ]
    },
    {
     "name": "stderr",
     "output_type": "stream",
     "text": [
      "\n",
      " 50%|█████████████████████████████████████████▌                                         | 5/10 [00:19<00:15,  3.15s/it]\u001b[A"
     ]
    },
    {
     "name": "stdout",
     "output_type": "stream",
     "text": [
      "<selenium.webdriver.remote.webelement.WebElement (session=\"dcae8bef2302ef80c7da5d673407a44e\", element=\"4585EE80923C84FABA800291DECA7D84_element_273\")>\n",
      "앞산 큰골집 본점 4.75 대구 남구 큰골길 35 앞산큰골집\n",
      "<selenium.webdriver.remote.webelement.WebElement (session=\"dcae8bef2302ef80c7da5d673407a44e\", element=\"4585EE80923C84FABA800291DECA7D84_element_324\")>\n"
     ]
    },
    {
     "name": "stderr",
     "output_type": "stream",
     "text": [
      "\n",
      " 60%|█████████████████████████████████████████████████▊                                 | 6/10 [00:27<00:18,  4.53s/it]\u001b[A"
     ]
    },
    {
     "name": "stdout",
     "output_type": "stream",
     "text": [
      "고바카츠 NaN 대구 남구 현충로 41-1 1층\n",
      "<selenium.webdriver.remote.webelement.WebElement (session=\"dcae8bef2302ef80c7da5d673407a44e\", element=\"4585EE80923C84FABA800291DECA7D84_element_366\")>\n"
     ]
    },
    {
     "name": "stderr",
     "output_type": "stream",
     "text": [
      "\n",
      " 70%|██████████████████████████████████████████████████████████                         | 7/10 [00:34<00:16,  5.46s/it]\u001b[A"
     ]
    },
    {
     "name": "stdout",
     "output_type": "stream",
     "text": [
      "브리에브레드 NaN 대구 남구 현충로7길 7 1층\n"
     ]
    },
    {
     "name": "stderr",
     "output_type": "stream",
     "text": [
      "\n",
      " 80%|██████████████████████████████████████████████████████████████████▍                | 8/10 [00:36<00:08,  4.41s/it]\u001b[A"
     ]
    },
    {
     "name": "stdout",
     "output_type": "stream",
     "text": [
      "<selenium.webdriver.remote.webelement.WebElement (session=\"dcae8bef2302ef80c7da5d673407a44e\", element=\"4585EE80923C84FABA800291DECA7D84_element_386\")>\n",
      "크래프터 4.53 대구 남구 현충로 41-3\n"
     ]
    },
    {
     "name": "stderr",
     "output_type": "stream",
     "text": [
      "\n",
      " 90%|██████████████████████████████████████████████████████████████████████████▋        | 9/10 [00:38<00:03,  3.71s/it]\u001b[A"
     ]
    },
    {
     "name": "stdout",
     "output_type": "stream",
     "text": [
      "<selenium.webdriver.remote.webelement.WebElement (session=\"dcae8bef2302ef80c7da5d673407a44e\", element=\"4585EE80923C84FABA800291DECA7D84_element_469\")>\n",
      "아눅 앞산 4.51 대구 남구 앞산순환로 459 아눅 앞산\n"
     ]
    },
    {
     "name": "stderr",
     "output_type": "stream",
     "text": [
      "\n",
      "100%|██████████████████████████████████████████████████████████████████████████████████| 10/10 [00:41<00:00,  4.10s/it]\u001b[A"
     ]
    },
    {
     "name": "stdout",
     "output_type": "stream",
     "text": [
      "<selenium.webdriver.remote.webelement.WebElement (session=\"dcae8bef2302ef80c7da5d673407a44e\", element=\"4585EE80923C84FABA800291DECA7D84_element_493\")>\n",
      "레오차우 4.61 대구 남구 큰골길 46\n"
     ]
    },
    {
     "name": "stderr",
     "output_type": "stream",
     "text": [
      "\n",
      " 80%|██████████████████████████████████████████████████████████████▏               | 239/300 [1:39:43<34:07, 33.56s/it]\n",
      "0it [00:00, ?it/s]\u001b[A\n",
      " 80%|██████████████████████████████████████████████████████████████▍               | 240/300 [1:39:58<28:04, 28.07s/it]\n",
      "0it [00:00, ?it/s]\u001b[A\n",
      " 80%|██████████████████████████████████████████████████████████████▋               | 241/300 [1:40:16<24:39, 25.07s/it]"
     ]
    },
    {
     "name": "stdout",
     "output_type": "stream",
     "text": [
      "카페기브온\n",
      "호야네식당\n",
      "카페 보물350\n",
      "도동리138\n",
      "카페D.D.R.628\n",
      "개경포주막\n",
      "삼성식당\n",
      "대천식육식당\n",
      "나루터식당\n"
     ]
    },
    {
     "name": "stderr",
     "output_type": "stream",
     "text": [
      "\n",
      "  0%|                                                                                            | 0/9 [00:00<?, ?it/s]\u001b[A\n",
      " 11%|█████████▎                                                                          | 1/9 [00:06<00:49,  6.22s/it]\u001b[A"
     ]
    },
    {
     "name": "stdout",
     "output_type": "stream",
     "text": [
      "<selenium.webdriver.remote.webelement.WebElement (session=\"59339492052bd08b72ec1a40c2340d59\", element=\"BBAB6F1EB48B832EB91ED7BB45714C74_element_111\")>\n",
      "카페기브온 4.36 대구 달성군 구지면 구지서로 678-13 카페기브온\n"
     ]
    },
    {
     "name": "stderr",
     "output_type": "stream",
     "text": [
      "\n",
      " 22%|██████████████████▋                                                                 | 2/9 [00:08<00:26,  3.80s/it]\u001b[A"
     ]
    },
    {
     "name": "stdout",
     "output_type": "stream",
     "text": [
      "<selenium.webdriver.remote.webelement.WebElement (session=\"59339492052bd08b72ec1a40c2340d59\", element=\"BBAB6F1EB48B832EB91ED7BB45714C74_element_168\")>\n",
      "호야네식당 4.66 대구 달성군 구지면 구지서로 440\n",
      "<selenium.webdriver.remote.webelement.WebElement (session=\"59339492052bd08b72ec1a40c2340d59\", element=\"BBAB6F1EB48B832EB91ED7BB45714C74_element_197\")>\n"
     ]
    },
    {
     "name": "stderr",
     "output_type": "stream",
     "text": [
      "\n",
      " 33%|████████████████████████████                                                        | 3/9 [00:15<00:32,  5.33s/it]\u001b[A"
     ]
    },
    {
     "name": "stdout",
     "output_type": "stream",
     "text": [
      "카페 보물350 NaN 대구 달성군 구지면 구지서로 710-2 1층\n",
      "<selenium.webdriver.remote.webelement.WebElement (session=\"59339492052bd08b72ec1a40c2340d59\", element=\"BBAB6F1EB48B832EB91ED7BB45714C74_element_253\")>\n"
     ]
    },
    {
     "name": "stderr",
     "output_type": "stream",
     "text": [
      "\n",
      " 44%|█████████████████████████████████████▎                                              | 4/9 [00:22<00:30,  6.05s/it]\u001b[A"
     ]
    },
    {
     "name": "stdout",
     "output_type": "stream",
     "text": [
      "도동리138 NaN 대구 달성군 구지면 구지서로 630\n",
      "<selenium.webdriver.remote.webelement.WebElement (session=\"59339492052bd08b72ec1a40c2340d59\", element=\"BBAB6F1EB48B832EB91ED7BB45714C74_element_267\")>\n"
     ]
    },
    {
     "name": "stderr",
     "output_type": "stream",
     "text": [
      "\n",
      " 56%|██████████████████████████████████████████████▋                                     | 5/9 [00:29<00:25,  6.45s/it]\u001b[A"
     ]
    },
    {
     "name": "stdout",
     "output_type": "stream",
     "text": [
      "카페D.D.R.628 NaN 대구 달성군 구지면 구지서로 630\n",
      "<selenium.webdriver.remote.webelement.WebElement (session=\"59339492052bd08b72ec1a40c2340d59\", element=\"BBAB6F1EB48B832EB91ED7BB45714C74_element_281\")>\n"
     ]
    },
    {
     "name": "stderr",
     "output_type": "stream",
     "text": [
      "\n",
      " 67%|████████████████████████████████████████████████████████                            | 6/9 [00:36<00:20,  6.69s/it]\u001b[A"
     ]
    },
    {
     "name": "stdout",
     "output_type": "stream",
     "text": [
      "개경포주막 NaN 경북 고령군 개진면 개경포로 681\n",
      "<selenium.webdriver.remote.webelement.WebElement (session=\"59339492052bd08b72ec1a40c2340d59\", element=\"BBAB6F1EB48B832EB91ED7BB45714C74_element_288\")>\n"
     ]
    },
    {
     "name": "stderr",
     "output_type": "stream",
     "text": [
      "\n",
      " 78%|█████████████████████████████████████████████████████████████████▎                  | 7/9 [00:44<00:13,  6.85s/it]\u001b[A"
     ]
    },
    {
     "name": "stdout",
     "output_type": "stream",
     "text": [
      "삼성식당 NaN 경북 고령군 개진면 개경포로 963\n",
      "<selenium.webdriver.remote.webelement.WebElement (session=\"59339492052bd08b72ec1a40c2340d59\", element=\"BBAB6F1EB48B832EB91ED7BB45714C74_element_300\")>\n"
     ]
    },
    {
     "name": "stderr",
     "output_type": "stream",
     "text": [
      "\n",
      " 89%|██████████████████████████████████████████████████████████████████████████▋         | 8/9 [00:51<00:06,  6.95s/it]\u001b[A"
     ]
    },
    {
     "name": "stdout",
     "output_type": "stream",
     "text": [
      "대천식육식당 NaN 경북 고령군 개진면 개경포로 961\n",
      "<selenium.webdriver.remote.webelement.WebElement (session=\"59339492052bd08b72ec1a40c2340d59\", element=\"BBAB6F1EB48B832EB91ED7BB45714C74_element_316\")>\n"
     ]
    },
    {
     "name": "stderr",
     "output_type": "stream",
     "text": [
      "\n",
      "100%|████████████████████████████████████████████████████████████████████████████████████| 9/9 [00:58<00:00,  6.50s/it]\u001b[A"
     ]
    },
    {
     "name": "stdout",
     "output_type": "stream",
     "text": [
      "나루터식당 NaN 경북 고령군 개진면 개경포로 610\n"
     ]
    },
    {
     "name": "stderr",
     "output_type": "stream",
     "text": [
      "\n",
      " 81%|██████████████████████████████████████████████████████████████▉               | 242/300 [1:41:27<37:25, 38.72s/it]\n",
      "0it [00:00, ?it/s]\u001b[A\n",
      " 81%|███████████████████████████████████████████████████████████████▏              | 243/300 [1:41:41<29:48, 31.37s/it]"
     ]
    },
    {
     "name": "stdout",
     "output_type": "stream",
     "text": [
      "화본마을마중\n"
     ]
    },
    {
     "name": "stderr",
     "output_type": "stream",
     "text": [
      "\n",
      "  0%|                                                                                            | 0/1 [00:00<?, ?it/s]\u001b[A"
     ]
    },
    {
     "name": "stdout",
     "output_type": "stream",
     "text": [
      "<selenium.webdriver.remote.webelement.WebElement (session=\"aa5a689b8a65c5261049a1858fd7d635\", element=\"B9B0C2625A326B8D65815EC241330BCF_element_79\")>\n"
     ]
    },
    {
     "name": "stderr",
     "output_type": "stream",
     "text": [
      "\n",
      "100%|████████████████████████████████████████████████████████████████████████████████████| 1/1 [00:11<00:00, 11.22s/it]\u001b[A"
     ]
    },
    {
     "name": "stdout",
     "output_type": "stream",
     "text": [
      "화본마을마중 NaN 대구 군위군 산성면 산성가음로 694 화본마을마중\n"
     ]
    },
    {
     "name": "stderr",
     "output_type": "stream",
     "text": [
      "\n",
      " 81%|███████████████████████████████████████████████████████████████▍              | 244/300 [1:42:04<26:59, 28.93s/it]"
     ]
    },
    {
     "name": "stdout",
     "output_type": "stream",
     "text": [
      "홍바짬뽕\n",
      "원조 부자손짜장 송포동본점\n",
      "할라 갈치왕\n",
      "삼천포맛집정서방\n",
      "300도씨해물갈비 사천점\n",
      "사천카스테라 삼천포점\n",
      "양명\n",
      "부자손짜장 본점\n",
      "생텀커피 삼천포점\n",
      "갤러리&카페 라안\n"
     ]
    },
    {
     "name": "stderr",
     "output_type": "stream",
     "text": [
      "\n",
      "  0%|                                                                                           | 0/10 [00:07<?, ?it/s]\u001b[A\n",
      " 82%|███████████████████████████████████████████████████████████████▋              | 245/300 [1:42:23<23:38, 25.80s/it]"
     ]
    },
    {
     "name": "stdout",
     "output_type": "stream",
     "text": [
      "일막이곱 선산곱창\n",
      "녹야원 대구칠곡 3지구점\n",
      "삼거리회타운\n",
      "단성무이 칠곡점\n",
      "하늘미가 칠곡\n",
      "소소래\n",
      "이상근의삼거리오징어회타운\n",
      "꽃돼지식당 칠곡3지구점\n",
      "포도도 칠곡3지구점\n",
      "큰마루팔봉\n"
     ]
    },
    {
     "name": "stderr",
     "output_type": "stream",
     "text": [
      "\n",
      "  0%|                                                                                           | 0/10 [00:00<?, ?it/s]\u001b[A\n",
      " 10%|████████▎                                                                          | 1/10 [00:06<00:56,  6.24s/it]\u001b[A"
     ]
    },
    {
     "name": "stdout",
     "output_type": "stream",
     "text": [
      "<selenium.webdriver.remote.webelement.WebElement (session=\"edd44f4efc53f4af269531496ff8be50\", element=\"489E42B10A4808FE18A8560D3815A241_element_94\")>\n",
      "일막이곱 선산곱창 4.73 대구 북구 구암로65길 2 1층 일막이곱 선산곱창\n"
     ]
    },
    {
     "name": "stderr",
     "output_type": "stream",
     "text": [
      "\n",
      " 20%|████████████████▌                                                                  | 2/10 [00:08<00:30,  3.81s/it]\u001b[A"
     ]
    },
    {
     "name": "stdout",
     "output_type": "stream",
     "text": [
      "<selenium.webdriver.remote.webelement.WebElement (session=\"edd44f4efc53f4af269531496ff8be50\", element=\"489E42B10A4808FE18A8560D3815A241_element_157\")>\n",
      "녹야원 대구칠곡 3지구점 4.7 대구 북구 동암로 128-10 3층 녹야원\n"
     ]
    },
    {
     "name": "stderr",
     "output_type": "stream",
     "text": [
      "\n",
      " 30%|████████████████████████▉                                                          | 3/10 [00:10<00:21,  3.06s/it]\u001b[A"
     ]
    },
    {
     "name": "stdout",
     "output_type": "stream",
     "text": [
      "<selenium.webdriver.remote.webelement.WebElement (session=\"edd44f4efc53f4af269531496ff8be50\", element=\"489E42B10A4808FE18A8560D3815A241_element_164\")>\n",
      "삼거리회타운 4.7 대구 북구 구암로 280-1\n",
      "<selenium.webdriver.remote.webelement.WebElement (session=\"edd44f4efc53f4af269531496ff8be50\", element=\"489E42B10A4808FE18A8560D3815A241_element_217\")>\n"
     ]
    },
    {
     "name": "stderr",
     "output_type": "stream",
     "text": [
      "\n",
      " 40%|█████████████████████████████████▏                                                 | 4/10 [00:17<00:28,  4.69s/it]\u001b[A"
     ]
    },
    {
     "name": "stdout",
     "output_type": "stream",
     "text": [
      "단성무이 칠곡점 NaN 대구 북구 동천로 128-16 1층\n"
     ]
    },
    {
     "name": "stderr",
     "output_type": "stream",
     "text": [
      "\n",
      " 50%|█████████████████████████████████████████▌                                         | 5/10 [00:19<00:18,  3.78s/it]\u001b[A"
     ]
    },
    {
     "name": "stdout",
     "output_type": "stream",
     "text": [
      "<selenium.webdriver.remote.webelement.WebElement (session=\"edd44f4efc53f4af269531496ff8be50\", element=\"489E42B10A4808FE18A8560D3815A241_element_242\")>\n",
      "하늘미가 칠곡 4.47 대구 북구 구암로60길 5\n",
      "<selenium.webdriver.remote.webelement.WebElement (session=\"edd44f4efc53f4af269531496ff8be50\", element=\"489E42B10A4808FE18A8560D3815A241_element_285\")>\n"
     ]
    },
    {
     "name": "stderr",
     "output_type": "stream",
     "text": [
      "\n",
      " 60%|█████████████████████████████████████████████████▊                                 | 6/10 [00:27<00:19,  4.92s/it]\u001b[A"
     ]
    },
    {
     "name": "stdout",
     "output_type": "stream",
     "text": [
      "소소래 NaN 대구 북구 학정로 284 (구암동)\n"
     ]
    },
    {
     "name": "stderr",
     "output_type": "stream",
     "text": [
      "\n",
      " 70%|██████████████████████████████████████████████████████████                         | 7/10 [00:29<00:12,  4.02s/it]\u001b[A"
     ]
    },
    {
     "name": "stdout",
     "output_type": "stream",
     "text": [
      "<selenium.webdriver.remote.webelement.WebElement (session=\"edd44f4efc53f4af269531496ff8be50\", element=\"489E42B10A4808FE18A8560D3815A241_element_324\")>\n",
      "이상근의삼거리오징어회타운 4.41 대구 북구 구암로 280\n"
     ]
    },
    {
     "name": "stderr",
     "output_type": "stream",
     "text": [
      "\n",
      " 80%|██████████████████████████████████████████████████████████████████▍                | 8/10 [00:31<00:06,  3.43s/it]\u001b[A"
     ]
    },
    {
     "name": "stdout",
     "output_type": "stream",
     "text": [
      "<selenium.webdriver.remote.webelement.WebElement (session=\"edd44f4efc53f4af269531496ff8be50\", element=\"489E42B10A4808FE18A8560D3815A241_element_350\")>\n",
      "꽃돼지식당 칠곡3지구점 4.42 대구 북구 동천로 130-7 1층\n",
      "<selenium.webdriver.remote.webelement.WebElement (session=\"edd44f4efc53f4af269531496ff8be50\", element=\"489E42B10A4808FE18A8560D3815A241_element_406\")>\n"
     ]
    },
    {
     "name": "stderr",
     "output_type": "stream",
     "text": [
      "\n",
      " 90%|██████████████████████████████████████████████████████████████████████████▋        | 9/10 [00:38<00:04,  4.60s/it]\u001b[A"
     ]
    },
    {
     "name": "stdout",
     "output_type": "stream",
     "text": [
      "포도도 칠곡3지구점 NaN 대구 북구 동천로24길 5 1층 102호\n"
     ]
    },
    {
     "name": "stderr",
     "output_type": "stream",
     "text": [
      "\n",
      "100%|██████████████████████████████████████████████████████████████████████████████████| 10/10 [00:40<00:00,  4.07s/it]\u001b[A"
     ]
    },
    {
     "name": "stdout",
     "output_type": "stream",
     "text": [
      "<selenium.webdriver.remote.webelement.WebElement (session=\"edd44f4efc53f4af269531496ff8be50\", element=\"489E42B10A4808FE18A8560D3815A241_element_432\")>\n",
      "큰마루팔봉 4.62 대구 북구 구암로 203\n"
     ]
    },
    {
     "name": "stderr",
     "output_type": "stream",
     "text": [
      "\n",
      " 82%|███████████████████████████████████████████████████████████████▉              | 246/300 [1:43:18<31:14, 34.71s/it]"
     ]
    },
    {
     "name": "stdout",
     "output_type": "stream",
     "text": [
      "잔비어쓰\n"
     ]
    },
    {
     "name": "stderr",
     "output_type": "stream",
     "text": [
      "\n",
      "  0%|                                                                                            | 0/1 [00:07<?, ?it/s]\u001b[A\n",
      " 82%|████████████████████████████████████████████████████████████████▏             | 247/300 [1:43:35<25:55, 29.36s/it]\n",
      "0it [00:00, ?it/s]\u001b[A\n",
      " 83%|████████████████████████████████████████████████████████████████▍             | 248/300 [1:43:50<21:35, 24.90s/it]\n",
      "0it [00:00, ?it/s]\u001b[A\n",
      " 83%|████████████████████████████████████████████████████████████████▋             | 249/300 [1:44:07<19:09, 22.54s/it]"
     ]
    },
    {
     "name": "stdout",
     "output_type": "stream",
     "text": [
      "팔공산 영화식당\n",
      "황토시골집\n",
      "동림식당\n",
      "조가네갑오징어 대구팔공산점\n",
      "베르겐 에스프레소바\n",
      "아노블리오\n",
      "팔공산 영화식당\n",
      "스타벅스 대구팔공산점\n",
      "아리찬쭈꾸미 팔공산\n",
      "하이브\n"
     ]
    },
    {
     "name": "stderr",
     "output_type": "stream",
     "text": [
      "\n",
      "  0%|                                                                                           | 0/10 [00:00<?, ?it/s]\u001b[A"
     ]
    },
    {
     "name": "stdout",
     "output_type": "stream",
     "text": [
      "<selenium.webdriver.remote.webelement.WebElement (session=\"da975343b4785f5165b75cde0e11e0d2\", element=\"185D4FC7B5492F9D67F68031DAE70FA2_element_110\")>\n"
     ]
    },
    {
     "name": "stderr",
     "output_type": "stream",
     "text": [
      "\n",
      " 10%|████████▎                                                                          | 1/10 [00:11<01:41, 11.24s/it]\u001b[A"
     ]
    },
    {
     "name": "stdout",
     "output_type": "stream",
     "text": [
      "팔공산 영화식당 NaN 대구 동구 파계로138길 53\n"
     ]
    },
    {
     "name": "stderr",
     "output_type": "stream",
     "text": [
      "\n",
      " 20%|████████████████▌                                                                  | 2/10 [00:13<00:46,  5.87s/it]\u001b[A"
     ]
    },
    {
     "name": "stdout",
     "output_type": "stream",
     "text": [
      "<selenium.webdriver.remote.webelement.WebElement (session=\"da975343b4785f5165b75cde0e11e0d2\", element=\"185D4FC7B5492F9D67F68031DAE70FA2_element_172\")>\n",
      "황토시골집 4.33 대구 동구 파계로 604\n"
     ]
    },
    {
     "name": "stderr",
     "output_type": "stream",
     "text": [
      "\n",
      " 30%|████████████████████████▉                                                          | 3/10 [00:15<00:29,  4.17s/it]\u001b[A"
     ]
    },
    {
     "name": "stdout",
     "output_type": "stream",
     "text": [
      "<selenium.webdriver.remote.webelement.WebElement (session=\"da975343b4785f5165b75cde0e11e0d2\", element=\"185D4FC7B5492F9D67F68031DAE70FA2_element_187\")>\n",
      "동림식당 4.34 대구 동구 파계로116길 49\n"
     ]
    },
    {
     "name": "stderr",
     "output_type": "stream",
     "text": [
      "\n",
      " 40%|█████████████████████████████████▏                                                 | 4/10 [00:17<00:20,  3.37s/it]\u001b[A"
     ]
    },
    {
     "name": "stdout",
     "output_type": "stream",
     "text": [
      "<selenium.webdriver.remote.webelement.WebElement (session=\"da975343b4785f5165b75cde0e11e0d2\", element=\"185D4FC7B5492F9D67F68031DAE70FA2_element_214\")>\n",
      "조가네갑오징어 대구팔공산점 4.56 대구 동구 파계로131길 40\n",
      "<selenium.webdriver.remote.webelement.WebElement (session=\"da975343b4785f5165b75cde0e11e0d2\", element=\"185D4FC7B5492F9D67F68031DAE70FA2_element_242\")>\n"
     ]
    },
    {
     "name": "stderr",
     "output_type": "stream",
     "text": [
      "\n",
      " 50%|█████████████████████████████████████████▌                                         | 5/10 [00:24<00:23,  4.75s/it]\u001b[A"
     ]
    },
    {
     "name": "stdout",
     "output_type": "stream",
     "text": [
      "베르겐 에스프레소바 NaN 대구 동구 파계로138길 64 베르겐 에스프레소바\n"
     ]
    },
    {
     "name": "stderr",
     "output_type": "stream",
     "text": [
      "\n",
      " 60%|█████████████████████████████████████████████████▊                                 | 6/10 [00:26<00:15,  3.86s/it]\u001b[A"
     ]
    },
    {
     "name": "stdout",
     "output_type": "stream",
     "text": [
      "<selenium.webdriver.remote.webelement.WebElement (session=\"da975343b4785f5165b75cde0e11e0d2\", element=\"185D4FC7B5492F9D67F68031DAE70FA2_element_263\")>\n",
      "아노블리오 4.48 대구 동구 파계로 700 아노블리오\n",
      "<selenium.webdriver.remote.webelement.WebElement (session=\"da975343b4785f5165b75cde0e11e0d2\", element=\"185D4FC7B5492F9D67F68031DAE70FA2_element_313\")>\n"
     ]
    },
    {
     "name": "stderr",
     "output_type": "stream",
     "text": [
      "\n",
      " 70%|██████████████████████████████████████████████████████████                         | 7/10 [00:34<00:14,  4.96s/it]\u001b[A"
     ]
    },
    {
     "name": "stdout",
     "output_type": "stream",
     "text": [
      "팔공산 영화식당 NaN 대구 동구 파계로138길 53\n"
     ]
    },
    {
     "name": "stderr",
     "output_type": "stream",
     "text": [
      "\n",
      " 80%|██████████████████████████████████████████████████████████████████▍                | 8/10 [00:36<00:08,  4.07s/it]\u001b[A"
     ]
    },
    {
     "name": "stdout",
     "output_type": "stream",
     "text": [
      "<selenium.webdriver.remote.webelement.WebElement (session=\"da975343b4785f5165b75cde0e11e0d2\", element=\"185D4FC7B5492F9D67F68031DAE70FA2_element_324\")>\n",
      "스타벅스 대구팔공산점 4.49 대구 동구 파계로 650\n",
      "<selenium.webdriver.remote.webelement.WebElement (session=\"da975343b4785f5165b75cde0e11e0d2\", element=\"185D4FC7B5492F9D67F68031DAE70FA2_element_366\")>\n"
     ]
    },
    {
     "name": "stderr",
     "output_type": "stream",
     "text": [
      "\n",
      " 90%|██████████████████████████████████████████████████████████████████████████▋        | 9/10 [00:43<00:05,  5.04s/it]\u001b[A"
     ]
    },
    {
     "name": "stdout",
     "output_type": "stream",
     "text": [
      "아리찬쭈꾸미 팔공산 NaN 대구 동구 파계로131길 50-2 아리찬\n"
     ]
    },
    {
     "name": "stderr",
     "output_type": "stream",
     "text": [
      "\n",
      "100%|██████████████████████████████████████████████████████████████████████████████████| 10/10 [00:45<00:00,  4.57s/it]\u001b[A"
     ]
    },
    {
     "name": "stdout",
     "output_type": "stream",
     "text": [
      "<selenium.webdriver.remote.webelement.WebElement (session=\"da975343b4785f5165b75cde0e11e0d2\", element=\"185D4FC7B5492F9D67F68031DAE70FA2_element_407\")>\n",
      "하이브 4.38 대구 동구 파계로 653\n"
     ]
    },
    {
     "name": "stderr",
     "output_type": "stream",
     "text": [
      "\n",
      " 83%|█████████████████████████████████████████████████████████████████             | 250/300 [1:45:09<28:37, 34.36s/it]\n",
      "0it [00:00, ?it/s]\u001b[A\n",
      " 84%|█████████████████████████████████████████████████████████████████▎            | 251/300 [1:45:23<23:02, 28.21s/it]\n",
      "0it [00:00, ?it/s]\u001b[A\n",
      " 84%|█████████████████████████████████████████████████████████████████▌            | 252/300 [1:45:40<19:52, 24.84s/it]\n",
      "0it [00:00, ?it/s]\u001b[A\n",
      " 84%|█████████████████████████████████████████████████████████████████▊            | 253/300 [1:45:57<17:37, 22.51s/it]\n",
      "0it [00:00, ?it/s]\u001b[A\n",
      " 85%|██████████████████████████████████████████████████████████████████            | 254/300 [1:46:14<15:59, 20.87s/it]\n",
      "0it [00:00, ?it/s]\u001b[A\n",
      " 85%|██████████████████████████████████████████████████████████████████▎           | 255/300 [1:46:31<14:47, 19.72s/it]\n",
      "0it [00:00, ?it/s]\u001b[A\n",
      " 85%|██████████████████████████████████████████████████████████████████▌           | 256/300 [1:46:48<13:52, 18.92s/it]"
     ]
    },
    {
     "name": "stdout",
     "output_type": "stream",
     "text": [
      "의정부 부대찌개\n",
      "더드림삼겹살전문점 대구칠곡점\n"
     ]
    },
    {
     "name": "stderr",
     "output_type": "stream",
     "text": [
      "\n",
      "  0%|                                                                                            | 0/2 [00:00<?, ?it/s]\u001b[A\n",
      " 50%|██████████████████████████████████████████                                          | 1/2 [00:06<00:06,  6.22s/it]\u001b[A"
     ]
    },
    {
     "name": "stdout",
     "output_type": "stream",
     "text": [
      "<selenium.webdriver.remote.webelement.WebElement (session=\"8a889445cd2b06618c18981820ccb2d2\", element=\"39A2E9310759CB57A2013C27D43A106D_element_113\")>\n",
      "의정부 부대찌개 4.33 대구 북구 구암로 250 1층 의정부부대찌개\n"
     ]
    },
    {
     "name": "stderr",
     "output_type": "stream",
     "text": [
      "\n",
      "100%|████████████████████████████████████████████████████████████████████████████████████| 2/2 [00:08<00:00,  4.17s/it]\u001b[A"
     ]
    },
    {
     "name": "stdout",
     "output_type": "stream",
     "text": [
      "<selenium.webdriver.remote.webelement.WebElement (session=\"8a889445cd2b06618c18981820ccb2d2\", element=\"39A2E9310759CB57A2013C27D43A106D_element_141\")>\n",
      "더드림삼겹살전문점 대구칠곡점 4.65 대구 북구 구암로 254 1층 더드림 삼겹살\n"
     ]
    },
    {
     "name": "stderr",
     "output_type": "stream",
     "text": [
      "\n",
      " 86%|██████████████████████████████████████████████████████████████████▊           | 257/300 [1:47:08<13:51, 19.34s/it]\n",
      "0it [00:00, ?it/s]\u001b[A\n",
      " 86%|███████████████████████████████████████████████████████████████████           | 258/300 [1:47:22<12:21, 17.66s/it]\n",
      "0it [00:00, ?it/s]\u001b[A\n",
      " 86%|███████████████████████████████████████████████████████████████████▎          | 259/300 [1:47:39<11:56, 17.48s/it]"
     ]
    },
    {
     "name": "stdout",
     "output_type": "stream",
     "text": [
      "화암골가든\n"
     ]
    },
    {
     "name": "stderr",
     "output_type": "stream",
     "text": [
      "\n",
      "  0%|                                                                                            | 0/1 [00:00<?, ?it/s]\u001b[A"
     ]
    },
    {
     "name": "stdout",
     "output_type": "stream",
     "text": [
      "<selenium.webdriver.remote.webelement.WebElement (session=\"e48bf130a65aefcaef47d8b6e9cfd69b\", element=\"D99C40C0FC27F164D973FAE8278130BE_element_77\")>\n"
     ]
    },
    {
     "name": "stderr",
     "output_type": "stream",
     "text": [
      "\n",
      "100%|████████████████████████████████████████████████████████████████████████████████████| 1/1 [00:11<00:00, 11.27s/it]\u001b[A"
     ]
    },
    {
     "name": "stdout",
     "output_type": "stream",
     "text": [
      "화암골가든 NaN 강원 정선군 화암면 화암동굴길 12-22\n"
     ]
    },
    {
     "name": "stderr",
     "output_type": "stream",
     "text": [
      "\n",
      " 87%|███████████████████████████████████████████████████████████████████▌          | 260/300 [1:48:02<12:47, 19.20s/it]"
     ]
    },
    {
     "name": "stdout",
     "output_type": "stream",
     "text": [
      "리안\n",
      "고미텐\n",
      "대성 쭈꾸미낙지볶음전문점\n",
      "할타보카 만촌점\n",
      "오솔라\n",
      "텐신란만\n",
      "청담동\n",
      "이끼\n",
      "나리꼬모 본점\n",
      "나비다드481-1\n"
     ]
    },
    {
     "name": "stderr",
     "output_type": "stream",
     "text": [
      "\n",
      "  0%|                                                                                           | 0/10 [00:07<?, ?it/s]\u001b[A\n",
      " 87%|███████████████████████████████████████████████████████████████████▊          | 261/300 [1:48:19<12:06, 18.63s/it]"
     ]
    },
    {
     "name": "stdout",
     "output_type": "stream",
     "text": [
      "더뷔페 앳 인터불고\n",
      "청담한쭈꾸미\n",
      "로렐트리 동촌유원지 본점\n",
      "민물장어 직판장 풍천관 동촌유원지점\n",
      "코지하우스 대구 동구점\n",
      "슬로우벗베럴 대구점\n",
      "백구한식\n",
      "아양짚 동촌유원지점\n",
      "쌍쌍오리한마당 본점\n",
      "촘촘 동촌유원지점\n"
     ]
    },
    {
     "name": "stderr",
     "output_type": "stream",
     "text": [
      "\n",
      "  0%|                                                                                           | 0/10 [00:00<?, ?it/s]\u001b[A\n",
      " 10%|████████▎                                                                          | 1/10 [00:06<00:55,  6.20s/it]\u001b[A"
     ]
    },
    {
     "name": "stdout",
     "output_type": "stream",
     "text": [
      "<selenium.webdriver.remote.webelement.WebElement (session=\"8e66635463d40bc5a21fbf29e0f2b968\", element=\"8B5023277DFCFA62D2BFE3B83A60842C_element_126\")>\n",
      "더뷔페 앳 인터불고 4.54 대구 수성구 팔현길 212 호텔인터불고\n",
      "<selenium.webdriver.remote.webelement.WebElement (session=\"8e66635463d40bc5a21fbf29e0f2b968\", element=\"8B5023277DFCFA62D2BFE3B83A60842C_element_154\")>\n"
     ]
    },
    {
     "name": "stderr",
     "output_type": "stream",
     "text": [
      "\n",
      " 20%|████████████████▌                                                                  | 2/10 [00:13<00:53,  6.74s/it]\u001b[A"
     ]
    },
    {
     "name": "stdout",
     "output_type": "stream",
     "text": [
      "청담한쭈꾸미 NaN 대구 동구 효동로2길 47-7\n"
     ]
    },
    {
     "name": "stderr",
     "output_type": "stream",
     "text": [
      "\n",
      " 30%|████████████████████████▉                                                          | 3/10 [00:15<00:32,  4.64s/it]\u001b[A"
     ]
    },
    {
     "name": "stdout",
     "output_type": "stream",
     "text": [
      "<selenium.webdriver.remote.webelement.WebElement (session=\"8e66635463d40bc5a21fbf29e0f2b968\", element=\"8B5023277DFCFA62D2BFE3B83A60842C_element_176\")>\n",
      "로렐트리 동촌유원지 본점 4.71 대구 동구 효동로6길 122 로렐트리\n",
      "<selenium.webdriver.remote.webelement.WebElement (session=\"8e66635463d40bc5a21fbf29e0f2b968\", element=\"8B5023277DFCFA62D2BFE3B83A60842C_element_188\")>\n"
     ]
    },
    {
     "name": "stderr",
     "output_type": "stream",
     "text": [
      "\n",
      " 40%|█████████████████████████████████▏                                                 | 4/10 [00:22<00:33,  5.63s/it]\u001b[A"
     ]
    },
    {
     "name": "stdout",
     "output_type": "stream",
     "text": [
      "민물장어 직판장 풍천관 동촌유원지점 NaN 대구 동구 효동로2길 47-7 2층 풍천관 동촌유원지점\n",
      "<selenium.webdriver.remote.webelement.WebElement (session=\"8e66635463d40bc5a21fbf29e0f2b968\", element=\"8B5023277DFCFA62D2BFE3B83A60842C_element_231\")>\n"
     ]
    },
    {
     "name": "stderr",
     "output_type": "stream",
     "text": [
      "\n",
      " 50%|█████████████████████████████████████████▌                                         | 5/10 [00:29<00:30,  6.19s/it]\u001b[A"
     ]
    },
    {
     "name": "stdout",
     "output_type": "stream",
     "text": [
      "코지하우스 대구 동구점 NaN 대구 동구 동촌로 370 코지하우스\n",
      "<selenium.webdriver.remote.webelement.WebElement (session=\"8e66635463d40bc5a21fbf29e0f2b968\", element=\"8B5023277DFCFA62D2BFE3B83A60842C_element_275\")>\n"
     ]
    },
    {
     "name": "stderr",
     "output_type": "stream",
     "text": [
      "\n",
      " 60%|█████████████████████████████████████████████████▊                                 | 6/10 [00:36<00:26,  6.53s/it]\u001b[A"
     ]
    },
    {
     "name": "stdout",
     "output_type": "stream",
     "text": [
      "슬로우벗베럴 대구점 NaN 대구 동구 신평로 113\n"
     ]
    },
    {
     "name": "stderr",
     "output_type": "stream",
     "text": [
      "\n",
      " 70%|██████████████████████████████████████████████████████████                         | 7/10 [00:39<00:15,  5.10s/it]\u001b[A"
     ]
    },
    {
     "name": "stdout",
     "output_type": "stream",
     "text": [
      "<selenium.webdriver.remote.webelement.WebElement (session=\"8e66635463d40bc5a21fbf29e0f2b968\", element=\"8B5023277DFCFA62D2BFE3B83A60842C_element_313\")>\n",
      "백구한식 4.46 대구 동구 동촌로46길 12-3\n",
      "<selenium.webdriver.remote.webelement.WebElement (session=\"8e66635463d40bc5a21fbf29e0f2b968\", element=\"8B5023277DFCFA62D2BFE3B83A60842C_element_352\")>\n"
     ]
    },
    {
     "name": "stderr",
     "output_type": "stream",
     "text": [
      "\n",
      " 80%|██████████████████████████████████████████████████████████████████▍                | 8/10 [00:46<00:11,  5.75s/it]\u001b[A"
     ]
    },
    {
     "name": "stdout",
     "output_type": "stream",
     "text": [
      "아양짚 동촌유원지점 NaN 대구 동구 효동로2길 29 1층 아양짚\n",
      "<selenium.webdriver.remote.webelement.WebElement (session=\"8e66635463d40bc5a21fbf29e0f2b968\", element=\"8B5023277DFCFA62D2BFE3B83A60842C_element_393\")>\n"
     ]
    },
    {
     "name": "stderr",
     "output_type": "stream",
     "text": [
      "\n",
      " 90%|██████████████████████████████████████████████████████████████████████████▋        | 9/10 [00:53<00:06,  6.20s/it]\u001b[A"
     ]
    },
    {
     "name": "stdout",
     "output_type": "stream",
     "text": [
      "쌍쌍오리한마당 본점 NaN 대구 동구 화랑로88길 76 쌍쌍오리한마당(본점)\n"
     ]
    },
    {
     "name": "stderr",
     "output_type": "stream",
     "text": [
      "\n",
      "100%|██████████████████████████████████████████████████████████████████████████████████| 10/10 [00:55<00:00,  5.56s/it]\u001b[A"
     ]
    },
    {
     "name": "stdout",
     "output_type": "stream",
     "text": [
      "<selenium.webdriver.remote.webelement.WebElement (session=\"8e66635463d40bc5a21fbf29e0f2b968\", element=\"8B5023277DFCFA62D2BFE3B83A60842C_element_434\")>\n",
      "촘촘 동촌유원지점 4.45 대구 동구 효동로6길 84-8 2층\n"
     ]
    },
    {
     "name": "stderr",
     "output_type": "stream",
     "text": [
      "\n",
      " 87%|████████████████████████████████████████████████████████████████████          | 262/300 [1:49:29<21:32, 34.01s/it]\n",
      "0it [00:00, ?it/s]\u001b[A\n",
      " 88%|████████████████████████████████████████████████████████████████████▍         | 263/300 [1:49:44<17:21, 28.16s/it]\n",
      "0it [00:00, ?it/s]\u001b[A\n",
      " 88%|████████████████████████████████████████████████████████████████████▋         | 264/300 [1:50:01<14:53, 24.83s/it]"
     ]
    },
    {
     "name": "stdout",
     "output_type": "stream",
     "text": [
      "다람쥐카페\n"
     ]
    },
    {
     "name": "stderr",
     "output_type": "stream",
     "text": [
      "\n",
      "  0%|                                                                                            | 0/1 [00:00<?, ?it/s]\u001b[A"
     ]
    },
    {
     "name": "stdout",
     "output_type": "stream",
     "text": [
      "<selenium.webdriver.remote.webelement.WebElement (session=\"427a8964fc291517ee76f125d8063b37\", element=\"EA4543693B2A236D02A517ADFD5D5040_element_77\")>\n"
     ]
    },
    {
     "name": "stderr",
     "output_type": "stream",
     "text": [
      "\n",
      "100%|████████████████████████████████████████████████████████████████████████████████████| 1/1 [00:11<00:00, 11.23s/it]\u001b[A"
     ]
    },
    {
     "name": "stdout",
     "output_type": "stream",
     "text": [
      "다람쥐카페 NaN 대구 군위군 삼국유사면 화산산성길 57\n"
     ]
    },
    {
     "name": "stderr",
     "output_type": "stream",
     "text": [
      "\n",
      " 88%|████████████████████████████████████████████████████████████████████▉         | 265/300 [1:50:24<14:12, 24.35s/it]\n",
      "0it [00:00, ?it/s]\u001b[A\n",
      " 89%|█████████████████████████████████████████████████████████████████████▏        | 266/300 [1:50:38<11:59, 21.15s/it]\n",
      "0it [00:00, ?it/s]\u001b[A\n",
      " 89%|█████████████████████████████████████████████████████████████████████▍        | 267/300 [1:50:55<10:56, 19.91s/it]"
     ]
    },
    {
     "name": "stdout",
     "output_type": "stream",
     "text": [
      "참아나고해산물\n"
     ]
    },
    {
     "name": "stderr",
     "output_type": "stream",
     "text": [
      "\n",
      "  0%|                                                                                            | 0/1 [00:00<?, ?it/s]\u001b[A\n",
      "100%|████████████████████████████████████████████████████████████████████████████████████| 1/1 [00:06<00:00,  6.23s/it]\u001b[A"
     ]
    },
    {
     "name": "stdout",
     "output_type": "stream",
     "text": [
      "<selenium.webdriver.remote.webelement.WebElement (session=\"4f7747fc10b086e598ab8c51c6f7619e\", element=\"9AF589530EEF75DCC04371F7CF9CDD27_element_84\")>\n",
      "참아나고해산물 4.44 대구 서구 북비산로74길 46-1\n"
     ]
    },
    {
     "name": "stderr",
     "output_type": "stream",
     "text": [
      "\n",
      " 89%|█████████████████████████████████████████████████████████████████████▋        | 268/300 [1:51:13<10:20, 19.39s/it]\n",
      "0it [00:00, ?it/s]\u001b[A\n",
      " 90%|█████████████████████████████████████████████████████████████████████▉        | 269/300 [1:51:28<09:17, 17.97s/it]\n",
      "0it [00:00, ?it/s]\u001b[A\n",
      " 90%|██████████████████████████████████████████████████████████████████████▏       | 270/300 [1:51:45<08:51, 17.70s/it]\n",
      "0it [00:00, ?it/s]\u001b[A\n",
      " 90%|██████████████████████████████████████████████████████████████████████▍       | 271/300 [1:52:03<08:37, 17.85s/it]\n",
      "0it [00:00, ?it/s]\u001b[A\n",
      " 91%|██████████████████████████████████████████████████████████████████████▋       | 272/300 [1:52:20<08:13, 17.61s/it]"
     ]
    },
    {
     "name": "stdout",
     "output_type": "stream",
     "text": [
      "파란집\n"
     ]
    },
    {
     "name": "stderr",
     "output_type": "stream",
     "text": [
      "\n",
      "  0%|                                                                                            | 0/1 [00:00<?, ?it/s]\u001b[A\n",
      "100%|████████████████████████████████████████████████████████████████████████████████████| 1/1 [00:06<00:00,  6.20s/it]\u001b[A"
     ]
    },
    {
     "name": "stdout",
     "output_type": "stream",
     "text": [
      "<selenium.webdriver.remote.webelement.WebElement (session=\"9497793204133a5906cb0a73f57feb53\", element=\"1E6E08BE7765E3D9EE477F4FBE61FBD7_element_103\")>\n",
      "파란집 4.24 경남 창원시 진해구 명동로 39-1\n"
     ]
    },
    {
     "name": "stderr",
     "output_type": "stream",
     "text": [
      "\n",
      " 91%|██████████████████████████████████████████████████████████████████████▉       | 273/300 [1:52:38<08:01, 17.82s/it]\n",
      "0it [00:00, ?it/s]\u001b[A\n",
      " 91%|███████████████████████████████████████████████████████████████████████▏      | 274/300 [1:52:53<07:18, 16.87s/it]\n",
      "0it [00:00, ?it/s]\u001b[A\n",
      " 92%|███████████████████████████████████████████████████████████████████████▌      | 275/300 [1:53:10<07:02, 16.92s/it]"
     ]
    },
    {
     "name": "stdout",
     "output_type": "stream",
     "text": [
      "블랙타코앤그릴\n",
      "사석\n",
      "빠레뜨한남 대구 동성로점\n",
      "노팅힐커피하우스\n",
      "몽블랑드파리\n",
      "구삼커피\n",
      "얼디\n",
      "오무하무 동성로점\n",
      "보난자카츠\n",
      "머꼬삼겹살\n"
     ]
    },
    {
     "name": "stderr",
     "output_type": "stream",
     "text": [
      "\n",
      "  0%|                                                                                           | 0/10 [00:00<?, ?it/s]\u001b[A\n",
      " 10%|████████▎                                                                          | 1/10 [00:06<00:55,  6.20s/it]\u001b[A"
     ]
    },
    {
     "name": "stdout",
     "output_type": "stream",
     "text": [
      "<selenium.webdriver.remote.webelement.WebElement (session=\"62d8226c47ddb1c8f5d65389cd888666\", element=\"7BA720B8A97F780E6D748D9EF00BA6CD_element_134\")>\n",
      "블랙타코앤그릴 4.53 대구 중구 공평로 31 건물 2층\n",
      "<selenium.webdriver.remote.webelement.WebElement (session=\"62d8226c47ddb1c8f5d65389cd888666\", element=\"7BA720B8A97F780E6D748D9EF00BA6CD_element_173\")>\n"
     ]
    },
    {
     "name": "stderr",
     "output_type": "stream",
     "text": [
      "\n",
      " 20%|████████████████▌                                                                  | 2/10 [00:13<00:54,  6.77s/it]\u001b[A"
     ]
    },
    {
     "name": "stdout",
     "output_type": "stream",
     "text": [
      "사석 NaN 대구 중구 중앙대로 375 YMCA 건물 1층 사석\n",
      "<selenium.webdriver.remote.webelement.WebElement (session=\"62d8226c47ddb1c8f5d65389cd888666\", element=\"7BA720B8A97F780E6D748D9EF00BA6CD_element_214\")>\n"
     ]
    },
    {
     "name": "stderr",
     "output_type": "stream",
     "text": [
      "\n",
      " 30%|████████████████████████▉                                                          | 3/10 [00:20<00:48,  6.96s/it]\u001b[A"
     ]
    },
    {
     "name": "stdout",
     "output_type": "stream",
     "text": [
      "빠레뜨한남 대구 동성로점 NaN 대구 중구 동성로2길 58 2층 빠레뜨한남\n",
      "<selenium.webdriver.remote.webelement.WebElement (session=\"62d8226c47ddb1c8f5d65389cd888666\", element=\"7BA720B8A97F780E6D748D9EF00BA6CD_element_247\")>\n"
     ]
    },
    {
     "name": "stderr",
     "output_type": "stream",
     "text": [
      "\n",
      " 40%|█████████████████████████████████▏                                                 | 4/10 [00:27<00:42,  7.05s/it]\u001b[A"
     ]
    },
    {
     "name": "stdout",
     "output_type": "stream",
     "text": [
      "노팅힐커피하우스 NaN 대구 중구 명륜로23길 56 1층\n",
      "<selenium.webdriver.remote.webelement.WebElement (session=\"62d8226c47ddb1c8f5d65389cd888666\", element=\"7BA720B8A97F780E6D748D9EF00BA6CD_element_272\")>\n"
     ]
    },
    {
     "name": "stderr",
     "output_type": "stream",
     "text": [
      "\n",
      " 50%|█████████████████████████████████████████▌                                         | 5/10 [00:34<00:35,  7.08s/it]\u001b[A"
     ]
    },
    {
     "name": "stdout",
     "output_type": "stream",
     "text": [
      "몽블랑드파리 NaN 대구 중구 동성로6길 21\n"
     ]
    },
    {
     "name": "stderr",
     "output_type": "stream",
     "text": [
      "\n",
      " 60%|█████████████████████████████████████████████████▊                                 | 6/10 [00:37<00:21,  5.41s/it]\u001b[A"
     ]
    },
    {
     "name": "stdout",
     "output_type": "stream",
     "text": [
      "<selenium.webdriver.remote.webelement.WebElement (session=\"62d8226c47ddb1c8f5d65389cd888666\", element=\"7BA720B8A97F780E6D748D9EF00BA6CD_element_316\")>\n",
      "구삼커피 4.7 대구 중구 봉산문화2길 16-3 구삼커피\n"
     ]
    },
    {
     "name": "stderr",
     "output_type": "stream",
     "text": [
      "\n",
      " 70%|██████████████████████████████████████████████████████████                         | 7/10 [00:39<00:13,  4.34s/it]\u001b[A"
     ]
    },
    {
     "name": "stdout",
     "output_type": "stream",
     "text": [
      "<selenium.webdriver.remote.webelement.WebElement (session=\"62d8226c47ddb1c8f5d65389cd888666\", element=\"7BA720B8A97F780E6D748D9EF00BA6CD_element_343\")>\n",
      "얼디 4.69 대구 중구 달구벌대로445길 26-5 1층\n",
      "<selenium.webdriver.remote.webelement.WebElement (session=\"62d8226c47ddb1c8f5d65389cd888666\", element=\"7BA720B8A97F780E6D748D9EF00BA6CD_element_385\")>\n"
     ]
    },
    {
     "name": "stderr",
     "output_type": "stream",
     "text": [
      "\n",
      " 80%|██████████████████████████████████████████████████████████████████▍                | 8/10 [00:46<00:10,  5.25s/it]\u001b[A"
     ]
    },
    {
     "name": "stdout",
     "output_type": "stream",
     "text": [
      "오무하무 동성로점 NaN 대구 중구 동성로3길 5 2층\n",
      "<selenium.webdriver.remote.webelement.WebElement (session=\"62d8226c47ddb1c8f5d65389cd888666\", element=\"7BA720B8A97F780E6D748D9EF00BA6CD_element_441\")>\n"
     ]
    },
    {
     "name": "stderr",
     "output_type": "stream",
     "text": [
      "\n",
      " 90%|██████████████████████████████████████████████████████████████████████████▋        | 9/10 [00:53<00:05,  5.84s/it]\u001b[A"
     ]
    },
    {
     "name": "stdout",
     "output_type": "stream",
     "text": [
      "보난자카츠 NaN 대구 중구 달구벌대로446길 28 1층\n"
     ]
    },
    {
     "name": "stderr",
     "output_type": "stream",
     "text": [
      "\n",
      "100%|██████████████████████████████████████████████████████████████████████████████████| 10/10 [00:55<00:00,  5.57s/it]\u001b[A"
     ]
    },
    {
     "name": "stdout",
     "output_type": "stream",
     "text": [
      "<selenium.webdriver.remote.webelement.WebElement (session=\"62d8226c47ddb1c8f5d65389cd888666\", element=\"7BA720B8A97F780E6D748D9EF00BA6CD_element_483\")>\n",
      "머꼬삼겹살 4.78 대구 중구 동성로3길 32-43 1층\n"
     ]
    },
    {
     "name": "stderr",
     "output_type": "stream",
     "text": [
      "\n",
      " 92%|███████████████████████████████████████████████████████████████████████▊      | 276/300 [1:54:18<12:53, 32.22s/it]\n",
      "0it [00:00, ?it/s]\u001b[A\n",
      " 92%|████████████████████████████████████████████████████████████████████████      | 277/300 [1:54:32<10:14, 26.70s/it]"
     ]
    },
    {
     "name": "stdout",
     "output_type": "stream",
     "text": [
      "마르텐사이트\n",
      "하빈식당밥집\n",
      "마천산도경미나리\n",
      "진땡이국밥\n",
      "대영한우가마솥국밥\n",
      "마당집가든\n",
      "강원도집 다사점\n",
      "청해루\n",
      "좋은뷔페\n",
      "풍산반점\n"
     ]
    },
    {
     "name": "stderr",
     "output_type": "stream",
     "text": [
      "\n",
      "  0%|                                                                                           | 0/10 [00:00<?, ?it/s]\u001b[A\n",
      " 10%|████████▎                                                                          | 1/10 [00:06<00:55,  6.19s/it]\u001b[A"
     ]
    },
    {
     "name": "stdout",
     "output_type": "stream",
     "text": [
      "<selenium.webdriver.remote.webelement.WebElement (session=\"085942dd7498c9d725ef390f136b06e5\", element=\"34C5151B982BC6A742D68C6851AB109E_element_114\")>\n",
      "마르텐사이트 4.54 대구 달성군 하빈면 하빈로 363 마르텐사이트\n"
     ]
    },
    {
     "name": "stderr",
     "output_type": "stream",
     "text": [
      "\n",
      " 20%|████████████████▌                                                                  | 2/10 [00:08<00:30,  3.80s/it]\u001b[A"
     ]
    },
    {
     "name": "stdout",
     "output_type": "stream",
     "text": [
      "<selenium.webdriver.remote.webelement.WebElement (session=\"085942dd7498c9d725ef390f136b06e5\", element=\"34C5151B982BC6A742D68C6851AB109E_element_171\")>\n",
      "하빈식당밥집 4.47 대구 달성군 하빈면 하빈로87길 2\n",
      "<selenium.webdriver.remote.webelement.WebElement (session=\"085942dd7498c9d725ef390f136b06e5\", element=\"34C5151B982BC6A742D68C6851AB109E_element_199\")>\n"
     ]
    },
    {
     "name": "stderr",
     "output_type": "stream",
     "text": [
      "\n",
      " 30%|████████████████████████▉                                                          | 3/10 [00:15<00:37,  5.35s/it]\u001b[A"
     ]
    },
    {
     "name": "stdout",
     "output_type": "stream",
     "text": [
      "마천산도경미나리 NaN 대구 달성군 하빈면 감문리 143\n",
      "<selenium.webdriver.remote.webelement.WebElement (session=\"085942dd7498c9d725ef390f136b06e5\", element=\"34C5151B982BC6A742D68C6851AB109E_element_213\")>\n"
     ]
    },
    {
     "name": "stderr",
     "output_type": "stream",
     "text": [
      "\n",
      " 40%|█████████████████████████████████▏                                                 | 4/10 [00:22<00:36,  6.07s/it]\u001b[A"
     ]
    },
    {
     "name": "stdout",
     "output_type": "stream",
     "text": [
      "진땡이국밥 NaN 대구 달성군 하빈면 하빈로84길 9\n",
      "<selenium.webdriver.remote.webelement.WebElement (session=\"085942dd7498c9d725ef390f136b06e5\", element=\"34C5151B982BC6A742D68C6851AB109E_element_240\")>\n"
     ]
    },
    {
     "name": "stderr",
     "output_type": "stream",
     "text": [
      "\n",
      " 50%|█████████████████████████████████████████▌                                         | 5/10 [00:29<00:32,  6.46s/it]\u001b[A"
     ]
    },
    {
     "name": "stdout",
     "output_type": "stream",
     "text": [
      "대영한우가마솥국밥 NaN 대구 달성군 하빈면 하빈로84길 6 1층\n",
      "<selenium.webdriver.remote.webelement.WebElement (session=\"085942dd7498c9d725ef390f136b06e5\", element=\"34C5151B982BC6A742D68C6851AB109E_element_265\")>\n"
     ]
    },
    {
     "name": "stderr",
     "output_type": "stream",
     "text": [
      "\n",
      " 60%|█████████████████████████████████████████████████▊                                 | 6/10 [00:37<00:26,  6.70s/it]\u001b[A"
     ]
    },
    {
     "name": "stdout",
     "output_type": "stream",
     "text": [
      "마당집가든 NaN 대구 달성군 하빈면 하빈로 368\n",
      "<selenium.webdriver.remote.webelement.WebElement (session=\"085942dd7498c9d725ef390f136b06e5\", element=\"34C5151B982BC6A742D68C6851AB109E_element_288\")>\n"
     ]
    },
    {
     "name": "stderr",
     "output_type": "stream",
     "text": [
      "\n",
      " 70%|██████████████████████████████████████████████████████████                         | 7/10 [00:44<00:20,  6.85s/it]\u001b[A"
     ]
    },
    {
     "name": "stdout",
     "output_type": "stream",
     "text": [
      "강원도집 다사점 NaN 대구 달성군 다사로 363\n"
     ]
    },
    {
     "name": "stderr",
     "output_type": "stream",
     "text": [
      "\n",
      " 80%|██████████████████████████████████████████████████████████████████▍                | 8/10 [00:46<00:10,  5.35s/it]\u001b[A"
     ]
    },
    {
     "name": "stdout",
     "output_type": "stream",
     "text": [
      "<selenium.webdriver.remote.webelement.WebElement (session=\"085942dd7498c9d725ef390f136b06e5\", element=\"34C5151B982BC6A742D68C6851AB109E_element_300\")>\n",
      "청해루 4.32 대구 달성군 하빈면 하빈로 367\n"
     ]
    },
    {
     "name": "stderr",
     "output_type": "stream",
     "text": [
      "\n",
      " 90%|██████████████████████████████████████████████████████████████████████████▋        | 9/10 [00:48<00:04,  4.34s/it]\u001b[A"
     ]
    },
    {
     "name": "stdout",
     "output_type": "stream",
     "text": [
      "<selenium.webdriver.remote.webelement.WebElement (session=\"085942dd7498c9d725ef390f136b06e5\", element=\"34C5151B982BC6A742D68C6851AB109E_element_321\")>\n",
      "좋은뷔페 4.41 대구 달성군 하빈면 하빈로 432\n"
     ]
    },
    {
     "name": "stderr",
     "output_type": "stream",
     "text": [
      "\n",
      "100%|██████████████████████████████████████████████████████████████████████████████████| 10/10 [00:50<00:00,  5.06s/it]\u001b[A"
     ]
    },
    {
     "name": "stdout",
     "output_type": "stream",
     "text": [
      "<selenium.webdriver.remote.webelement.WebElement (session=\"085942dd7498c9d725ef390f136b06e5\", element=\"34C5151B982BC6A742D68C6851AB109E_element_329\")>\n",
      "풍산반점 4.3 대구 달성군 하빈면 하빈로 407\n"
     ]
    },
    {
     "name": "stderr",
     "output_type": "stream",
     "text": [
      "\n",
      " 93%|████████████████████████████████████████████████████████████████████████▎     | 278/300 [1:55:35<13:50, 37.76s/it]"
     ]
    },
    {
     "name": "stdout",
     "output_type": "stream",
     "text": [
      "파스토랑\n",
      "호랑이왕갈비 백천본점\n",
      "산들다움\n",
      "하나사쿠 옥곡점\n",
      "천석꾼 만석꾼 밥상\n",
      "소디스에스프레소바 경산\n",
      "COUCOU꾸꾸\n",
      "프로다카페\n",
      "닭바위 숯불닭갈비\n",
      "옥곡초밥\n"
     ]
    },
    {
     "name": "stderr",
     "output_type": "stream",
     "text": [
      "\n",
      "  0%|                                                                                           | 0/10 [00:07<?, ?it/s]\u001b[A\n",
      " 93%|████████████████████████████████████████████████████████████████████████▌     | 279/300 [1:55:52<11:02, 31.53s/it]"
     ]
    },
    {
     "name": "stdout",
     "output_type": "stream",
     "text": [
      "정기철명품한우식육식당 들안길본점\n",
      "순수하고진한콩물\n",
      "류센소 범어점\n",
      "리안\n",
      "후꾸스시\n",
      "에폰베이크샵\n",
      "공주얼큰이칼국수\n",
      "황금돗소리\n",
      "오스테리아밀즈\n",
      "고미텐\n"
     ]
    },
    {
     "name": "stderr",
     "output_type": "stream",
     "text": [
      "\n",
      "  0%|                                                                                           | 0/10 [00:00<?, ?it/s]\u001b[A"
     ]
    },
    {
     "name": "stdout",
     "output_type": "stream",
     "text": [
      "<selenium.webdriver.remote.webelement.WebElement (session=\"e95d5e179b8706fa1a5d7c7cc037e41e\", element=\"81578427C70C67AEEB58C27154EBAA09_element_134\")>\n"
     ]
    },
    {
     "name": "stderr",
     "output_type": "stream",
     "text": [
      "\n",
      " 10%|████████▎                                                                          | 1/10 [00:11<01:41, 11.28s/it]\u001b[A"
     ]
    },
    {
     "name": "stdout",
     "output_type": "stream",
     "text": [
      "정기철명품한우식육식당 들안길본점 NaN 대구 수성구 들안로 207 1층\n",
      "<selenium.webdriver.remote.webelement.WebElement (session=\"e95d5e179b8706fa1a5d7c7cc037e41e\", element=\"81578427C70C67AEEB58C27154EBAA09_element_156\")>\n"
     ]
    },
    {
     "name": "stderr",
     "output_type": "stream",
     "text": [
      "\n",
      " 20%|████████████████▌                                                                  | 2/10 [00:18<01:10,  8.87s/it]\u001b[A"
     ]
    },
    {
     "name": "stdout",
     "output_type": "stream",
     "text": [
      "순수하고진한콩물 NaN 대구 수성구 청수로24길 59 1층 108호\n",
      "<selenium.webdriver.remote.webelement.WebElement (session=\"e95d5e179b8706fa1a5d7c7cc037e41e\", element=\"81578427C70C67AEEB58C27154EBAA09_element_197\")>\n"
     ]
    },
    {
     "name": "stderr",
     "output_type": "stream",
     "text": [
      "\n",
      " 30%|████████████████████████▉                                                          | 3/10 [00:25<00:56,  8.10s/it]\u001b[A"
     ]
    },
    {
     "name": "stdout",
     "output_type": "stream",
     "text": [
      "류센소 범어점 NaN 대구 수성구 달구벌대로496길 5 1층 류센소 범어점\n"
     ]
    },
    {
     "name": "stderr",
     "output_type": "stream",
     "text": [
      "\n",
      " 40%|█████████████████████████████████▏                                                 | 4/10 [00:27<00:34,  5.76s/it]\u001b[A"
     ]
    },
    {
     "name": "stdout",
     "output_type": "stream",
     "text": [
      "<selenium.webdriver.remote.webelement.WebElement (session=\"e95d5e179b8706fa1a5d7c7cc037e41e\", element=\"81578427C70C67AEEB58C27154EBAA09_element_230\")>\n",
      "리안 4.48 대구 수성구 교학로4길 48\n"
     ]
    },
    {
     "name": "stderr",
     "output_type": "stream",
     "text": [
      "\n",
      " 50%|█████████████████████████████████████████▌                                         | 5/10 [00:29<00:22,  4.46s/it]\u001b[A"
     ]
    },
    {
     "name": "stdout",
     "output_type": "stream",
     "text": [
      "<selenium.webdriver.remote.webelement.WebElement (session=\"e95d5e179b8706fa1a5d7c7cc037e41e\", element=\"81578427C70C67AEEB58C27154EBAA09_element_256\")>\n",
      "후꾸스시 4.55 대구 수성구 동대구로20길 66 후꾸\n",
      "<selenium.webdriver.remote.webelement.WebElement (session=\"e95d5e179b8706fa1a5d7c7cc037e41e\", element=\"81578427C70C67AEEB58C27154EBAA09_element_300\")>\n"
     ]
    },
    {
     "name": "stderr",
     "output_type": "stream",
     "text": [
      "\n",
      " 60%|█████████████████████████████████████████████████▊                                 | 6/10 [00:37<00:21,  5.37s/it]\u001b[A"
     ]
    },
    {
     "name": "stdout",
     "output_type": "stream",
     "text": [
      "에폰베이크샵 NaN 대구 수성구 범어로24길 14 1층\n",
      "<selenium.webdriver.remote.webelement.WebElement (session=\"e95d5e179b8706fa1a5d7c7cc037e41e\", element=\"81578427C70C67AEEB58C27154EBAA09_element_321\")>\n"
     ]
    },
    {
     "name": "stderr",
     "output_type": "stream",
     "text": [
      "\n",
      " 70%|██████████████████████████████████████████████████████████                         | 7/10 [00:44<00:17,  5.95s/it]\u001b[A"
     ]
    },
    {
     "name": "stdout",
     "output_type": "stream",
     "text": [
      "공주얼큰이칼국수 NaN 대구 수성구 범어천로 49 공주얼큰이칼국수\n",
      "<selenium.webdriver.remote.webelement.WebElement (session=\"e95d5e179b8706fa1a5d7c7cc037e41e\", element=\"81578427C70C67AEEB58C27154EBAA09_element_382\")>\n"
     ]
    },
    {
     "name": "stderr",
     "output_type": "stream",
     "text": [
      "\n",
      " 80%|██████████████████████████████████████████████████████████████████▍                | 8/10 [00:51<00:12,  6.35s/it]\u001b[A"
     ]
    },
    {
     "name": "stdout",
     "output_type": "stream",
     "text": [
      "황금돗소리 NaN 대구 수성구 범어천로 22 . 1층(황금동) 황금돗소리\n"
     ]
    },
    {
     "name": "stderr",
     "output_type": "stream",
     "text": [
      "\n",
      " 90%|██████████████████████████████████████████████████████████████████████████▋        | 9/10 [00:53<00:05,  5.04s/it]\u001b[A"
     ]
    },
    {
     "name": "stdout",
     "output_type": "stream",
     "text": [
      "<selenium.webdriver.remote.webelement.WebElement (session=\"e95d5e179b8706fa1a5d7c7cc037e41e\", element=\"81578427C70C67AEEB58C27154EBAA09_element_411\")>\n",
      "오스테리아밀즈 4.55 대구 수성구 동원로1길 26 1층\n"
     ]
    },
    {
     "name": "stderr",
     "output_type": "stream",
     "text": [
      "\n",
      "100%|██████████████████████████████████████████████████████████████████████████████████| 10/10 [00:55<00:00,  5.58s/it]\u001b[A"
     ]
    },
    {
     "name": "stdout",
     "output_type": "stream",
     "text": [
      "<selenium.webdriver.remote.webelement.WebElement (session=\"e95d5e179b8706fa1a5d7c7cc037e41e\", element=\"81578427C70C67AEEB58C27154EBAA09_element_439\")>\n",
      "고미텐 4.63 대구 수성구 동원로 6 1층\n"
     ]
    },
    {
     "name": "stderr",
     "output_type": "stream",
     "text": [
      "\n",
      " 93%|████████████████████████████████████████████████████████████████████████▊     | 280/300 [1:57:02<14:20, 43.03s/it]"
     ]
    },
    {
     "name": "stdout",
     "output_type": "stream",
     "text": [
      "빠레뜨한남 대구 동성로점\n",
      "사석\n",
      "신라식당\n",
      "몽블랑드파리\n",
      "수주식당\n",
      "머꼬삼겹살\n",
      "히야\n",
      "군위식당\n",
      "동아식당\n",
      "이씨씨커피\n"
     ]
    },
    {
     "name": "stderr",
     "output_type": "stream",
     "text": [
      "\n",
      "  0%|                                                                                           | 0/10 [00:07<?, ?it/s]\u001b[A\n",
      " 94%|█████████████████████████████████████████████████████████████████████████     | 281/300 [1:57:20<11:15, 35.53s/it]\n",
      "0it [00:00, ?it/s]\u001b[A\n",
      " 94%|█████████████████████████████████████████████████████████████████████████▎    | 282/300 [1:57:34<08:44, 29.15s/it]\n",
      "0it [00:00, ?it/s]\u001b[A\n",
      " 94%|█████████████████████████████████████████████████████████████████████████▌    | 283/300 [1:57:51<07:13, 25.50s/it]"
     ]
    },
    {
     "name": "stdout",
     "output_type": "stream",
     "text": [
      "카페댐댐\n",
      "호반\n",
      "중앙식당\n",
      "물방아집\n"
     ]
    },
    {
     "name": "stderr",
     "output_type": "stream",
     "text": [
      "\n",
      "  0%|                                                                                            | 0/4 [00:00<?, ?it/s]\u001b[A"
     ]
    },
    {
     "name": "stdout",
     "output_type": "stream",
     "text": [
      "<selenium.webdriver.remote.webelement.WebElement (session=\"37cb49c6123cd89456cb18aa19b39418\", element=\"EA06A07ECC5B5BFCFD64B264B51D5A62_element_105\")>\n"
     ]
    },
    {
     "name": "stderr",
     "output_type": "stream",
     "text": [
      "\n",
      " 25%|█████████████████████                                                               | 1/4 [00:11<00:33, 11.24s/it]\u001b[A"
     ]
    },
    {
     "name": "stdout",
     "output_type": "stream",
     "text": [
      "카페댐댐 NaN 대구 군위군 삼국유사면 삼국유사로 438-16\n"
     ]
    },
    {
     "name": "stderr",
     "output_type": "stream",
     "text": [
      "\n",
      " 50%|██████████████████████████████████████████                                          | 2/4 [00:13<00:11,  5.87s/it]\u001b[A"
     ]
    },
    {
     "name": "stdout",
     "output_type": "stream",
     "text": [
      "<selenium.webdriver.remote.webelement.WebElement (session=\"37cb49c6123cd89456cb18aa19b39418\", element=\"EA06A07ECC5B5BFCFD64B264B51D5A62_element_145\")>\n",
      "호반 4.41 대구 군위군 삼국유사면 삼국유사로 438-32\n"
     ]
    },
    {
     "name": "stderr",
     "output_type": "stream",
     "text": [
      "\n",
      " 75%|███████████████████████████████████████████████████████████████                     | 3/4 [00:15<00:04,  4.17s/it]\u001b[A"
     ]
    },
    {
     "name": "stdout",
     "output_type": "stream",
     "text": [
      "<selenium.webdriver.remote.webelement.WebElement (session=\"37cb49c6123cd89456cb18aa19b39418\", element=\"EA06A07ECC5B5BFCFD64B264B51D5A62_element_184\")>\n",
      "중앙식당 4.49 경북 군위군 삼국유사면 삼국유사로 438-24\n",
      "<selenium.webdriver.remote.webelement.WebElement (session=\"37cb49c6123cd89456cb18aa19b39418\", element=\"EA06A07ECC5B5BFCFD64B264B51D5A62_element_199\")>\n"
     ]
    },
    {
     "name": "stderr",
     "output_type": "stream",
     "text": [
      "\n",
      "100%|████████████████████████████████████████████████████████████████████████████████████| 4/4 [00:22<00:00,  5.66s/it]\u001b[A"
     ]
    },
    {
     "name": "stdout",
     "output_type": "stream",
     "text": [
      "물방아집 NaN 대구 군위군 삼국유사면 화북3길 3-6\n"
     ]
    },
    {
     "name": "stderr",
     "output_type": "stream",
     "text": [
      "\n",
      " 95%|█████████████████████████████████████████████████████████████████████████▊    | 284/300 [1:58:31<07:56, 29.77s/it]\n",
      "0it [00:00, ?it/s]\u001b[A\n",
      " 95%|██████████████████████████████████████████████████████████████████████████    | 285/300 [1:58:45<06:16, 25.10s/it]"
     ]
    },
    {
     "name": "stdout",
     "output_type": "stream",
     "text": [
      "사석\n",
      "유창반점\n",
      "수주식당\n",
      "경희식당\n",
      "롤러커피\n",
      "세연콩국\n",
      "아리츠\n",
      "미성당납작만두 본점\n",
      "랑만\n",
      "걸리버막창 종로점\n"
     ]
    },
    {
     "name": "stderr",
     "output_type": "stream",
     "text": [
      "\n",
      "  0%|                                                                                           | 0/10 [00:00<?, ?it/s]\u001b[A"
     ]
    },
    {
     "name": "stdout",
     "output_type": "stream",
     "text": [
      "<selenium.webdriver.remote.webelement.WebElement (session=\"419fcb3f8c10c6574b90b75fefe0729b\", element=\"A380DB208FA359A42FD56820159E7ED0_element_130\")>\n"
     ]
    },
    {
     "name": "stderr",
     "output_type": "stream",
     "text": [
      "\n",
      " 10%|████████▎                                                                          | 1/10 [00:11<01:41, 11.24s/it]\u001b[A"
     ]
    },
    {
     "name": "stdout",
     "output_type": "stream",
     "text": [
      "사석 NaN 대구 중구 중앙대로 375 YMCA 건물 1층 사석\n",
      "<selenium.webdriver.remote.webelement.WebElement (session=\"419fcb3f8c10c6574b90b75fefe0729b\", element=\"A380DB208FA359A42FD56820159E7ED0_element_171\")>\n"
     ]
    },
    {
     "name": "stderr",
     "output_type": "stream",
     "text": [
      "\n",
      " 20%|████████████████▌                                                                  | 2/10 [00:18<01:10,  8.84s/it]\u001b[A"
     ]
    },
    {
     "name": "stdout",
     "output_type": "stream",
     "text": [
      "유창반점 NaN 대구 중구 명륜로 20 1층\n"
     ]
    },
    {
     "name": "stderr",
     "output_type": "stream",
     "text": [
      "\n",
      " 30%|████████████████████████▉                                                          | 3/10 [00:20<00:40,  5.78s/it]\u001b[A"
     ]
    },
    {
     "name": "stdout",
     "output_type": "stream",
     "text": [
      "<selenium.webdriver.remote.webelement.WebElement (session=\"419fcb3f8c10c6574b90b75fefe0729b\", element=\"A380DB208FA359A42FD56820159E7ED0_element_197\")>\n",
      "수주식당 4.51 대구 중구 중앙대로81길 58 1층 수주식당\n"
     ]
    },
    {
     "name": "stderr",
     "output_type": "stream",
     "text": [
      "\n",
      " 40%|█████████████████████████████████▏                                                 | 4/10 [00:22<00:26,  4.34s/it]\u001b[A"
     ]
    },
    {
     "name": "stdout",
     "output_type": "stream",
     "text": [
      "<selenium.webdriver.remote.webelement.WebElement (session=\"419fcb3f8c10c6574b90b75fefe0729b\", element=\"A380DB208FA359A42FD56820159E7ED0_element_252\")>\n",
      "경희식당 4.34 대구 중구 큰장로28길 25\n"
     ]
    },
    {
     "name": "stderr",
     "output_type": "stream",
     "text": [
      "\n",
      " 50%|█████████████████████████████████████████▌                                         | 5/10 [00:24<00:17,  3.54s/it]\u001b[A"
     ]
    },
    {
     "name": "stdout",
     "output_type": "stream",
     "text": [
      "<selenium.webdriver.remote.webelement.WebElement (session=\"419fcb3f8c10c6574b90b75fefe0729b\", element=\"A380DB208FA359A42FD56820159E7ED0_element_277\")>\n",
      "롤러커피 4.51 대구 중구 달구벌대로414길 36\n"
     ]
    },
    {
     "name": "stderr",
     "output_type": "stream",
     "text": [
      "\n",
      " 60%|█████████████████████████████████████████████████▊                                 | 6/10 [00:26<00:12,  3.07s/it]\u001b[A"
     ]
    },
    {
     "name": "stdout",
     "output_type": "stream",
     "text": [
      "<selenium.webdriver.remote.webelement.WebElement (session=\"419fcb3f8c10c6574b90b75fefe0729b\", element=\"A380DB208FA359A42FD56820159E7ED0_element_320\")>\n",
      "세연콩국 4.39 대구 중구 명덕로 173\n"
     ]
    },
    {
     "name": "stderr",
     "output_type": "stream",
     "text": [
      "\n",
      " 70%|██████████████████████████████████████████████████████████                         | 7/10 [00:29<00:08,  2.77s/it]\u001b[A"
     ]
    },
    {
     "name": "stdout",
     "output_type": "stream",
     "text": [
      "<selenium.webdriver.remote.webelement.WebElement (session=\"419fcb3f8c10c6574b90b75fefe0729b\", element=\"A380DB208FA359A42FD56820159E7ED0_element_366\")>\n",
      "아리츠 4.6 대구 중구 남성로 47 2층\n"
     ]
    },
    {
     "name": "stderr",
     "output_type": "stream",
     "text": [
      "\n",
      " 80%|██████████████████████████████████████████████████████████████████▍                | 8/10 [00:31<00:05,  2.57s/it]\u001b[A"
     ]
    },
    {
     "name": "stdout",
     "output_type": "stream",
     "text": [
      "<selenium.webdriver.remote.webelement.WebElement (session=\"419fcb3f8c10c6574b90b75fefe0729b\", element=\"A380DB208FA359A42FD56820159E7ED0_element_390\")>\n",
      "미성당납작만두 본점 4.2 대구 중구 명덕로 93\n",
      "<selenium.webdriver.remote.webelement.WebElement (session=\"419fcb3f8c10c6574b90b75fefe0729b\", element=\"A380DB208FA359A42FD56820159E7ED0_element_441\")>\n"
     ]
    },
    {
     "name": "stderr",
     "output_type": "stream",
     "text": [
      "\n",
      " 90%|██████████████████████████████████████████████████████████████████████████▋        | 9/10 [00:38<00:04,  4.01s/it]\u001b[A"
     ]
    },
    {
     "name": "stdout",
     "output_type": "stream",
     "text": [
      "랑만 NaN 대구 중구 국채보상로102길 60 1층 랑만\n",
      "<selenium.webdriver.remote.webelement.WebElement (session=\"419fcb3f8c10c6574b90b75fefe0729b\", element=\"A380DB208FA359A42FD56820159E7ED0_element_451\")>\n"
     ]
    },
    {
     "name": "stderr",
     "output_type": "stream",
     "text": [
      "\n",
      "100%|██████████████████████████████████████████████████████████████████████████████████| 10/10 [00:45<00:00,  4.56s/it]\u001b[A"
     ]
    },
    {
     "name": "stdout",
     "output_type": "stream",
     "text": [
      "걸리버막창 종로점 NaN 대구 중구 종로 45-1 1층\n"
     ]
    },
    {
     "name": "stderr",
     "output_type": "stream",
     "text": [
      "\n",
      " 95%|██████████████████████████████████████████████████████████████████████████▎   | 286/300 [1:59:43<08:08, 34.91s/it]\n",
      "0it [00:00, ?it/s]\u001b[A\n",
      " 96%|██████████████████████████████████████████████████████████████████████████▌   | 287/300 [1:59:57<06:11, 28.60s/it]\n",
      "0it [00:00, ?it/s]\u001b[A\n",
      " 96%|██████████████████████████████████████████████████████████████████████████▉   | 288/300 [2:00:15<05:04, 25.42s/it]"
     ]
    },
    {
     "name": "stdout",
     "output_type": "stream",
     "text": [
      "패대기 들안길점\n",
      "고담이야기\n",
      "기프트버거\n",
      "송원식당\n",
      "야타이치카\n",
      "태경청진동해장국\n",
      "울진왕돌참가자미회\n",
      "내수족발보쌈본점\n",
      "페라리 막창\n",
      "다래식당\n"
     ]
    },
    {
     "name": "stderr",
     "output_type": "stream",
     "text": [
      "\n",
      "  0%|                                                                                           | 0/10 [00:00<?, ?it/s]\u001b[A\n",
      " 10%|████████▎                                                                          | 1/10 [00:06<00:57,  6.36s/it]\u001b[A"
     ]
    },
    {
     "name": "stdout",
     "output_type": "stream",
     "text": [
      "<selenium.webdriver.remote.webelement.WebElement (session=\"dc0ab069dd28b02a256389a6cb6650c0\", element=\"1764DA0E598A7DE8CBC6BB2D09CA87BA_element_103\")>\n",
      "패대기 들안길점 4.85 대구 수성구 들안로 51-1 1층\n",
      "<selenium.webdriver.remote.webelement.WebElement (session=\"dc0ab069dd28b02a256389a6cb6650c0\", element=\"1764DA0E598A7DE8CBC6BB2D09CA87BA_element_147\")>\n"
     ]
    },
    {
     "name": "stderr",
     "output_type": "stream",
     "text": [
      "\n",
      " 20%|████████████████▌                                                                  | 2/10 [00:13<00:54,  6.82s/it]\u001b[A"
     ]
    },
    {
     "name": "stdout",
     "output_type": "stream",
     "text": [
      "고담이야기 NaN 대구 중구 대봉동 667\n"
     ]
    },
    {
     "name": "stderr",
     "output_type": "stream",
     "text": [
      "\n",
      " 30%|████████████████████████▉                                                          | 3/10 [00:15<00:32,  4.67s/it]\u001b[A"
     ]
    },
    {
     "name": "stdout",
     "output_type": "stream",
     "text": [
      "<selenium.webdriver.remote.webelement.WebElement (session=\"dc0ab069dd28b02a256389a6cb6650c0\", element=\"1764DA0E598A7DE8CBC6BB2D09CA87BA_element_188\")>\n",
      "기프트버거 4.51 대구 수성구 수성로 192 2,3층\n"
     ]
    },
    {
     "name": "stderr",
     "output_type": "stream",
     "text": [
      "\n",
      " 40%|█████████████████████████████████▏                                                 | 4/10 [00:17<00:22,  3.68s/it]\u001b[A"
     ]
    },
    {
     "name": "stdout",
     "output_type": "stream",
     "text": [
      "<selenium.webdriver.remote.webelement.WebElement (session=\"dc0ab069dd28b02a256389a6cb6650c0\", element=\"1764DA0E598A7DE8CBC6BB2D09CA87BA_element_234\")>\n",
      "송원식당 4.4 대구 수성구 청수로9길 34 송원식당\n",
      "<selenium.webdriver.remote.webelement.WebElement (session=\"dc0ab069dd28b02a256389a6cb6650c0\", element=\"1764DA0E598A7DE8CBC6BB2D09CA87BA_element_265\")>\n"
     ]
    },
    {
     "name": "stderr",
     "output_type": "stream",
     "text": [
      "\n",
      " 50%|█████████████████████████████████████████▌                                         | 5/10 [00:24<00:24,  4.95s/it]\u001b[A"
     ]
    },
    {
     "name": "stdout",
     "output_type": "stream",
     "text": [
      "야타이치카 NaN 대구 수성구 수성로35길 7 B1층\n"
     ]
    },
    {
     "name": "stderr",
     "output_type": "stream",
     "text": [
      "\n",
      " 60%|█████████████████████████████████████████████████▊                                 | 6/10 [00:27<00:15,  3.99s/it]\u001b[A"
     ]
    },
    {
     "name": "stdout",
     "output_type": "stream",
     "text": [
      "<selenium.webdriver.remote.webelement.WebElement (session=\"dc0ab069dd28b02a256389a6cb6650c0\", element=\"1764DA0E598A7DE8CBC6BB2D09CA87BA_element_302\")>\n",
      "태경청진동해장국 4.45 대구 수성구 수성로 184\n"
     ]
    },
    {
     "name": "stderr",
     "output_type": "stream",
     "text": [
      "\n",
      " 70%|██████████████████████████████████████████████████████████                         | 7/10 [00:29<00:10,  3.39s/it]\u001b[A"
     ]
    },
    {
     "name": "stdout",
     "output_type": "stream",
     "text": [
      "<selenium.webdriver.remote.webelement.WebElement (session=\"dc0ab069dd28b02a256389a6cb6650c0\", element=\"1764DA0E598A7DE8CBC6BB2D09CA87BA_element_340\")>\n",
      "울진왕돌참가자미회 4.49 대구 수성구 청수로3길 5\n"
     ]
    },
    {
     "name": "stderr",
     "output_type": "stream",
     "text": [
      "\n",
      " 80%|██████████████████████████████████████████████████████████████████▍                | 8/10 [00:31<00:05,  2.99s/it]\u001b[A"
     ]
    },
    {
     "name": "stdout",
     "output_type": "stream",
     "text": [
      "<selenium.webdriver.remote.webelement.WebElement (session=\"dc0ab069dd28b02a256389a6cb6650c0\", element=\"1764DA0E598A7DE8CBC6BB2D09CA87BA_element_365\")>\n",
      "내수족발보쌈본점 4.83 대구 수성구 수성로 188 1층\n"
     ]
    },
    {
     "name": "stderr",
     "output_type": "stream",
     "text": [
      "\n",
      " 90%|██████████████████████████████████████████████████████████████████████████▋        | 9/10 [00:33<00:02,  2.73s/it]\u001b[A"
     ]
    },
    {
     "name": "stdout",
     "output_type": "stream",
     "text": [
      "<selenium.webdriver.remote.webelement.WebElement (session=\"dc0ab069dd28b02a256389a6cb6650c0\", element=\"1764DA0E598A7DE8CBC6BB2D09CA87BA_element_398\")>\n",
      "페라리 막창 4.63 대구 수성구 청수로9길 29\n"
     ]
    },
    {
     "name": "stderr",
     "output_type": "stream",
     "text": [
      "\n",
      "100%|██████████████████████████████████████████████████████████████████████████████████| 10/10 [00:35<00:00,  3.57s/it]\u001b[A"
     ]
    },
    {
     "name": "stdout",
     "output_type": "stream",
     "text": [
      "<selenium.webdriver.remote.webelement.WebElement (session=\"dc0ab069dd28b02a256389a6cb6650c0\", element=\"1764DA0E598A7DE8CBC6BB2D09CA87BA_element_446\")>\n",
      "다래식당 4.52 대구 수성구 수성로38길 20\n"
     ]
    },
    {
     "name": "stderr",
     "output_type": "stream",
     "text": [
      "\n",
      " 96%|███████████████████████████████████████████████████████████████████████████▏  | 289/300 [2:01:05<05:59, 32.68s/it]"
     ]
    },
    {
     "name": "stdout",
     "output_type": "stream",
     "text": [
      "시골밥상\n",
      "카페우즈\n",
      "호박이넝쿨채로\n",
      "카페푸른달\n",
      "엘아르카 비타 팔공산점\n",
      "803로스터리\n",
      "플루보\n",
      "유천가든\n",
      "청도매운탕다슬기본가\n",
      "동촌식당\n"
     ]
    },
    {
     "name": "stderr",
     "output_type": "stream",
     "text": [
      "\n",
      "  0%|                                                                                           | 0/10 [00:07<?, ?it/s]\u001b[A\n",
      " 97%|███████████████████████████████████████████████████████████████████████████▍  | 290/300 [2:01:21<04:39, 27.94s/it]\n",
      "0it [00:00, ?it/s]\u001b[A\n",
      " 97%|███████████████████████████████████████████████████████████████████████████▋  | 291/300 [2:01:35<03:33, 23.70s/it]"
     ]
    },
    {
     "name": "stdout",
     "output_type": "stream",
     "text": [
      "현풍닭칼국수 본점\n",
      "홈파인\n",
      "원조현풍박소선할매집곰탕\n",
      "소사베이커리 대구점\n",
      "161커피스튜디오\n",
      "스몰버드\n",
      "육즙창고 현풍테크노폴리스 본점\n",
      "쿠우쿠우 현풍테크노점\n",
      "대가웍\n",
      "카페아만다\n"
     ]
    },
    {
     "name": "stderr",
     "output_type": "stream",
     "text": [
      "\n",
      "  0%|                                                                                           | 0/10 [00:00<?, ?it/s]\u001b[A\n",
      " 10%|████████▎                                                                          | 1/10 [00:06<00:56,  6.24s/it]\u001b[A"
     ]
    },
    {
     "name": "stdout",
     "output_type": "stream",
     "text": [
      "<selenium.webdriver.remote.webelement.WebElement (session=\"e9c7857d33ab1635708fab41c00c8653\", element=\"32A000E51C03DB4F30D946943527C96F_element_127\")>\n",
      "현풍닭칼국수 본점 4.49 대구 달성군 현풍읍 현풍중앙로 50\n",
      "<selenium.webdriver.remote.webelement.WebElement (session=\"e9c7857d33ab1635708fab41c00c8653\", element=\"32A000E51C03DB4F30D946943527C96F_element_169\")>\n"
     ]
    },
    {
     "name": "stderr",
     "output_type": "stream",
     "text": [
      "\n",
      " 20%|████████████████▌                                                                  | 2/10 [00:13<00:54,  6.77s/it]\u001b[A"
     ]
    },
    {
     "name": "stdout",
     "output_type": "stream",
     "text": [
      "홈파인 NaN 대구 달성군 현풍읍 테크노중앙대로 325-34 1층\n",
      "<selenium.webdriver.remote.webelement.WebElement (session=\"e9c7857d33ab1635708fab41c00c8653\", element=\"32A000E51C03DB4F30D946943527C96F_element_214\")>\n"
     ]
    },
    {
     "name": "stderr",
     "output_type": "stream",
     "text": [
      "\n",
      " 30%|████████████████████████▉                                                          | 3/10 [00:15<00:33,  4.81s/it]\u001b[A"
     ]
    },
    {
     "name": "stdout",
     "output_type": "stream",
     "text": [
      "원조현풍박소선할매집곰탕 4.28 대구 달성군 현풍읍 현풍중앙로 56-1 원조현풍할매집곰탕\n",
      "<selenium.webdriver.remote.webelement.WebElement (session=\"e9c7857d33ab1635708fab41c00c8653\", element=\"32A000E51C03DB4F30D946943527C96F_element_275\")>\n"
     ]
    },
    {
     "name": "stderr",
     "output_type": "stream",
     "text": [
      "\n",
      " 40%|█████████████████████████████████▏                                                 | 4/10 [00:23<00:34,  5.75s/it]\u001b[A"
     ]
    },
    {
     "name": "stdout",
     "output_type": "stream",
     "text": [
      "소사베이커리 대구점 NaN 대구 달성군 현풍읍 현풍동로21길 35-1 1층\n"
     ]
    },
    {
     "name": "stderr",
     "output_type": "stream",
     "text": [
      "\n",
      " 50%|█████████████████████████████████████████▌                                         | 5/10 [00:25<00:22,  4.45s/it]\u001b[A"
     ]
    },
    {
     "name": "stdout",
     "output_type": "stream",
     "text": [
      "<selenium.webdriver.remote.webelement.WebElement (session=\"e9c7857d33ab1635708fab41c00c8653\", element=\"32A000E51C03DB4F30D946943527C96F_element_304\")>\n",
      "161커피스튜디오 4.4 대구 달성군 현풍읍 비슬로 581\n",
      "<selenium.webdriver.remote.webelement.WebElement (session=\"e9c7857d33ab1635708fab41c00c8653\", element=\"32A000E51C03DB4F30D946943527C96F_element_345\")>\n"
     ]
    },
    {
     "name": "stderr",
     "output_type": "stream",
     "text": [
      "\n",
      " 60%|█████████████████████████████████████████████████▊                                 | 6/10 [00:32<00:21,  5.36s/it]\u001b[A"
     ]
    },
    {
     "name": "stdout",
     "output_type": "stream",
     "text": [
      "스몰버드 NaN 대구 달성군 현풍읍 현풍로14길 20 스몰버드\n",
      "<selenium.webdriver.remote.webelement.WebElement (session=\"e9c7857d33ab1635708fab41c00c8653\", element=\"32A000E51C03DB4F30D946943527C96F_element_354\")>\n"
     ]
    },
    {
     "name": "stderr",
     "output_type": "stream",
     "text": [
      "\n",
      " 70%|██████████████████████████████████████████████████████████                         | 7/10 [00:39<00:17,  5.95s/it]\u001b[A"
     ]
    },
    {
     "name": "stdout",
     "output_type": "stream",
     "text": [
      "육즙창고 현풍테크노폴리스 본점 NaN 대구 달성군 현풍읍 테크노중앙대로5길 20 1층\n"
     ]
    },
    {
     "name": "stderr",
     "output_type": "stream",
     "text": [
      "\n",
      " 80%|██████████████████████████████████████████████████████████████████▍                | 8/10 [00:41<00:09,  4.74s/it]\u001b[A"
     ]
    },
    {
     "name": "stdout",
     "output_type": "stream",
     "text": [
      "<selenium.webdriver.remote.webelement.WebElement (session=\"e9c7857d33ab1635708fab41c00c8653\", element=\"32A000E51C03DB4F30D946943527C96F_element_390\")>\n",
      "쿠우쿠우 현풍테크노점 4.46 대구 달성군 유가읍 테크노중앙대로 254 하이젠스타 10층\n",
      "<selenium.webdriver.remote.webelement.WebElement (session=\"e9c7857d33ab1635708fab41c00c8653\", element=\"32A000E51C03DB4F30D946943527C96F_element_430\")>\n"
     ]
    },
    {
     "name": "stderr",
     "output_type": "stream",
     "text": [
      "\n",
      " 90%|██████████████████████████████████████████████████████████████████████████▋        | 9/10 [00:48<00:05,  5.50s/it]\u001b[A"
     ]
    },
    {
     "name": "stdout",
     "output_type": "stream",
     "text": [
      "대가웍 NaN 대구 달성군 현풍읍 현풍동로29길 5\n"
     ]
    },
    {
     "name": "stderr",
     "output_type": "stream",
     "text": [
      "\n",
      "100%|██████████████████████████████████████████████████████████████████████████████████| 10/10 [00:50<00:00,  5.10s/it]\u001b[A"
     ]
    },
    {
     "name": "stdout",
     "output_type": "stream",
     "text": [
      "<selenium.webdriver.remote.webelement.WebElement (session=\"e9c7857d33ab1635708fab41c00c8653\", element=\"32A000E51C03DB4F30D946943527C96F_element_473\")>\n",
      "카페아만다 4.56 대구 달성군 현풍읍 테크노상업로 30 엠허브메디컬센터 105호(건물 앞쪽 큰대로변 상가)\n"
     ]
    },
    {
     "name": "stderr",
     "output_type": "stream",
     "text": [
      "\n",
      " 97%|███████████████████████████████████████████████████████████████████████████▉  | 292/300 [2:02:43<04:56, 37.04s/it]"
     ]
    },
    {
     "name": "stdout",
     "output_type": "stream",
     "text": [
      "이우철한방누룽지삼계탕앞산점\n",
      "샤브향앞산빨래터점\n",
      "앞산할매손칼국수\n",
      "앞산손메밀묵집\n",
      "카펠라\n",
      "대덕식당\n",
      "두셰프의돈가스앤마우\n",
      "옹기보리밥곤지곤지\n",
      "산토리니\n",
      "원대덕골민물장어\n"
     ]
    },
    {
     "name": "stderr",
     "output_type": "stream",
     "text": [
      "\n",
      "  0%|                                                                                           | 0/10 [00:07<?, ?it/s]\u001b[A\n",
      " 98%|████████████████████████████████████████████████████████████████████████████▏ | 293/300 [2:03:00<03:35, 30.79s/it]\n",
      "0it [00:00, ?it/s]\u001b[A\n",
      " 98%|████████████████████████████████████████████████████████████████████████████▍ | 294/300 [2:03:15<02:36, 26.01s/it]\n",
      "0it [00:00, ?it/s]\u001b[A\n",
      " 98%|████████████████████████████████████████████████████████████████████████████▋ | 295/300 [2:03:33<01:58, 23.77s/it]\n",
      "0it [00:00, ?it/s]\u001b[A\n",
      " 99%|████████████████████████████████████████████████████████████████████████████▉ | 296/300 [2:03:51<01:28, 22.04s/it]"
     ]
    },
    {
     "name": "stdout",
     "output_type": "stream",
     "text": [
      "투다리 대구종로점\n",
      "오마이크로와상\n",
      "머꼬삼겹살\n",
      "사석\n",
      "마코토\n",
      "슬로우터틀 동성로점\n",
      "아리츠\n",
      "블랙타코앤그릴\n",
      "걸리버막창 동성로점\n",
      "라이첸 본점\n"
     ]
    },
    {
     "name": "stderr",
     "output_type": "stream",
     "text": [
      "\n",
      "  0%|                                                                                           | 0/10 [00:00<?, ?it/s]\u001b[A"
     ]
    },
    {
     "name": "stdout",
     "output_type": "stream",
     "text": [
      "<selenium.webdriver.remote.webelement.WebElement (session=\"1304d11722958a5b90a7ee6d16a10a91\", element=\"A8399AF14DD98C35BC5ECFBFB5B71F6C_element_132\")>\n"
     ]
    },
    {
     "name": "stderr",
     "output_type": "stream",
     "text": [
      "\n",
      " 10%|████████▎                                                                          | 1/10 [00:11<01:41, 11.29s/it]\u001b[A"
     ]
    },
    {
     "name": "stdout",
     "output_type": "stream",
     "text": [
      "투다리 대구종로점 NaN 대구 중구 종로 26-1 1호\n"
     ]
    },
    {
     "name": "stderr",
     "output_type": "stream",
     "text": [
      "\n",
      " 20%|████████████████▌                                                                  | 2/10 [00:13<00:47,  5.91s/it]\u001b[A"
     ]
    },
    {
     "name": "stdout",
     "output_type": "stream",
     "text": [
      "<selenium.webdriver.remote.webelement.WebElement (session=\"1304d11722958a5b90a7ee6d16a10a91\", element=\"A8399AF14DD98C35BC5ECFBFB5B71F6C_element_138\")>\n",
      "오마이크로와상 4.64 대구 중구 약령길 59 1층\n"
     ]
    },
    {
     "name": "stderr",
     "output_type": "stream",
     "text": [
      "\n",
      " 30%|████████████████████████▉                                                          | 3/10 [00:15<00:29,  4.18s/it]\u001b[A"
     ]
    },
    {
     "name": "stdout",
     "output_type": "stream",
     "text": [
      "<selenium.webdriver.remote.webelement.WebElement (session=\"1304d11722958a5b90a7ee6d16a10a91\", element=\"A8399AF14DD98C35BC5ECFBFB5B71F6C_element_182\")>\n",
      "머꼬삼겹살 4.78 대구 중구 동성로3길 32-43 1층\n",
      "<selenium.webdriver.remote.webelement.WebElement (session=\"1304d11722958a5b90a7ee6d16a10a91\", element=\"A8399AF14DD98C35BC5ECFBFB5B71F6C_element_220\")>\n"
     ]
    },
    {
     "name": "stderr",
     "output_type": "stream",
     "text": [
      "\n",
      " 40%|█████████████████████████████████▏                                                 | 4/10 [00:22<00:32,  5.38s/it]\u001b[A"
     ]
    },
    {
     "name": "stdout",
     "output_type": "stream",
     "text": [
      "사석 NaN 대구 중구 중앙대로 375 YMCA 건물 1층 사석\n"
     ]
    },
    {
     "name": "stderr",
     "output_type": "stream",
     "text": [
      "\n",
      " 50%|█████████████████████████████████████████▌                                         | 5/10 [00:24<00:21,  4.21s/it]\u001b[A"
     ]
    },
    {
     "name": "stdout",
     "output_type": "stream",
     "text": [
      "<selenium.webdriver.remote.webelement.WebElement (session=\"1304d11722958a5b90a7ee6d16a10a91\", element=\"A8399AF14DD98C35BC5ECFBFB5B71F6C_element_241\")>\n",
      "마코토 4.34 대구 중구 동성로2길 18-6\n"
     ]
    },
    {
     "name": "stderr",
     "output_type": "stream",
     "text": [
      "\n",
      " 60%|█████████████████████████████████████████████████▊                                 | 6/10 [00:27<00:14,  3.51s/it]\u001b[A"
     ]
    },
    {
     "name": "stdout",
     "output_type": "stream",
     "text": [
      "<selenium.webdriver.remote.webelement.WebElement (session=\"1304d11722958a5b90a7ee6d16a10a91\", element=\"A8399AF14DD98C35BC5ECFBFB5B71F6C_element_304\")>\n",
      "슬로우터틀 동성로점 4.61 대구 중구 동성로2길 18-14\n"
     ]
    },
    {
     "name": "stderr",
     "output_type": "stream",
     "text": [
      "\n",
      " 70%|██████████████████████████████████████████████████████████                         | 7/10 [00:29<00:09,  3.06s/it]\u001b[A"
     ]
    },
    {
     "name": "stdout",
     "output_type": "stream",
     "text": [
      "<selenium.webdriver.remote.webelement.WebElement (session=\"1304d11722958a5b90a7ee6d16a10a91\", element=\"A8399AF14DD98C35BC5ECFBFB5B71F6C_element_333\")>\n",
      "아리츠 4.6 대구 중구 남성로 47 2층\n"
     ]
    },
    {
     "name": "stderr",
     "output_type": "stream",
     "text": [
      "\n",
      " 80%|██████████████████████████████████████████████████████████████████▍                | 8/10 [00:31<00:05,  2.76s/it]\u001b[A"
     ]
    },
    {
     "name": "stdout",
     "output_type": "stream",
     "text": [
      "<selenium.webdriver.remote.webelement.WebElement (session=\"1304d11722958a5b90a7ee6d16a10a91\", element=\"A8399AF14DD98C35BC5ECFBFB5B71F6C_element_359\")>\n",
      "블랙타코앤그릴 4.53 대구 중구 공평로 31 건물 2층\n",
      "<selenium.webdriver.remote.webelement.WebElement (session=\"1304d11722958a5b90a7ee6d16a10a91\", element=\"A8399AF14DD98C35BC5ECFBFB5B71F6C_element_414\")>\n"
     ]
    },
    {
     "name": "stderr",
     "output_type": "stream",
     "text": [
      "\n",
      " 90%|██████████████████████████████████████████████████████████████████████████▋        | 9/10 [00:38<00:04,  4.13s/it]\u001b[A"
     ]
    },
    {
     "name": "stdout",
     "output_type": "stream",
     "text": [
      "걸리버막창 동성로점 NaN 대구 중구 동성로3길 32-20 걸리버막창\n",
      "<selenium.webdriver.remote.webelement.WebElement (session=\"1304d11722958a5b90a7ee6d16a10a91\", element=\"A8399AF14DD98C35BC5ECFBFB5B71F6C_element_437\")>\n"
     ]
    },
    {
     "name": "stderr",
     "output_type": "stream",
     "text": [
      "\n",
      "100%|██████████████████████████████████████████████████████████████████████████████████| 10/10 [00:45<00:00,  4.56s/it]\u001b[A"
     ]
    },
    {
     "name": "stdout",
     "output_type": "stream",
     "text": [
      "라이첸 본점 NaN 대구 중구 남성로 27\n"
     ]
    },
    {
     "name": "stderr",
     "output_type": "stream",
     "text": [
      "\n",
      " 99%|█████████████████████████████████████████████████████████████████████████████▏| 297/300 [2:04:53<01:41, 33.99s/it]\n",
      "0it [00:00, ?it/s]\u001b[A\n",
      "100%|█████████████████████████████████████████████████████████████████████████████▋| 299/300 [2:05:21<00:23, 23.64s/it]\n",
      "0it [00:00, ?it/s]\u001b[A\n",
      "100%|██████████████████████████████████████████████████████████████████████████████| 300/300 [2:05:42<00:00, 25.14s/it]\n"
     ]
    }
   ],
   "source": [
    "df=pd.read_csv('place.csv')\n",
    "name_list2=[]\n",
    "for n in tqdm(df['장소']):\n",
    "    service = Service(executable_path='../../Text_mining/chromedriver.exe') \n",
    "    options=webdriver.ChromeOptions()\n",
    "    driver=webdriver.Chrome(service=service,options=options)\n",
    "    driver.get(\"https://map.naver.com/v5/\")\n",
    "    driver.implicitly_wait(5) # 창 오픈까지 최대 10초를 기다려줌\n",
    "    time.sleep(2)\n",
    "    \n",
    "    # 키워드 변경가능\n",
    "    search = f\"{n} 맛집\"\n",
    "    \n",
    "    # 검색창에 검색어 입력하기\n",
    "    search_box = driver.find_element(By.CSS_SELECTOR,\"div.input_box>input.input_search\")\n",
    "    search_box.send_keys(search)\n",
    "    time.sleep(2)\n",
    "\n",
    "    # 검색버튼 누르기\n",
    "    search_box.send_keys(Keys.ENTER)\n",
    "\n",
    "    try:\n",
    "        frame=driver.find_element(By.CSS_SELECTOR,\"iframe#searchIframe\")\n",
    "\n",
    "        # print(frame)\n",
    "        driver.switch_to.frame(frame)\n",
    "        \n",
    "        nav=driver.find_elements(By.CSS_SELECTOR,\"div > span.place_bluelink.TYaxT\")\n",
    "        for i in nav:\n",
    "            print(i.text)\n",
    "\n",
    "        cnt=1\n",
    "        for i in tqdm(nav):\n",
    "            if cnt==1:\n",
    "                # 클릭\n",
    "                i.click()\n",
    "                time.sleep(2)\n",
    "                driver.switch_to.default_content()\n",
    "                #-----------------------------------------------------------------------\n",
    "                # 두번째 프레임\n",
    "                entframe=driver.find_element(By.CSS_SELECTOR,\"iframe#entryIframe\")\n",
    "                print(entframe)\n",
    "                driver.switch_to.frame(entframe)\n",
    "                # 장소명, 별점, 주소 \n",
    "                name=driver.find_element(By.CLASS_NAME,'Fc1rA').text\n",
    "                try:\n",
    "                    star=driver.find_element(By.CSS_SELECTOR,'span.PXMot.LXIwF > em').text\n",
    "                except:\n",
    "                    star='NaN'\n",
    "                addr=driver.find_element(By.CLASS_NAME,'LDgIH').text\n",
    "                name_list2.append([name,star,addr])\n",
    "                print(name,star,addr)\n",
    "                # 두번째 프레임 나오기\n",
    "                driver.switch_to.default_content()\n",
    "                #-----------------------------------------------------------------------\n",
    "                cnt+=1\n",
    "            else:\n",
    "                driver.switch_to.frame(frame)\n",
    "                # 클릭\n",
    "                i.click()\n",
    "                time.sleep(2)\n",
    "                driver.switch_to.default_content()\n",
    "                #-----------------------------------------------------------------------\n",
    "                # 두번째 프레임\n",
    "                entframe=driver.find_element(By.CSS_SELECTOR,\"iframe#entryIframe\")\n",
    "                print(entframe)\n",
    "                driver.switch_to.frame(entframe)\n",
    "                # 장소명, 별점, 주소 \n",
    "                name=driver.find_element(By.CLASS_NAME,'Fc1rA').text\n",
    "                try:\n",
    "                    star=driver.find_element(By.CSS_SELECTOR,'span.PXMot.LXIwF > em').text\n",
    "                except:\n",
    "                    star='NaN'\n",
    "                addr=driver.find_element(By.CLASS_NAME,'LDgIH').text\n",
    "                name_list2.append([name,star,addr])\n",
    "                driver.switch_to.default_content()\n",
    "                print(name,star,addr)\n",
    "        driver.quit()\n",
    "    except:\n",
    "        driver.quit()"
   ]
  },
  {
   "cell_type": "code",
   "execution_count": 7,
   "id": "1fafe0df-0f93-4d2e-a292-6123aa1db839",
   "metadata": {},
   "outputs": [
    {
     "name": "stdout",
     "output_type": "stream",
     "text": [
      "CSV 파일이 생성되었습니다: places_rest.csv\n"
     ]
    }
   ],
   "source": [
    "import csv\n",
    "\n",
    "# CSV 파일 경로\n",
    "csv_file_path = 'places_rest.csv'\n",
    "\n",
    "# CSV 파일 열기 (newline=''는 빈 라인을 방지하기 위함)\n",
    "with open(csv_file_path, 'w', newline='') as file:\n",
    "    # CSV writer 생성\n",
    "    writer = csv.writer(file)\n",
    "    \n",
    "    # 데이터를 CSV 파일에 쓰기\n",
    "    for row in name_list2:\n",
    "        writer.writerow(row)\n",
    "\n",
    "print('CSV 파일이 생성되었습니다:', csv_file_path)"
   ]
  },
  {
   "cell_type": "code",
   "execution_count": null,
   "id": "3205c440-0c9a-424f-92c9-571b2474282b",
   "metadata": {},
   "outputs": [],
   "source": []
  }
 ],
 "metadata": {
  "kernelspec": {
   "display_name": "Python 3 (ipykernel)",
   "language": "python",
   "name": "python3"
  },
  "language_info": {
   "codemirror_mode": {
    "name": "ipython",
    "version": 3
   },
   "file_extension": ".py",
   "mimetype": "text/x-python",
   "name": "python",
   "nbconvert_exporter": "python",
   "pygments_lexer": "ipython3",
   "version": "3.8.18"
  }
 },
 "nbformat": 4,
 "nbformat_minor": 5
}
